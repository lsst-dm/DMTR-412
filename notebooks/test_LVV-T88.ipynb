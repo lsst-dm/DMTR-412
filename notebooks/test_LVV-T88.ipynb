{
 "cells": [
  {
   "cell_type": "markdown",
   "id": "fd393cc4-82c5-4c1f-ae99-45413aa5dfb9",
   "metadata": {},
   "source": [
    "### Test case LVV-T88: Verify implementation of Calibration Data Products\n",
    "\n",
    "Verify that the DMS can produce and archive the required Calibration Data Products: cross talk correction, bias, dark, monochromatic dome flats, broad-band flats, fringe correction, and illumination corrections."
   ]
  },
  {
   "cell_type": "markdown",
   "id": "a8f6dd04-4a7e-4366-b474-e131cd47c354",
   "metadata": {},
   "source": [
    "After executing the `ci_cpp` processing, this notebook will examine the outputs."
   ]
  },
  {
   "cell_type": "code",
   "execution_count": 24,
   "id": "f69bf5a0-30e4-4aa2-b6d9-baab3ca2d0ac",
   "metadata": {
    "execution": {
     "iopub.execute_input": "2025-08-19T20:47:33.549162Z",
     "iopub.status.busy": "2025-08-19T20:47:33.548830Z",
     "iopub.status.idle": "2025-08-19T20:47:33.910703Z",
     "shell.execute_reply": "2025-08-19T20:47:33.910271Z",
     "shell.execute_reply.started": "2025-08-19T20:47:33.549144Z"
    }
   },
   "outputs": [],
   "source": [
    "import numpy as np\n",
    "import matplotlib.pyplot as plt\n",
    "from mpl_toolkits.axes_grid1 import make_axes_locatable\n",
    "\n",
    "from lsst.daf.butler import Butler"
   ]
  },
  {
   "cell_type": "markdown",
   "id": "cb12a2d5-9d12-42c3-9cde-a583c42b74d6",
   "metadata": {},
   "source": [
    "Initialize the butler corresponding to the `ci_cpp` processing that was executed in \"~/u/repos/ci_cpp_gen3/DATA\"."
   ]
  },
  {
   "cell_type": "code",
   "execution_count": 2,
   "id": "4094ae98-b2cf-49c9-9517-f535dfc8db81",
   "metadata": {
    "execution": {
     "iopub.execute_input": "2025-08-19T20:38:06.553028Z",
     "iopub.status.busy": "2025-08-19T20:38:06.552570Z",
     "iopub.status.idle": "2025-08-19T20:38:07.614306Z",
     "shell.execute_reply": "2025-08-19T20:38:07.613781Z",
     "shell.execute_reply.started": "2025-08-19T20:38:06.553009Z"
    }
   },
   "outputs": [],
   "source": [
    "butler = Butler('/repo/embargo', collections=\"LSSTCam/runs/DRP/20250604_20250814/w_2025_33/DM-52202\")"
   ]
  },
  {
   "cell_type": "code",
   "execution_count": 5,
   "id": "1d53dccd-edc3-4b95-bfc4-f0d65c0927d8",
   "metadata": {
    "execution": {
     "iopub.execute_input": "2025-08-19T20:39:25.118901Z",
     "iopub.status.busy": "2025-08-19T20:39:25.118591Z",
     "iopub.status.idle": "2025-08-19T20:39:25.121557Z",
     "shell.execute_reply": "2025-08-19T20:39:25.121106Z",
     "shell.execute_reply.started": "2025-08-19T20:39:25.118874Z"
    }
   },
   "outputs": [],
   "source": [
    "calib_coll = 'LSSTCam/calib'"
   ]
  },
  {
   "cell_type": "markdown",
   "id": "3f0eb1cd-7d00-4f20-a702-17e659a1030e",
   "metadata": {},
   "source": [
    "We see that there are collections corresponding to a variety of calibration object types, including brighter-fatter kernel (bfk), photon transfer curves (ptc), biases, darks, flats, and many others. There are also validation collections (denoted with \"cpv\" in their names) that result from the `cp_verify` process."
   ]
  },
  {
   "cell_type": "markdown",
   "id": "c6d9f2a7-65ca-432d-ba97-3e7af1c0edc2",
   "metadata": {},
   "source": [
    "#### Brighter-fatter kernel\n",
    "\n",
    "Retrieve a `bfk` dataset and examine it to confirm that it is well-formed."
   ]
  },
  {
   "cell_type": "code",
   "execution_count": 6,
   "id": "0fc5dd39-da37-4da5-aef1-b42e00a17e7f",
   "metadata": {
    "execution": {
     "iopub.execute_input": "2025-08-19T20:39:32.818200Z",
     "iopub.status.busy": "2025-08-19T20:39:32.817865Z",
     "iopub.status.idle": "2025-08-19T20:39:33.082516Z",
     "shell.execute_reply": "2025-08-19T20:39:33.082053Z",
     "shell.execute_reply.started": "2025-08-19T20:39:32.818173Z"
    }
   },
   "outputs": [
    {
     "data": {
      "text/plain": [
       "DatasetRef(DatasetType('bfk', {instrument, detector}, BrighterFatterKernel, isCalibration=True), {instrument: 'LSSTCam', detector: 0}, run='LSSTCam/calib/DM-51897/3s_v1/bfkGen.20250808a/20250812T020009Z', id=65c1da4c-ea00-4987-a517-46f41ee0596b)"
      ]
     },
     "execution_count": 6,
     "metadata": {},
     "output_type": "execute_result"
    }
   ],
   "source": [
    "bfk_refs = butler.query_datasets('bfk', collections=calib_coll)\n",
    "bfk_refs[0]"
   ]
  },
  {
   "cell_type": "code",
   "execution_count": 7,
   "id": "aa0eb8c0-314b-4ef6-8780-361e372f57a1",
   "metadata": {
    "execution": {
     "iopub.execute_input": "2025-08-19T20:39:38.257000Z",
     "iopub.status.busy": "2025-08-19T20:39:38.256769Z",
     "iopub.status.idle": "2025-08-19T20:39:40.391609Z",
     "shell.execute_reply": "2025-08-19T20:39:40.391062Z",
     "shell.execute_reply.started": "2025-08-19T20:39:38.256981Z"
    }
   },
   "outputs": [],
   "source": [
    "bfk = butler.get(bfk_refs[0])"
   ]
  },
  {
   "cell_type": "code",
   "execution_count": 8,
   "id": "60d01583-d066-453d-95e4-066338c73cdd",
   "metadata": {
    "execution": {
     "iopub.execute_input": "2025-08-19T20:39:41.111664Z",
     "iopub.status.busy": "2025-08-19T20:39:41.111440Z",
     "iopub.status.idle": "2025-08-19T20:39:41.287104Z",
     "shell.execute_reply": "2025-08-19T20:39:41.286671Z",
     "shell.execute_reply.started": "2025-08-19T20:39:41.111649Z"
    }
   },
   "outputs": [
    {
     "data": {
      "text/plain": [
       "<TableColumns names=('AMPLIFIER','EXP_ID_MASK','RAW_MEANS','RAW_VARIANCES','RAW_XCORRS','GAIN','NOISE','MEAN_XCORRS','KERNEL','VALID')>"
      ]
     },
     "execution_count": 8,
     "metadata": {},
     "output_type": "execute_result"
    }
   ],
   "source": [
    "bfk.toTable()[0].columns"
   ]
  },
  {
   "cell_type": "code",
   "execution_count": 9,
   "id": "fce0a295-024b-4af0-a93d-ae2b5ad87fee",
   "metadata": {
    "execution": {
     "iopub.execute_input": "2025-08-19T20:39:42.835165Z",
     "iopub.status.busy": "2025-08-19T20:39:42.834791Z",
     "iopub.status.idle": "2025-08-19T20:39:42.839240Z",
     "shell.execute_reply": "2025-08-19T20:39:42.838851Z",
     "shell.execute_reply.started": "2025-08-19T20:39:42.835137Z"
    }
   },
   "outputs": [
    {
     "name": "stdout",
     "output_type": "stream",
     "text": [
      "BFK keys:  dict_keys(['C10', 'C11', 'C12', 'C13', 'C14', 'C15', 'C16', 'C17', 'C07', 'C06', 'C05', 'C04', 'C03', 'C02', 'C01', 'C00'])\n"
     ]
    },
    {
     "data": {
      "text/plain": [
       "array([ 0.00000000e+00,  2.48892490e-09, -8.50487705e-09,  5.17243905e-09,\n",
       "        1.50415998e-09, -2.33790928e-09, -3.17914735e-09, -1.45749134e-09,\n",
       "       -2.32055438e-09, -1.85054070e-10, -3.53174343e-09, -8.98682541e-09,\n",
       "        5.43801144e-10, -4.17819018e-09,  1.66699621e-09, -1.40697245e-08,\n",
       "        1.66699621e-09, -4.17819018e-09,  5.43801144e-10, -8.98682541e-09,\n",
       "       -3.53174343e-09, -1.85054070e-10, -2.32055438e-09, -1.45749134e-09,\n",
       "       -3.17914735e-09, -2.33790928e-09,  1.50415998e-09,  5.17243905e-09,\n",
       "       -8.50487705e-09,  2.48892490e-09,  0.00000000e+00], dtype='>f8')"
      ]
     },
     "execution_count": 9,
     "metadata": {},
     "output_type": "execute_result"
    }
   ],
   "source": [
    "print('BFK keys: ', bfk.meanXcorrs.keys())\n",
    "bfk.meanXcorrs['C10'][1]"
   ]
  },
  {
   "cell_type": "markdown",
   "id": "5ae632c5-377a-492d-bb68-035bc018614b",
   "metadata": {},
   "source": [
    "We see that the `bfk` has expected table columns, entries for each of the 16 amps, and reasonable values for one of the amps (C10)."
   ]
  },
  {
   "cell_type": "markdown",
   "id": "fe0a0067-ac10-4479-a402-40f04f37e349",
   "metadata": {},
   "source": [
    "#### Defects mask\n",
    "\n",
    "Retrieve a `defects` dataset and confirm that it is well formed."
   ]
  },
  {
   "cell_type": "code",
   "execution_count": 10,
   "id": "07fc4ebb-67ac-4425-ae55-e5073182524b",
   "metadata": {
    "execution": {
     "iopub.execute_input": "2025-08-19T20:39:51.583653Z",
     "iopub.status.busy": "2025-08-19T20:39:51.583422Z",
     "iopub.status.idle": "2025-08-19T20:39:51.673956Z",
     "shell.execute_reply": "2025-08-19T20:39:51.673425Z",
     "shell.execute_reply.started": "2025-08-19T20:39:51.583637Z"
    }
   },
   "outputs": [
    {
     "data": {
      "text/plain": [
       "DatasetRef(DatasetType('defects', {instrument, detector}, Defects, isCalibration=True), {instrument: 'LSSTCam', detector: 0}, run='LSSTCam/calib/DM-50736/onSkyDefects/defectGen.20250506a/20250506T185623Z', id=daf7fb1a-e0a9-4919-9503-859ee2539beb)"
      ]
     },
     "execution_count": 10,
     "metadata": {},
     "output_type": "execute_result"
    }
   ],
   "source": [
    "defects_refs = butler.query_datasets('defects', collections=calib_coll)\n",
    "defects_refs[0]"
   ]
  },
  {
   "cell_type": "code",
   "execution_count": 11,
   "id": "9db8552f-eadc-4301-8a80-bfc537309514",
   "metadata": {
    "execution": {
     "iopub.execute_input": "2025-08-19T20:39:52.583093Z",
     "iopub.status.busy": "2025-08-19T20:39:52.582787Z",
     "iopub.status.idle": "2025-08-19T20:39:52.735238Z",
     "shell.execute_reply": "2025-08-19T20:39:52.734606Z",
     "shell.execute_reply.started": "2025-08-19T20:39:52.583068Z"
    }
   },
   "outputs": [],
   "source": [
    "defects = butler.get(defects_refs[0])"
   ]
  },
  {
   "cell_type": "code",
   "execution_count": 12,
   "id": "f4e61a48-dba7-4d98-a60b-64ca1c2ad353",
   "metadata": {
    "execution": {
     "iopub.execute_input": "2025-08-19T20:39:53.898366Z",
     "iopub.status.busy": "2025-08-19T20:39:53.898122Z",
     "iopub.status.idle": "2025-08-19T20:39:53.908221Z",
     "shell.execute_reply": "2025-08-19T20:39:53.907800Z",
     "shell.execute_reply.started": "2025-08-19T20:39:53.898345Z"
    }
   },
   "outputs": [
    {
     "data": {
      "text/plain": [
       "[<Table length=1768>\n",
       "   x0    y0  width height\n",
       " int64 int64 int64 int64 \n",
       " ----- ----- ----- ------\n",
       "  3385    11     1      2\n",
       "   481    20     1      1\n",
       "  3038    22     1      2\n",
       "   470    23     1      1\n",
       "  2570    23     2      1\n",
       "  1390    25     2      1\n",
       "  1390    26     1      1\n",
       "   453    35     1      1\n",
       "   449    37     1      1\n",
       "   ...   ...   ...    ...\n",
       "  3549  3995     1      5\n",
       "  3557  3995     1      5\n",
       "  3562  3995     3      5\n",
       "  3567  3995     1      5\n",
       "  3571  3995     2      5\n",
       "  3775  3995     1      5\n",
       "  3797  3995     1      5\n",
       "  3999  3995     1      5\n",
       "  4003  3995     1      5\n",
       "  4015  3995     1      5]"
      ]
     },
     "execution_count": 12,
     "metadata": {},
     "output_type": "execute_result"
    }
   ],
   "source": [
    "defects.toTable()"
   ]
  },
  {
   "cell_type": "markdown",
   "id": "a2c3f01d-c956-46fd-899e-c96a8d4b9c28",
   "metadata": {},
   "source": [
    "We see that the defects mask has the expected format, with \"blocks\" of defects defined by their initial x, y positions (x0, y0) and their width and height."
   ]
  },
  {
   "cell_type": "markdown",
   "id": "83cbe3a1-4bba-4b41-a5d4-7a0d03583069",
   "metadata": {},
   "source": [
    "#### Photon transfer curve (PTC)\n",
    "\n",
    "Retrieve a `ptc` dataset and confirm it is well formed."
   ]
  },
  {
   "cell_type": "code",
   "execution_count": 13,
   "id": "0961dfa8-a39e-43c2-a1e7-98d6d57be0b9",
   "metadata": {
    "execution": {
     "iopub.execute_input": "2025-08-19T20:40:03.948174Z",
     "iopub.status.busy": "2025-08-19T20:40:03.947924Z",
     "iopub.status.idle": "2025-08-19T20:40:04.207518Z",
     "shell.execute_reply": "2025-08-19T20:40:04.206920Z",
     "shell.execute_reply.started": "2025-08-19T20:40:03.948156Z"
    }
   },
   "outputs": [
    {
     "data": {
      "text/plain": [
       "DatasetRef(DatasetType('ptc', {instrument, detector}, PhotonTransferCurveDataset, isCalibration=True), {instrument: 'LSSTCam', detector: 0}, run='LSSTCam/calib/DM-51897/3s_v1/ptcGen.20250808a/20250810T155447Z', id=6da4dc22-657c-47b6-8fcd-22cbed07446e)"
      ]
     },
     "execution_count": 13,
     "metadata": {},
     "output_type": "execute_result"
    }
   ],
   "source": [
    "ptc_refs = butler.query_datasets('ptc', collections=calib_coll)\n",
    "ptc_refs[0]"
   ]
  },
  {
   "cell_type": "code",
   "execution_count": 14,
   "id": "0eed9997-dbc8-4878-b9e9-56ed208ed484",
   "metadata": {
    "execution": {
     "iopub.execute_input": "2025-08-19T20:40:05.357247Z",
     "iopub.status.busy": "2025-08-19T20:40:05.356995Z",
     "iopub.status.idle": "2025-08-19T20:40:05.592652Z",
     "shell.execute_reply": "2025-08-19T20:40:05.592225Z",
     "shell.execute_reply.started": "2025-08-19T20:40:05.357228Z"
    }
   },
   "outputs": [],
   "source": [
    "ptc = butler.get(ptc_refs[0])"
   ]
  },
  {
   "cell_type": "code",
   "execution_count": 15,
   "id": "b4a45041-935c-4161-ba7f-3feb7baafb25",
   "metadata": {
    "execution": {
     "iopub.execute_input": "2025-08-19T20:40:06.311766Z",
     "iopub.status.busy": "2025-08-19T20:40:06.311536Z",
     "iopub.status.idle": "2025-08-19T20:40:06.317884Z",
     "shell.execute_reply": "2025-08-19T20:40:06.317456Z",
     "shell.execute_reply.started": "2025-08-19T20:40:06.311748Z"
    }
   },
   "outputs": [
    {
     "name": "stdout",
     "output_type": "stream",
     "text": [
      " ptc gains:  {'C10': 1.684486114117431, 'C11': 1.6801240545907121, 'C12': 1.6746092146015976, 'C13': 1.6617318656417086, 'C14': 1.6478776518199605, 'C15': 1.634617523998986, 'C16': 1.620446421769451, 'C17': 1.5942037168455243, 'C07': 1.5275159221949688, 'C06': 1.5350088542880354, 'C05': 1.5382756025686537, 'C04': 1.5405504607255407, 'C03': 1.5568720081755578, 'C02': 1.5650444391514962, 'C01': 1.5810587014894204, 'C00': 1.6060460358492328} \n",
      "\n",
      " ptc turnoffs:  {'C10': 58607.92469978744, 'C11': 61914.24997747118, 'C12': 65430.20752346467, 'C13': 69418.21853763855, 'C14': 72551.03453069337, 'C15': 75570.97263087449, 'C16': 78830.61411860424, 'C17': 79254.9041950177, 'C07': 65835.13344989726, 'C06': 63045.49420629794, 'C05': 61026.07254059665, 'C04': 58946.28612125975, 'C03': 56614.630959890565, 'C02': 54726.79773967955, 'C01': 52828.96508267351, 'C00': 50295.66563033084} \n",
      "\n",
      " ptc amp offsets (detector C10): \n",
      " [-3.25998397e+00 -3.96658464e+00 -5.39044414e+00 -6.68457235e+00\n",
      " -7.52384943e+00 -8.74203453e+00 -1.00885369e+01 -1.11055966e+01\n",
      " -1.21060097e+01 -1.32844881e+01 -1.45002329e+01 -1.46630790e+01\n",
      " -1.62151836e+01 -1.73099942e+01 -1.85867022e+01 -1.98677028e+01\n",
      " -2.08587394e+01 -2.27950306e+01 -2.32367683e+01 -2.45408071e+01\n",
      " -2.56347891e+01 -2.61444023e+01 -2.67829778e+01 -2.81576962e+01\n",
      " -2.96276893e+01 -3.03163919e+01 -3.16637432e+01 -3.25885361e+01\n",
      " -3.38061153e+01 -3.44303110e+01 -3.52593953e+01 -3.64753416e+01\n",
      " -3.82900949e+01 -3.97298648e+01 -3.96445576e+01 -4.04538850e+01\n",
      " -4.12471573e+01 -4.33042927e+01 -4.35033850e+01 -4.55242369e+01\n",
      " -4.64278277e+01 -4.70835373e+01 -4.75069236e+01 -4.75722625e+01\n",
      " -4.92885385e+01 -5.02533783e+01 -5.17349174e+01 -5.25559365e+01\n",
      " -5.28966989e+01 -5.38458415e+01 -5.40489882e+01 -5.57052167e+01\n",
      " -5.63693588e+01 -5.77316659e+01 -5.85742165e+01 -6.07016669e+01\n",
      " -6.10431344e+01 -6.09299262e+01 -6.25898607e+01 -6.26789650e+01\n",
      " -6.39432395e+01 -6.47120206e+01 -6.70329933e+01 -6.77113340e+01\n",
      " -6.76521595e+01 -6.86732285e+01 -6.92154696e+01 -7.04543482e+01\n",
      " -7.24372082e+01 -7.28705470e+01 -7.23955081e+01 -7.27360098e+01\n",
      " -7.23923398e+01 -7.28054756e+01 -7.28103017e+01 -7.40970398e+01\n",
      " -7.42595138e+01 -7.48278602e+01 -7.57140658e+01 -7.73321476e+01\n",
      " -7.71281891e+01 -7.89891832e+01 -7.88906204e+01 -7.98372650e+01\n",
      " -8.06136826e+01 -8.11389833e+01 -8.28136196e+01 -8.31110957e+01\n",
      " -8.35184386e+01 -8.83887690e+01 -9.48863706e+01 -9.63208191e+01\n",
      " -1.01543319e+02 -1.08459871e+02 -1.12247387e+02 -1.15150207e+02\n",
      " -1.22091498e+02 -1.28342937e+02 -1.29236237e+02 -1.35717772e+02\n",
      " -1.42355849e+02 -1.45518761e+02 -1.49618364e+02 -1.56617425e+02\n",
      " -1.61315665e+02 -1.62573189e+02 -1.70210705e+02 -1.75979782e+02\n",
      " -1.77264970e+02 -1.82526111e+02 -1.89809693e+02 -1.93515685e+02\n",
      " -1.96848370e+02 -2.04301639e+02 -2.09050018e+02 -2.10455201e+02\n",
      " -2.17432813e+02 -2.24522364e+02 -2.24611711e+02 -2.31246872e+02\n",
      " -2.37553487e+02 -2.41815101e+02 -2.43321320e+02 -2.51514898e+02\n",
      " -2.58219005e+02 -2.58360676e+02 -2.63957231e+02 -2.72142972e+02\n",
      " -2.73658669e+02 -2.77887064e+02 -2.84124249e+02 -2.90654525e+02\n",
      " -2.92292377e+02 -2.97460720e+02 -3.05059581e+02 -3.06931831e+02\n",
      " -3.13426431e+02 -3.18406699e+02 -3.23197955e+02 -3.25010721e+02\n",
      " -3.32278974e+02 -3.37727567e+02 -3.39162228e+02 -3.46321236e+02\n",
      " -3.53229691e+02 -3.53518893e+02 -3.59756382e+02 -3.66573937e+02\n",
      " -3.69764330e+02 -3.74392136e+02 -3.79242027e+02 -3.86735622e+02\n",
      " -3.87196943e+02 -3.93737599e+02 -3.99988787e+02 -4.03083363e+02\n",
      " -4.07320427e+02 -4.14219041e+02 -4.19755549e+02 -4.23157318e+02\n",
      " -4.28906403e+02 -4.34408604e+02 -4.36210990e+02 -4.41773612e+02\n",
      " -4.47045486e+02 -4.52016839e+02 -4.54659088e+02 -4.60999995e+02\n",
      " -4.67637236e+02 -4.68421927e+02 -4.75985405e+02 -4.82958209e+02\n",
      " -4.83566147e+02 -4.88050862e+02 -4.94527739e+02 -5.00444848e+02\n",
      " -5.02115116e+02 -5.09852236e+02 -5.15956084e+02 -5.17276207e+02\n",
      " -5.22454048e+02 -5.29377941e+02 -5.30788192e+02 -5.34589607e+02\n",
      " -5.42804858e+02 -5.49381372e+02 -5.52442703e+02 -5.56878311e+02\n",
      " -5.64233386e+02 -5.65433021e+02 -5.70741806e+02 -5.79038783e+02\n",
      " -5.81084631e+02 -5.84082613e+02 -5.90765245e+02 -5.97537479e+02\n",
      " -5.96812852e+02 -6.03455515e+02 -6.07041533e+02 -6.09866190e+02\n",
      " -6.09621530e+02 -6.10306383e+02 -6.10185339e+02 -6.10608473e+02\n",
      " -6.10833203e+02 -6.10506857e+02 -6.11157820e+02 -6.10843552e+02\n",
      " -6.12704884e+02 -6.11311442e+02 -6.11615658e+02 -6.11340928e+02\n",
      " -6.11798530e+02 -6.11494420e+02 -6.11266144e+02 -6.11563242e+02\n",
      " -6.11777964e+02 -6.12224779e+02 -6.12758529e+02 -6.13170649e+02\n",
      " -6.13299369e+02 -6.13191736e+02 -6.13224767e+02 -6.13440172e+02\n",
      " -6.13939049e+02 -6.13830702e+02 -6.19228733e+02 -6.23980746e+02\n",
      " -6.28254274e+02 -6.29860391e+02 -6.38883112e+02 -6.44728941e+02\n",
      " -6.45405878e+02 -6.51074699e+02 -6.56529086e+02 -6.62300980e+02\n",
      " -6.67221862e+02 -6.74637191e+02 -6.78465469e+02 -6.80237320e+02\n",
      " -6.88630244e+02 -6.92862388e+02 -6.93364571e+02 -7.01479789e+02\n",
      " -7.10000420e+02 -7.11406171e+02 -7.14924450e+02 -7.21331595e+02\n",
      " -7.24848404e+02 -7.27679887e+02 -7.36767056e+02 -7.42952829e+02\n",
      " -7.43414464e+02 -7.47173444e+02 -7.52720715e+02 -7.60041860e+02\n",
      " -7.61414493e+02 -7.66148728e+02 -7.75283721e+02 -7.75537423e+02\n",
      " -7.83708910e+02 -7.87332626e+02 -7.89817883e+02 -7.93985521e+02\n",
      " -8.01253157e+02 -8.06336149e+02 -8.09587364e+02 -8.13933275e+02\n",
      " -8.22136418e+02 -8.23719298e+02 -8.30102555e+02 -8.34967552e+02\n",
      " -8.38520272e+02 -8.45916010e+02 -8.50971259e+02 -8.56040552e+02\n",
      " -8.58225829e+02 -8.66225065e+02 -8.71119381e+02 -8.72011571e+02\n",
      " -8.76352914e+02 -8.80821444e+02 -8.87003273e+02 -8.91639525e+02\n",
      " -8.99413646e+02 -9.03309181e+02 -9.05466465e+02 -9.11380194e+02\n",
      " -9.15062744e+02 -9.20685828e+02 -9.24471550e+02 -9.30806677e+02\n",
      " -9.38461806e+02 -9.40276182e+02 -9.44920998e+02 -9.53078613e+02\n",
      " -9.54447130e+02 -9.59562137e+02 -9.65215080e+02 -9.69615006e+02\n",
      " -9.73212756e+02 -9.78830964e+02 -9.83554035e+02 -9.85949327e+02\n",
      " -9.93359358e+02 -9.98971153e+02 -1.00154804e+03 -1.01005660e+03\n",
      " -1.01186936e+03 -1.01915758e+03 -1.02324485e+03 -1.02949970e+03\n",
      " -1.03295631e+03 -1.03351265e+03 -1.04466432e+03 -1.04455398e+03\n",
      " -1.05116265e+03 -1.05470467e+03 -1.05860266e+03 -1.06877421e+03\n",
      " -1.07084145e+03 -1.07272576e+03 -1.08119505e+03 -1.08332111e+03\n",
      " -1.08548721e+03 -1.09697461e+03 -1.09607205e+03 -1.10240532e+03\n",
      " -1.10826652e+03 -1.11231830e+03 -1.11597158e+03 -1.12337650e+03\n",
      " -1.12518861e+03 -1.12917893e+03 -1.14094619e+03 -1.14316344e+03\n",
      " -1.14801293e+03 -1.15336251e+03 -1.15675427e+03 -1.16303476e+03\n",
      " -1.16488319e+03 -1.16874350e+03 -1.17553247e+03 -1.18073995e+03\n",
      " -1.18292746e+03 -1.19133030e+03 -1.19680989e+03 -1.19882637e+03\n",
      " -1.20622475e+03 -1.20731359e+03 -1.21223720e+03 -1.21687288e+03\n",
      " -1.22422084e+03 -1.22799764e+03 -1.24474351e+03 -1.26139019e+03\n",
      " -1.27923772e+03 -1.29443842e+03 -1.30826768e+03 -1.32575718e+03\n",
      " -1.34359579e+03 -1.35960481e+03 -1.37338114e+03 -1.38797298e+03\n",
      " -1.40728608e+03 -1.42253627e+03 -1.43716896e+03 -1.45274879e+03\n",
      " -1.46978206e+03 -1.48618061e+03 -1.50469704e+03 -1.51982092e+03\n",
      " -1.53535729e+03 -1.54777812e+03 -1.56541463e+03 -1.58185374e+03\n",
      " -1.60258653e+03 -1.61396586e+03 -1.63365534e+03 -1.64738337e+03\n",
      " -1.65956007e+03 -1.67928747e+03 -1.69590958e+03 -1.71380741e+03\n",
      " -1.72836914e+03 -1.74377826e+03 -1.76373832e+03 -1.77848948e+03\n",
      " -1.79487607e+03 -1.80426580e+03 -1.82429643e+03 -1.84318176e+03\n",
      " -1.86134888e+03 -1.87119094e+03 -1.89359973e+03 -1.90866625e+03\n",
      " -1.92334933e+03 -1.93702566e+03 -1.95846813e+03 -1.97428448e+03\n",
      " -1.98898800e+03 -2.00809589e+03 -2.02118763e+03 -2.03828956e+03\n",
      " -2.05261285e+03 -2.06673315e+03 -2.08410033e+03 -2.09899954e+03\n",
      " -2.11784670e+03 -2.12718299e+03 -2.15501165e+03 -2.16636960e+03\n",
      " -2.17970630e+03 -2.20230890e+03 -2.21186725e+03 -2.23158988e+03\n",
      " -2.24324626e+03 -2.26644719e+03 -2.28263243e+03 -2.29750810e+03\n",
      " -2.31710699e+03 -2.32931742e+03 -2.34333858e+03 -2.35564795e+03\n",
      " -2.38222991e+03 -2.39252196e+03 -2.41322358e+03 -2.42132439e+03\n",
      " -2.44115734e+03 -2.45302195e+03 -2.46886391e+03 -2.49062978e+03\n",
      " -2.50240174e+03 -2.51816379e+03 -2.53411170e+03 -2.55009592e+03\n",
      " -2.56738147e+03 -2.58231211e+03 -2.60504176e+03 -2.61465114e+03\n",
      " -2.63710175e+03 -2.64617730e+03 -2.66666852e+03 -2.68763314e+03\n",
      " -2.70306652e+03 -2.71829920e+03 -2.72782621e+03 -2.74479594e+03\n",
      " -2.76609035e+03 -2.78498782e+03 -2.78826966e+03 -2.81022382e+03\n",
      " -2.83071380e+03 -2.84520205e+03 -2.85880085e+03 -2.87289713e+03\n",
      " -2.88757492e+03 -2.91133287e+03 -2.92382648e+03 -2.94120507e+03\n",
      " -2.96266482e+03 -2.96683732e+03 -2.99568686e+03 -3.00098667e+03\n",
      " -3.02819181e+03 -3.04560290e+03 -3.05245239e+03 -3.07035890e+03\n",
      " -3.09376857e+03 -3.10569705e+03 -3.12312825e+03 -3.14055312e+03\n",
      " -3.15414348e+03 -3.17058894e+03 -3.18627631e+03 -3.20688858e+03\n",
      " -3.21218228e+03 -3.22564596e+03 -3.24708190e+03 -3.26723334e+03\n",
      " -3.27998464e+03 -3.29454739e+03 -3.31616770e+03 -3.33410924e+03\n",
      " -3.35207240e+03 -3.35517778e+03 -3.38361246e+03 -3.39929580e+03\n",
      " -3.41070044e+03 -3.42319327e+03 -3.44580714e+03 -3.45990148e+03\n",
      " -3.47632915e+03 -3.49256538e+03 -3.51310743e+03 -3.51809513e+03\n",
      " -3.54454120e+03 -3.56111689e+03 -3.57947826e+03 -3.58454686e+03\n",
      " -3.60599563e+03 -3.62589740e+03 -3.64019791e+03 -3.65083441e+03\n",
      " -3.67599496e+03 -3.68655078e+03 -3.71024506e+03 -3.71726465e+03\n",
      " -3.74018313e+03 -3.74829289e+03 -3.76945298e+03 -3.79145896e+03\n",
      " -3.80312992e+03 -3.82199834e+03 -3.83017734e+03 -3.85558452e+03\n",
      " -3.86531754e+03 -3.88059078e+03 -3.90119827e+03 -3.91002976e+03\n",
      " -3.94305937e+03 -3.94072990e+03 -3.96271409e+03 -3.97536661e+03\n",
      " -3.98987021e+03 -4.00929672e+03 -4.02909871e+03]\n"
     ]
    }
   ],
   "source": [
    "print(\" ptc gains: \", ptc.gain, \"\\n\\n\", \"ptc turnoffs: \", ptc.ptcTurnoff, \"\\n\\n\",\n",
    "      \"ptc amp offsets (detector C10): \\n\", ptc.ampOffsets['C10'])"
   ]
  },
  {
   "cell_type": "markdown",
   "id": "bdb0eb34-5484-41d2-b234-041f47ef5684",
   "metadata": {},
   "source": [
    "We see that the PTC contains expected quantities for each of the 16 amps, including gain, the PTC turnoff, and amp offsets, among many other quantities."
   ]
  },
  {
   "cell_type": "markdown",
   "id": "6466bdb9-0d12-4f9a-bc9c-628db352d6a0",
   "metadata": {},
   "source": [
    "#### Crosstalk correction\n"
   ]
  },
  {
   "cell_type": "code",
   "execution_count": 19,
   "id": "12bd91d0-4c42-4b7b-8387-a9a3876facde",
   "metadata": {
    "execution": {
     "iopub.execute_input": "2025-08-19T20:45:40.692044Z",
     "iopub.status.busy": "2025-08-19T20:45:40.691819Z",
     "iopub.status.idle": "2025-08-19T20:45:40.939796Z",
     "shell.execute_reply": "2025-08-19T20:45:40.939433Z",
     "shell.execute_reply.started": "2025-08-19T20:45:40.692018Z"
    }
   },
   "outputs": [],
   "source": [
    "query = butler.query_datasets('preliminary_visit_image', band='g', detector=34)"
   ]
  },
  {
   "cell_type": "code",
   "execution_count": 21,
   "id": "5bc11ce6-d656-4047-a362-f7f405ab167a",
   "metadata": {
    "execution": {
     "iopub.execute_input": "2025-08-19T20:45:50.851439Z",
     "iopub.status.busy": "2025-08-19T20:45:50.851232Z",
     "iopub.status.idle": "2025-08-19T20:45:52.007213Z",
     "shell.execute_reply": "2025-08-19T20:45:52.006678Z",
     "shell.execute_reply.started": "2025-08-19T20:45:50.851422Z"
    }
   },
   "outputs": [],
   "source": [
    "# Select the first image and its crosstalk object:\n",
    "pvi = butler.get(query[1])\n",
    "crosstalk = butler.get(\"crosstalk\", dataId=query[1].dataId)"
   ]
  },
  {
   "cell_type": "code",
   "execution_count": 22,
   "id": "0ac6ec89-1768-4816-ae6c-63f669f36115",
   "metadata": {
    "execution": {
     "iopub.execute_input": "2025-08-19T20:46:16.881361Z",
     "iopub.status.busy": "2025-08-19T20:46:16.881111Z",
     "iopub.status.idle": "2025-08-19T20:46:16.884845Z",
     "shell.execute_reply": "2025-08-19T20:46:16.884446Z",
     "shell.execute_reply.started": "2025-08-19T20:46:16.881342Z"
    }
   },
   "outputs": [
    {
     "data": {
      "text/plain": [
       "OBSTYPE = \"CROSSTALK\"\n",
       "CROSSTALK_SCHEMA = \"Gen3 Crosstalk\"\n",
       "CROSSTALK_VERSION = 1.2000000000000\n",
       "INSTRUME = \"LSSTCam\"\n",
       "RAFTNAME = <Unknown>\n",
       "SLOTNAME = <Unknown>\n",
       "DETECTOR = 34\n",
       "DET_NAME = \"R10_S21\"\n",
       "DET_SER = \"ITL-3800C-446\"\n",
       "FILTER = <Unknown>\n",
       "CALIB_ID = \"instrument=LSSTCam raftName=R10 detectorName=R10_S21 detector=34 calibDate=1970-01-01T00:00:00\"\n",
       "SEQFILE = <Unknown>\n",
       "SEQNAME = <Unknown>\n",
       "SEQCKSUM = <Unknown>\n",
       "CALIBCLS = \"lsst.ip.isr.crosstalk.CrosstalkCalib\"\n",
       "DETECTOR_NAME = \"R10_S21\"\n",
       "DETECTOR_SERIAL = \"ITL-3800C-446\"\n",
       "HAS_CROSSTALK = 1\n",
       "NAMP = 16\n",
       "CROSSTALK_SHAPE = [ 16, 16 ]\n",
       "CROSSTALK_RATIOS_UNITS = \"electron\"\n",
       "CALIBDATE = \"1970-01-01T00:00:00\"\n",
       "CALIB_CREATION_DATE = \"2024-10-02\"\n",
       "CALIB_CREATION_TIME = \"19:50:47.827041\"\n",
       "LSST BUTLER ID = \"80ffb5d6-c7ae-47f7-8532-22b0e1f6607c\"\n",
       "LSST BUTLER RUN = \"LSSTCam/calib/DM-51669/curated/19700101T000000Z\"\n",
       "LSST BUTLER DATASETTYPE = \"crosstalk\"\n",
       "LSST BUTLER DATAID DETECTOR = 34\n",
       "LSST BUTLER DATAID INSTRUMENT = \"LSSTCam\"\n"
      ]
     },
     "execution_count": 22,
     "metadata": {},
     "output_type": "execute_result"
    }
   ],
   "source": [
    "crosstalk.getMetadata()"
   ]
  },
  {
   "cell_type": "markdown",
   "id": "5f73b3c7-afe6-4e6b-a68e-49c90566934e",
   "metadata": {},
   "source": [
    "Plot an image of the crosstalk coefficients and their associated errors, to demonstrate the magnitude and accuracy of the crosstalk corrections."
   ]
  },
  {
   "cell_type": "code",
   "execution_count": 25,
   "id": "3336dfe5-e1ca-4072-83c9-5a5b7a5c1d5a",
   "metadata": {
    "execution": {
     "iopub.execute_input": "2025-08-19T20:47:40.255812Z",
     "iopub.status.busy": "2025-08-19T20:47:40.254908Z",
     "iopub.status.idle": "2025-08-19T20:47:40.833087Z",
     "shell.execute_reply": "2025-08-19T20:47:40.832711Z",
     "shell.execute_reply.started": "2025-08-19T20:47:40.255763Z"
    }
   },
   "outputs": [
    {
     "name": "stdout",
     "output_type": "stream",
     "text": [
      "Maximum crosstalk error: 5.7647094449183624e-06\n"
     ]
    },
    {
     "data": {
      "image/png": "[encoded data removed]",
      "text/plain": [
       "<Figure size 1000x800 with 4 Axes>"
      ]
     },
     "metadata": {},
     "output_type": "display_data"
    }
   ],
   "source": [
    "# Plot the errors listed in the calibration as an image.\n",
    "fig = plt.figure(figsize=(10, 8))\n",
    "ax1 = fig.add_subplot(121)\n",
    "im1 = ax1.imshow(np.array(crosstalk.coeffs)/1e-4)\n",
    "ax1.set_title(\"ComCam Crosstalk Coefficients / 1e-4\")\n",
    "divider = make_axes_locatable(ax1)\n",
    "cax = divider.append_axes('right', size='5%', pad=0.05)\n",
    "fig.colorbar(im1, cax=cax, orientation='vertical')\n",
    "\n",
    "ax2 = fig.add_subplot(122)\n",
    "im2 = ax2.imshow(np.array(crosstalk.coeffErr))\n",
    "ax2.set_title(\"ComCam Crosstalk Absolute Errors\")\n",
    "divider = make_axes_locatable(ax2)\n",
    "cax = divider.append_axes('right', size='5%', pad=0.05)\n",
    "fig.colorbar(im2, cax=cax, orientation='vertical')\n",
    "\n",
    "fig.show()\n",
    "print(f\"Maximum crosstalk error: {np.max(np.ravel(crosstalk.coeffErr))}\")"
   ]
  },
  {
   "cell_type": "markdown",
   "id": "c5d578ce-201a-4922-be77-ac4a474c5db6",
   "metadata": {
    "execution": {
     "iopub.execute_input": "2025-05-13T22:08:16.564484Z",
     "iopub.status.busy": "2025-05-13T22:08:16.564085Z",
     "iopub.status.idle": "2025-05-13T22:08:16.570800Z",
     "shell.execute_reply": "2025-05-13T22:08:16.570316Z",
     "shell.execute_reply.started": "2025-05-13T22:08:16.564457Z"
    }
   },
   "source": [
    "#### Bias, dark, and flat frames\n",
    "\n",
    "Retrieve a bias, dark and flat from the newly-created calib collection, and print their bounding box and mean/median/stdev pixel values to the screen. We will take these quantities as evidence that these are well-formed images."
   ]
  },
  {
   "cell_type": "code",
   "execution_count": 16,
   "id": "9b2c83e1-3038-4bba-b120-d56be52925de",
   "metadata": {
    "execution": {
     "iopub.execute_input": "2025-08-19T20:40:23.951522Z",
     "iopub.status.busy": "2025-08-19T20:40:23.951295Z",
     "iopub.status.idle": "2025-08-19T20:40:28.857581Z",
     "shell.execute_reply": "2025-08-19T20:40:28.857154Z",
     "shell.execute_reply.started": "2025-08-19T20:40:23.951506Z"
    }
   },
   "outputs": [
    {
     "name": "stdout",
     "output_type": "stream",
     "text": [
      "bias@{instrument: 'LSSTCam', detector: 0} [sc=ExposureF] (run=LSSTCam/calib/DM-51897/3s_v1/biasGen.20250808a/20250813T082043Z id=a38652b6-cac7-4d5c-8dcb-c8471ae7737b)\n",
      "Image bounding box: \n",
      " (minimum=(0, 0), maximum=(4071, 3999)) \n",
      "\n",
      " bias mean pixel value:  595.42426 \n",
      " bias median pixel value:  -0.0041780733 \n",
      " bias pixel value stdev:  9781.573\n",
      "\n",
      "\n",
      "dark@{instrument: 'LSSTCam', detector: 0} [sc=ExposureF] (run=LSSTCam/calib/DM-51897/3s_v1/darkGen.20250814a/20250814T171631Z id=63b03545-aa3f-44c6-be55-f8fe580e3194)\n",
      "Image bounding box: \n",
      " (minimum=(0, 0), maximum=(4071, 3999)) \n",
      "\n",
      " dark mean pixel value:  44.62463 \n",
      " dark median pixel value:  -0.0001934574 \n",
      " dark pixel value stdev:  543.76215\n",
      "\n",
      "\n",
      "flat@{instrument: 'LSSTCam', detector: 0, physical_filter: 'empty', band: 'white'} [sc=ExposureF] (run=LSSTCam/calib/DM-50162/pseudoFlats/pseudoFlatGen.20250414b/run id=9b577c7b-a1d3-4aeb-bb38-812a93a3267d)\n",
      "Image bounding box: \n",
      " (minimum=(0, 0), maximum=(4071, 3999)) \n",
      "\n",
      " flat mean pixel value:  0.562228 \n",
      " flat median pixel value:  0.5668775 \n",
      " flat pixel value stdev:  0.15569207\n",
      "\n",
      "\n"
     ]
    }
   ],
   "source": [
    "calib_img_types = ['bias', 'dark', 'flat']\n",
    "\n",
    "for imtype in calib_img_types:\n",
    "    imrefs = butler.query_datasets(f\"{imtype}\", collections=calib_coll)\n",
    "    print(imrefs[0])\n",
    "    img = butler.get(imrefs[0])\n",
    "    print(\"Image bounding box: \\n\", img.getBBox(), \"\\n\")\n",
    "    print(f\" {imtype} mean pixel value: \", np.mean(img.getImage().array), \"\\n\",\n",
    "          f\"{imtype} median pixel value: \", np.median(img.getImage().array), \"\\n\",\n",
    "          f\"{imtype} pixel value stdev: \", np.std(img.getImage().array))\n",
    "    print(\"\\n\")"
   ]
  },
  {
   "cell_type": "markdown",
   "id": "d7dbe402-1765-499c-9332-11c0ef0dcfca",
   "metadata": {},
   "source": [
    "## Results\n",
    "\n",
    "We have confirmed that running `ci_cpp` has produced the expected datasets, and by inspecting a few of them, have confirmed that they are well-formed datasets with the expected characteristics. The result of this test is a **Pass**."
   ]
  },
  {
   "cell_type": "code",
   "execution_count": null,
   "id": "ed33463e-bdb9-4dab-a812-9ff58ce6deae",
   "metadata": {},
   "outputs": [],
   "source": []
  }
 ],
 "metadata": {
  "kernelspec": {
   "display_name": "LSST",
   "language": "python",
   "name": "lsst"
  },
  "language_info": {
   "codemirror_mode": {
    "name": "ipython",
    "version": 3
   },
   "file_extension": ".py",
   "mimetype": "text/x-python",
   "name": "python",
   "nbconvert_exporter": "python",
   "pygments_lexer": "ipython3",
   "version": "3.12.11"
  }
 },
 "nbformat": 4,
 "nbformat_minor": 5
}
