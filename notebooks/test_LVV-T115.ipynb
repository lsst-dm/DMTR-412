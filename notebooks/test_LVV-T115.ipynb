{
 "cells": [
  {
   "cell_type": "markdown",
   "id": "fd393cc4-82c5-4c1f-ae99-45413aa5dfb9",
   "metadata": {},
   "source": [
    "### Test case LVV-T115: Verify implementation of Calibration Production Processing\n",
    "\n",
    "Execute CPP on a variety of representative cadences, and verify that the calibration pipeline correctly produces necessary calibration products.\n",
    "\n",
    "Discussion: To demonstrate all aspects of Calibration Production Processing (CPP), we execute the `ci_cpp` pipeline that is used for continuous integration (CI) of the CPP codebase. This pipeline produces all calibration products from a small input dataset, and runs `cp_verify` to verify that the output calibrations meet quality requirements."
   ]
  },
  {
   "cell_type": "markdown",
   "id": "a8f6dd04-4a7e-4366-b474-e131cd47c354",
   "metadata": {},
   "source": [
    "After executing the `ci_cpp` processing, this notebook will examine the outputs."
   ]
  },
  {
   "cell_type": "code",
   "execution_count": 1,
   "id": "f69bf5a0-30e4-4aa2-b6d9-baab3ca2d0ac",
   "metadata": {
    "execution": {
     "iopub.execute_input": "2025-05-13T22:48:55.357164Z",
     "iopub.status.busy": "2025-05-13T22:48:55.357039Z",
     "iopub.status.idle": "2025-05-13T22:48:56.313569Z",
     "shell.execute_reply": "2025-05-13T22:48:56.313042Z",
     "shell.execute_reply.started": "2025-05-13T22:48:55.357149Z"
    }
   },
   "outputs": [],
   "source": [
    "import numpy as np\n",
    "\n",
    "from lsst.daf.butler import Butler"
   ]
  },
  {
   "cell_type": "markdown",
   "id": "cb12a2d5-9d12-42c3-9cde-a583c42b74d6",
   "metadata": {},
   "source": [
    "Initialize the butler corresponding to the `ci_cpp` processing that was executed in \"~/u/repos/ci_cpp_gen3/DATA\"."
   ]
  },
  {
   "cell_type": "code",
   "execution_count": 2,
   "id": "4094ae98-b2cf-49c9-9517-f535dfc8db81",
   "metadata": {
    "execution": {
     "iopub.execute_input": "2025-05-13T22:48:56.314215Z",
     "iopub.status.busy": "2025-05-13T22:48:56.314071Z",
     "iopub.status.idle": "2025-05-13T22:48:56.536795Z",
     "shell.execute_reply": "2025-05-13T22:48:56.536321Z",
     "shell.execute_reply.started": "2025-05-13T22:48:56.314199Z"
    }
   },
   "outputs": [],
   "source": [
    "butler = Butler('~/u/repos/ci_cpp_gen3/DATA/')"
   ]
  },
  {
   "cell_type": "markdown",
   "id": "d854a502-d5a0-4082-b5c6-0e26906d9d5a",
   "metadata": {},
   "source": [
    "Examine the list of collections that were created in this repository."
   ]
  },
  {
   "cell_type": "code",
   "execution_count": 3,
   "id": "408b030b-1283-4ec0-9446-3262a301da80",
   "metadata": {
    "execution": {
     "iopub.execute_input": "2025-05-13T22:48:56.537510Z",
     "iopub.status.busy": "2025-05-13T22:48:56.537367Z",
     "iopub.status.idle": "2025-05-13T22:48:56.548405Z",
     "shell.execute_reply": "2025-05-13T22:48:56.547995Z",
     "shell.execute_reply.started": "2025-05-13T22:48:56.537496Z"
    }
   },
   "outputs": [
    {
     "data": {
      "text/plain": [
       "[CollectionInfo(name='LATISS/calib', type=<CollectionType.CALIBRATION: 4>, doc='', children=(), parents=None, dataset_types=None),\n",
       " CollectionInfo(name='LATISS/calib/unbounded', type=<CollectionType.RUN: 1>, doc='', children=(), parents=None, dataset_types=None),\n",
       " CollectionInfo(name='LATISS/calib/curated/19700101T000000Z', type=<CollectionType.RUN: 1>, doc='', children=(), parents=None, dataset_types=None),\n",
       " CollectionInfo(name='LATISS/calib/curated/20180101T000000Z', type=<CollectionType.RUN: 1>, doc='', children=(), parents=None, dataset_types=None),\n",
       " CollectionInfo(name='LATISS/calib/curated/20221005T000000Z', type=<CollectionType.RUN: 1>, doc='', children=(), parents=None, dataset_types=None),\n",
       " CollectionInfo(name='LATISS/raw/all', type=<CollectionType.RUN: 1>, doc='', children=(), parents=None, dataset_types=None),\n",
       " CollectionInfo(name='ci_cpp_biasBootstrap/run', type=<CollectionType.RUN: 1>, doc='', children=(), parents=None, dataset_types=None),\n",
       " CollectionInfo(name='ci_cpp_darkBootstrap/run', type=<CollectionType.RUN: 1>, doc='', children=(), parents=None, dataset_types=None),\n",
       " CollectionInfo(name='ci_cpp_flatBootstrap/run', type=<CollectionType.RUN: 1>, doc='', children=(), parents=None, dataset_types=None),\n",
       " CollectionInfo(name='ci_cpp_defects/20250508T171844Z', type=<CollectionType.RUN: 1>, doc='', children=(), parents=None, dataset_types=None),\n",
       " CollectionInfo(name='calib/v00', type=<CollectionType.CALIBRATION: 4>, doc='', children=(), parents=None, dataset_types=None),\n",
       " CollectionInfo(name='ci_cpp_linearizer/20250508T172027Z', type=<CollectionType.RUN: 1>, doc='', children=(), parents=None, dataset_types=None),\n",
       " CollectionInfo(name='ci_cpv_linearizer/20250508T172816Z', type=<CollectionType.RUN: 1>, doc='', children=(), parents=None, dataset_types=None),\n",
       " CollectionInfo(name='ci_cpp_ptc/20250508T173630Z', type=<CollectionType.RUN: 1>, doc='', children=(), parents=None, dataset_types=None),\n",
       " CollectionInfo(name='ci_cpv_ptc/20250508T174542Z', type=<CollectionType.RUN: 1>, doc='', children=(), parents=None, dataset_types=None),\n",
       " CollectionInfo(name='ci_cpp_cti/20250508T174922Z', type=<CollectionType.RUN: 1>, doc='', children=(), parents=None, dataset_types=None),\n",
       " CollectionInfo(name='ci_cpp_gainFromFlatPairs/20250508T175501Z', type=<CollectionType.RUN: 1>, doc='', children=(), parents=None, dataset_types=None),\n",
       " CollectionInfo(name='ci_cpp_bfk/20250508T180115Z', type=<CollectionType.RUN: 1>, doc='', children=(), parents=None, dataset_types=None),\n",
       " CollectionInfo(name='ci_cpp_bias/20250508T180902Z', type=<CollectionType.RUN: 1>, doc='', children=(), parents=None, dataset_types=None),\n",
       " CollectionInfo(name='ci_cpv_bias/20250508T181158Z', type=<CollectionType.RUN: 1>, doc='', children=(), parents=None, dataset_types=None),\n",
       " CollectionInfo(name='ci_cpp_dark/20250508T181519Z', type=<CollectionType.RUN: 1>, doc='', children=(), parents=None, dataset_types=None),\n",
       " CollectionInfo(name='ci_cpv_dark/20250508T181857Z', type=<CollectionType.RUN: 1>, doc='', children=(), parents=None, dataset_types=None),\n",
       " CollectionInfo(name='ci_cpp_flat/20250508T182205Z', type=<CollectionType.RUN: 1>, doc='', children=(), parents=None, dataset_types=None),\n",
       " CollectionInfo(name='ci_cpv_flat/20250508T182625Z', type=<CollectionType.RUN: 1>, doc='', children=(), parents=None, dataset_types=None),\n",
       " CollectionInfo(name='ci_cpp_science/20250508T183055Z', type=<CollectionType.RUN: 1>, doc='', children=(), parents=None, dataset_types=None),\n",
       " CollectionInfo(name='ci_cpp_spectroFlat/20250508T183055Z', type=<CollectionType.RUN: 1>, doc='', children=(), parents=None, dataset_types=None),\n",
       " CollectionInfo(name='ci_cpv_defects/20250508T183158Z', type=<CollectionType.RUN: 1>, doc='', children=(), parents=None, dataset_types=None),\n",
       " CollectionInfo(name='ci_cpp_sky/20250508T183206Z', type=<CollectionType.RUN: 1>, doc='', children=(), parents=None, dataset_types=None),\n",
       " CollectionInfo(name='ci_cpp_biasBootstrap', type=<CollectionType.CHAINED: 3>, doc='', children=('ci_cpp_biasBootstrap/run', 'LATISS/raw/all', 'LATISS/calib'), parents=None, dataset_types=None),\n",
       " CollectionInfo(name='ci_cpp_darkBootstrap', type=<CollectionType.CHAINED: 3>, doc='', children=('ci_cpp_darkBootstrap/run', 'ci_cpp_biasBootstrap/run', 'LATISS/raw/all', 'LATISS/calib'), parents=None, dataset_types=None),\n",
       " CollectionInfo(name='ci_cpp_flatBootstrap', type=<CollectionType.CHAINED: 3>, doc='', children=('ci_cpp_flatBootstrap/run', 'ci_cpp_darkBootstrap/run', 'ci_cpp_biasBootstrap/run', 'LATISS/raw/all', 'LATISS/calib'), parents=None, dataset_types=None),\n",
       " CollectionInfo(name='ci_cpp_defects', type=<CollectionType.CHAINED: 3>, doc='', children=('ci_cpp_defects/20250508T171844Z', 'ci_cpp_flatBootstrap/run', 'ci_cpp_darkBootstrap/run', 'ci_cpp_biasBootstrap/run', 'LATISS/raw/all', 'LATISS/calib'), parents=None, dataset_types=None),\n",
       " CollectionInfo(name='ci_cpp_linearizer', type=<CollectionType.CHAINED: 3>, doc='', children=('ci_cpp_linearizer/20250508T172027Z', 'calib/v00', 'LATISS/raw/all', 'LATISS/calib'), parents=None, dataset_types=None),\n",
       " CollectionInfo(name='ci_cpv_linearizer', type=<CollectionType.CHAINED: 3>, doc='', children=('ci_cpv_linearizer/20250508T172816Z', 'calib/v00', 'LATISS/calib', 'LATISS/raw/all'), parents=None, dataset_types=None),\n",
       " CollectionInfo(name='ci_cpp_ptc', type=<CollectionType.CHAINED: 3>, doc='', children=('ci_cpp_ptc/20250508T173630Z', 'calib/v00', 'LATISS/raw/all', 'LATISS/calib'), parents=None, dataset_types=None),\n",
       " CollectionInfo(name='ci_cpv_ptc', type=<CollectionType.CHAINED: 3>, doc='', children=('ci_cpv_ptc/20250508T174542Z', 'calib/v00', 'LATISS/calib', 'LATISS/raw/all'), parents=None, dataset_types=None),\n",
       " CollectionInfo(name='ci_cpp_cti', type=<CollectionType.CHAINED: 3>, doc='', children=('ci_cpp_cti/20250508T174922Z', 'calib/v00', 'LATISS/raw/all', 'LATISS/calib'), parents=None, dataset_types=None),\n",
       " CollectionInfo(name='ci_cpp_gainFromFlatPairs', type=<CollectionType.CHAINED: 3>, doc='', children=('ci_cpp_gainFromFlatPairs/20250508T175501Z', 'calib/v00', 'LATISS/raw/all', 'LATISS/calib'), parents=None, dataset_types=None),\n",
       " CollectionInfo(name='ci_cpp_bfk', type=<CollectionType.CHAINED: 3>, doc='', children=('ci_cpp_bfk/20250508T180115Z', 'calib/v00', 'LATISS/raw/all', 'LATISS/calib'), parents=None, dataset_types=None),\n",
       " CollectionInfo(name='ci_cpp_bias', type=<CollectionType.CHAINED: 3>, doc='', children=('ci_cpp_bias/20250508T180902Z', 'calib/v00', 'LATISS/raw/all', 'LATISS/calib'), parents=None, dataset_types=None),\n",
       " CollectionInfo(name='ci_cpv_bias', type=<CollectionType.CHAINED: 3>, doc='', children=('ci_cpv_bias/20250508T181158Z', 'calib/v00', 'LATISS/calib', 'LATISS/raw/all'), parents=None, dataset_types=None),\n",
       " CollectionInfo(name='ci_cpp_dark', type=<CollectionType.CHAINED: 3>, doc='', children=('ci_cpp_dark/20250508T181519Z', 'calib/v00', 'LATISS/raw/all', 'LATISS/calib'), parents=None, dataset_types=None),\n",
       " CollectionInfo(name='ci_cpv_dark', type=<CollectionType.CHAINED: 3>, doc='', children=('ci_cpv_dark/20250508T181857Z', 'calib/v00', 'LATISS/calib', 'LATISS/raw/all'), parents=None, dataset_types=None),\n",
       " CollectionInfo(name='ci_cpp_flat', type=<CollectionType.CHAINED: 3>, doc='', children=('ci_cpp_flat/20250508T182205Z', 'calib/v00', 'LATISS/raw/all', 'LATISS/calib'), parents=None, dataset_types=None),\n",
       " CollectionInfo(name='ci_cpv_flat', type=<CollectionType.CHAINED: 3>, doc='', children=('ci_cpv_flat/20250508T182625Z', 'calib/v00', 'LATISS/calib', 'LATISS/raw/all'), parents=None, dataset_types=None),\n",
       " CollectionInfo(name='ci_cpp_science', type=<CollectionType.CHAINED: 3>, doc='', children=('ci_cpp_science/20250508T183055Z', 'calib/v00', 'LATISS/raw/all', 'LATISS/calib'), parents=None, dataset_types=None),\n",
       " CollectionInfo(name='ci_cpp_spectroFlat', type=<CollectionType.CHAINED: 3>, doc='', children=('ci_cpp_spectroFlat/20250508T183055Z', 'calib/v00', 'LATISS/raw/all', 'LATISS/calib'), parents=None, dataset_types=None),\n",
       " CollectionInfo(name='ci_cpv_defects', type=<CollectionType.CHAINED: 3>, doc='', children=('ci_cpv_defects/20250508T183158Z', 'calib/v00', 'LATISS/calib', 'LATISS/raw/all'), parents=None, dataset_types=None),\n",
       " CollectionInfo(name='ci_cpp_sky', type=<CollectionType.CHAINED: 3>, doc='', children=('ci_cpp_sky/20250508T183206Z', 'calib/v00', 'LATISS/raw/all', 'LATISS/calib'), parents=None, dataset_types=None)]"
      ]
     },
     "execution_count": 3,
     "metadata": {},
     "output_type": "execute_result"
    }
   ],
   "source": [
    "butler.collections.query_info('*')"
   ]
  },
  {
   "cell_type": "markdown",
   "id": "3f0eb1cd-7d00-4f20-a702-17e659a1030e",
   "metadata": {},
   "source": [
    "We see that there are collections corresponding to a variety of calibration object types, including brighter-fatter kernel (bfk), photon transfer curves (ptc), biases, darks, flats, and many others. There are also validation collections (denoted with \"cpv\" in their names) that result from the `cp_verify` process."
   ]
  },
  {
   "cell_type": "markdown",
   "id": "c6d9f2a7-65ca-432d-ba97-3e7af1c0edc2",
   "metadata": {},
   "source": [
    "#### Brighter-fatter kernel\n",
    "\n",
    "Retrieve a `bfk` dataset and examine it to confirm that it is well-formed."
   ]
  },
  {
   "cell_type": "code",
   "execution_count": 4,
   "id": "0fc5dd39-da37-4da5-aef1-b42e00a17e7f",
   "metadata": {
    "execution": {
     "iopub.execute_input": "2025-05-13T22:48:56.549007Z",
     "iopub.status.busy": "2025-05-13T22:48:56.548875Z",
     "iopub.status.idle": "2025-05-13T22:48:56.694184Z",
     "shell.execute_reply": "2025-05-13T22:48:56.693718Z",
     "shell.execute_reply.started": "2025-05-13T22:48:56.548995Z"
    }
   },
   "outputs": [
    {
     "data": {
      "text/plain": [
       "DatasetRef(DatasetType('bfk', {instrument, detector}, BrighterFatterKernel, isCalibration=True), {instrument: 'LATISS', detector: 0}, run='ci_cpp_bfk/20250508T180115Z', id=aa17fe95-fd7f-4cd4-a75e-5e2790958618)"
      ]
     },
     "execution_count": 4,
     "metadata": {},
     "output_type": "execute_result"
    }
   ],
   "source": [
    "bfk_refs = butler.query_datasets('bfk', collections='ci_cpp_bfk')\n",
    "bfk_refs[0]"
   ]
  },
  {
   "cell_type": "code",
   "execution_count": 5,
   "id": "aa0eb8c0-314b-4ef6-8780-361e372f57a1",
   "metadata": {
    "execution": {
     "iopub.execute_input": "2025-05-13T22:48:56.694946Z",
     "iopub.status.busy": "2025-05-13T22:48:56.694800Z",
     "iopub.status.idle": "2025-05-13T22:48:58.755777Z",
     "shell.execute_reply": "2025-05-13T22:48:58.755246Z",
     "shell.execute_reply.started": "2025-05-13T22:48:56.694931Z"
    }
   },
   "outputs": [],
   "source": [
    "bfk = butler.get(bfk_refs[0])"
   ]
  },
  {
   "cell_type": "code",
   "execution_count": 6,
   "id": "60d01583-d066-453d-95e4-066338c73cdd",
   "metadata": {
    "execution": {
     "iopub.execute_input": "2025-05-13T22:48:58.756499Z",
     "iopub.status.busy": "2025-05-13T22:48:58.756350Z",
     "iopub.status.idle": "2025-05-13T22:48:58.764664Z",
     "shell.execute_reply": "2025-05-13T22:48:58.764296Z",
     "shell.execute_reply.started": "2025-05-13T22:48:58.756484Z"
    }
   },
   "outputs": [
    {
     "data": {
      "text/plain": [
       "<TableColumns names=('AMPLIFIER','EXP_ID_MASK','RAW_MEANS','RAW_VARIANCES','RAW_XCORRS','GAIN','NOISE','MEAN_XCORRS','KERNEL','VALID')>"
      ]
     },
     "execution_count": 6,
     "metadata": {},
     "output_type": "execute_result"
    }
   ],
   "source": [
    "bfk.toTable()[0].columns"
   ]
  },
  {
   "cell_type": "code",
   "execution_count": 7,
   "id": "fce0a295-024b-4af0-a93d-ae2b5ad87fee",
   "metadata": {
    "execution": {
     "iopub.execute_input": "2025-05-13T22:48:58.765295Z",
     "iopub.status.busy": "2025-05-13T22:48:58.765155Z",
     "iopub.status.idle": "2025-05-13T22:48:58.773072Z",
     "shell.execute_reply": "2025-05-13T22:48:58.772693Z",
     "shell.execute_reply.started": "2025-05-13T22:48:58.765281Z"
    }
   },
   "outputs": [
    {
     "name": "stdout",
     "output_type": "stream",
     "text": [
      "BFK keys:  dict_keys(['C10', 'C11', 'C12', 'C13', 'C14', 'C15', 'C16', 'C17', 'C07', 'C06', 'C05', 'C04', 'C03', 'C02', 'C01', 'C00'])\n"
     ]
    },
    {
     "data": {
      "text/plain": [
       "array([ 0.00000000e+00, -2.73163779e-09,  3.96425708e-09, -1.32315672e-08,\n",
       "       -7.15069939e-09, -1.39779180e-08, -7.21418731e-09, -3.82108189e-09,\n",
       "       -5.18853051e-08, -3.82108189e-09, -7.21418731e-09, -1.39779180e-08,\n",
       "       -7.15069939e-09, -1.32315672e-08,  3.96425708e-09, -2.73163779e-09,\n",
       "        0.00000000e+00], dtype='>f8')"
      ]
     },
     "execution_count": 7,
     "metadata": {},
     "output_type": "execute_result"
    }
   ],
   "source": [
    "print('BFK keys: ', bfk.meanXcorrs.keys())\n",
    "bfk.meanXcorrs['C10'][1]"
   ]
  },
  {
   "cell_type": "markdown",
   "id": "5ae632c5-377a-492d-bb68-035bc018614b",
   "metadata": {},
   "source": [
    "We see that the `bfk` has expected table columns, entries for each of the 16 amps, and reasonable values for one of the amps (C10)."
   ]
  },
  {
   "cell_type": "markdown",
   "id": "fe0a0067-ac10-4479-a402-40f04f37e349",
   "metadata": {},
   "source": [
    "#### Defects mask\n",
    "\n",
    "Retrieve a `defects` dataset and confirm that it is well formed."
   ]
  },
  {
   "cell_type": "code",
   "execution_count": 8,
   "id": "07fc4ebb-67ac-4425-ae55-e5073182524b",
   "metadata": {
    "execution": {
     "iopub.execute_input": "2025-05-13T22:48:58.773764Z",
     "iopub.status.busy": "2025-05-13T22:48:58.773617Z",
     "iopub.status.idle": "2025-05-13T22:48:58.795681Z",
     "shell.execute_reply": "2025-05-13T22:48:58.795234Z",
     "shell.execute_reply.started": "2025-05-13T22:48:58.773750Z"
    }
   },
   "outputs": [
    {
     "data": {
      "text/plain": [
       "DatasetRef(DatasetType('defects', {instrument, detector}, Defects, isCalibration=True), {instrument: 'LATISS', detector: 0}, run='ci_cpp_defects/20250508T171844Z', id=05e4929c-b27d-43c9-aef9-f7597059c038)"
      ]
     },
     "execution_count": 8,
     "metadata": {},
     "output_type": "execute_result"
    }
   ],
   "source": [
    "defects_refs = butler.query_datasets('defects', collections='ci_cpp_defects')\n",
    "defects_refs[0]"
   ]
  },
  {
   "cell_type": "code",
   "execution_count": 9,
   "id": "9db8552f-eadc-4301-8a80-bfc537309514",
   "metadata": {
    "execution": {
     "iopub.execute_input": "2025-05-13T22:48:58.796487Z",
     "iopub.status.busy": "2025-05-13T22:48:58.796344Z",
     "iopub.status.idle": "2025-05-13T22:48:58.896397Z",
     "shell.execute_reply": "2025-05-13T22:48:58.895835Z",
     "shell.execute_reply.started": "2025-05-13T22:48:58.796473Z"
    }
   },
   "outputs": [],
   "source": [
    "defects = butler.get(defects_refs[0])"
   ]
  },
  {
   "cell_type": "code",
   "execution_count": 10,
   "id": "f4e61a48-dba7-4d98-a60b-64ca1c2ad353",
   "metadata": {
    "execution": {
     "iopub.execute_input": "2025-05-13T22:48:58.897111Z",
     "iopub.status.busy": "2025-05-13T22:48:58.896966Z",
     "iopub.status.idle": "2025-05-13T22:48:58.905309Z",
     "shell.execute_reply": "2025-05-13T22:48:58.904882Z",
     "shell.execute_reply.started": "2025-05-13T22:48:58.897097Z"
    }
   },
   "outputs": [
    {
     "data": {
      "text/plain": [
       "[<Table length=1796>\n",
       "   x0    y0  width height\n",
       " int64 int64 int64 int64 \n",
       " ----- ----- ----- ------\n",
       "     0     0  4072      5\n",
       "     0     5     5   3995\n",
       "   434     5     2      1\n",
       "  1158     5     1      1\n",
       "  1782     5     3      1\n",
       "  4067     5     5   3995\n",
       "   435     6     1      1\n",
       "     5  1529     1      1\n",
       "   605  2000     4   2000\n",
       "   ...   ...   ...    ...\n",
       "  3880  3967     1      1\n",
       "   262  3969     1      1\n",
       "  3683  3980     1      1\n",
       "  1981  3987     2      3\n",
       "  1983  3988     1      2\n",
       "  4061  3989     1      2\n",
       "  4059  3990     2      2\n",
       "  4058  3991     1      3\n",
       "  4057  3992     1      2\n",
       "  2792  3992     1      2]"
      ]
     },
     "execution_count": 10,
     "metadata": {},
     "output_type": "execute_result"
    }
   ],
   "source": [
    "defects.toTable()"
   ]
  },
  {
   "cell_type": "markdown",
   "id": "a2c3f01d-c956-46fd-899e-c96a8d4b9c28",
   "metadata": {},
   "source": [
    "We see that the defects mask has the expected format, with \"blocks\" of defects defined by their initial x, y positions (x0, y0) and their width and height."
   ]
  },
  {
   "cell_type": "markdown",
   "id": "83cbe3a1-4bba-4b41-a5d4-7a0d03583069",
   "metadata": {},
   "source": [
    "#### Photon transfer curve (PTC)\n",
    "\n",
    "Retrieve a `ptc` dataset and confirm it is well formed."
   ]
  },
  {
   "cell_type": "code",
   "execution_count": 11,
   "id": "0961dfa8-a39e-43c2-a1e7-98d6d57be0b9",
   "metadata": {
    "execution": {
     "iopub.execute_input": "2025-05-13T22:48:58.905926Z",
     "iopub.status.busy": "2025-05-13T22:48:58.905791Z",
     "iopub.status.idle": "2025-05-13T22:48:58.925218Z",
     "shell.execute_reply": "2025-05-13T22:48:58.924852Z",
     "shell.execute_reply.started": "2025-05-13T22:48:58.905913Z"
    }
   },
   "outputs": [
    {
     "data": {
      "text/plain": [
       "DatasetRef(DatasetType('ptc', {instrument, detector}, PhotonTransferCurveDataset, isCalibration=True), {instrument: 'LATISS', detector: 0}, run='ci_cpp_ptc/20250508T173630Z', id=c17caf12-d9e4-4306-a767-ba6136843186)"
      ]
     },
     "execution_count": 11,
     "metadata": {},
     "output_type": "execute_result"
    }
   ],
   "source": [
    "ptc_refs = butler.query_datasets('ptc', collections='ci_cpp_ptc')\n",
    "ptc_refs[0]"
   ]
  },
  {
   "cell_type": "code",
   "execution_count": 12,
   "id": "0eed9997-dbc8-4878-b9e9-56ed208ed484",
   "metadata": {
    "execution": {
     "iopub.execute_input": "2025-05-13T22:48:58.925873Z",
     "iopub.status.busy": "2025-05-13T22:48:58.925737Z",
     "iopub.status.idle": "2025-05-13T22:48:58.964801Z",
     "shell.execute_reply": "2025-05-13T22:48:58.964392Z",
     "shell.execute_reply.started": "2025-05-13T22:48:58.925860Z"
    }
   },
   "outputs": [],
   "source": [
    "ptc = butler.get(ptc_refs[0])"
   ]
  },
  {
   "cell_type": "code",
   "execution_count": 13,
   "id": "b4a45041-935c-4161-ba7f-3feb7baafb25",
   "metadata": {
    "execution": {
     "iopub.execute_input": "2025-05-13T22:48:58.965413Z",
     "iopub.status.busy": "2025-05-13T22:48:58.965279Z",
     "iopub.status.idle": "2025-05-13T22:48:58.968208Z",
     "shell.execute_reply": "2025-05-13T22:48:58.967826Z",
     "shell.execute_reply.started": "2025-05-13T22:48:58.965400Z"
    }
   },
   "outputs": [
    {
     "name": "stdout",
     "output_type": "stream",
     "text": [
      " ptc gains:  {'C10': 1.0229103371986488, 'C11': 1.0199883671487262, 'C12': 1.0191040394294557, 'C13': 1.0195022157826048, 'C14': 1.0104110935362776, 'C15': 1.0078748864525646, 'C16': 1.0119721241658262, 'C17': 0.9893530506651513, 'C07': 1.0438400644177985, 'C06': 1.0433286910601023, 'C05': 1.0341635986113358, 'C04': 1.0385946410916136, 'C03': 1.0408398298725232, 'C02': 1.0346223068628317, 'C01': 1.0370898980923489, 'C00': 1.0378785129533388} \n",
      "\n",
      " ptc turnoffs:  {'C10': 100620.3368756783, 'C11': 90936.5462155696, 'C12': 85961.23808694436, 'C13': 116440.3616302361, 'C14': 107120.90791769812, 'C15': 123031.98099914874, 'C16': 97076.0165297454, 'C17': 105180.04773112119, 'C07': 109102.08788589927, 'C06': 98566.43955705804, 'C05': 119148.98053363284, 'C04': 98557.70596866481, 'C03': 98265.60778489435, 'C02': 103852.5195235509, 'C01': 118432.18385136726, 'C00': 118210.21971685355} \n",
      "\n",
      " ptc amp offsets (detector C10): \n",
      " [   12.13849281    23.64021393    36.74912906    49.40857021\n",
      "    64.21265276    80.50901166    93.20483134   111.3759863\n",
      "   125.8216949    142.73797318   152.54110802   168.20054315\n",
      "   187.3694307    210.31198331   230.47160648   240.42445541\n",
      "   242.99251478   237.44461623   234.73410362   229.89638798\n",
      "   246.53735005   276.92537039   301.03855483   273.51039422\n",
      "    54.5770912   -445.07100045 -1324.03239051 -2768.76275492\n",
      " -4678.96303662 -6530.77231282]\n"
     ]
    }
   ],
   "source": [
    "print(\" ptc gains: \", ptc.gain, \"\\n\\n\", \"ptc turnoffs: \", ptc.ptcTurnoff, \"\\n\\n\",\n",
    "      \"ptc amp offsets (detector C10): \\n\", ptc.ampOffsets['C10'])"
   ]
  },
  {
   "cell_type": "markdown",
   "id": "bdb0eb34-5484-41d2-b234-041f47ef5684",
   "metadata": {},
   "source": [
    "We see that the PTC contains expected quantities for each of the 16 amps, including gain, the PTC turnoff, and amp offsets, among many other quantities."
   ]
  },
  {
   "cell_type": "markdown",
   "id": "c5d578ce-201a-4922-be77-ac4a474c5db6",
   "metadata": {
    "execution": {
     "iopub.execute_input": "2025-05-13T22:08:16.564484Z",
     "iopub.status.busy": "2025-05-13T22:08:16.564085Z",
     "iopub.status.idle": "2025-05-13T22:08:16.570800Z",
     "shell.execute_reply": "2025-05-13T22:08:16.570316Z",
     "shell.execute_reply.started": "2025-05-13T22:08:16.564457Z"
    }
   },
   "source": [
    "#### Bias, dark, and flat frames\n",
    "\n",
    "Retrieve a bias, dark and flat from the newly-created calib collection, and print their bounding box and mean/median/stdev pixel values to the screen. We will take these quantities as evidence that these are well-formed images."
   ]
  },
  {
   "cell_type": "code",
   "execution_count": 14,
   "id": "9b2c83e1-3038-4bba-b120-d56be52925de",
   "metadata": {
    "execution": {
     "iopub.execute_input": "2025-05-13T22:48:58.968790Z",
     "iopub.status.busy": "2025-05-13T22:48:58.968653Z",
     "iopub.status.idle": "2025-05-13T22:49:01.839247Z",
     "shell.execute_reply": "2025-05-13T22:49:01.838728Z",
     "shell.execute_reply.started": "2025-05-13T22:48:58.968778Z"
    }
   },
   "outputs": [
    {
     "name": "stdout",
     "output_type": "stream",
     "text": [
      "bias@{instrument: 'LATISS', detector: 0} [sc=ExposureF] (run=ci_cpp_bias/20250508T180902Z id=a10b60f1-fc6a-47fc-9cd8-9d8209af0a0d)\n",
      "Image bounding box: \n",
      " (minimum=(0, 0), maximum=(4071, 3999)) \n",
      "\n",
      " bias mean pixel value:  3.2099986 \n",
      " bias median pixel value:  -0.035557225 \n",
      " bias pixel value stdev:  296.44974\n",
      "\n",
      "\n",
      "dark@{instrument: 'LATISS', detector: 0} [sc=ExposureF] (run=ci_cpp_dark/20250508T181519Z id=321c21ee-a2e7-4874-9c9b-abda06ce4ee8)\n",
      "Image bounding box: \n",
      " (minimum=(0, 0), maximum=(4071, 3999)) \n",
      "\n",
      " dark mean pixel value:  1.3993032 \n",
      " dark median pixel value:  0.0052579595 \n",
      " dark pixel value stdev:  144.12141\n",
      "\n",
      "\n",
      "flat@{instrument: 'LATISS', detector: 0, physical_filter: 'RG610~empty', band: 'r'} [sc=ExposureF] (run=ci_cpp_flat/20250508T182205Z id=e765176b-2148-4f74-becb-f6578fc904ec)\n",
      "Image bounding box: \n",
      " (minimum=(0, 0), maximum=(4071, 3999)) \n",
      "\n",
      " flat mean pixel value:  0.9993354 \n",
      " flat median pixel value:  0.9994129 \n",
      " flat pixel value stdev:  0.018624557\n",
      "\n",
      "\n"
     ]
    }
   ],
   "source": [
    "calib_img_types = ['bias', 'dark', 'flat']\n",
    "\n",
    "for imtype in calib_img_types:\n",
    "    imrefs = butler.query_datasets(f\"{imtype}\", collections=f\"ci_cpp_{imtype}\")\n",
    "    print(imrefs[0])\n",
    "    img = butler.get(imrefs[0])\n",
    "    print(\"Image bounding box: \\n\", img.getBBox(), \"\\n\")\n",
    "    print(f\" {imtype} mean pixel value: \", np.mean(img.getImage().array), \"\\n\",\n",
    "          f\"{imtype} median pixel value: \", np.median(img.getImage().array), \"\\n\",\n",
    "          f\"{imtype} pixel value stdev: \", np.std(img.getImage().array))\n",
    "    print(\"\\n\")"
   ]
  },
  {
   "cell_type": "markdown",
   "id": "d7dbe402-1765-499c-9332-11c0ef0dcfca",
   "metadata": {},
   "source": [
    "## Results\n",
    "\n",
    "We have confirmed that running `ci_cpp` has produced the expected datasets, and by inspecting a few of them, have confirmed that they are well-formed datasets with the expected characteristics. The results of this test is a **Pass**."
   ]
  },
  {
   "cell_type": "code",
   "execution_count": null,
   "id": "ed33463e-bdb9-4dab-a812-9ff58ce6deae",
   "metadata": {},
   "outputs": [],
   "source": []
  }
 ],
 "metadata": {
  "kernelspec": {
   "display_name": "LSST",
   "language": "python",
   "name": "lsst"
  },
  "language_info": {
   "codemirror_mode": {
    "name": "ipython",
    "version": 3
   },
   "file_extension": ".py",
   "mimetype": "text/x-python",
   "name": "python",
   "nbconvert_exporter": "python",
   "pygments_lexer": "ipython3",
   "version": "3.12.10"
  }
 },
 "nbformat": 4,
 "nbformat_minor": 5
}
