{
 "cells": [
  {
   "cell_type": "markdown",
   "id": "63f21fc5-5c45-4fe8-b054-267b2ad55da5",
   "metadata": {},
   "source": [
    "### Test case LVV-T48: Verify implementation of Exposure Catalog\n",
    "\n",
    "Verify that the DMS has created an Exposure Catalog containing information for each exposure that includes the exposure date/time and duration, properties of the filter used, dome and telescope pointing and orientation, status of calibration apparatus, airmass and zenith distance, telescope and dome status, environmental information, and information regarding each sensor including an ID, its location in the focal plane, electronic configuration, and WCS."
   ]
  },
  {
   "cell_type": "markdown",
   "id": "c9e2e7db-c4c3-46ec-b435-bb4e73291436",
   "metadata": {},
   "source": [
    "#### Discussion:\n",
    "\n",
    "This can be verified using the \"ConsDB\" (Consolidated database), which is a transformed version of telemetry from the Engineering Facilities Database (EFD), with additional tables and their columns populated by quantities derived from images immediately after they are obtained.\n",
    "\n",
    "In particular, this test will use on-sky data and telemetry from ComCam observing in late 2024."
   ]
  },
  {
   "cell_type": "code",
   "execution_count": 1,
   "id": "0d755ef5-7187-4d23-b73d-6eae17743e67",
   "metadata": {
    "execution": {
     "iopub.execute_input": "2025-02-28T01:12:22.734562Z",
     "iopub.status.busy": "2025-02-28T01:12:22.734437Z",
     "iopub.status.idle": "2025-02-28T01:12:22.736700Z",
     "shell.execute_reply": "2025-02-28T01:12:22.736328Z",
     "shell.execute_reply.started": "2025-02-28T01:12:22.734549Z"
    }
   },
   "outputs": [],
   "source": [
    "# Parameters to select a single observation date and the ComCam instrument:\n",
    "day_obs = \"2024-12-05\"\n",
    "instrument = \"lsstcomcam\""
   ]
  },
  {
   "cell_type": "markdown",
   "id": "d7dd7fab-fad9-4691-8490-a128b25a74ad",
   "metadata": {},
   "source": [
    "Import packages, and set some variables for authentication to ConsDB:"
   ]
  },
  {
   "cell_type": "code",
   "execution_count": 2,
   "id": "0be85804-bb57-435b-8ebd-078bc518812b",
   "metadata": {
    "execution": {
     "iopub.execute_input": "2025-02-28T01:12:22.737295Z",
     "iopub.status.busy": "2025-02-28T01:12:22.737168Z",
     "iopub.status.idle": "2025-02-28T01:12:43.188028Z",
     "shell.execute_reply": "2025-02-28T01:12:43.187567Z",
     "shell.execute_reply.started": "2025-02-28T01:12:22.737283Z"
    }
   },
   "outputs": [],
   "source": [
    "import os\n",
    "import numpy as np\n",
    "import pandas as pd\n",
    "import requests\n",
    "from IPython.display import Markdown, display, display_markdown\n",
    "from lsst.summit.utils import ConsDbClient\n",
    "from astropy.table import Table\n",
    "\n",
    "URL = \"http://consdb-pq.consdb:8080/consdb\"\n",
    "\n",
    "os.environ[\"no_proxy\"] += \",.consdb\"\n",
    "\n",
    "access_token = os.getenv(\"ACCESS_TOKEN\")\n",
    "headers = {\"Authorization\": f\"Bearer {access_token}\"}\n",
    "\n",
    "%matplotlib inline"
   ]
  },
  {
   "cell_type": "markdown",
   "id": "851a43bc-3069-43bc-9de6-8044214c14bd",
   "metadata": {},
   "source": [
    "Authenticate to and access the ConsDB:"
   ]
  },
  {
   "cell_type": "code",
   "execution_count": 3,
   "id": "fc3ab236-6699-414d-9290-e79a41be921a",
   "metadata": {
    "execution": {
     "iopub.execute_input": "2025-02-28T01:12:43.188946Z",
     "iopub.status.busy": "2025-02-28T01:12:43.188500Z",
     "iopub.status.idle": "2025-02-28T01:12:43.191876Z",
     "shell.execute_reply": "2025-02-28T01:12:43.191561Z",
     "shell.execute_reply.started": "2025-02-28T01:12:43.188932Z"
    }
   },
   "outputs": [
    {
     "name": "stdout",
     "output_type": "stream",
     "text": [
      "<lsst.summit.utils.consdbClient.ConsDbClient object at 0x7f4395bb5c10>\n"
     ]
    },
    {
     "data": {
      "text/markdown": [
       "### Consolidated Database is accessible"
      ]
     },
     "metadata": {},
     "output_type": "display_data"
    }
   ],
   "source": [
    "client = ConsDbClient(URL)\n",
    "print(client)\n",
    "\n",
    "display_markdown(\"### Consolidated Database is accessible\", raw=True)"
   ]
  },
  {
   "cell_type": "markdown",
   "id": "d43811a2-d210-4caf-b493-2f6ca4bda9d8",
   "metadata": {},
   "source": [
    "Query the ConsDB over a range of a few days"
   ]
  },
  {
   "cell_type": "code",
   "execution_count": 4,
   "id": "77b3109c-7473-43ac-8527-dd618bf8cebd",
   "metadata": {
    "execution": {
     "iopub.execute_input": "2025-02-28T01:12:43.192373Z",
     "iopub.status.busy": "2025-02-28T01:12:43.192252Z",
     "iopub.status.idle": "2025-02-28T01:12:43.303312Z",
     "shell.execute_reply": "2025-02-28T01:12:43.302853Z",
     "shell.execute_reply.started": "2025-02-28T01:12:43.192362Z"
    }
   },
   "outputs": [
    {
     "name": "stdout",
     "output_type": "stream",
     "text": [
      "Date: 20241205\n",
      "\n",
      "list of instruments in client.schema:\n",
      "['latiss', 'lsstcam', 'lsstcamsim', 'lsstcomcam', 'lsstcomcamsim', 'startrackerfast', 'startrackernarrow', 'startrackerwide']\n",
      "\n",
      "Tables in client.schema(\"lsstcomcam\"):\n",
      "['cdb_lsstcomcam.exposure', 'cdb_lsstcomcam.ccdexposure', 'cdb_lsstcomcam.ccdexposure_flexdata', 'cdb_lsstcomcam.ccdexposure_flexdata_schema', 'cdb_lsstcomcam.ccdexposure_camera', 'cdb_lsstcomcam.exposure_quicklook', 'cdb_lsstcomcam.exposure_flexdata', 'cdb_lsstcomcam.exposure_flexdata_schema', 'cdb_lsstcomcam.ccdexposure_quicklook', 'cdb_lsstcomcam.ccdvisit1_quicklook', 'cdb_lsstcomcam.visit1_quicklook']\n",
      "\n",
      "Retrieved 741 visits from consdb\n",
      "205 of these are object images\n"
     ]
    }
   ],
   "source": [
    "day_obs_int = int(day_obs.replace(\"-\", \"\"))\n",
    "print(f'Date: {day_obs_int}')\n",
    "\n",
    "# Query the visit table\n",
    "visit_query1 = f\"\"\"\n",
    "    SELECT * FROM cdb_{instrument}.visit1\n",
    "    where day_obs <= {day_obs_int} AND day_obs > {day_obs_int-3}\n",
    "\"\"\"\n",
    "\n",
    "# Print some schema information\n",
    "try:\n",
    "    print('\\nlist of instruments in client.schema:')\n",
    "    print(client.schema())  # list the instruments\n",
    "    print('\\nTables in client.schema(\"lsstcomcam\"):')\n",
    "    print(client.schema(\"lsstcomcam\"))  # list tables for an instrument\n",
    "except requests.HTTPError or requests.JSONDecodeError:\n",
    "    print(client.schema())  # list the instruments\n",
    "    print(client.schema(\"lsstcomcam\"))  # list tables for an instrument\n",
    "\n",
    "# Execute the query:\n",
    "try:\n",
    "    visits_comcam = client.query(visit_query1).to_pandas()\n",
    "except requests.HTTPError or requests.JSONDecodeError:\n",
    "    # Try twice\n",
    "    visits_comcam = client.query(visit_query1).to_pandas()\n",
    "\n",
    "# Print some stats to the screen:\n",
    "if len(visits_comcam) > 0:\n",
    "    print(f\"\\nRetrieved {len(visits_comcam)} visits from consdb\")\n",
    "    obj_vis = len(visits_comcam.query('img_type == \"OBJECT\"'))\n",
    "    print(f\"{obj_vis} of these are object images\")\n"
   ]
  },
  {
   "cell_type": "markdown",
   "id": "c82e4e22-843e-4c64-9735-a7bec4300d81",
   "metadata": {
    "execution": {
     "iopub.execute_input": "2025-02-27T02:21:35.825924Z",
     "iopub.status.busy": "2025-02-27T02:21:35.825725Z",
     "iopub.status.idle": "2025-02-27T02:21:35.828095Z",
     "shell.execute_reply": "2025-02-27T02:21:35.827801Z",
     "shell.execute_reply.started": "2025-02-27T02:21:35.825910Z"
    }
   },
   "source": [
    "#### Print the list of columns in this table:"
   ]
  },
  {
   "cell_type": "code",
   "execution_count": 5,
   "id": "9e40208d-5897-4984-94b6-c5a478e88fa0",
   "metadata": {
    "execution": {
     "iopub.execute_input": "2025-02-28T01:12:43.303932Z",
     "iopub.status.busy": "2025-02-28T01:12:43.303791Z",
     "iopub.status.idle": "2025-02-28T01:12:43.306313Z",
     "shell.execute_reply": "2025-02-28T01:12:43.305980Z",
     "shell.execute_reply.started": "2025-02-28T01:12:43.303918Z"
    }
   },
   "outputs": [
    {
     "name": "stdout",
     "output_type": "stream",
     "text": [
      "['visit_id', 'exposure_name', 'controller', 'day_obs', 'seq_num', 'physical_filter', 'band', 's_ra', 's_dec', 'sky_rotation', 'azimuth_start', 'azimuth_end', 'azimuth', 'altitude_start', 'altitude_end', 'altitude', 'zenith_distance_start', 'zenith_distance_end', 'zenith_distance', 'airmass', 'exp_midpt', 'exp_midpt_mjd', 'obs_start', 'obs_start_mjd', 'obs_end', 'obs_end_mjd', 'exp_time', 'shut_time', 'dark_time', 'group_id', 'cur_index', 'max_index', 'img_type', 'emulated', 'science_program', 'observation_reason', 'target_name', 'air_temp', 'pressure', 'humidity', 'wind_speed', 'wind_dir', 'dimm_seeing', 'focus_z', 'simulated', 's_region']\n"
     ]
    }
   ],
   "source": [
    "cols = [col for col in visits_comcam.columns]\n",
    "print(cols)"
   ]
  },
  {
   "cell_type": "markdown",
   "id": "76ce2206-8cfb-4cf7-bc67-2933a22a7bad",
   "metadata": {},
   "source": [
    "#### Display statistics related to the date/time and duration of the observation, and the filter:"
   ]
  },
  {
   "cell_type": "code",
   "execution_count": 6,
   "id": "5ffbbed5-daeb-42e9-b2ed-03f8bdf2f9d1",
   "metadata": {
    "execution": {
     "iopub.execute_input": "2025-02-28T01:12:43.306831Z",
     "iopub.status.busy": "2025-02-28T01:12:43.306705Z",
     "iopub.status.idle": "2025-02-28T01:12:43.314864Z",
     "shell.execute_reply": "2025-02-28T01:12:43.314543Z",
     "shell.execute_reply.started": "2025-02-28T01:12:43.306819Z"
    }
   },
   "outputs": [
    {
     "data": {
      "text/html": [
       "<div><i>Table length=6</i>\n",
       "<table id=\"table139928249244592\" class=\"table-striped table-bordered table-condensed\">\n",
       "<thead><tr><th>day_obs</th><th>obs_start</th><th>obs_end</th><th>exp_time</th><th>shut_time</th><th>dark_time</th><th>physical_filter</th><th>band</th></tr></thead>\n",
       "<thead><tr><th>int64</th><th>object</th><th>object</th><th>float64</th><th>float64</th><th>float64</th><th>object</th><th>object</th></tr></thead>\n",
       "<tr><td>20241203</td><td>2024-12-03T19:25:10.904000</td><td>2024-12-03T19:25:10.915000</td><td>0.0</td><td>0.0</td><td>0.010877609252929688</td><td>r_03</td><td>r</td></tr>\n",
       "<tr><td>20241203</td><td>2024-12-03T19:25:13.423000</td><td>2024-12-03T19:25:13.431000</td><td>0.0</td><td>0.0</td><td>0.0076389312744140625</td><td>r_03</td><td>r</td></tr>\n",
       "<tr><td>20241203</td><td>2024-12-03T19:25:15.939000</td><td>2024-12-03T19:25:15.948000</td><td>0.0</td><td>0.0</td><td>0.008339166641235352</td><td>r_03</td><td>r</td></tr>\n",
       "<tr><td>20241203</td><td>2024-12-03T19:25:18.453000</td><td>2024-12-03T19:25:18.461000</td><td>0.0</td><td>0.0</td><td>0.008323431015014648</td><td>r_03</td><td>r</td></tr>\n",
       "<tr><td>20241203</td><td>2024-12-03T19:25:20.967000</td><td>2024-12-03T19:25:20.975000</td><td>0.0</td><td>0.0</td><td>0.008099555969238281</td><td>r_03</td><td>r</td></tr>\n",
       "<tr><td>20241203</td><td>2024-12-03T19:25:23.471000</td><td>2024-12-03T19:25:23.477000</td><td>0.0</td><td>0.0</td><td>0.006214141845703125</td><td>r_03</td><td>r</td></tr>\n",
       "</table></div>"
      ],
      "text/plain": [
       "<Table length=6>\n",
       "day_obs          obs_start          ... physical_filter  band \n",
       " int64             object           ...      object     object\n",
       "-------- -------------------------- ... --------------- ------\n",
       "20241203 2024-12-03T19:25:10.904000 ...            r_03      r\n",
       "20241203 2024-12-03T19:25:13.423000 ...            r_03      r\n",
       "20241203 2024-12-03T19:25:15.939000 ...            r_03      r\n",
       "20241203 2024-12-03T19:25:18.453000 ...            r_03      r\n",
       "20241203 2024-12-03T19:25:20.967000 ...            r_03      r\n",
       "20241203 2024-12-03T19:25:23.471000 ...            r_03      r"
      ]
     },
     "execution_count": 6,
     "metadata": {},
     "output_type": "execute_result"
    }
   ],
   "source": [
    "obs_columns = ['day_obs', 'obs_start', 'obs_end', 'exp_time', 'shut_time',\n",
    "               'dark_time', 'physical_filter', 'band']\n",
    "\n",
    "obs_dict = {}\n",
    "\n",
    "for col in obs_columns:\n",
    "    obs_dict[col] = visits_comcam.loc[:5][col].values\n",
    "\n",
    "tab = Table(obs_dict)\n",
    "tab"
   ]
  },
  {
   "cell_type": "markdown",
   "id": "00d2e4db-8ecb-43eb-81c5-848709bbdd68",
   "metadata": {},
   "source": [
    "#### Display quantities related the dome and telescope pointing and orientation:"
   ]
  },
  {
   "cell_type": "code",
   "execution_count": 7,
   "id": "bb573ace-89ab-4333-970b-d8214780d0ce",
   "metadata": {
    "execution": {
     "iopub.execute_input": "2025-02-28T01:12:43.315395Z",
     "iopub.status.busy": "2025-02-28T01:12:43.315274Z",
     "iopub.status.idle": "2025-02-28T01:12:43.322861Z",
     "shell.execute_reply": "2025-02-28T01:12:43.322549Z",
     "shell.execute_reply.started": "2025-02-28T01:12:43.315385Z"
    }
   },
   "outputs": [
    {
     "data": {
      "text/html": [
       "<div><i>Table length=6</i>\n",
       "<table id=\"table139928289642736\" class=\"table-striped table-bordered table-condensed\">\n",
       "<thead><tr><th>sky_rotation</th><th>azimuth_start</th><th>azimuth_end</th><th>azimuth</th><th>altitude_start</th><th>altitude_end</th><th>altitude</th></tr></thead>\n",
       "<thead><tr><th>float64</th><th>float64</th><th>float64</th><th>float64</th><th>float64</th><th>float64</th><th>float64</th></tr></thead>\n",
       "<tr><td>318.2895316809333</td><td>146.286535356456</td><td>146.286535005341</td><td>146.2865351808985</td><td>17.442606373840306</td><td>17.442606627817696</td><td>17.442606500829</td></tr>\n",
       "<tr><td>318.28949682118935</td><td>146.286535251563</td><td>146.286535073797</td><td>146.28653516268002</td><td>17.442606262725207</td><td>17.442606537867405</td><td>17.442606400296306</td></tr>\n",
       "<tr><td>318.28945924115163</td><td>146.286535317811</td><td>146.286535136733</td><td>146.286535227272</td><td>17.4426063129916</td><td>17.442607114607696</td><td>17.44260671379965</td></tr>\n",
       "<tr><td>318.28942620960134</td><td>146.286535010861</td><td>146.286535027423</td><td>146.286535019142</td><td>17.442606918833505</td><td>17.442606429397898</td><td>17.4426066741157</td></tr>\n",
       "<tr><td>318.28944324957286</td><td>146.286535037361</td><td>146.286534946822</td><td>146.2865349920915</td><td>17.442606701894405</td><td>17.4426065881337</td><td>17.442606645014052</td></tr>\n",
       "<tr><td>318.2894098041192</td><td>146.286535167649</td><td>146.286534858491</td><td>146.28653501307</td><td>17.442606244206004</td><td>17.442607008783796</td><td>17.4426066264949</td></tr>\n",
       "</table></div>"
      ],
      "text/plain": [
       "<Table length=6>\n",
       "   sky_rotation     azimuth_start   ...    altitude_end         altitude     \n",
       "     float64           float64      ...      float64            float64      \n",
       "------------------ ---------------- ... ------------------ ------------------\n",
       " 318.2895316809333 146.286535356456 ... 17.442606627817696    17.442606500829\n",
       "318.28949682118935 146.286535251563 ... 17.442606537867405 17.442606400296306\n",
       "318.28945924115163 146.286535317811 ... 17.442607114607696  17.44260671379965\n",
       "318.28942620960134 146.286535010861 ... 17.442606429397898   17.4426066741157\n",
       "318.28944324957286 146.286535037361 ...   17.4426065881337 17.442606645014052\n",
       " 318.2894098041192 146.286535167649 ... 17.442607008783796   17.4426066264949"
      ]
     },
     "execution_count": 7,
     "metadata": {},
     "output_type": "execute_result"
    }
   ],
   "source": [
    "tel_columns = ['sky_rotation', 'azimuth_start', 'azimuth_end', 'azimuth',\n",
    "               'altitude_start', 'altitude_end', 'altitude']\n",
    "\n",
    "tel_dict = {}\n",
    "\n",
    "for col in tel_columns:\n",
    "    tel_dict[col] = visits_comcam.loc[:5][col].values\n",
    "\n",
    "tab = Table(tel_dict)\n",
    "tab"
   ]
  },
  {
   "cell_type": "markdown",
   "id": "48d0fd92-a513-4dd3-acfc-8777d10566f5",
   "metadata": {},
   "source": [
    "#### Display quantities related to the airmass, zenith distance, and environmental conditions of observations:"
   ]
  },
  {
   "cell_type": "code",
   "execution_count": 8,
   "id": "078c4b08-a73b-42e3-9890-3b741e64a0b1",
   "metadata": {
    "execution": {
     "iopub.execute_input": "2025-02-28T01:12:43.323354Z",
     "iopub.status.busy": "2025-02-28T01:12:43.323233Z",
     "iopub.status.idle": "2025-02-28T01:12:43.330276Z",
     "shell.execute_reply": "2025-02-28T01:12:43.329959Z",
     "shell.execute_reply.started": "2025-02-28T01:12:43.323343Z"
    }
   },
   "outputs": [
    {
     "data": {
      "text/html": [
       "<div><i>Table length=6</i>\n",
       "<table id=\"table139928984367328\" class=\"table-striped table-bordered table-condensed\">\n",
       "<thead><tr><th>zenith_distance_start</th><th>zenith_distance_end</th><th>zenith_distance</th><th>airmass</th></tr></thead>\n",
       "<thead><tr><th>float64</th><th>float64</th><th>float64</th><th>object</th></tr></thead>\n",
       "<tr><td>72.5573936261597</td><td>72.5573933721823</td><td>72.557393499171</td><td>None</td></tr>\n",
       "<tr><td>72.5573937372748</td><td>72.5573934621326</td><td>72.55739359970369</td><td>None</td></tr>\n",
       "<tr><td>72.5573936870084</td><td>72.5573928853923</td><td>72.55739328620035</td><td>None</td></tr>\n",
       "<tr><td>72.5573930811665</td><td>72.5573935706021</td><td>72.5573933258843</td><td>None</td></tr>\n",
       "<tr><td>72.5573932981056</td><td>72.5573934118663</td><td>72.55739335498595</td><td>None</td></tr>\n",
       "<tr><td>72.557393755794</td><td>72.5573929912162</td><td>72.5573933735051</td><td>None</td></tr>\n",
       "</table></div>"
      ],
      "text/plain": [
       "<Table length=6>\n",
       "zenith_distance_start zenith_distance_end  zenith_distance  airmass\n",
       "       float64              float64            float64       object\n",
       "--------------------- ------------------- ----------------- -------\n",
       "     72.5573936261597    72.5573933721823   72.557393499171    None\n",
       "     72.5573937372748    72.5573934621326 72.55739359970369    None\n",
       "     72.5573936870084    72.5573928853923 72.55739328620035    None\n",
       "     72.5573930811665    72.5573935706021  72.5573933258843    None\n",
       "     72.5573932981056    72.5573934118663 72.55739335498595    None\n",
       "      72.557393755794    72.5573929912162  72.5573933735051    None"
      ]
     },
     "execution_count": 8,
     "metadata": {},
     "output_type": "execute_result"
    }
   ],
   "source": [
    "env_columns1 = ['zenith_distance_start', 'zenith_distance_end', 'zenith_distance', 'airmass']\n",
    "\n",
    "env_dict1 = {}\n",
    "\n",
    "for col in env_columns1:\n",
    "    env_dict1[col] = visits_comcam.loc[:5][col].values\n",
    "\n",
    "tab = Table(env_dict1)\n",
    "tab"
   ]
  },
  {
   "cell_type": "code",
   "execution_count": 9,
   "id": "dfed809e-9405-467b-a49b-d4bb76b78d80",
   "metadata": {
    "execution": {
     "iopub.execute_input": "2025-02-28T01:12:43.330805Z",
     "iopub.status.busy": "2025-02-28T01:12:43.330680Z",
     "iopub.status.idle": "2025-02-28T01:12:43.337756Z",
     "shell.execute_reply": "2025-02-28T01:12:43.337433Z",
     "shell.execute_reply.started": "2025-02-28T01:12:43.330794Z"
    }
   },
   "outputs": [
    {
     "data": {
      "text/html": [
       "<div><i>Table length=6</i>\n",
       "<table id=\"table139928289642976\" class=\"table-striped table-bordered table-condensed\">\n",
       "<thead><tr><th>air_temp</th><th>pressure</th><th>humidity</th><th>wind_speed</th><th>wind_dir</th><th>dimm_seeing</th><th>focus_z</th></tr></thead>\n",
       "<thead><tr><th>float64</th><th>float64</th><th>float64</th><th>float64</th><th>float64</th><th>object</th><th>float64</th></tr></thead>\n",
       "<tr><td>11.524999618530273</td><td>74135.0</td><td>20.049999237060547</td><td>9.340800285339355</td><td>5.545157432556152</td><td>None</td><td>0.0</td></tr>\n",
       "<tr><td>11.524999618530273</td><td>74135.0</td><td>20.049999237060547</td><td>8.923800468444824</td><td>9.194999694824219</td><td>None</td><td>0.0</td></tr>\n",
       "<tr><td>11.649999618530273</td><td>74135.0</td><td>19.975000381469727</td><td>9.590999603271484</td><td>7.809922218322754</td><td>None</td><td>0.0</td></tr>\n",
       "<tr><td>11.800000190734863</td><td>74135.0</td><td>19.862499237060547</td><td>8.423399925231934</td><td>5.679305553436279</td><td>None</td><td>0.0</td></tr>\n",
       "<tr><td>11.800000190734863</td><td>74135.0</td><td>19.862499237060547</td><td>8.089799880981445</td><td>11.250134468078613</td><td>None</td><td>0.0</td></tr>\n",
       "<tr><td>11.899999618530273</td><td>74135.0</td><td>19.725000381469727</td><td>7.422599792480469</td><td>10.949991226196289</td><td>None</td><td>0.0</td></tr>\n",
       "</table></div>"
      ],
      "text/plain": [
       "<Table length=6>\n",
       "     air_temp      pressure      humidity      ... dimm_seeing focus_z\n",
       "     float64       float64       float64       ...    object   float64\n",
       "------------------ -------- ------------------ ... ----------- -------\n",
       "11.524999618530273  74135.0 20.049999237060547 ...        None     0.0\n",
       "11.524999618530273  74135.0 20.049999237060547 ...        None     0.0\n",
       "11.649999618530273  74135.0 19.975000381469727 ...        None     0.0\n",
       "11.800000190734863  74135.0 19.862499237060547 ...        None     0.0\n",
       "11.800000190734863  74135.0 19.862499237060547 ...        None     0.0\n",
       "11.899999618530273  74135.0 19.725000381469727 ...        None     0.0"
      ]
     },
     "execution_count": 9,
     "metadata": {},
     "output_type": "execute_result"
    }
   ],
   "source": [
    "env_columns2 = ['air_temp', 'pressure', 'humidity', 'wind_speed', 'wind_dir', 'dimm_seeing', 'focus_z']\n",
    "\n",
    "env_dict2 = {}\n",
    "\n",
    "for col in env_columns2:\n",
    "    env_dict2[col] = visits_comcam.loc[:5][col].values\n",
    "\n",
    "tab = Table(env_dict2)\n",
    "tab"
   ]
  },
  {
   "cell_type": "code",
   "execution_count": 10,
   "id": "ac01bf7e-387e-4077-9bdf-16e7b6856034",
   "metadata": {
    "execution": {
     "iopub.execute_input": "2025-02-28T01:12:43.338254Z",
     "iopub.status.busy": "2025-02-28T01:12:43.338133Z",
     "iopub.status.idle": "2025-02-28T01:12:43.502180Z",
     "shell.execute_reply": "2025-02-28T01:12:43.501764Z",
     "shell.execute_reply.started": "2025-02-28T01:12:43.338244Z"
    }
   },
   "outputs": [],
   "source": [
    "# Query the ccdexposure table\n",
    "ccdexp_query = f\"\"\"\n",
    "    SELECT * FROM cdb_{instrument}.ccdexposure\n",
    "    where day_obs <= {day_obs_int} AND day_obs > {day_obs_int-3}\n",
    "\"\"\"\n",
    "\n",
    "# Execute the query:\n",
    "try:\n",
    "    ccdexp_comcam = client.query(ccdexp_query).to_pandas()\n",
    "except requests.HTTPError or requests.JSONDecodeError:\n",
    "    # Try twice\n",
    "    ccdexp_comcam = client.query(visit_query).to_pandas()\n"
   ]
  },
  {
   "cell_type": "code",
   "execution_count": 11,
   "id": "05bea81c-2871-4c2a-bda0-f82f40a4f8b0",
   "metadata": {
    "execution": {
     "iopub.execute_input": "2025-02-28T01:12:43.502844Z",
     "iopub.status.busy": "2025-02-28T01:12:43.502710Z",
     "iopub.status.idle": "2025-02-28T01:12:43.509497Z",
     "shell.execute_reply": "2025-02-28T01:12:43.509171Z",
     "shell.execute_reply.started": "2025-02-28T01:12:43.502832Z"
    }
   },
   "outputs": [
    {
     "data": {
      "text/html": [
       "<div>\n",
       "<style scoped>\n",
       "    .dataframe tbody tr th:only-of-type {\n",
       "        vertical-align: middle;\n",
       "    }\n",
       "\n",
       "    .dataframe tbody tr th {\n",
       "        vertical-align: top;\n",
       "    }\n",
       "\n",
       "    .dataframe thead th {\n",
       "        text-align: right;\n",
       "    }\n",
       "</style>\n",
       "<table border=\"1\" class=\"dataframe\">\n",
       "  <thead>\n",
       "    <tr style=\"text-align: right;\">\n",
       "      <th></th>\n",
       "      <th>ccdexposure_id</th>\n",
       "      <th>exposure_id</th>\n",
       "      <th>detector</th>\n",
       "      <th>s_region</th>\n",
       "      <th>day_obs</th>\n",
       "      <th>seq_num</th>\n",
       "    </tr>\n",
       "  </thead>\n",
       "  <tbody>\n",
       "    <tr>\n",
       "      <th>0</th>\n",
       "      <td>45717913856</td>\n",
       "      <td>2024120300001</td>\n",
       "      <td>0</td>\n",
       "      <td>None</td>\n",
       "      <td>20241203</td>\n",
       "      <td>1</td>\n",
       "    </tr>\n",
       "    <tr>\n",
       "      <th>1</th>\n",
       "      <td>45717913857</td>\n",
       "      <td>2024120300001</td>\n",
       "      <td>1</td>\n",
       "      <td>None</td>\n",
       "      <td>20241203</td>\n",
       "      <td>1</td>\n",
       "    </tr>\n",
       "    <tr>\n",
       "      <th>2</th>\n",
       "      <td>45717913858</td>\n",
       "      <td>2024120300001</td>\n",
       "      <td>2</td>\n",
       "      <td>None</td>\n",
       "      <td>20241203</td>\n",
       "      <td>1</td>\n",
       "    </tr>\n",
       "    <tr>\n",
       "      <th>3</th>\n",
       "      <td>45717913859</td>\n",
       "      <td>2024120300001</td>\n",
       "      <td>3</td>\n",
       "      <td>None</td>\n",
       "      <td>20241203</td>\n",
       "      <td>1</td>\n",
       "    </tr>\n",
       "    <tr>\n",
       "      <th>4</th>\n",
       "      <td>45717913860</td>\n",
       "      <td>2024120300001</td>\n",
       "      <td>4</td>\n",
       "      <td>None</td>\n",
       "      <td>20241203</td>\n",
       "      <td>1</td>\n",
       "    </tr>\n",
       "    <tr>\n",
       "      <th>...</th>\n",
       "      <td>...</td>\n",
       "      <td>...</td>\n",
       "      <td>...</td>\n",
       "      <td>...</td>\n",
       "      <td>...</td>\n",
       "      <td>...</td>\n",
       "    </tr>\n",
       "    <tr>\n",
       "      <th>6664</th>\n",
       "      <td>45734769668</td>\n",
       "      <td>2024120500308</td>\n",
       "      <td>4</td>\n",
       "      <td>None</td>\n",
       "      <td>20241205</td>\n",
       "      <td>308</td>\n",
       "    </tr>\n",
       "    <tr>\n",
       "      <th>6665</th>\n",
       "      <td>45734769669</td>\n",
       "      <td>2024120500308</td>\n",
       "      <td>5</td>\n",
       "      <td>None</td>\n",
       "      <td>20241205</td>\n",
       "      <td>308</td>\n",
       "    </tr>\n",
       "    <tr>\n",
       "      <th>6666</th>\n",
       "      <td>45734769670</td>\n",
       "      <td>2024120500308</td>\n",
       "      <td>6</td>\n",
       "      <td>None</td>\n",
       "      <td>20241205</td>\n",
       "      <td>308</td>\n",
       "    </tr>\n",
       "    <tr>\n",
       "      <th>6667</th>\n",
       "      <td>45734769671</td>\n",
       "      <td>2024120500308</td>\n",
       "      <td>7</td>\n",
       "      <td>None</td>\n",
       "      <td>20241205</td>\n",
       "      <td>308</td>\n",
       "    </tr>\n",
       "    <tr>\n",
       "      <th>6668</th>\n",
       "      <td>45734769672</td>\n",
       "      <td>2024120500308</td>\n",
       "      <td>8</td>\n",
       "      <td>None</td>\n",
       "      <td>20241205</td>\n",
       "      <td>308</td>\n",
       "    </tr>\n",
       "  </tbody>\n",
       "</table>\n",
       "<p>6669 rows × 6 columns</p>\n",
       "</div>"
      ],
      "text/plain": [
       "      ccdexposure_id    exposure_id  detector s_region   day_obs  seq_num\n",
       "0        45717913856  2024120300001         0     None  20241203        1\n",
       "1        45717913857  2024120300001         1     None  20241203        1\n",
       "2        45717913858  2024120300001         2     None  20241203        1\n",
       "3        45717913859  2024120300001         3     None  20241203        1\n",
       "4        45717913860  2024120300001         4     None  20241203        1\n",
       "...              ...            ...       ...      ...       ...      ...\n",
       "6664     45734769668  2024120500308         4     None  20241205      308\n",
       "6665     45734769669  2024120500308         5     None  20241205      308\n",
       "6666     45734769670  2024120500308         6     None  20241205      308\n",
       "6667     45734769671  2024120500308         7     None  20241205      308\n",
       "6668     45734769672  2024120500308         8     None  20241205      308\n",
       "\n",
       "[6669 rows x 6 columns]"
      ]
     },
     "execution_count": 11,
     "metadata": {},
     "output_type": "execute_result"
    }
   ],
   "source": [
    "ccdexp_comcam"
   ]
  },
  {
   "cell_type": "markdown",
   "id": "115e8a68-8023-4619-9606-ed5134ce3bfa",
   "metadata": {},
   "source": [
    "## Results\n",
    "\n",
    "We see that the ConsDB contains information taken directly from image headers, transformed data from the EFD, and derived data based on image processing. As required, these data include information about each exposure, include the telescope and instrument configuration, telemetry from the telescope, environmental and pointing information, and details about the camera.\n",
    "\n",
    "In some examples shown above, columns that exist in the database are not yet populated. Nonetheless, this test is deemed to *PASS* because we have demonstrated the existence of a database (ConsDB) keyed on day_obs, which can take inputs from a variety of sources, all of which can be configured."
   ]
  },
  {
   "cell_type": "code",
   "execution_count": null,
   "id": "9aec617d-a210-4d71-b39d-617a1137a2c8",
   "metadata": {},
   "outputs": [],
   "source": []
  }
 ],
 "metadata": {
  "kernelspec": {
   "display_name": "LSST",
   "language": "python",
   "name": "lsst"
  },
  "language_info": {
   "codemirror_mode": {
    "name": "ipython",
    "version": 3
   },
   "file_extension": ".py",
   "mimetype": "text/x-python",
   "name": "python",
   "nbconvert_exporter": "python",
   "pygments_lexer": "ipython3",
   "version": "3.12.9"
  }
 },
 "nbformat": 4,
 "nbformat_minor": 5
}
