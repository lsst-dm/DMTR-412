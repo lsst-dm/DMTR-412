{
 "cells": [
  {
   "cell_type": "markdown",
   "id": "63f21fc5-5c45-4fe8-b054-267b2ad55da5",
   "metadata": {},
   "source": [
    "### Test case LVV-T3155: Verify Engineering and Facility Database Availability\n",
    "\n",
    "Demonstrate Engineering and Facilities Data are available for public access within **L1PublicT (24 hours)**."
   ]
  },
  {
   "cell_type": "markdown",
   "id": "c9e2e7db-c4c3-46ec-b435-bb4e73291436",
   "metadata": {},
   "source": [
    "#### Discussion:\n",
    "\n",
    "This can be verified using the \"ConsDB\" (Consolidated database), which is a transformed version of telemetry from the Engineering Facilities Database (EFD), with additional tables and their columns populated by quantities derived from images immediately after they are obtained.\n",
    "\n",
    "In particular, this test will use data and telemetry from LSSTCam observing in June 2025. All queries will be limited to the current incoming data stream, and will be executed while LSSTCam observing is actively being conducted.\n",
    "\n",
    "#### Look up the current time and print it to the screen:"
   ]
  },
  {
   "cell_type": "code",
   "execution_count": 1,
   "id": "f9e2f5ea-81f8-41ad-8611-56dc38925efc",
   "metadata": {
    "execution": {
     "iopub.execute_input": "2025-06-13T23:18:03.183781Z",
     "iopub.status.busy": "2025-06-13T23:18:03.183660Z",
     "iopub.status.idle": "2025-06-13T23:18:03.186353Z",
     "shell.execute_reply": "2025-06-13T23:18:03.185989Z",
     "shell.execute_reply.started": "2025-06-13T23:18:03.183767Z"
    }
   },
   "outputs": [
    {
     "name": "stdout",
     "output_type": "stream",
     "text": [
      "2025-06-13 23:18:03.184344+00:00\n"
     ]
    }
   ],
   "source": [
    "import datetime\n",
    "\n",
    "# Note that Rubin Observatory reports quantities in TAI, but for\n",
    "#   our present purposes, the 37-second difference between UTC and TAI\n",
    "#   is unimportant.\n",
    "time_now = datetime.datetime.now(datetime.UTC)\n",
    "print(time_now)"
   ]
  },
  {
   "cell_type": "markdown",
   "id": "1a3b658b-576a-47d7-8595-fa47469ed740",
   "metadata": {},
   "source": [
    "The current UTC time is June 13, 2025, so we will select an observing date of June 13, 2025 (the day_obs is the local date in Chile on which the observing night began).\n",
    "\n",
    "> Note that unfortunately the dome is closed on this night due to weather, so there is no on-sky observing. Thus all observations seen here are in-dome calibrations, which may not have the full information that on-sky data contain."
   ]
  },
  {
   "cell_type": "code",
   "execution_count": 2,
   "id": "0d755ef5-7187-4d23-b73d-6eae17743e67",
   "metadata": {
    "execution": {
     "iopub.execute_input": "2025-06-13T23:18:03.188100Z",
     "iopub.status.busy": "2025-06-13T23:18:03.187976Z",
     "iopub.status.idle": "2025-06-13T23:18:03.197822Z",
     "shell.execute_reply": "2025-06-13T23:18:03.197449Z",
     "shell.execute_reply.started": "2025-06-13T23:18:03.188087Z"
    }
   },
   "outputs": [],
   "source": [
    "# Parameters to select a single observation date and the LSSTCam instrument:\n",
    "day_obs = \"2025-06-13\"\n",
    "instrument = \"lsstcam\""
   ]
  },
  {
   "cell_type": "markdown",
   "id": "d7dd7fab-fad9-4691-8490-a128b25a74ad",
   "metadata": {},
   "source": [
    "Import packages, and set some variables for authentication to ConsDB:"
   ]
  },
  {
   "cell_type": "code",
   "execution_count": 3,
   "id": "0be85804-bb57-435b-8ebd-078bc518812b",
   "metadata": {
    "execution": {
     "iopub.execute_input": "2025-06-13T23:18:03.199504Z",
     "iopub.status.busy": "2025-06-13T23:18:03.199385Z",
     "iopub.status.idle": "2025-06-13T23:18:03.872919Z",
     "shell.execute_reply": "2025-06-13T23:18:03.872404Z",
     "shell.execute_reply.started": "2025-06-13T23:18:03.199492Z"
    }
   },
   "outputs": [],
   "source": [
    "import numpy as np\n",
    "import pandas as pd\n",
    "import requests\n",
    "from IPython.display import Markdown, display, display_markdown\n",
    "from astropy.table import Table\n",
    "from lsst.rsp import get_tap_service\n",
    "\n",
    "%matplotlib inline"
   ]
  },
  {
   "cell_type": "markdown",
   "id": "851a43bc-3069-43bc-9de6-8044214c14bd",
   "metadata": {},
   "source": [
    "Authenticate to and access the ConsDB:"
   ]
  },
  {
   "cell_type": "code",
   "execution_count": 4,
   "id": "4f9ca776-67f5-4247-893f-738e3538c3c2",
   "metadata": {
    "execution": {
     "iopub.execute_input": "2025-06-13T23:18:03.873822Z",
     "iopub.status.busy": "2025-06-13T23:18:03.873431Z",
     "iopub.status.idle": "2025-06-13T23:18:03.903247Z",
     "shell.execute_reply": "2025-06-13T23:18:03.902818Z",
     "shell.execute_reply.started": "2025-06-13T23:18:03.873806Z"
    }
   },
   "outputs": [
    {
     "name": "stdout",
     "output_type": "stream",
     "text": [
      "TAPService(baseurl : 'https://usdf-rsp.slac.stanford.edu/api/consdbtap', description : 'None')\n"
     ]
    },
    {
     "data": {
      "text/markdown": [
       "Consolidated Database is accessible"
      ]
     },
     "metadata": {},
     "output_type": "display_data"
    }
   ],
   "source": [
    "cdb = get_tap_service(\"consdbtap\")\n",
    "print(cdb)\n",
    "assert cdb is not None\n",
    "\n",
    "display_markdown(\"Consolidated Database is accessible\", raw=True)"
   ]
  },
  {
   "cell_type": "markdown",
   "id": "d43811a2-d210-4caf-b493-2f6ca4bda9d8",
   "metadata": {},
   "source": [
    "Query the ConsDB for data from today's date"
   ]
  },
  {
   "cell_type": "code",
   "execution_count": 5,
   "id": "77b3109c-7473-43ac-8527-dd618bf8cebd",
   "metadata": {
    "execution": {
     "iopub.execute_input": "2025-06-13T23:18:03.903913Z",
     "iopub.status.busy": "2025-06-13T23:18:03.903766Z",
     "iopub.status.idle": "2025-06-13T23:18:04.012976Z",
     "shell.execute_reply": "2025-06-13T23:18:04.012522Z",
     "shell.execute_reply.started": "2025-06-13T23:18:03.903898Z"
    }
   },
   "outputs": [
    {
     "name": "stdout",
     "output_type": "stream",
     "text": [
      "Date: 20250613\n",
      "\n",
      "Retrieved 133 visits from consdb\n",
      "0 of these are object images\n"
     ]
    }
   ],
   "source": [
    "day_obs_int = int(day_obs.replace(\"-\", \"\"))\n",
    "print(f'Date: {day_obs_int}')\n",
    "\n",
    "# Query the visit table\n",
    "visit_query1 = f\"\"\"\n",
    "    SELECT * FROM cdb_{instrument}.visit1\n",
    "    where day_obs <= {day_obs_int} AND day_obs > {day_obs_int-1}\n",
    "\"\"\"\n",
    "\n",
    "# Execute the query:\n",
    "try:\n",
    "    visits = cdb.search(visit_query1).to_table()\n",
    "except requests.HTTPError or requests.JSONDecodeError:\n",
    "    # Try twice\n",
    "    visits = client.query(visit_query1).to_pandas()\n",
    "\n",
    "# Print some stats to the screen:\n",
    "if len(visits) > 0:\n",
    "    print(f\"\\nRetrieved {len(visits)} visits from consdb\")\n",
    "    obj_vis = len(np.where(visits['img_type'] == \"OBJECT\")[0])\n",
    "    print(f\"{obj_vis} of these are object images\")\n"
   ]
  },
  {
   "cell_type": "markdown",
   "id": "c82e4e22-843e-4c64-9735-a7bec4300d81",
   "metadata": {
    "execution": {
     "iopub.execute_input": "2025-02-27T02:21:35.825924Z",
     "iopub.status.busy": "2025-02-27T02:21:35.825725Z",
     "iopub.status.idle": "2025-02-27T02:21:35.828095Z",
     "shell.execute_reply": "2025-02-27T02:21:35.827801Z",
     "shell.execute_reply.started": "2025-02-27T02:21:35.825910Z"
    }
   },
   "source": [
    "#### Print the list of columns in this table:"
   ]
  },
  {
   "cell_type": "code",
   "execution_count": 6,
   "id": "9e40208d-5897-4984-94b6-c5a478e88fa0",
   "metadata": {
    "execution": {
     "iopub.execute_input": "2025-06-13T23:18:04.013649Z",
     "iopub.status.busy": "2025-06-13T23:18:04.013501Z",
     "iopub.status.idle": "2025-06-13T23:18:04.016321Z",
     "shell.execute_reply": "2025-06-13T23:18:04.015932Z",
     "shell.execute_reply.started": "2025-06-13T23:18:04.013634Z"
    }
   },
   "outputs": [
    {
     "name": "stdout",
     "output_type": "stream",
     "text": [
      "['air_temp', 'airmass', 'altitude', 'altitude_end', 'altitude_start', 'azimuth', 'azimuth_end', 'azimuth_start', 'band', 'can_see_sky', 'controller', 'cur_index', 'dark_time', 'day_obs', 'dimm_seeing', 'emulated', 'exp_midpt', 'exp_midpt_mjd', 'exp_time', 'exposure_name', 'focus_z', 'group_id', 'humidity', 'img_type', 'max_index', 'obs_end', 'obs_end_mjd', 'obs_start', 'obs_start_mjd', 'observation_reason', 'physical_filter', 'pressure', 's_dec', 's_ra', 's_region', 'scheduler_note', 'science_program', 'seq_num', 'shut_time', 'simulated', 'sky_rotation', 'target_name', 'vignette', 'vignette_min', 'visit_id', 'wind_dir', 'wind_speed', 'zenith_distance', 'zenith_distance_end', 'zenith_distance_start']\n"
     ]
    }
   ],
   "source": [
    "cols = [col for col in visits.columns]\n",
    "print(cols)"
   ]
  },
  {
   "cell_type": "markdown",
   "id": "76ce2206-8cfb-4cf7-bc67-2933a22a7bad",
   "metadata": {},
   "source": [
    "#### Display statistics related to the date/time and duration of the observation, and the filter:\n",
    "\n",
    "Note that this is calibration observing, so some columns that may be useful for on-sky observing may not be populated in this particular dataset."
   ]
  },
  {
   "cell_type": "code",
   "execution_count": 7,
   "id": "5ffbbed5-daeb-42e9-b2ed-03f8bdf2f9d1",
   "metadata": {
    "execution": {
     "iopub.execute_input": "2025-06-13T23:18:04.016919Z",
     "iopub.status.busy": "2025-06-13T23:18:04.016785Z",
     "iopub.status.idle": "2025-06-13T23:18:04.064329Z",
     "shell.execute_reply": "2025-06-13T23:18:04.063902Z",
     "shell.execute_reply.started": "2025-06-13T23:18:04.016905Z"
    }
   },
   "outputs": [
    {
     "data": {
      "text/html": [
       "<div><i>Table length=20</i>\n",
       "<table id=\"table140061219252576\" class=\"table-striped table-bordered table-condensed\">\n",
       "<thead><tr><th>visit_id</th><th>day_obs</th><th>obs_start</th><th>obs_end</th><th>img_type</th><th>exp_time</th><th>shut_time</th><th>dark_time</th><th>physical_filter</th><th>band</th></tr></thead>\n",
       "<thead><tr><th></th><th></th><th></th><th></th><th></th><th>s</th><th>s</th><th>s</th><th></th><th></th></tr></thead>\n",
       "<thead><tr><th>int64</th><th>int32</th><th>object</th><th>object</th><th>object</th><th>float32</th><th>float32</th><th>float32</th><th>object</th><th>object</th></tr></thead>\n",
       "<tr><td>2025061300011</td><td>20250613</td><td>2025-06-13T13:49:47.877</td><td>2025-06-13T13:49:47.891</td><td>bias</td><td>0.0</td><td>0.0</td><td>0.01395607</td><td>i_39</td><td>i</td></tr>\n",
       "<tr><td>2025061300012</td><td>20250613</td><td>2025-06-13T13:59:50.662</td><td>2025-06-13T13:59:50.676</td><td>bias</td><td>0.0</td><td>0.0</td><td>0.014225483</td><td>i_39</td><td>i</td></tr>\n",
       "<tr><td>2025061300013</td><td>20250613</td><td>2025-06-13T14:09:53.607</td><td>2025-06-13T14:09:53.619</td><td>bias</td><td>0.0</td><td>0.0</td><td>0.012476921</td><td>i_39</td><td>i</td></tr>\n",
       "<tr><td>2025061300014</td><td>20250613</td><td>2025-06-13T14:19:56.657</td><td>2025-06-13T14:19:56.669</td><td>bias</td><td>0.0</td><td>0.0</td><td>0.011762857</td><td>i_39</td><td>i</td></tr>\n",
       "<tr><td>2025061300015</td><td>20250613</td><td>2025-06-13T14:29:59.588</td><td>2025-06-13T14:29:59.601</td><td>bias</td><td>0.0</td><td>0.0</td><td>0.013347149</td><td>i_39</td><td>i</td></tr>\n",
       "<tr><td>2025061300016</td><td>20250613</td><td>2025-06-13T14:40:02.626</td><td>2025-06-13T14:40:02.640</td><td>bias</td><td>0.0</td><td>0.0</td><td>0.013904095</td><td>i_39</td><td>i</td></tr>\n",
       "<tr><td>2025061300017</td><td>20250613</td><td>2025-06-13T14:50:05.652</td><td>2025-06-13T14:50:05.667</td><td>bias</td><td>0.0</td><td>0.0</td><td>0.014282703</td><td>i_39</td><td>i</td></tr>\n",
       "<tr><td>2025061300018</td><td>20250613</td><td>2025-06-13T15:00:08.292</td><td>2025-06-13T15:00:08.306</td><td>bias</td><td>0.0</td><td>0.0</td><td>0.014017582</td><td>i_39</td><td>i</td></tr>\n",
       "<tr><td>2025061300019</td><td>20250613</td><td>2025-06-13T15:10:11.156</td><td>2025-06-13T15:10:11.168</td><td>bias</td><td>0.0</td><td>0.0</td><td>0.0114655495</td><td>i_39</td><td>i</td></tr>\n",
       "<tr><td>2025061300020</td><td>20250613</td><td>2025-06-13T15:20:14.190</td><td>2025-06-13T15:20:14.204</td><td>bias</td><td>0.0</td><td>0.0</td><td>0.014042854</td><td>i_39</td><td>i</td></tr>\n",
       "<tr><td>2025061300021</td><td>20250613</td><td>2025-06-13T15:30:17.205</td><td>2025-06-13T15:30:17.217</td><td>bias</td><td>0.0</td><td>0.0</td><td>0.011782646</td><td>i_39</td><td>i</td></tr>\n",
       "<tr><td>2025061300022</td><td>20250613</td><td>2025-06-13T15:40:20.184</td><td>2025-06-13T15:40:20.196</td><td>bias</td><td>0.0</td><td>0.0</td><td>0.012041569</td><td>i_39</td><td>i</td></tr>\n",
       "<tr><td>2025061300023</td><td>20250613</td><td>2025-06-13T15:50:23.245</td><td>2025-06-13T15:50:23.258</td><td>bias</td><td>0.0</td><td>0.0</td><td>0.013740301</td><td>i_39</td><td>i</td></tr>\n",
       "<tr><td>2025061300024</td><td>20250613</td><td>2025-06-13T16:00:26.194</td><td>2025-06-13T16:00:26.206</td><td>bias</td><td>0.0</td><td>0.0</td><td>0.012317181</td><td>i_39</td><td>i</td></tr>\n",
       "<tr><td>2025061300025</td><td>20250613</td><td>2025-06-13T16:10:29.020</td><td>2025-06-13T16:10:29.033</td><td>bias</td><td>0.0</td><td>0.0</td><td>0.0125591755</td><td>i_39</td><td>i</td></tr>\n",
       "<tr><td>2025061300026</td><td>20250613</td><td>2025-06-13T16:20:32.085</td><td>2025-06-13T16:20:32.099</td><td>bias</td><td>0.0</td><td>0.0</td><td>0.0134961605</td><td>i_39</td><td>i</td></tr>\n",
       "<tr><td>2025061300027</td><td>20250613</td><td>2025-06-13T16:30:35.069</td><td>2025-06-13T16:30:35.083</td><td>bias</td><td>0.0</td><td>0.0</td><td>0.014229059</td><td>i_39</td><td>i</td></tr>\n",
       "<tr><td>2025061300028</td><td>20250613</td><td>2025-06-13T16:40:37.722</td><td>2025-06-13T16:40:37.735</td><td>bias</td><td>0.0</td><td>0.0</td><td>0.013328314</td><td>i_39</td><td>i</td></tr>\n",
       "<tr><td>2025061300029</td><td>20250613</td><td>2025-06-13T16:50:40.759</td><td>2025-06-13T16:50:40.772</td><td>bias</td><td>0.0</td><td>0.0</td><td>0.013620377</td><td>i_39</td><td>i</td></tr>\n",
       "<tr><td>2025061300030</td><td>20250613</td><td>2025-06-13T17:00:43.406</td><td>2025-06-13T17:00:43.420</td><td>bias</td><td>0.0</td><td>0.0</td><td>0.013906717</td><td>i_39</td><td>i</td></tr>\n",
       "</table></div>"
      ],
      "text/plain": [
       "<Table length=20>\n",
       "   visit_id   day_obs         obs_start        ... physical_filter  band \n",
       "                                               ...                       \n",
       "    int64      int32            object         ...      object     object\n",
       "------------- -------- ----------------------- ... --------------- ------\n",
       "2025061300011 20250613 2025-06-13T13:49:47.877 ...            i_39      i\n",
       "2025061300012 20250613 2025-06-13T13:59:50.662 ...            i_39      i\n",
       "2025061300013 20250613 2025-06-13T14:09:53.607 ...            i_39      i\n",
       "2025061300014 20250613 2025-06-13T14:19:56.657 ...            i_39      i\n",
       "2025061300015 20250613 2025-06-13T14:29:59.588 ...            i_39      i\n",
       "2025061300016 20250613 2025-06-13T14:40:02.626 ...            i_39      i\n",
       "2025061300017 20250613 2025-06-13T14:50:05.652 ...            i_39      i\n",
       "2025061300018 20250613 2025-06-13T15:00:08.292 ...            i_39      i\n",
       "2025061300019 20250613 2025-06-13T15:10:11.156 ...            i_39      i\n",
       "2025061300020 20250613 2025-06-13T15:20:14.190 ...            i_39      i\n",
       "2025061300021 20250613 2025-06-13T15:30:17.205 ...            i_39      i\n",
       "2025061300022 20250613 2025-06-13T15:40:20.184 ...            i_39      i\n",
       "2025061300023 20250613 2025-06-13T15:50:23.245 ...            i_39      i\n",
       "2025061300024 20250613 2025-06-13T16:00:26.194 ...            i_39      i\n",
       "2025061300025 20250613 2025-06-13T16:10:29.020 ...            i_39      i\n",
       "2025061300026 20250613 2025-06-13T16:20:32.085 ...            i_39      i\n",
       "2025061300027 20250613 2025-06-13T16:30:35.069 ...            i_39      i\n",
       "2025061300028 20250613 2025-06-13T16:40:37.722 ...            i_39      i\n",
       "2025061300029 20250613 2025-06-13T16:50:40.759 ...            i_39      i\n",
       "2025061300030 20250613 2025-06-13T17:00:43.406 ...            i_39      i"
      ]
     },
     "execution_count": 7,
     "metadata": {},
     "output_type": "execute_result"
    }
   ],
   "source": [
    "obs_columns = ['visit_id', 'day_obs', 'obs_start', 'obs_end', 'img_type', 'exp_time', 'shut_time',\n",
    "               'dark_time', 'physical_filter', 'band']\n",
    "\n",
    "obs_dict = {}\n",
    "\n",
    "for col in obs_columns:\n",
    "    obs_dict[col] = visits[10:30][col]\n",
    "\n",
    "tab = Table(obs_dict)\n",
    "tab"
   ]
  },
  {
   "cell_type": "markdown",
   "id": "76875ddd-c6da-4db0-abd3-b14d37381a21",
   "metadata": {},
   "source": [
    "Notice that the times printed (in \"obs_start\") are much less than 24 hours before the current time shown above. We have thus demonstrated that the databases are populated within L1PublicT = 24 hours."
   ]
  },
  {
   "cell_type": "markdown",
   "id": "00d2e4db-8ecb-43eb-81c5-848709bbdd68",
   "metadata": {},
   "source": [
    "#### Display quantities related the dome and telescope pointing and orientation:"
   ]
  },
  {
   "cell_type": "code",
   "execution_count": 8,
   "id": "bb573ace-89ab-4333-970b-d8214780d0ce",
   "metadata": {
    "execution": {
     "iopub.execute_input": "2025-06-13T23:18:04.065028Z",
     "iopub.status.busy": "2025-06-13T23:18:04.064878Z",
     "iopub.status.idle": "2025-06-13T23:18:04.085053Z",
     "shell.execute_reply": "2025-06-13T23:18:04.084653Z",
     "shell.execute_reply.started": "2025-06-13T23:18:04.065014Z"
    }
   },
   "outputs": [
    {
     "data": {
      "text/html": [
       "<div><i>Table length=30</i>\n",
       "<table id=\"table140061218223264\" class=\"table-striped table-bordered table-condensed\">\n",
       "<thead><tr><th>visit_id</th><th>sky_rotation</th><th>azimuth_start</th><th>altitude_start</th></tr></thead>\n",
       "<thead><tr><th></th><th>deg</th><th>deg</th><th>deg</th></tr></thead>\n",
       "<thead><tr><th>int64</th><th>float64</th><th>float32</th><th>float32</th></tr></thead>\n",
       "<tr><td>2025061300001</td><td>57.984363316558245</td><td>328.00635</td><td>90.0</td></tr>\n",
       "<tr><td>2025061300002</td><td>57.977245203602095</td><td>328.00635</td><td>90.0</td></tr>\n",
       "<tr><td>2025061300003</td><td>57.9702098181699</td><td>328.00635</td><td>90.0</td></tr>\n",
       "<tr><td>2025061300004</td><td>57.96326127796089</td><td>328.00635</td><td>90.0</td></tr>\n",
       "<tr><td>2025061300005</td><td>57.95640482971007</td><td>328.00635</td><td>90.0</td></tr>\n",
       "<tr><td>2025061300006</td><td>57.94964856391615</td><td>328.00635</td><td>90.0</td></tr>\n",
       "<tr><td>2025061300007</td><td>57.943109612533526</td><td>328.00635</td><td>90.0</td></tr>\n",
       "<tr><td>2025061300008</td><td>57.93672371684217</td><td>328.00635</td><td>90.0</td></tr>\n",
       "<tr><td>2025061300009</td><td>57.93051654079685</td><td>328.00635</td><td>90.0</td></tr>\n",
       "<tr><td>...</td><td>...</td><td>...</td><td>...</td></tr>\n",
       "<tr><td>2025061300022</td><td>58.07327131415523</td><td>328.18863</td><td>89.9325</td></tr>\n",
       "<tr><td>2025061300023</td><td>58.07041455617302</td><td>328.18863</td><td>89.9325</td></tr>\n",
       "<tr><td>2025061300024</td><td>58.06787894397612</td><td>328.18863</td><td>89.9325</td></tr>\n",
       "<tr><td>2025061300025</td><td>58.06565770899317</td><td>328.18863</td><td>89.9325</td></tr>\n",
       "<tr><td>2025061300026</td><td>58.06378608945873</td><td>328.18863</td><td>89.9325</td></tr>\n",
       "<tr><td>2025061300027</td><td>60.508360290134604</td><td>328.18863</td><td>80.04692</td></tr>\n",
       "<tr><td>2025061300028</td><td>57.85545511015399</td><td>328.00354</td><td>90.0</td></tr>\n",
       "<tr><td>2025061300029</td><td>57.85464435776656</td><td>328.00354</td><td>90.0</td></tr>\n",
       "<tr><td>2025061300030</td><td>57.85420347086216</td><td>328.00354</td><td>90.0</td></tr>\n",
       "</table></div>"
      ],
      "text/plain": [
       "<Table length=30>\n",
       "   visit_id      sky_rotation    azimuth_start altitude_start\n",
       "                     deg              deg           deg      \n",
       "    int64          float64          float32       float32    \n",
       "------------- ------------------ ------------- --------------\n",
       "2025061300001 57.984363316558245     328.00635           90.0\n",
       "2025061300002 57.977245203602095     328.00635           90.0\n",
       "2025061300003   57.9702098181699     328.00635           90.0\n",
       "2025061300004  57.96326127796089     328.00635           90.0\n",
       "2025061300005  57.95640482971007     328.00635           90.0\n",
       "2025061300006  57.94964856391615     328.00635           90.0\n",
       "2025061300007 57.943109612533526     328.00635           90.0\n",
       "2025061300008  57.93672371684217     328.00635           90.0\n",
       "2025061300009  57.93051654079685     328.00635           90.0\n",
       "          ...                ...           ...            ...\n",
       "2025061300022  58.07327131415523     328.18863        89.9325\n",
       "2025061300023  58.07041455617302     328.18863        89.9325\n",
       "2025061300024  58.06787894397612     328.18863        89.9325\n",
       "2025061300025  58.06565770899317     328.18863        89.9325\n",
       "2025061300026  58.06378608945873     328.18863        89.9325\n",
       "2025061300027 60.508360290134604     328.18863       80.04692\n",
       "2025061300028  57.85545511015399     328.00354           90.0\n",
       "2025061300029  57.85464435776656     328.00354           90.0\n",
       "2025061300030  57.85420347086216     328.00354           90.0"
      ]
     },
     "execution_count": 8,
     "metadata": {},
     "output_type": "execute_result"
    }
   ],
   "source": [
    "tel_columns = ['visit_id', 'sky_rotation', 'azimuth_start', 'altitude_start']\n",
    "\n",
    "tel_dict = {}\n",
    "\n",
    "for col in tel_columns:\n",
    "    tel_dict[col] = visits[:30][col]\n",
    "\n",
    "tab = Table(tel_dict)\n",
    "tab"
   ]
  },
  {
   "cell_type": "markdown",
   "id": "48d0fd92-a513-4dd3-acfc-8777d10566f5",
   "metadata": {},
   "source": [
    "#### Display quantities related to the airmass, zenith distance, and environmental conditions of observations:"
   ]
  },
  {
   "cell_type": "code",
   "execution_count": 9,
   "id": "078c4b08-a73b-42e3-9890-3b741e64a0b1",
   "metadata": {
    "execution": {
     "iopub.execute_input": "2025-06-13T23:18:04.085796Z",
     "iopub.status.busy": "2025-06-13T23:18:04.085656Z",
     "iopub.status.idle": "2025-06-13T23:18:04.111605Z",
     "shell.execute_reply": "2025-06-13T23:18:04.111126Z",
     "shell.execute_reply.started": "2025-06-13T23:18:04.085781Z"
    }
   },
   "outputs": [
    {
     "data": {
      "text/html": [
       "<div><i>Table length=30</i>\n",
       "<table id=\"table140061218225424\" class=\"table-striped table-bordered table-condensed\">\n",
       "<thead><tr><th>visit_id</th><th>zenith_distance_start</th><th>zenith_distance_end</th><th>zenith_distance</th><th>airmass</th></tr></thead>\n",
       "<thead><tr><th></th><th>deg</th><th>deg</th><th>deg</th><th></th></tr></thead>\n",
       "<thead><tr><th>int64</th><th>float32</th><th>float32</th><th>float32</th><th>float32</th></tr></thead>\n",
       "<tr><td>2025061300104</td><td>68.0</td><td>68.0</td><td>--</td><td>--</td></tr>\n",
       "<tr><td>2025061300105</td><td>68.0</td><td>68.0</td><td>--</td><td>--</td></tr>\n",
       "<tr><td>2025061300106</td><td>68.0</td><td>68.0</td><td>--</td><td>--</td></tr>\n",
       "<tr><td>2025061300107</td><td>68.0</td><td>68.0</td><td>--</td><td>--</td></tr>\n",
       "<tr><td>2025061300108</td><td>68.0</td><td>68.0</td><td>--</td><td>--</td></tr>\n",
       "<tr><td>2025061300109</td><td>68.0</td><td>68.0</td><td>--</td><td>--</td></tr>\n",
       "<tr><td>2025061300110</td><td>68.0</td><td>68.0</td><td>--</td><td>--</td></tr>\n",
       "<tr><td>2025061300111</td><td>68.0</td><td>68.0</td><td>--</td><td>--</td></tr>\n",
       "<tr><td>2025061300112</td><td>68.0</td><td>68.0</td><td>--</td><td>--</td></tr>\n",
       "<tr><td>...</td><td>...</td><td>...</td><td>...</td><td>...</td></tr>\n",
       "<tr><td>2025061300125</td><td>0.0</td><td>0.0</td><td>--</td><td>--</td></tr>\n",
       "<tr><td>2025061300126</td><td>0.0</td><td>0.0</td><td>--</td><td>--</td></tr>\n",
       "<tr><td>2025061300127</td><td>0.0</td><td>0.0</td><td>--</td><td>--</td></tr>\n",
       "<tr><td>2025061300128</td><td>0.0</td><td>0.0</td><td>--</td><td>--</td></tr>\n",
       "<tr><td>2025061300129</td><td>0.0</td><td>0.0</td><td>--</td><td>--</td></tr>\n",
       "<tr><td>2025061300130</td><td>0.0</td><td>0.0</td><td>--</td><td>--</td></tr>\n",
       "<tr><td>2025061300131</td><td>0.0</td><td>0.0</td><td>--</td><td>--</td></tr>\n",
       "<tr><td>2025061300132</td><td>0.0</td><td>0.0</td><td>--</td><td>--</td></tr>\n",
       "<tr><td>2025061300133</td><td>0.0</td><td>0.0</td><td>--</td><td>--</td></tr>\n",
       "</table></div>"
      ],
      "text/plain": [
       "<Table length=30>\n",
       "   visit_id   zenith_distance_start zenith_distance_end zenith_distance airmass\n",
       "                       deg                  deg               deg              \n",
       "    int64            float32              float32           float32     float32\n",
       "------------- --------------------- ------------------- --------------- -------\n",
       "2025061300104                  68.0                68.0              --      --\n",
       "2025061300105                  68.0                68.0              --      --\n",
       "2025061300106                  68.0                68.0              --      --\n",
       "2025061300107                  68.0                68.0              --      --\n",
       "2025061300108                  68.0                68.0              --      --\n",
       "2025061300109                  68.0                68.0              --      --\n",
       "2025061300110                  68.0                68.0              --      --\n",
       "2025061300111                  68.0                68.0              --      --\n",
       "2025061300112                  68.0                68.0              --      --\n",
       "          ...                   ...                 ...             ...     ...\n",
       "2025061300125                   0.0                 0.0              --      --\n",
       "2025061300126                   0.0                 0.0              --      --\n",
       "2025061300127                   0.0                 0.0              --      --\n",
       "2025061300128                   0.0                 0.0              --      --\n",
       "2025061300129                   0.0                 0.0              --      --\n",
       "2025061300130                   0.0                 0.0              --      --\n",
       "2025061300131                   0.0                 0.0              --      --\n",
       "2025061300132                   0.0                 0.0              --      --\n",
       "2025061300133                   0.0                 0.0              --      --"
      ]
     },
     "execution_count": 9,
     "metadata": {},
     "output_type": "execute_result"
    }
   ],
   "source": [
    "env_columns1 = ['visit_id', 'zenith_distance_start', 'zenith_distance_end', 'zenith_distance', 'airmass']\n",
    "\n",
    "env_dict1 = {}\n",
    "\n",
    "for col in env_columns1:\n",
    "    env_dict1[col] = visits[-30:][col]\n",
    "\n",
    "tab = Table(env_dict1)\n",
    "tab"
   ]
  },
  {
   "cell_type": "code",
   "execution_count": 10,
   "id": "dfed809e-9405-467b-a49b-d4bb76b78d80",
   "metadata": {
    "execution": {
     "iopub.execute_input": "2025-06-13T23:18:04.112427Z",
     "iopub.status.busy": "2025-06-13T23:18:04.112166Z",
     "iopub.status.idle": "2025-06-13T23:18:04.144565Z",
     "shell.execute_reply": "2025-06-13T23:18:04.144198Z",
     "shell.execute_reply.started": "2025-06-13T23:18:04.112410Z"
    }
   },
   "outputs": [
    {
     "data": {
      "text/html": [
       "<div><i>Table length=5</i>\n",
       "<table id=\"table140061218226048\" class=\"table-striped table-bordered table-condensed\">\n",
       "<thead><tr><th>visit_id</th><th>air_temp</th><th>pressure</th><th>humidity</th><th>wind_speed</th><th>wind_dir</th><th>dimm_seeing</th><th>focus_z</th></tr></thead>\n",
       "<thead><tr><th></th><th></th><th>Pa</th><th></th><th>m / s</th><th>deg</th><th>arcsec</th><th></th></tr></thead>\n",
       "<thead><tr><th>int64</th><th>float32</th><th>float32</th><th>float32</th><th>float32</th><th>float32</th><th>float32</th><th>float32</th></tr></thead>\n",
       "<tr><td>2025061300011</td><td>-0.675</td><td>73790.0</td><td>100.075</td><td>0.0</td><td>25.215</td><td>--</td><td>0.0</td></tr>\n",
       "<tr><td>2025061300012</td><td>-0.7</td><td>73835.0</td><td>100.075</td><td>0.0</td><td>25.21</td><td>--</td><td>0.0</td></tr>\n",
       "<tr><td>2025061300013</td><td>-0.65</td><td>73850.0</td><td>100.1</td><td>0.0</td><td>25.205</td><td>--</td><td>0.0</td></tr>\n",
       "<tr><td>2025061300014</td><td>-0.7125</td><td>73850.0</td><td>100.075</td><td>0.0</td><td>25.205</td><td>--</td><td>0.0</td></tr>\n",
       "<tr><td>2025061300015</td><td>-0.575</td><td>73850.0</td><td>100.1</td><td>0.0</td><td>25.21</td><td>--</td><td>0.0</td></tr>\n",
       "</table></div>"
      ],
      "text/plain": [
       "<Table length=5>\n",
       "   visit_id   air_temp pressure humidity wind_speed wind_dir dimm_seeing focus_z\n",
       "                          Pa               m / s      deg       arcsec          \n",
       "    int64     float32  float32  float32   float32   float32    float32   float32\n",
       "------------- -------- -------- -------- ---------- -------- ----------- -------\n",
       "2025061300011   -0.675  73790.0  100.075        0.0   25.215          --     0.0\n",
       "2025061300012     -0.7  73835.0  100.075        0.0    25.21          --     0.0\n",
       "2025061300013    -0.65  73850.0    100.1        0.0   25.205          --     0.0\n",
       "2025061300014  -0.7125  73850.0  100.075        0.0   25.205          --     0.0\n",
       "2025061300015   -0.575  73850.0    100.1        0.0    25.21          --     0.0"
      ]
     },
     "execution_count": 10,
     "metadata": {},
     "output_type": "execute_result"
    }
   ],
   "source": [
    "env_columns2 = ['visit_id', 'air_temp', 'pressure', 'humidity', 'wind_speed', 'wind_dir',\n",
    "                'dimm_seeing', 'focus_z']\n",
    "\n",
    "env_dict2 = {}\n",
    "\n",
    "for col in env_columns2:\n",
    "    env_dict2[col] = visits[10:15][col]\n",
    "\n",
    "tab = Table(env_dict2)\n",
    "tab"
   ]
  },
  {
   "cell_type": "code",
   "execution_count": 11,
   "id": "ac01bf7e-387e-4077-9bdf-16e7b6856034",
   "metadata": {
    "execution": {
     "iopub.execute_input": "2025-06-13T23:18:04.145147Z",
     "iopub.status.busy": "2025-06-13T23:18:04.145011Z",
     "iopub.status.idle": "2025-06-13T23:18:06.806166Z",
     "shell.execute_reply": "2025-06-13T23:18:06.805619Z",
     "shell.execute_reply.started": "2025-06-13T23:18:04.145133Z"
    }
   },
   "outputs": [],
   "source": [
    "# Query the ccdexposure table\n",
    "ccdexp_query = f\"\"\"\n",
    "    SELECT * FROM cdb_{instrument}.ccdexposure\n",
    "    where day_obs <= {day_obs_int} AND day_obs > {day_obs_int-3}\n",
    "\"\"\"\n",
    "\n",
    "# Execute the query:\n",
    "try:\n",
    "    ccdexp = cdb.search(ccdexp_query).to_table()\n",
    "except requests.HTTPError or requests.JSONDecodeError:\n",
    "    # Try twice\n",
    "    ccdexp = cdb.search(ccdexp_query).to_table()\n"
   ]
  },
  {
   "cell_type": "code",
   "execution_count": 12,
   "id": "05bea81c-2871-4c2a-bda0-f82f40a4f8b0",
   "metadata": {
    "execution": {
     "iopub.execute_input": "2025-06-13T23:18:06.806910Z",
     "iopub.status.busy": "2025-06-13T23:18:06.806767Z",
     "iopub.status.idle": "2025-06-13T23:18:06.812290Z",
     "shell.execute_reply": "2025-06-13T23:18:06.811944Z",
     "shell.execute_reply.started": "2025-06-13T23:18:06.806895Z"
    }
   },
   "outputs": [
    {
     "data": {
      "text/html": [
       "<div><i>Table length=5</i>\n",
       "<table id=\"table140061218450000\" class=\"table-striped table-bordered table-condensed\">\n",
       "<thead><tr><th>ccdexposure_id</th><th>day_obs</th><th>detector</th><th>exposure_id</th><th>s_region</th><th>seq_num</th></tr></thead>\n",
       "<thead><tr><th>int64</th><th>int32</th><th>int32</th><th>int64</th><th>object</th><th>int32</th></tr></thead>\n",
       "<tr><td>47328560572</td><td>20250613</td><td>188</td><td>2025061300133</td><td></td><td>133</td></tr>\n",
       "<tr><td>47328560585</td><td>20250613</td><td>201</td><td>2025061300133</td><td></td><td>133</td></tr>\n",
       "<tr><td>47328560586</td><td>20250613</td><td>202</td><td>2025061300133</td><td></td><td>133</td></tr>\n",
       "<tr><td>47328560587</td><td>20250613</td><td>203</td><td>2025061300133</td><td></td><td>133</td></tr>\n",
       "<tr><td>47328560588</td><td>20250613</td><td>204</td><td>2025061300133</td><td></td><td>133</td></tr>\n",
       "</table></div>"
      ],
      "text/plain": [
       "<Table length=5>\n",
       "ccdexposure_id day_obs  detector  exposure_id  s_region seq_num\n",
       "    int64       int32    int32       int64      object   int32 \n",
       "-------------- -------- -------- ------------- -------- -------\n",
       "   47328560572 20250613      188 2025061300133              133\n",
       "   47328560585 20250613      201 2025061300133              133\n",
       "   47328560586 20250613      202 2025061300133              133\n",
       "   47328560587 20250613      203 2025061300133              133\n",
       "   47328560588 20250613      204 2025061300133              133"
      ]
     },
     "execution_count": 12,
     "metadata": {},
     "output_type": "execute_result"
    }
   ],
   "source": [
    "ccdexp[-5:]"
   ]
  },
  {
   "cell_type": "markdown",
   "id": "115e8a68-8023-4619-9606-ed5134ce3bfa",
   "metadata": {},
   "source": [
    "## Results\n",
    "\n",
    "We see that the ConsDB contains information taken directly from image headers, transformed data from the EFD, and derived data based on image processing. As required, these data include information about each exposure, include the telescope and instrument configuration, telemetry from the telescope, environmental and pointing information, and details about the camera.\n",
    "\n",
    "We have demonstrated that the ConsDB tables were populated in less than L1PublicT=24 hours, as required.\n",
    "\n",
    "The result of this test is **PASS**."
   ]
  },
  {
   "cell_type": "code",
   "execution_count": null,
   "id": "9aec617d-a210-4d71-b39d-617a1137a2c8",
   "metadata": {},
   "outputs": [],
   "source": []
  }
 ],
 "metadata": {
  "kernelspec": {
   "display_name": "LSST",
   "language": "python",
   "name": "lsst"
  },
  "language_info": {
   "codemirror_mode": {
    "name": "ipython",
    "version": 3
   },
   "file_extension": ".py",
   "mimetype": "text/x-python",
   "name": "python",
   "nbconvert_exporter": "python",
   "pygments_lexer": "ipython3",
   "version": "3.12.11"
  }
 },
 "nbformat": 4,
 "nbformat_minor": 5
}
