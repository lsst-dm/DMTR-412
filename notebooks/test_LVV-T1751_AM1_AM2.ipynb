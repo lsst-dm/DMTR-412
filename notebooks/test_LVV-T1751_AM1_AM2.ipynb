{
 "cells": [
  {
   "cell_type": "markdown",
   "id": "fbc2a82e-c64a-4801-b3bc-4c3c0917500f",
   "metadata": {},
   "source": [
    "### Test case LVV-T1751 - Verify calculation of median relative astrometric measurement error on 200 arcminute scales\n",
    "\n",
    "Verify that the DM system has provided the code to calculate the median relative astrometric measurement error on 200 arcminute scales and assess whether it meets the requirement that it shall be no more than **AM3 = 15 milliarcseconds**."
   ]
  },
  {
   "cell_type": "markdown",
   "id": "8e6183b9-0e34-4a99-a1b5-62d6b1f4db44",
   "metadata": {},
   "source": [
    "#### Discussion:\n",
    "\n",
    "The available test datasets regularly reprocessed with the Rubin Science Pipelines do not cover a large enough contiguous are to measure metrics at 200-arcminute scales. Thus, for this requirement we demonstrate that similar metrics (AM1 and AM2) are regularly calculated, and that the capability to calculate AM3 exists. This can be verified using data products produced during regular reprocessing campaigns executed by the Data Management pipelines team. In particular, we will use the regularly-reprocessed HSC RC2 data as reprocessed with weekly pipelines version w_2024_34, in Butler collection “HSC/runs/RC2/w_2024_34/DM-45857\".\n",
    "\n",
    "The `AM1` and `AM2` metrics and related plots are created by tasks in the `analysis_tools` package. Thus verification of this requirement can be accomplished by simply retrieving the datasets produced by those tasks and confirming that they meet the required accuracy."
   ]
  },
  {
   "cell_type": "code",
   "execution_count": 1,
   "id": "93081372-0262-4f3e-8c3e-fa33ad9feaf9",
   "metadata": {
    "execution": {
     "iopub.execute_input": "2024-10-22T21:04:23.115229Z",
     "iopub.status.busy": "2024-10-22T21:04:23.115102Z",
     "iopub.status.idle": "2024-10-22T21:04:24.128291Z",
     "shell.execute_reply": "2024-10-22T21:04:24.127784Z",
     "shell.execute_reply.started": "2024-10-22T21:04:23.115216Z"
    }
   },
   "outputs": [],
   "source": [
    "import matplotlib.pyplot as plt\n",
    "\n",
    "from lsst.daf.butler import Butler\n",
    "from IPython.display import Image"
   ]
  },
  {
   "cell_type": "code",
   "execution_count": 2,
   "id": "58da7a76-d3b9-4ac2-bd33-9f4593169062",
   "metadata": {
    "execution": {
     "iopub.execute_input": "2024-10-22T21:04:24.129077Z",
     "iopub.status.busy": "2024-10-22T21:04:24.128938Z",
     "iopub.status.idle": "2024-10-22T21:04:24.644264Z",
     "shell.execute_reply": "2024-10-22T21:04:24.643819Z",
     "shell.execute_reply.started": "2024-10-22T21:04:24.129064Z"
    }
   },
   "outputs": [],
   "source": [
    "# Initialize the butler repo pointing to the DM-45857 (w_2024_34) collection\n",
    "repo = '/repo/main'\n",
    "collection = 'HSC/runs/RC2/w_2024_34/DM-45857'\n",
    "\n",
    "butler = Butler(repo, collections=collection)"
   ]
  },
  {
   "cell_type": "markdown",
   "id": "36696e78-cb2d-49bf-a0b5-6a24d736dd91",
   "metadata": {},
   "source": [
    "Select one of the three tracts in the RC2 dataset (either 9615, 9697, or 9813). Then fetch the metrics from matching `objectTable_tract` to the Gaia DR3 refcat."
   ]
  },
  {
   "cell_type": "code",
   "execution_count": 3,
   "id": "61ae243b-a413-4af4-a15f-2a422acc3d21",
   "metadata": {
    "execution": {
     "iopub.execute_input": "2024-10-22T21:04:24.644977Z",
     "iopub.status.busy": "2024-10-22T21:04:24.644834Z",
     "iopub.status.idle": "2024-10-22T21:04:26.595566Z",
     "shell.execute_reply": "2024-10-22T21:04:26.595149Z",
     "shell.execute_reply.started": "2024-10-22T21:04:24.644963Z"
    }
   },
   "outputs": [],
   "source": [
    "did_tract9615 = {'instrument':'HSC', 'tract':9615, 'skymap':'hsc_rings_v1'}\n",
    "metric_extract9615 = butler.get('matchedVisitCore_metrics', collections=collection, dataId=did_tract9615)\n",
    "did_tract9697 = {'instrument':'HSC', 'tract':9697, 'skymap':'hsc_rings_v1'}\n",
    "metric_extract9697 = butler.get('matchedVisitCore_metrics', collections=collection, dataId=did_tract9697)\n",
    "did_tract9813 = {'instrument':'HSC', 'tract':9813, 'skymap':'hsc_rings_v1'}\n",
    "metric_extract9813 = butler.get('matchedVisitCore_metrics', collections=collection, dataId=did_tract9813)"
   ]
  },
  {
   "cell_type": "markdown",
   "id": "dfe9a09d-8526-454c-acaa-44a0b534d179",
   "metadata": {},
   "source": [
    "Print the metrics to the screen:"
   ]
  },
  {
   "cell_type": "code",
   "execution_count": 4,
   "id": "bc67ab71-7240-42b0-b3fb-3c6a97ae4f14",
   "metadata": {
    "execution": {
     "iopub.execute_input": "2024-10-22T21:04:26.596934Z",
     "iopub.status.busy": "2024-10-22T21:04:26.596693Z",
     "iopub.status.idle": "2024-10-22T21:04:26.603084Z",
     "shell.execute_reply": "2024-10-22T21:04:26.602711Z",
     "shell.execute_reply.started": "2024-10-22T21:04:26.596920Z"
    }
   },
   "outputs": [
    {
     "name": "stdout",
     "output_type": "stream",
     "text": [
      "Tract 9615:\n",
      "\n",
      "g_AM1 = 3.8231023494070002 mas\n",
      "r_AM1 = 3.228288002351153 mas\n",
      "i_AM1 = 3.728593216447628 mas\n",
      "\n",
      "\n",
      "g_AM2 = 3.7467052200092983 mas\n",
      "r_AM2 = 3.132794128702427 mas\n",
      "i_AM2 = 3.6810483122240245 mas\n",
      "\n",
      "Tract 9697:\n",
      "\n",
      "g_AM1 = 6.658043997359657 mas\n",
      "r_AM1 = 6.140262782686699 mas\n",
      "i_AM1 = 3.5977059787241354 mas\n",
      "\n",
      "\n",
      "g_AM2 = 6.993080826381683 mas\n",
      "r_AM2 = 6.28257099305163 mas\n",
      "i_AM2 = 3.497105717983318 mas\n",
      "\n",
      "Tract 9813:\n",
      "\n",
      "g_AM1 = 4.994415732783283 mas\n",
      "r_AM1 = 4.472256088715839 mas\n",
      "i_AM1 = 4.839994490987725 mas\n",
      "\n",
      "\n",
      "g_AM2 = 5.155219088191533 mas\n",
      "r_AM2 = 4.512034918398069 mas\n",
      "i_AM2 = 4.957150406798739 mas\n"
     ]
    }
   ],
   "source": [
    "print('Tract 9615:\\n')\n",
    "for met in metric_extract9615['stellarAstrometricRepeatability1']:\n",
    "    if ('AM1' in met.metric_name.metric) and \\\n",
    "       (met.metric_name.metric.startswith('g_') or met.metric_name.metric.startswith('r_') or \\\n",
    "        met.metric_name.metric.startswith('i_')):\n",
    "        print(met.datum)\n",
    "print('\\n')\n",
    "for met in metric_extract9615['stellarAstrometricRepeatability2']:\n",
    "    if ('AM2' in met.metric_name.metric) and \\\n",
    "       (met.metric_name.metric.startswith('g_') or met.metric_name.metric.startswith('r_') or \\\n",
    "        met.metric_name.metric.startswith('i_')):\n",
    "        print(met.datum)\n",
    "\n",
    "print('\\nTract 9697:\\n')\n",
    "for met in metric_extract9697['stellarAstrometricRepeatability1']:\n",
    "    if ('AM1' in met.metric_name.metric) and \\\n",
    "       (met.metric_name.metric.startswith('g_') or met.metric_name.metric.startswith('r_') or \\\n",
    "        met.metric_name.metric.startswith('i_')):\n",
    "        print(met.datum)\n",
    "print('\\n')\n",
    "for met in metric_extract9697['stellarAstrometricRepeatability2']:\n",
    "    if ('AM2' in met.metric_name.metric) and \\\n",
    "       (met.metric_name.metric.startswith('g_') or met.metric_name.metric.startswith('r_') or \\\n",
    "        met.metric_name.metric.startswith('i_')):\n",
    "        print(met.datum)\n",
    "\n",
    "print('\\nTract 9813:\\n')\n",
    "for met in metric_extract9813['stellarAstrometricRepeatability1']:\n",
    "    if ('AM1' in met.metric_name.metric) and \\\n",
    "       (met.metric_name.metric.startswith('g_') or met.metric_name.metric.startswith('r_') or \\\n",
    "        met.metric_name.metric.startswith('i_')):\n",
    "        print(met.datum)\n",
    "print('\\n')\n",
    "for met in metric_extract9813['stellarAstrometricRepeatability2']:\n",
    "    if ('AM2' in met.metric_name.metric) and \\\n",
    "       (met.metric_name.metric.startswith('g_') or met.metric_name.metric.startswith('r_') or \\\n",
    "        met.metric_name.metric.startswith('i_')):\n",
    "        print(met.datum)"
   ]
  },
  {
   "cell_type": "markdown",
   "id": "6bab04e5-b4a4-44df-a0e2-ea706b55434f",
   "metadata": {},
   "source": [
    "The median relative astrometric measurement errors on 5 and 20 arcminute scales for each band are given by `\"band\"_AM1` and `\"band\"_AM2`. We see that for all bands and all tracts, `AM1` and `AM2` are well below the 10 milliarcsecond thresholds defined for them."
   ]
  },
  {
   "cell_type": "code",
   "execution_count": null,
   "id": "27289b57-353a-47f1-b5a6-f54eac1afb93",
   "metadata": {},
   "outputs": [],
   "source": []
  }
 ],
 "metadata": {
  "kernelspec": {
   "display_name": "LSST",
   "language": "python",
   "name": "lsst"
  },
  "language_info": {
   "codemirror_mode": {
    "name": "ipython",
    "version": 3
   },
   "file_extension": ".py",
   "mimetype": "text/x-python",
   "name": "python",
   "nbconvert_exporter": "python",
   "pygments_lexer": "ipython3",
   "version": "3.11.9"
  }
 },
 "nbformat": 4,
 "nbformat_minor": 5
}
