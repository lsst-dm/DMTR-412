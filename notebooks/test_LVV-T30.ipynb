{
 "cells": [
  {
   "cell_type": "markdown",
   "id": "26bf3d46-8a05-4e59-8c6c-a41b9058a599",
   "metadata": {},
   "source": [
    "## Test case LVV-T30: Verify implementation of Wavefront Sensor Data Acquisition\n",
    "Verify that the  DMS can acquire raw, full-frame exposures from the camera wavefront sensors <br>\n",
    "\n",
    "Requirement:  DMS-REQ-0265\n",
    "Derived from requirements: OSS-REQ-0316: Wavefront Sensor Data<br>\n",
    "\n",
    "### Specification: \n",
    "The DMS shall acquire raw exposure data from the Camera wavefront sensors,<br>\n",
    "during normal survey operations and in any other required operating modes.<br>\n",
    "\n",
    "### Discussion:\n",
    "The details of this are a matter for the DM-Camera ICD in this area. <br>\n",
    "However,these data should be identical in format and in mode of acquisition to the raw science sensor data. <br>\n",
    "There is no currently established requirement for the acquisition or archiving of any raw guider sensor data.\n",
    "\n",
    "### Data \n",
    "The wavefront sensors are on the corner rafts: \"R00\", \"R04\", \"R40\", \"R44\" <br>\n",
    "There are wavefront sensors on each corner raft: SW0/1: Science Wavefront 0/1 <br>\n",
    "Wavefront sensors: \"R00_SW0\" (191), \"R00_SW1\" (192), 'R04_SW0\" (195), \"R04_SW1\" (196), \"R40_SW0 (199)\", \"R40_SW1(200)\", \"R44_SW0 (203)\", \"R44_SW1(204)\" <br>\n",
    "Wavefront sensor images are archived in multiple locations, but are currently not ingested into the Butler. <br> "
   ]
  },
  {
   "cell_type": "code",
   "execution_count": null,
   "id": "f8a858f3-ae10-4fc6-b86f-da0c85c5c549",
   "metadata": {},
   "outputs": [],
   "source": [
    "import os\n",
    "import io\n",
    "import numpy as np\n",
    "import astropy.io.fits as pf\n",
    "from astropy.table import Table\n",
    "from astropy.io import fits\n",
    "import pandas as pd\n",
    "from pathlib import Path\n",
    "import zipfile\n",
    "from datetime import datetime, timedelta\n",
    "\n",
    "import matplotlib.pyplot as plt\n",
    "import matplotlib.gridspec as gridspec\n",
    "\n",
    "from lsst.rsp import get_tap_service"
   ]
  },
  {
   "cell_type": "code",
   "execution_count": null,
   "id": "bd7568d1-1a4a-44c9-b3de-b5f04a86b7ba",
   "metadata": {},
   "outputs": [],
   "source": [
    "pd.set_option('display.max_columns', None) #all"
   ]
  },
  {
   "cell_type": "code",
   "execution_count": null,
   "id": "f54e685a-0282-44ab-af26-655406282249",
   "metadata": {},
   "outputs": [],
   "source": [
    "# Day obs conversion \n",
    "def to_day_obs_int(dayobs):\n",
    "    return int(dayobs.replace('-', ''))"
   ]
  },
  {
   "cell_type": "code",
   "execution_count": null,
   "id": "d5d2684e-fc90-4639-9d9d-ce0a544e2df0",
   "metadata": {
    "scrolled": true
   },
   "outputs": [],
   "source": [
    "# Open a zip file and extract the wavefront file data\n",
    "def extract_wfs_images(filepath):\n",
    "    wfs_images = [] \n",
    "    with zipfile.ZipFile(filepath, 'r') as zfile:\n",
    "        for raft, ccd, detector in config:\n",
    "            fits_file = Path(filepath).stem + '_' + raft + '_' + ccd + '.fits'\n",
    "    \n",
    "            # Read from the zipfile into memory\n",
    "            with zfile.open(fits_file, 'r') as file:\n",
    "                # Read the bytes and wrap in BytesIO to simulate a binary file\n",
    "                file_data = io.BytesIO(file.read())\n",
    "                wfs_img = fits.getdata(file_data)\n",
    "                wfs_images.append({'image': wfs_img, 'label': raft + '_' + ccd})\n",
    "    return wfs_images"
   ]
  },
  {
   "cell_type": "code",
   "execution_count": null,
   "id": "d221b0cb-c8d9-462b-ba93-137823e0a87a",
   "metadata": {},
   "outputs": [],
   "source": [
    "# Plot the 8 wfs for an exposure\n",
    "def plot_wfs(wfs_images):\n",
    "    fig, axes = plt.subplots(2, 4, figsize=(10, 8))\n",
    "    axes = axes.flatten()\n",
    "\n",
    "    for i, wfs_img in enumerate(wfs_images):\n",
    "        ax = axes[i]\n",
    "        img = wfs_img['image']\n",
    "        im = ax.imshow(img, \n",
    "                       vmin=np.percentile(img, 1), \n",
    "                       vmax=np.percentile(img, 99), \n",
    "                       cmap='gray')\n",
    "        ax.set_title(wfs_img['label'])\n",
    "        ax.axis('off')\n",
    "        plt.colorbar(im, ax=ax)\n",
    "    \n",
    "    plt.tight_layout()\n",
    "    plt.show()"
   ]
  },
  {
   "cell_type": "code",
   "execution_count": null,
   "id": "d52d8131-c6da-43d8-a3ba-cecacf1e8143",
   "metadata": {},
   "outputs": [],
   "source": [
    "# LSSTCam system integration start and end dates approximate\n",
    "start_date = \"2025-04-15\" #first photon\n",
    "end_date = date_str = (datetime.today() - timedelta(days=5)).strftime('%Y-%m-%d')\n",
    "\n",
    "day_obs_start_science = to_day_obs_int(start_date) \n",
    "day_obs_start_lsstcam = to_day_obs_int(end_date)"
   ]
  },
  {
   "cell_type": "code",
   "execution_count": null,
   "id": "7667ebbb-bf37-4cc1-897b-b4ecacacc3aa",
   "metadata": {},
   "outputs": [],
   "source": [
    "# Wavefront config layout and sensor IDs\n",
    "config = [['R40', 'SW0', 191], ['R40', 'SW1', 192], \n",
    "          ['R44', 'SW0', 195], ['R44', 'SW1', 196], \n",
    "          ['R00', 'SW0', 199], ['R00', 'SW1', 200],\n",
    "          ['R04', 'SW0', 203], ['R04', 'SW1', 204]]\n",
    "config_df = pd.DataFrame(config, columns=['raft', 'ccd', 'detector'])\n",
    "wfs_ids = ', '.join(str(x) for x in config_df['detector'].tolist())"
   ]
  },
  {
   "cell_type": "code",
   "execution_count": null,
   "id": "6548eb3b-1ff8-42e7-a8fa-3125a33b7f6a",
   "metadata": {},
   "outputs": [],
   "source": [
    "# Setup consdb\n",
    "consdb = get_tap_service(\"consdbtap\")\n",
    "assert consdb is not None"
   ]
  },
  {
   "cell_type": "code",
   "execution_count": null,
   "id": "603f3a7f-9ac8-4090-93b1-4d309c778480",
   "metadata": {},
   "outputs": [],
   "source": [
    "# Get all science  exposures taken in LSSTCam commissioning for the wavefront sensors only \n",
    "# from the start of LSSTCam commissioning to now\n",
    "instrument = \"lsstcam\"\n",
    "table = 'ccdexposure'\n",
    "query = f'''\n",
    "SELECT  e.exposure_id, e.day_obs, e.seq_num, e.img_type, e.band, ccde.detector FROM cdb_{instrument}.{table} as ccde\n",
    "JOIN cdb_{instrument}.exposure as e ON ccde.exposure_id = e.exposure_id\n",
    "WHERE e.day_obs >= '{day_obs_start_science}' \n",
    "AND ccde.detector IN ({wfs_ids})\n",
    "AND e.img_type IN ('science')\n",
    "ORDER BY e.exposure_id DESC, e.img_type, e.band, ccde.detector ASC\n",
    "'''\n",
    "df = consdb.search(query).to_table().to_pandas()"
   ]
  },
  {
   "cell_type": "markdown",
   "id": "dd2ed404-1cb8-4489-a2e6-84c15e96d825",
   "metadata": {},
   "source": [
    "## Stats on the wavefront sensors images"
   ]
  },
  {
   "cell_type": "code",
   "execution_count": null,
   "id": "942dfb04-0926-4a46-9e1e-da41ea311a14",
   "metadata": {},
   "outputs": [],
   "source": [
    "# Total \n",
    "total_images = df['exposure_id'].nunique()\n",
    "print(f\"There are {len(df)} wavefront sensor images in {total_images} unique science exposures collected from {start_date} throught {end_date}\")"
   ]
  },
  {
   "cell_type": "code",
   "execution_count": null,
   "id": "7840770c-8a2f-4a14-952a-e6ab24da7b91",
   "metadata": {},
   "outputs": [],
   "source": [
    "# Number of wavefront sensors per exposure\n",
    "n_wfs_per_exposure = df.groupby('exposure_id')['detector'].size().reset_index(name='n_wfs')\n",
    "n_wfs_per_exposure.sample(5)\n",
    "missing_wfs = n_wfs_per_exposure[n_wfs_per_exposure['n_wfs'] != 8]\n",
    "assert len(missing_wfs)== 0\n",
    "print(f\"All exposures contain 8 wfs ccd images\")"
   ]
  },
  {
   "cell_type": "code",
   "execution_count": null,
   "id": "62732311-a9f8-4681-9522-f455a1217b26",
   "metadata": {},
   "outputs": [],
   "source": [
    "# Path template at USDF where the ancillary data are archived as ZIP files:\n",
    "filepath_template = (\"/sdf/data/rubin/lsstdata/offline/instrument/LSSTCam/{day_obs}/MC_O_{day_obs}_{seq_num:06d}.zip\")"
   ]
  },
  {
   "cell_type": "code",
   "execution_count": null,
   "id": "293e03b3-a0ca-4e35-a148-e813c0a4a8b5",
   "metadata": {},
   "outputs": [],
   "source": [
    "# Take a random few exposures and look at the images\n",
    "exps = df.sample(3)\n",
    "for _, exp in exps.iterrows():\n",
    "    file_path = Path(filepath_template.format(\n",
    "        day_obs=exp['day_obs'],\n",
    "        seq_num=exp['seq_num']))\n",
    "\n",
    "    if file_path.exists():\n",
    "        print(f\"Inspecting: {file_path}\")\n",
    "        # Extract images and plot\n",
    "        wfs_images = extract_wfs_images(file_path)\n",
    "        plot_wfs(wfs_images)\n",
    "    else:\n",
    "        print(f\"Skipping missing file: {file_path}\")"
   ]
  }
 ],
 "metadata": {
  "kernelspec": {
   "display_name": "LSST",
   "language": "python",
   "name": "lsst"
  },
  "language_info": {
   "codemirror_mode": {
    "name": "ipython",
    "version": 3
   },
   "file_extension": ".py",
   "mimetype": "text/x-python",
   "name": "python",
   "nbconvert_exporter": "python",
   "pygments_lexer": "ipython3",
   "version": "3.12.11"
  }
 },
 "nbformat": 4,
 "nbformat_minor": 5
}
