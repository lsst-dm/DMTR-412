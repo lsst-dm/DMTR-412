{
 "cells": [
  {
   "cell_type": "markdown",
   "id": "3d9d3923-cdcb-4f99-bcb2-8c30a7723659",
   "metadata": {},
   "source": [
    "### Test case LVV-T1838: Verify calculation of image fraction affected by ghosts\n",
    "\n",
    "Verify that the DM system provides code to assess whether the percentage of image area that has ghosts with surface brightness gradient amplitude of more than 1/3 of the sky noise over 1 arcsec is less than **GhostAF = 1 percent**.\n",
    "\n",
    "*Discussion*: We will use the `compare_warp_artifact_mask` datasets, which record the masked pixels after the artifact rejection step has been run. These masks are created in the process of making deep coadds, wherein the set of overlapping warped visits are compared to each other to identify anomalies that appear only in a single visit. These are masked as CLIPPED and not included in the coadds.\n",
    "\n",
    "Note: artifact rejection simply removes any anomalous pixels. It thus does not explicitly address the portion of the requirement concerning the surface brightness gradient amplitude, and it also removes pixels that are anomalous for other reasons besides ghosts (e.g., asteroid streaks). Nonetheless, this test likely represents an upper limit on the number of pixels affected by ghosts."
   ]
  },
  {
   "cell_type": "code",
   "execution_count": 1,
   "id": "0e286c2d-e18d-4f83-ad4b-9e382cb9dee2",
   "metadata": {
    "execution": {
     "iopub.execute_input": "2025-08-21T17:29:40.904278Z",
     "iopub.status.busy": "2025-08-21T17:29:40.904148Z",
     "iopub.status.idle": "2025-08-21T17:29:42.528661Z",
     "shell.execute_reply": "2025-08-21T17:29:42.528203Z",
     "shell.execute_reply.started": "2025-08-21T17:29:40.904264Z"
    }
   },
   "outputs": [],
   "source": [
    "import numpy as np\n",
    "import matplotlib.pyplot as plt\n",
    "from astropy.table import Table\n",
    "\n",
    "from lsst.daf.butler import Butler\n",
    "import lsst.afw.display as afwDisplay"
   ]
  },
  {
   "cell_type": "code",
   "execution_count": 2,
   "id": "3e3c9a6d-fa0a-459a-a406-fcceb9ff97ad",
   "metadata": {
    "execution": {
     "iopub.execute_input": "2025-08-21T17:29:42.530429Z",
     "iopub.status.busy": "2025-08-21T17:29:42.530292Z",
     "iopub.status.idle": "2025-08-21T17:29:43.401145Z",
     "shell.execute_reply": "2025-08-21T17:29:43.400569Z",
     "shell.execute_reply.started": "2025-08-21T17:29:42.530412Z"
    }
   },
   "outputs": [],
   "source": [
    "butler = Butler('/repo/embargo', collections=\"LSSTCam/runs/DRP/20250604_20250814/w_2025_33/DM-52202\")"
   ]
  },
  {
   "cell_type": "markdown",
   "id": "3787c9c3-02f1-4dc7-87a4-6f68af370ffb",
   "metadata": {},
   "source": [
    "#### Query the butler for artifact masks\n",
    "\n",
    "Extract a list of datasetRefs for `compare_warp_artifact_mask` datasets."
   ]
  },
  {
   "cell_type": "code",
   "execution_count": 3,
   "id": "be638b2c-5116-4c24-bbed-09e6ea602f7f",
   "metadata": {
    "execution": {
     "iopub.execute_input": "2025-08-21T17:29:43.401798Z",
     "iopub.status.busy": "2025-08-21T17:29:43.401657Z",
     "iopub.status.idle": "2025-08-21T17:30:50.333455Z",
     "shell.execute_reply": "2025-08-21T17:30:50.332919Z",
     "shell.execute_reply.started": "2025-08-21T17:29:43.401784Z"
    }
   },
   "outputs": [],
   "source": [
    "amask_refs = butler.query_datasets('compare_warp_artifact_mask',\n",
    "                                   collections=\"LSSTCam/runs/DRP/20250604_20250814/w_2025_33/DM-52202\",\n",
    "                                   limit=None)"
   ]
  },
  {
   "cell_type": "code",
   "execution_count": 4,
   "id": "8d9a94d5-26e6-4894-9fe6-4cc4ce527276",
   "metadata": {
    "execution": {
     "iopub.execute_input": "2025-08-21T17:30:50.334078Z",
     "iopub.status.busy": "2025-08-21T17:30:50.333924Z",
     "iopub.status.idle": "2025-08-21T17:30:50.337148Z",
     "shell.execute_reply": "2025-08-21T17:30:50.336741Z",
     "shell.execute_reply.started": "2025-08-21T17:30:50.334062Z"
    }
   },
   "outputs": [
    {
     "data": {
      "text/plain": [
       "834983"
      ]
     },
     "execution_count": 4,
     "metadata": {},
     "output_type": "execute_result"
    }
   ],
   "source": [
    "len(amask_refs)"
   ]
  },
  {
   "cell_type": "markdown",
   "id": "bd80ef54-c0f4-4e13-95ed-e1c8ddf83a0e",
   "metadata": {},
   "source": [
    "#### Extract stats from a subset of images\n",
    "\n",
    "Randomly select a large number (5000) images, extracting the counts of pixels masked with each of the various mask bits. Extract for each image the number of pixels containing data (i.e., that aren't masked with NO_DATA), then calculate the fraction of pixels with data that were masked as CLIPPED."
   ]
  },
  {
   "cell_type": "code",
   "execution_count": 5,
   "id": "4f1f6ddc-ab48-4d1c-9c77-a20fbaba77fe",
   "metadata": {
    "execution": {
     "iopub.execute_input": "2025-08-21T17:30:50.337605Z",
     "iopub.status.busy": "2025-08-21T17:30:50.337471Z",
     "iopub.status.idle": "2025-08-21T17:42:40.488187Z",
     "shell.execute_reply": "2025-08-21T17:42:40.487666Z",
     "shell.execute_reply.started": "2025-08-21T17:30:50.337590Z"
    }
   },
   "outputs": [
    {
     "name": "stderr",
     "output_type": "stream",
     "text": [
      "/tmp/ipykernel_43350/3353062304.py:23: RuntimeWarning: invalid value encountered in scalar divide\n",
      "  clipped_stats.append(mask_count_dict['CLIPPED']/npix)\n"
     ]
    }
   ],
   "source": [
    "clipped_stats = []\n",
    "nclipped = []\n",
    "npix_with_data = []\n",
    "\n",
    "nsamples = 5000\n",
    "random_indices = np.random.randint(0, len(amask_refs), nsamples)\n",
    "\n",
    "for ind in random_indices:\n",
    "    amask = butler.get(amask_refs[ind])\n",
    "    mask_count_dict = {}\n",
    "\n",
    "    for key in amask.getMaskPlaneDict().keys():\n",
    "        mask_count_dict[key] = 0\n",
    "\n",
    "    values, counts = np.unique(amask.array, return_counts=True)\n",
    "    for value, count in zip(values, counts):\n",
    "        # print(value, '('+str(count)+')', amask.interpret(value))\n",
    "        if value > 0:\n",
    "            for plane in str.split(amask.interpret(value), ','):\n",
    "                mask_count_dict[plane] += count\n",
    "\n",
    "    npix = (np.size(amask.array)-mask_count_dict['NO_DATA'])\n",
    "    clipped_stats.append(mask_count_dict['CLIPPED']/npix)\n",
    "    nclipped.append(mask_count_dict['CLIPPED'])\n",
    "    npix_with_data.append(npix)\n",
    "\n",
    "tab = Table([npix_with_data, nclipped, clipped_stats], names=['n_ok_pix', 'nclipped', 'clip_pct'])"
   ]
  },
  {
   "cell_type": "code",
   "execution_count": 6,
   "id": "60047014-02ae-414b-91a0-26f2798f2175",
   "metadata": {
    "execution": {
     "iopub.execute_input": "2025-08-21T17:42:40.488775Z",
     "iopub.status.busy": "2025-08-21T17:42:40.488633Z",
     "iopub.status.idle": "2025-08-21T17:42:40.748989Z",
     "shell.execute_reply": "2025-08-21T17:42:40.748516Z",
     "shell.execute_reply.started": "2025-08-21T17:42:40.488760Z"
    }
   },
   "outputs": [
    {
     "data": {
      "image/png": "[encoded data removed]",
      "text/plain": [
       "<Figure size 640x480 with 1 Axes>"
      ]
     },
     "metadata": {},
     "output_type": "display_data"
    }
   ],
   "source": [
    "plt.hist(tab['clip_pct'], bins=np.arange(0, 1.3, 0.01), histtype='step')\n",
    "plt.yscale('log')\n",
    "plt.title('per-warp % of pixels clipped by artifact masking')\n",
    "plt.ylabel('N')\n",
    "plt.xlabel('clipped percentage (%)')\n",
    "plt.show()"
   ]
  },
  {
   "cell_type": "markdown",
   "id": "25fda28e-4829-4062-b191-2b366944be0c",
   "metadata": {},
   "source": [
    "## Results\n",
    "\n",
    "We see that the vast majority of the images that were checked have clipped percentages less than 0.2%, and that all but a small handful of the 5000 images have clipped percentages <1.0%. Given that these percentages are likely upper limits on the fraction of pixels affected by ghosts, we deem this test a **Pass*."
   ]
  },
  {
   "cell_type": "code",
   "execution_count": null,
   "id": "f3230c16-e88b-48d8-8274-2fb1a18d26b0",
   "metadata": {},
   "outputs": [],
   "source": []
  }
 ],
 "metadata": {
  "kernelspec": {
   "display_name": "LSST",
   "language": "python",
   "name": "lsst"
  },
  "language_info": {
   "codemirror_mode": {
    "name": "ipython",
    "version": 3
   },
   "file_extension": ".py",
   "mimetype": "text/x-python",
   "name": "python",
   "nbconvert_exporter": "python",
   "pygments_lexer": "ipython3",
   "version": "3.12.11"
  }
 },
 "nbformat": 4,
 "nbformat_minor": 5
}
