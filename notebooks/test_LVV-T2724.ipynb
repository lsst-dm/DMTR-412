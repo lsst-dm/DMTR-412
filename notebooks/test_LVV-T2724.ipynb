{
 "cells": [
  {
   "cell_type": "markdown",
   "id": "691d56d9-6415-4e51-bf43-00ba275176a8",
   "metadata": {
    "execution": {
     "iopub.execute_input": "2025-08-21T22:57:29.615439Z",
     "iopub.status.busy": "2025-08-21T22:57:29.615075Z",
     "iopub.status.idle": "2025-08-21T22:57:29.618589Z",
     "shell.execute_reply": "2025-08-21T22:57:29.618100Z",
     "shell.execute_reply.started": "2025-08-21T22:57:29.615422Z"
    }
   },
   "source": [
    "## Test case LVV-T2724: \n",
    "\n",
    "### Specification: \n",
    "This test covers two requirements relating to high-volume queries on Qserv\n",
    "\n",
    "#### Requirement: DMS-REQ-0357  (Priority: 1b): Result latency for high-volume full-sky queries on the Object table <br>\n",
    "Specification: High-volume queries on the Object table -- queries that involve full-sky scans -- shall be answered in hvObjectQueryTime.\n",
    "hvObjectQueryTime: Maximum time allowed for retrieving results of a high-volume query of the Object table == 60 minutes\n",
    "\n",
    "#### Requirements ID: DMS-REQ-0361 (Priority: 1b)L Simultaneous users for high-volume queries\n",
    "Specification: The system shall support hvQueryUsers simultaneous high-volume queries running at any given time\n",
    "hvQueryUsers: Minimum number of simultaneous users performing high volume queries == 50 \n",
    "\n",
    "### Discussion:\n",
    "This is a query on Qserv, not the Butler\n",
    "DP1 full scan is teh best we can do 2025-07-22\n",
    "Eventually verify latency against a full scale, e.g DR1 sized Object catalog\n",
    "\n",
    "From ID: DMS-REQ-0356 (Priority: 1b) - a high-volume query shoudl return a result set > 0.5 GB\n",
    "Note: queryResult table result_4430668 is too large at 3203320192 bytes, max allowed size is 3145728000 bytes\n",
    "Mobu will simulate the hvQueryUsers. The script will compare the query time to the spec\n"
   ]
  },
  {
   "cell_type": "code",
   "execution_count": 1,
   "id": "7c788f0b-2916-4f94-9a85-45aab541ec2c",
   "metadata": {
    "execution": {
     "iopub.execute_input": "2025-08-22T17:59:52.050767Z",
     "iopub.status.busy": "2025-08-22T17:59:52.050638Z",
     "iopub.status.idle": "2025-08-22T17:59:52.052787Z",
     "shell.execute_reply": "2025-08-22T17:59:52.052441Z",
     "shell.execute_reply.started": "2025-08-22T17:59:52.050753Z"
    }
   },
   "outputs": [],
   "source": [
    "from lsst.rsp import get_tap_service\n",
    "import time"
   ]
  },
  {
   "cell_type": "code",
   "execution_count": 2,
   "id": "c1c5b112-f5ea-42c2-9811-0d55dc90a9c4",
   "metadata": {
    "execution": {
     "iopub.execute_input": "2025-08-22T17:59:52.053357Z",
     "iopub.status.busy": "2025-08-22T17:59:52.053231Z",
     "iopub.status.idle": "2025-08-22T17:59:52.089154Z",
     "shell.execute_reply": "2025-08-22T17:59:52.088797Z",
     "shell.execute_reply.started": "2025-08-22T17:59:52.053344Z"
    }
   },
   "outputs": [],
   "source": [
    "# Requirements specs\n",
    "\n",
    "# Maximum time allowed for retrieving results of a high-volume query of the Object table (hour)\n",
    "hvObjectQueryTime = 1\n",
    "\n",
    "# Minimum number of simultaneous users performing high volume queries. (mobu)\n",
    "hvQueryUsers = 50 "
   ]
  },
  {
   "cell_type": "code",
   "execution_count": 3,
   "id": "7e37e3dd-df40-4d5d-a497-d5a475906176",
   "metadata": {
    "execution": {
     "iopub.execute_input": "2025-08-22T17:59:52.089892Z",
     "iopub.status.busy": "2025-08-22T17:59:52.089580Z",
     "iopub.status.idle": "2025-08-22T17:59:52.130544Z",
     "shell.execute_reply": "2025-08-22T17:59:52.130190Z",
     "shell.execute_reply.started": "2025-08-22T17:59:52.089877Z"
    }
   },
   "outputs": [],
   "source": [
    "service = get_tap_service(\"tap\")\n",
    "assert service is not None"
   ]
  },
  {
   "cell_type": "code",
   "execution_count": 4,
   "id": "97c79b64-3016-4092-a18a-06d044f6447c",
   "metadata": {
    "execution": {
     "iopub.execute_input": "2025-08-22T17:59:52.131084Z",
     "iopub.status.busy": "2025-08-22T17:59:52.130949Z",
     "iopub.status.idle": "2025-08-22T17:59:52.176203Z",
     "shell.execute_reply": "2025-08-22T17:59:52.175842Z",
     "shell.execute_reply.started": "2025-08-22T17:59:52.131071Z"
    }
   },
   "outputs": [],
   "source": [
    "# Calculate size in gigabytes (GB)\n",
    "def get_size_in_gb(df): \n",
    "    size = df.memory_usage(deep=True).sum()\n",
    "    size /= 1024 ** 3\n",
    "    return size"
   ]
  },
  {
   "cell_type": "code",
   "execution_count": 5,
   "id": "0fb1ebf8-9be7-416f-98ba-9bc249a1c86a",
   "metadata": {
    "execution": {
     "iopub.execute_input": "2025-08-22T17:59:52.177613Z",
     "iopub.status.busy": "2025-08-22T17:59:52.177475Z",
     "iopub.status.idle": "2025-08-22T17:59:52.202098Z",
     "shell.execute_reply": "2025-08-22T17:59:52.201737Z",
     "shell.execute_reply.started": "2025-08-22T17:59:52.177599Z"
    }
   },
   "outputs": [
    {
     "name": "stdout",
     "output_type": "stream",
     "text": [
      "SELECT coord_dec,coord_ra,deblend_nChild,detect_fromBlend,detect_isIsolated,g_centroid_x,g_centroid_y,\n",
      "       g_cModelMag,g_cModelMagErr,g_dec,g_epoch,g_psfMag,g_psfMagErr,g_ra,i_centroid_x,i_centroid_y,\n",
      "       i_cModelMag,i_cModelMagErr,i_dec,i_epoch,i_psfMag,i_psfMagErr,i_ra,objectId,parentObjectId,\n",
      "       patch,r_centroid_x,r_centroid_y,r_cModelMag,r_cModelMagErr,r_dec,r_epoch,r_psfMag,r_psfMagErr,\n",
      "       r_ra,refBand,refExtendedness,refSizeExtendedness,sersic_dec,sersic_ra,sersic_x,sersic_y,\n",
      "       shape_xx,shape_xy,shape_yy,tract,u_centroid_x,u_centroid_y,u_cModelMag,u_cModelMagErr,u_dec,\n",
      "       u_epoch,u_psfMag,u_psfMagErr,u_ra,x,y,y_centroid_x,y_centroid_y,y_cModelMag,y_cModelMagErr,\n",
      "       y_dec,y_epoch,y_psfMag,y_psfMagErr,y_ra,z_centroid_x,z_centroid_y,z_cModelMag,z_cModelMagErr,\n",
      "       z_dec,z_epoch,z_psfMag,z_psfMagErr,z_ra  FROM dp1.Object\n",
      "\n"
     ]
    }
   ],
   "source": [
    "# High-volume query \n",
    "query = \"\"\"SELECT * FROM dp1.Object\n",
    "\"\"\"\n",
    "print(query)"
   ]
  },
  {
   "cell_type": "code",
   "execution_count": 6,
   "id": "0bf3d33e-6a54-4c24-b4c4-6adeb8571e8c",
   "metadata": {
    "execution": {
     "iopub.execute_input": "2025-08-22T17:59:52.202644Z",
     "iopub.status.busy": "2025-08-22T17:59:52.202513Z",
     "iopub.status.idle": "2025-08-22T17:59:52.264756Z",
     "shell.execute_reply": "2025-08-22T17:59:52.264280Z",
     "shell.execute_reply.started": "2025-08-22T17:59:52.202631Z"
    }
   },
   "outputs": [],
   "source": [
    "job = service.submit_job(query)"
   ]
  },
  {
   "cell_type": "code",
   "execution_count": 7,
   "id": "44db8e79-e053-4931-b259-a2e8b3bdca42",
   "metadata": {
    "execution": {
     "iopub.execute_input": "2025-08-22T17:59:52.265393Z",
     "iopub.status.busy": "2025-08-22T17:59:52.265258Z",
     "iopub.status.idle": "2025-08-22T18:01:24.671248Z",
     "shell.execute_reply": "2025-08-22T18:01:24.670653Z",
     "shell.execute_reply.started": "2025-08-22T17:59:52.265380Z"
    }
   },
   "outputs": [
    {
     "name": "stdout",
     "output_type": "stream",
     "text": [
      "Job phase is ERROR\n"
     ]
    },
    {
     "ename": "DALQueryError",
     "evalue": "Query Error: ClassCastException:null",
     "output_type": "error",
     "traceback": [
      "\u001b[0;31m---------------------------------------------------------------------------\u001b[0m",
      "\u001b[0;31mDALQueryError\u001b[0m                             Traceback (most recent call last)",
      "Cell \u001b[0;32mIn[7], line 9\u001b[0m\n\u001b[1;32m      6\u001b[0m \u001b[38;5;28mprint\u001b[39m(\u001b[38;5;124m'\u001b[39m\u001b[38;5;124mJob phase is\u001b[39m\u001b[38;5;124m'\u001b[39m, job\u001b[38;5;241m.\u001b[39mphase)\n\u001b[1;32m      8\u001b[0m \u001b[38;5;28;01mif\u001b[39;00m job\u001b[38;5;241m.\u001b[39mphase \u001b[38;5;241m==\u001b[39m \u001b[38;5;124m'\u001b[39m\u001b[38;5;124mERROR\u001b[39m\u001b[38;5;124m'\u001b[39m:\n\u001b[0;32m----> 9\u001b[0m     \u001b[43mjob\u001b[49m\u001b[38;5;241;43m.\u001b[39;49m\u001b[43mraise_if_error\u001b[49m\u001b[43m(\u001b[49m\u001b[43m)\u001b[49m\n\u001b[1;32m     10\u001b[0m \u001b[38;5;28;01massert\u001b[39;00m job\u001b[38;5;241m.\u001b[39mphase \u001b[38;5;241m==\u001b[39m \u001b[38;5;124m'\u001b[39m\u001b[38;5;124mCOMPLETED\u001b[39m\u001b[38;5;124m'\u001b[39m\n\u001b[1;32m     12\u001b[0m results \u001b[38;5;241m=\u001b[39m job\u001b[38;5;241m.\u001b[39mfetch_result()\n",
      "File \u001b[0;32m/opt/lsst/software/stack/conda/envs/lsst-scipipe-10.0.0/lib/python3.12/site-packages/pyvo/dal/tap.py:1018\u001b[0m, in \u001b[0;36mAsyncTAPJob.raise_if_error\u001b[0;34m(self)\u001b[0m\n\u001b[1;32m   1016\u001b[0m     msg \u001b[38;5;241m=\u001b[39m \u001b[38;5;28mself\u001b[39m\u001b[38;5;241m.\u001b[39m_job\u001b[38;5;241m.\u001b[39merrorsummary\u001b[38;5;241m.\u001b[39mmessage\u001b[38;5;241m.\u001b[39mcontent\n\u001b[1;32m   1017\u001b[0m msg \u001b[38;5;241m=\u001b[39m msg \u001b[38;5;129;01mor\u001b[39;00m \u001b[38;5;124m\"\u001b[39m\u001b[38;5;124m<No useful error from server>\u001b[39m\u001b[38;5;124m\"\u001b[39m\n\u001b[0;32m-> 1018\u001b[0m \u001b[38;5;28;01mraise\u001b[39;00m DALQueryError(\u001b[38;5;124m\"\u001b[39m\u001b[38;5;124mQuery Error: \u001b[39m\u001b[38;5;124m\"\u001b[39m \u001b[38;5;241m+\u001b[39m msg, \u001b[38;5;28mself\u001b[39m\u001b[38;5;241m.\u001b[39murl)\n",
      "\u001b[0;31mDALQueryError\u001b[0m: Query Error: ClassCastException:null"
     ]
    }
   ],
   "source": [
    "# time the part from job run start to successfully returning the result set\n",
    "start_time = time.time()\n",
    "job.run()\n",
    "\n",
    "job.wait(phases=['COMPLETED', 'ERROR'])\n",
    "print('Job phase is', job.phase)\n",
    "\n",
    "if job.phase == 'ERROR':\n",
    "    job.raise_if_error()\n",
    "assert job.phase == 'COMPLETED'\n",
    "\n",
    "results = job.fetch_result()\n",
    "end_time = time.time()"
   ]
  },
  {
   "cell_type": "code",
   "execution_count": null,
   "id": "084d6d62-2efa-43e7-b5fc-16d3ec649ebd",
   "metadata": {
    "execution": {
     "iopub.status.busy": "2025-08-22T18:01:24.671537Z",
     "iopub.status.idle": "2025-08-22T18:01:24.671706Z",
     "shell.execute_reply": "2025-08-22T18:01:24.671628Z",
     "shell.execute_reply.started": "2025-08-22T18:01:24.671620Z"
    }
   },
   "outputs": [],
   "source": [
    "# Run time\n",
    "execution_time = end_time - start_time\n",
    "print(f\"Execution time: {execution_time}\")"
   ]
  },
  {
   "cell_type": "code",
   "execution_count": null,
   "id": "d11cabda-fa65-42ad-bba4-56ba522071c8",
   "metadata": {
    "execution": {
     "iopub.status.busy": "2025-08-22T18:01:24.672167Z",
     "iopub.status.idle": "2025-08-22T18:01:24.672325Z",
     "shell.execute_reply": "2025-08-22T18:01:24.672252Z",
     "shell.execute_reply.started": "2025-08-22T18:01:24.672244Z"
    }
   },
   "outputs": [],
   "source": [
    "# Result set size\n",
    "df = results.to_table().to_pandas()\n",
    "size = get_size_in_gb(df)\n",
    "print(f\"DataFrame size: {size:.2f} GB\")\n",
    "# df.info(memory_usage='deep')"
   ]
  },
  {
   "cell_type": "code",
   "execution_count": null,
   "id": "acff8848-4064-49a8-b927-841097037cd8",
   "metadata": {
    "execution": {
     "iopub.status.busy": "2025-08-22T18:01:24.672652Z",
     "iopub.status.idle": "2025-08-22T18:01:24.672805Z",
     "shell.execute_reply": "2025-08-22T18:01:24.672733Z",
     "shell.execute_reply.started": "2025-08-22T18:01:24.672726Z"
    }
   },
   "outputs": [],
   "source": [
    "job.delete()\n",
    "del query, results"
   ]
  },
  {
   "cell_type": "code",
   "execution_count": null,
   "id": "384d1656-01c2-4b75-82bc-1637610c24a6",
   "metadata": {
    "execution": {
     "iopub.status.busy": "2025-08-22T18:01:24.673199Z",
     "iopub.status.idle": "2025-08-22T18:01:24.673351Z",
     "shell.execute_reply": "2025-08-22T18:01:24.673281Z",
     "shell.execute_reply.started": "2025-08-22T18:01:24.673274Z"
    }
   },
   "outputs": [],
   "source": [
    "# Check we are withing spec \n",
    "# assert time_query <= hvObjectQueryTime"
   ]
  }
 ],
 "metadata": {
  "kernelspec": {
   "display_name": "LSST",
   "language": "python",
   "name": "lsst"
  },
  "language_info": {
   "codemirror_mode": {
    "name": "ipython",
    "version": 3
   },
   "file_extension": ".py",
   "mimetype": "text/x-python",
   "name": "python",
   "nbconvert_exporter": "python",
   "pygments_lexer": "ipython3",
   "version": "3.12.11"
  }
 },
 "nbformat": 4,
 "nbformat_minor": 5
}
