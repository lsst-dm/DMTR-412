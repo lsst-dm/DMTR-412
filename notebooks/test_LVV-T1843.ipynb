{
 "cells": [
  {
   "cell_type": "markdown",
   "id": "a6d1330c-5aa6-4790-90b7-2b09eb6fc8f3",
   "metadata": {},
   "source": [
    "### Test case LVV-T1843: Verify calculation of significance of imperfect crosstalk corrections\n",
    "\n",
    "Verify that the DM system provides software to assess whether the maximum local significance integrated over the PSF of imperfect crosstalk corrections is less than **Xtalk = 3 sigma**.\n",
    "\n",
    "**Discussion:** The **Xtalk** metric is defined as \"the maximum local significance integrated over the PSF of imperfect crosstalk corrections.\" To test this requirement, we will identify bright stars on various LSSTComCam processed exposures to check for crosstalk residuals at the expected target locations. This will provide an estimate of the **Xtalk** value.\n"
   ]
  },
  {
   "cell_type": "markdown",
   "id": "04d08e38-006b-4861-a3fd-77a414414bfe",
   "metadata": {},
   "source": [
    "This section will scan for crosstalk residuals at expected locations, and will compile a table, `intra_detector_catalog`, containing residual analysis within the same detector as the source creating the crosstalk.\n",
    "This catalog is written to disk, so the exposure scan can be skipped to make things run faster."
   ]
  },
  {
   "cell_type": "code",
   "execution_count": 1,
   "id": "9d3af13b-97a7-43fd-988a-bc149e0b8ba5",
   "metadata": {
    "execution": {
     "iopub.execute_input": "2025-04-23T22:09:49.944202Z",
     "iopub.status.busy": "2025-04-23T22:09:49.944081Z",
     "iopub.status.idle": "2025-04-23T22:09:52.579174Z",
     "shell.execute_reply": "2025-04-23T22:09:52.578701Z",
     "shell.execute_reply.started": "2025-04-23T22:09:49.944187Z"
    }
   },
   "outputs": [],
   "source": [
    "# Standard imports\n",
    "import copy\n",
    "import numpy as np\n",
    "import matplotlib.pyplot as plt\n",
    "from tqdm.notebook import tqdm\n",
    "from astropy.coordinates import SkyCoord\n",
    "import astropy.units as u\n",
    "from astroquery.gaia import Gaia\n",
    "from astropy.table import Table\n",
    "import lsst.afw.display as afwDisplay\n",
    "from lsst.daf.butler import Butler, DatasetNotFoundError\n",
    "from lsst.afw.cameraGeom import ReadoutCorner\n",
    "import lsst.geom as geom\n",
    "\n",
    "from mpl_toolkits.axes_grid1 import make_axes_locatable"
   ]
  },
  {
   "cell_type": "markdown",
   "id": "57e0552e-a96e-4adb-b475-9bae3c10b710",
   "metadata": {},
   "source": [
    "Initialize the butler, and define the collection (corresponding to w_2025_10 processing) we will use."
   ]
  },
  {
   "cell_type": "code",
   "execution_count": 2,
   "id": "4fac46f6-414d-4957-a225-a48f3ea485a7",
   "metadata": {
    "execution": {
     "iopub.execute_input": "2025-04-23T22:09:52.581351Z",
     "iopub.status.busy": "2025-04-23T22:09:52.581201Z",
     "iopub.status.idle": "2025-04-23T22:09:52.951607Z",
     "shell.execute_reply": "2025-04-23T22:09:52.951132Z",
     "shell.execute_reply.started": "2025-04-23T22:09:52.581334Z"
    }
   },
   "outputs": [],
   "source": [
    "INSTRUMENT = \"LSSTComCam\"\n",
    "COLLECTION = \"LSSTComCam/runs/DRP/DP1/w_2025_10/DM-49359\"\n",
    "butler = Butler(\"/repo/main\")"
   ]
  },
  {
   "cell_type": "markdown",
   "id": "a0ba0de3-2f51-4fbe-a897-1896db4a0262",
   "metadata": {},
   "source": [
    "### Retrieve bright stars from Gaia\n",
    "\n",
    "Create a function that queries the Gaia DR3 catalog for bright stars, using a cone search about a specified RA, Dec position."
   ]
  },
  {
   "cell_type": "code",
   "execution_count": 3,
   "id": "09138c57-4d72-4a87-8a19-f183aeac00e1",
   "metadata": {
    "execution": {
     "iopub.execute_input": "2025-04-23T22:09:52.952285Z",
     "iopub.status.busy": "2025-04-23T22:09:52.952137Z",
     "iopub.status.idle": "2025-04-23T22:09:52.955472Z",
     "shell.execute_reply": "2025-04-23T22:09:52.955074Z",
     "shell.execute_reply.started": "2025-04-23T22:09:52.952268Z"
    }
   },
   "outputs": [],
   "source": [
    "def get_bright_gaia_stars(skycoord, radius=1.0, maglim=8.0):\n",
    "    \"\"\"Execute a cone search from Gaia DR3 about a specified position,\n",
    "       retrieving all sources brighter than a limiting magnitude.\n",
    "\n",
    "    Parameters\n",
    "    ----------\n",
    "    skycoord : Astropy `SkyCoord` object\n",
    "        Center position for the cone search.\n",
    "    radius : `float`\n",
    "        Radius in degrees to search. Default: 1.0 deg.\n",
    "    maglim : `float`\n",
    "        Magnitude limit for search, in Gaia G mag. Default: 8.0.\n",
    "\n",
    "    Returns\n",
    "    -------\n",
    "    gaia_cat : Astropy `Table`\n",
    "         Table of Gaia measurements within the specified cone.\n",
    "    \"\"\"\n",
    "\n",
    "    job = Gaia.launch_job_async(f\"SELECT ra, dec, phot_g_mean_mag, DISTANCE({skycoord.ra.deg}, {skycoord.dec.deg}, ra, dec) AS ang_sep \\\n",
    "                                FROM gaiadr3.gaia_source WHERE DISTANCE({skycoord.ra.deg}, {skycoord.dec.deg}, ra, dec) < {radius} \\\n",
    "                                AND phot_g_mean_mag < {maglim} \\\n",
    "                                ORDER BY phot_g_mean_mag ASC\")\n",
    "    gaia_cat = job.get_results()\n",
    "    return gaia_cat"
   ]
  },
  {
   "cell_type": "markdown",
   "id": "b811f49d-789a-4743-b990-13e45c17eefc",
   "metadata": {},
   "source": [
    "Search around the central coordinates of four fields observed frequently during ComCam on-sky campaigns."
   ]
  },
  {
   "cell_type": "code",
   "execution_count": 4,
   "id": "6fa25df1-863c-4b7f-96dc-5b89c5c0f0dc",
   "metadata": {
    "execution": {
     "iopub.execute_input": "2025-04-23T22:09:52.956197Z",
     "iopub.status.busy": "2025-04-23T22:09:52.955927Z",
     "iopub.status.idle": "2025-04-23T22:09:52.962352Z",
     "shell.execute_reply": "2025-04-23T22:09:52.961996Z",
     "shell.execute_reply.started": "2025-04-23T22:09:52.956180Z"
    }
   },
   "outputs": [],
   "source": [
    "center_coords = {\"ECDFS\": (53.13, -28.10),\n",
    "                 \"EDFS\": (59.10, -48.73),\n",
    "                 \"Rubin_SV_95_-25\": (95.00, -25.00),\n",
    "                 \"Rubin_SV_38_7\": (37.86, 6.98)\n",
    "                }"
   ]
  },
  {
   "cell_type": "code",
   "execution_count": 5,
   "id": "1dd2e42a-9c02-4070-b10d-a8330499e94f",
   "metadata": {
    "execution": {
     "iopub.execute_input": "2025-04-23T22:09:52.962918Z",
     "iopub.status.busy": "2025-04-23T22:09:52.962786Z",
     "iopub.status.idle": "2025-04-23T22:10:04.267133Z",
     "shell.execute_reply": "2025-04-23T22:10:04.266672Z",
     "shell.execute_reply.started": "2025-04-23T22:09:52.962904Z"
    }
   },
   "outputs": [
    {
     "name": "stdout",
     "output_type": "stream",
     "text": [
      "INFO: Query finished. [astroquery.utils.tap.core]\n"
     ]
    },
    {
     "data": {
      "text/html": [
       "<pre style=\"margin: 0.1em;\n",
       "padding-left: 0.25em;\n",
       "border-left-style: solid;\n",
       "font-family: var(--jp-code-font-family);\n",
       "font-size: var(--jp-code-font-size);\n",
       "line-height: var(--jp-code-line-height);\n",
       "\"><span style=\"color: var(--jp-warn-color2)\">astroquery</span> <span style=\"color: var(--jp-info-color0)\">INFO</span>: Query finished.</pre>"
      ],
      "text/plain": [
       "<IPython.core.display.HTML object>"
      ]
     },
     "metadata": {},
     "output_type": "display_data"
    },
    {
     "name": "stdout",
     "output_type": "stream",
     "text": [
      "INFO: Query finished. [astroquery.utils.tap.core]\n"
     ]
    },
    {
     "data": {
      "text/html": [
       "<pre style=\"margin: 0.1em;\n",
       "padding-left: 0.25em;\n",
       "border-left-style: solid;\n",
       "font-family: var(--jp-code-font-family);\n",
       "font-size: var(--jp-code-font-size);\n",
       "line-height: var(--jp-code-line-height);\n",
       "\"><span style=\"color: var(--jp-warn-color2)\">astroquery</span> <span style=\"color: var(--jp-info-color0)\">INFO</span>: Query finished.</pre>"
      ],
      "text/plain": [
       "<IPython.core.display.HTML object>"
      ]
     },
     "metadata": {},
     "output_type": "display_data"
    },
    {
     "name": "stdout",
     "output_type": "stream",
     "text": [
      "INFO: Query finished. [astroquery.utils.tap.core]\n"
     ]
    },
    {
     "data": {
      "text/html": [
       "<pre style=\"margin: 0.1em;\n",
       "padding-left: 0.25em;\n",
       "border-left-style: solid;\n",
       "font-family: var(--jp-code-font-family);\n",
       "font-size: var(--jp-code-font-size);\n",
       "line-height: var(--jp-code-line-height);\n",
       "\"><span style=\"color: var(--jp-warn-color2)\">astroquery</span> <span style=\"color: var(--jp-info-color0)\">INFO</span>: Query finished.</pre>"
      ],
      "text/plain": [
       "<IPython.core.display.HTML object>"
      ]
     },
     "metadata": {},
     "output_type": "display_data"
    },
    {
     "name": "stdout",
     "output_type": "stream",
     "text": [
      "INFO: Query finished. [astroquery.utils.tap.core]\n"
     ]
    },
    {
     "data": {
      "text/html": [
       "<pre style=\"margin: 0.1em;\n",
       "padding-left: 0.25em;\n",
       "border-left-style: solid;\n",
       "font-family: var(--jp-code-font-family);\n",
       "font-size: var(--jp-code-font-size);\n",
       "line-height: var(--jp-code-line-height);\n",
       "\"><span style=\"color: var(--jp-warn-color2)\">astroquery</span> <span style=\"color: var(--jp-info-color0)\">INFO</span>: Query finished.</pre>"
      ],
      "text/plain": [
       "<IPython.core.display.HTML object>"
      ]
     },
     "metadata": {},
     "output_type": "display_data"
    },
    {
     "name": "stdout",
     "output_type": "stream",
     "text": [
      "ECDFS         ra               dec        phot_g_mean_mag      ang_sep      \n",
      "       deg               deg              mag                         \n",
      "----------------- ----------------- --------------- ------------------\n",
      "52.66809100336391 -27.9215393549127       7.7354326 0.4451394610172921\n",
      "EDFS         ra                dec         phot_g_mean_mag       ang_sep      \n",
      "       deg                deg               mag                          \n",
      "----------------- ------------------- --------------- -------------------\n",
      "59.21392814230366 -48.478592045879886       7.0150785 0.26245260597673004\n",
      "Rubin_SV_95_-25         ra                dec         phot_g_mean_mag       ang_sep      \n",
      "       deg                deg               mag                          \n",
      "----------------- ------------------- --------------- -------------------\n",
      "94.73159883524747 -25.012726329400653        7.013944 0.24357411776683183\n",
      " 94.8136400244342 -24.974892882913373       7.3479795 0.17077245165162522\n",
      "Rubin_SV_38_7         ra               dec        phot_g_mean_mag       ang_sep      \n",
      "       deg               deg              mag                          \n",
      "----------------- ----------------- --------------- -------------------\n",
      "38.05070234190872 6.717251751698278        7.299231 0.32386235301514266\n"
     ]
    }
   ],
   "source": [
    "bright_star_tables = {}\n",
    "\n",
    "for field in center_coords.keys():\n",
    "    rr, dd = center_coords[field]\n",
    "    sc = SkyCoord(ra=rr*u.deg, dec=dd*u.deg, frame='icrs')\n",
    "\n",
    "    tab = get_bright_gaia_stars(sc, maglim=7.8, radius=0.5)\n",
    "    bright_star_tables[field] = tab\n",
    "\n",
    "for key in bright_star_tables.keys():\n",
    "    print(key, bright_star_tables[key])"
   ]
  },
  {
   "cell_type": "markdown",
   "id": "36f97bad-bc09-405a-9e13-d1ebaf7e960a",
   "metadata": {},
   "source": [
    "### Query for datasets overlapping each bright star\n",
    "\n",
    "Query the butler for `calexp` images overlapping the positions of each bright star. For expediency, subselect from these images. Identify the (x, y) position of the bright star on each of the images, and retain this along with the visit and detector numbers."
   ]
  },
  {
   "cell_type": "code",
   "execution_count": 6,
   "id": "e5580cab-6738-45e6-9750-f6852ff0283e",
   "metadata": {
    "execution": {
     "iopub.execute_input": "2025-04-23T22:10:04.267808Z",
     "iopub.status.busy": "2025-04-23T22:10:04.267665Z",
     "iopub.status.idle": "2025-04-23T22:10:04.272692Z",
     "shell.execute_reply": "2025-04-23T22:10:04.272311Z",
     "shell.execute_reply.started": "2025-04-23T22:10:04.267794Z"
    }
   },
   "outputs": [],
   "source": [
    "def make_bright_stars_catalog(bright_star_tables, percent_to_keep=100.0):\n",
    "    \"\"\"Given a dict containing tables retrieved from Gaia, query the butler\n",
    "       for calexp images overlapping all stars in the input tables.\n",
    "\n",
    "    Parameters\n",
    "    ----------\n",
    "    bright_star_tables : `dict` of Astropy `Tables`\n",
    "        Dict keyed on field names, containing tables returned by\n",
    "        get_bright_gaia_stars.\n",
    "    percent_to_keep : `float`\n",
    "        Percentage of query results to keep (from 0-100%). Default: 100.0 percent.\n",
    "\n",
    "    Returns\n",
    "    -------\n",
    "    bright_stars_list : `list` of `tuples`\n",
    "         List containing visit and detector IDs, and xy positions, of\n",
    "         stars from the input tables.\n",
    "    \"\"\"\n",
    "    bright_stars_list = []\n",
    "    for field in bright_star_tables.keys():\n",
    "        print(f\"\\nField: {field}\\n\")\n",
    "        tab = bright_star_tables[field]\n",
    "        for star in tab:\n",
    "            rr = star['ra']\n",
    "            dd = star['dec']\n",
    "            \n",
    "            datasetRefs = butler.query_datasets(\"calexp\", collections=COLLECTION,\n",
    "                                                where=\"visit_detector_region.region OVERLAPS POINT(ra, dec)\",\n",
    "                                                bind={\"ra\": rr, \"dec\": dd}, with_dimension_records=True)\n",
    "\n",
    "            print(f\"Found {len(datasetRefs)} refs at (ra, dec) = ({rr}, {dd})\")\n",
    "            subsetRefs = np.random.choice(datasetRefs, size=int((percent_to_keep/100)*len(datasetRefs)), replace=False)\n",
    "            print(f\"Keeping {len(subsetRefs)}\")\n",
    "            radec = geom.SpherePoint(rr*geom.degrees, dd*geom.degrees)\n",
    "            # for ref in datasetRefs:\n",
    "            for ref in subsetRefs:\n",
    "                wcs = butler.get(ref.makeComponentRef('wcs'))\n",
    "                xy = wcs.skyToPixel(radec)\n",
    "                bright_stars_list.append((ref.dataId['visit'],\n",
    "                                          ref.dataId['detector'],\n",
    "                                          [xy.x, xy.y])\n",
    "                                        )\n",
    "    return bright_stars_list\n",
    "            "
   ]
  },
  {
   "cell_type": "code",
   "execution_count": 7,
   "id": "d04c3d6c-d52f-4afa-80b8-9490acb30fb8",
   "metadata": {
    "execution": {
     "iopub.execute_input": "2025-04-23T22:10:04.273254Z",
     "iopub.status.busy": "2025-04-23T22:10:04.273123Z",
     "iopub.status.idle": "2025-04-23T22:10:12.258533Z",
     "shell.execute_reply": "2025-04-23T22:10:12.258068Z",
     "shell.execute_reply.started": "2025-04-23T22:10:04.273241Z"
    }
   },
   "outputs": [
    {
     "name": "stdout",
     "output_type": "stream",
     "text": [
      "\n",
      "Field: ECDFS\n",
      "\n",
      "Found 236 refs at (ra, dec) = (52.66809100336391, -27.9215393549127)\n",
      "Keeping 59\n",
      "\n",
      "Field: EDFS\n",
      "\n",
      "Found 266 refs at (ra, dec) = (59.21392814230366, -48.478592045879886)\n",
      "Keeping 66\n",
      "\n",
      "Field: Rubin_SV_95_-25\n",
      "\n",
      "Found 293 refs at (ra, dec) = (94.73159883524747, -25.012726329400653)\n",
      "Keeping 73\n",
      "Found 330 refs at (ra, dec) = (94.8136400244342, -24.974892882913373)\n",
      "Keeping 82\n",
      "\n",
      "Field: Rubin_SV_38_7\n",
      "\n",
      "Found 48 refs at (ra, dec) = (38.05070234190872, 6.717251751698278)\n",
      "Keeping 12\n"
     ]
    }
   ],
   "source": [
    "# Keep 25% of the images.\n",
    "bright_star_catalog = make_bright_stars_catalog(bright_star_tables, percent_to_keep=25.0)"
   ]
  },
  {
   "cell_type": "code",
   "execution_count": 8,
   "id": "aa203efd-0611-46d3-91d7-2143bc4ce1b8",
   "metadata": {
    "execution": {
     "iopub.execute_input": "2025-04-23T22:10:12.259264Z",
     "iopub.status.busy": "2025-04-23T22:10:12.259116Z",
     "iopub.status.idle": "2025-04-23T22:10:12.262537Z",
     "shell.execute_reply": "2025-04-23T22:10:12.262168Z",
     "shell.execute_reply.started": "2025-04-23T22:10:12.259249Z"
    }
   },
   "outputs": [
    {
     "data": {
      "text/plain": [
       "292"
      ]
     },
     "execution_count": 8,
     "metadata": {},
     "output_type": "execute_result"
    }
   ],
   "source": [
    "len(bright_star_catalog)"
   ]
  },
  {
   "cell_type": "code",
   "execution_count": 9,
   "id": "a57c9d8e-c7e3-44f6-8dde-289f650f6b8f",
   "metadata": {
    "execution": {
     "iopub.execute_input": "2025-04-23T22:10:12.263136Z",
     "iopub.status.busy": "2025-04-23T22:10:12.262999Z",
     "iopub.status.idle": "2025-04-23T22:10:12.272731Z",
     "shell.execute_reply": "2025-04-23T22:10:12.272356Z",
     "shell.execute_reply.started": "2025-04-23T22:10:12.263121Z"
    }
   },
   "outputs": [],
   "source": [
    "# Define utility functions for this crosstalk study:\n",
    "def position_to_amp(position, detector):\n",
    "    \"\"\"Convert a LSST assembled image location to an amplifier and list of crosstalk-centers.\n",
    "\n",
    "    Parameters\n",
    "    ----------\n",
    "    position : `tuple` (`float`, `float)\n",
    "         Source position.\n",
    "    detector : `lsst.afw.cameraGeom.Detector`\n",
    "         Detector to use for geometry.  This is best taken\n",
    "         from the exposure to be studied.\n",
    "\n",
    "    Returns\n",
    "    -------\n",
    "    amplifier : `str`\n",
    "         Amplifier of source.\n",
    "    copositions : `list` (`tuple` (`float`, `float`))\n",
    "         List of alternate crosstalk locations.\n",
    "    \"\"\"\n",
    "    x, y = position\n",
    "    sourceAmp = None\n",
    "    associatedPositions = []\n",
    "    for amp in detector:\n",
    "        ampBox = amp.getBBox()\n",
    "        if ampBox.contains(x, y):\n",
    "            sourceAmp = amp.getName()\n",
    "            if amp.getReadoutCorner() == ReadoutCorner.UR:\n",
    "                vector = (ampBox.maxX - x, ampBox.maxY - y)\n",
    "            elif amp.getReadoutCorner() == ReadoutCorner.LR:\n",
    "                vector = (ampBox.maxX - x, y - ampBox.minY)\n",
    "\n",
    "    ampList = []\n",
    "    try:\n",
    "        len(vector) > 0\n",
    "        for amp in detector:\n",
    "            ampBox = amp.getBBox()\n",
    "            if amp.getName() == sourceAmp:\n",
    "                continue\n",
    "            if amp.getReadoutCorner() == ReadoutCorner.UR:\n",
    "                associatedPositions.append((ampBox.maxX - vector[0], ampBox.maxY - vector[1]))\n",
    "            elif amp.getReadoutCorner() == ReadoutCorner.LR:\n",
    "                associatedPositions.append((ampBox.maxX - vector[0], vector[1] - ampBox.minY))\n",
    "            ampList.append(amp.getName())\n",
    "    except:\n",
    "        print(f\"Position {position} is outside of detector\")\n",
    "\n",
    "    return sourceAmp, associatedPositions, ampList\n",
    "\n",
    "def amps_to_order(sourceAmp, targetAmp):\n",
    "    \"\"\"Convert a pair of amps into a \"distance\"\n",
    "\n",
    "    Parameters\n",
    "    ----------\n",
    "    sourceAmp : `lsst.afw.cameraGeom.Amplifier`\n",
    "    targetAmp : `lsst.afw.cameraGeom.Amplifier`\n",
    "        Amplifiers being considered for crosstalk.\n",
    "\n",
    "    Returns\n",
    "    -------\n",
    "    order : `int`\n",
    "        Neighboring amps have order +/- 1; the amp directly \n",
    "        across midline break is +/- 10.  This groups measurements\n",
    "        by \"how far\" the signal needs to travel to crosstalk.\n",
    "    \"\"\"\n",
    "    source_list = list(sourceAmp)\n",
    "    target_list = list(targetAmp)\n",
    "\n",
    "    order = (int(sourceAmp[1]) - int(targetAmp[1])) * 10 + (int(sourceAmp[2]) - int(targetAmp[2]))\n",
    "    return order\n",
    "\n",
    "def lazy_phot(exposure, position, size=2):\n",
    "    \"\"\"Extract a simple square boxcar photometry estimate at a given position.\n",
    "\n",
    "    This should produce an upper bound compared to a proper PSF\n",
    "    based forced photometry routine, as a proper PSF is likely\n",
    "    narrower than this square boxcar filter.\n",
    "\n",
    "    Parameters\n",
    "    ----------\n",
    "    exposure: `lsst.afw.image.Exposure`\n",
    "        Exposure to measure.\n",
    "    position: `tuple`\n",
    "        Position at which to measure.\n",
    "    size: `int`\n",
    "        The half-size/radius to measure around the position.\n",
    "\n",
    "    Returns\n",
    "    -------\n",
    "    image : `float`\n",
    "        Flux at the position.\n",
    "    var : `float`\n",
    "        Variance at the position.\n",
    "    sky : `float`\n",
    "        Full image median to remove background level.\n",
    "    sn : `float`\n",
    "        Signal to noise of the measurement at the position.    \n",
    "    \"\"\"\n",
    "    region = exposure[np.floor(position[0] - size):np.ceil(position[0] + size),\n",
    "                      np.floor(position[1] - size):np.ceil(position[1] + size)]\n",
    "    sky = np.median(np.ravel(exposure.image.array))\n",
    "    image = np.mean(np.ravel(region.image.array))\n",
    "    var   = np.mean(np.ravel(region.variance.array))\n",
    "    sn    = (image - sky) / np.sqrt(var)\n",
    "    return image, var, sky, sn"
   ]
  },
  {
   "cell_type": "code",
   "execution_count": 10,
   "id": "83aaeec5-2122-413a-b188-93b3582bd299",
   "metadata": {
    "execution": {
     "iopub.execute_input": "2025-04-23T22:10:12.273282Z",
     "iopub.status.busy": "2025-04-23T22:10:12.273150Z",
     "iopub.status.idle": "2025-04-23T22:25:59.242468Z",
     "shell.execute_reply": "2025-04-23T22:25:59.241938Z",
     "shell.execute_reply.started": "2025-04-23T22:10:12.273269Z"
    }
   },
   "outputs": [
    {
     "data": {
      "application/vnd.jupyter.widget-view+json": {
       "model_id": "d95bcd57acbe4799b6f2e92469af476e",
       "version_major": 2,
       "version_minor": 0
      },
      "text/plain": [
       "  0%|          | 0/292 [00:00<?, ?it/s]"
      ]
     },
     "metadata": {},
     "output_type": "display_data"
    },
    {
     "name": "stdout",
     "output_type": "stream",
     "text": [
      "Position [2184.0333402660576, 4493.401769631769] is outside of detector\n",
      "Position [-129.8329999231437, 2750.197924824939] is outside of detector\n",
      "Position [4099.827527519826, 2026.8809193824181] is outside of detector\n",
      "Position [-693.1299156048501, 916.5755494878995] is outside of detector\n",
      "Position [4125.450208319667, 617.9138298209355] is outside of detector\n",
      "Position [-458.1591499605902, 2419.863640714975] is outside of detector\n",
      "Position [-18.935681285453484, 1767.5124438356997] is outside of detector\n",
      "(0.9358460412013301, 3433.841977830155) is too close to the edge -- skipping.\n",
      "(0.9358460412013301, 565.158022169845) is too close to the edge -- skipping.\n",
      "Position [-238.32164835760886, 4694.214614091477] is outside of detector\n",
      "Position [-465.9145326924786, 1505.2716725503442] is outside of detector\n",
      "Position [3307.4957047795615, 4347.305934694243] is outside of detector\n",
      "Position [-295.53679317897877, 1273.2750728905135] is outside of detector\n",
      "Position [-313.394480082213, 1853.68580916239] is outside of detector\n",
      "Position [1271.667197516932, 4793.955417963178] is outside of detector\n",
      "Position [3818.2447174151102, 4812.236353662186] is outside of detector\n",
      "Position [1201.4001377726318, 4013.803181533165] is outside of detector\n",
      "Position [-366.7272771551834, 3731.255900890742] is outside of detector\n",
      "Position [152.0420097102608, 4584.3461464369375] is outside of detector\n",
      "Position [1114.2048656356328, 4143.94022504552] is outside of detector\n",
      "Position [2791.069531655149, 4403.850480500832] is outside of detector\n",
      "Position [-584.1113325964925, 1774.1323080933125] is outside of detector\n",
      "(1.1380892313494542, 2381.490113483367) is too close to the edge -- skipping.\n",
      "(1.1380892313494542, 1617.5098865166328) is too close to the edge -- skipping.\n",
      "Position [-215.79737399902024, 3308.420500725248] is outside of detector\n",
      "Position [3120.537159882456, 4745.183003317697] is outside of detector\n",
      "Position [-187.12792366810277, 2622.595440588556] is outside of detector\n",
      "Position [1258.6292141712993, 4119.447500961026] is outside of detector\n",
      "Position [3276.6165131447697, 4521.380839495203] is outside of detector\n",
      "Position [-140.2520732220819, 4483.228963052425] is outside of detector\n",
      "Position [3683.0345799674005, 4700.71659780242] is outside of detector\n",
      "Position [1248.2570474600848, 4191.536108313972] is outside of detector\n",
      "Position [1279.3310118625618, 4464.141769465083] is outside of detector\n",
      "Position [-343.6703659534762, 2563.7595721924854] is outside of detector\n",
      "Position [3274.734898764359, 4464.733199394542] is outside of detector\n",
      "Position [2930.172063493199, 4210.5410826421285] is outside of detector\n",
      "Position [849.2227773990269, 4829.657204232619] is outside of detector\n",
      "Position [1398.4096317353135, 4410.027504917112] is outside of detector\n",
      "Position [399.2686619546066, 4808.295020153897] is outside of detector\n",
      "Position [3150.176672869296, 4689.247185950246] is outside of detector\n",
      "Position [387.54785079868634, 4557.594078063252] is outside of detector\n",
      "Position [-536.1825476632041, 739.6923828408335] is outside of detector\n",
      "Position [3476.113523604111, 4297.8635774133245] is outside of detector\n",
      "Position [3631.5328897429154, 4336.661942938761] is outside of detector\n",
      "Position [-554.614350204811, 4037.521722127363] is outside of detector\n",
      "Position [4048.232307557637, 4737.705948036502] is outside of detector\n",
      "Position [3237.0445643570883, 4465.964715710303] is outside of detector\n",
      "Position [-412.4401785363591, 3546.9460895313296] is outside of detector\n",
      "Position [1478.8486035013216, 4901.699682480015] is outside of detector\n",
      "Position [2814.1820121208084, 4032.7712191503424] is outside of detector\n",
      "Position [260.5186568309273, 4392.906212244552] is outside of detector\n",
      "Position [3339.557873071265, 4743.880789316778] is outside of detector\n",
      "Position [3268.9251805117615, 4335.609419880939] is outside of detector\n",
      "Position [4356.819685601068, 1432.897706156411] is outside of detector\n",
      "Position [3038.9201020643045, 4602.269976572628] is outside of detector\n",
      "Position [1886.9377364012398, 4048.0765200683786] is outside of detector\n",
      "Position [4286.972726225752, 1146.5816174829654] is outside of detector\n",
      "Position [1218.6417727493495, 4467.349578426096] is outside of detector\n",
      "Position [-188.51654605027966, 4740.415810211977] is outside of detector\n",
      "Position [4137.771150476107, 3764.5381645016605] is outside of detector\n",
      "Position [2887.7914013889285, 4067.934409219469] is outside of detector\n",
      "Position [4177.1796803903935, 3477.40022104422] is outside of detector\n",
      "Position [1991.9693119541816, 4167.828201890983] is outside of detector\n",
      "Position [4085.501002528422, 4368.91147277211] is outside of detector\n",
      "Position [1329.5465273315467, 4457.298751599514] is outside of detector\n",
      "Position [4149.009976494093, 1527.744942395494] is outside of detector\n",
      "Position [1599.7061338642698, 4622.3474051398225] is outside of detector\n",
      "Position [2083.40415626514, 4679.77960295484] is outside of detector\n",
      "Position [3699.539844850418, 4175.707279150031] is outside of detector\n",
      "Position [-264.5483518381586, 2123.111032318471] is outside of detector\n",
      "Position [2438.708177362238, 4100.773772349286] is outside of detector\n",
      "Position [-471.5652316995697, 3903.0360677580743] is outside of detector\n",
      "Position [2.0988172688612394, 4168.487902213321] is outside of detector\n",
      "Position [189.63505276818614, 4065.625246599011] is outside of detector\n",
      "Position [483.05585468514073, 4766.259919829073] is outside of detector\n",
      "Position [-521.3808393888028, 3999.853106297317] is outside of detector\n",
      "Position [389.00439460261464, 4569.269600196497] is outside of detector\n",
      "Position [4390.597399288445, 2800.986541608105] is outside of detector\n",
      "Position [3987.881508753914, 4840.855861669384] is outside of detector\n",
      "Position [4088.8519815669333, 768.8864721814866] is outside of detector\n"
     ]
    }
   ],
   "source": [
    "# Ok, we have a list of sources, and can now do the following:\n",
    "# bright_star_catalog: (exposure, detector, (xsource, ysource))\n",
    "\n",
    "# List to hold the rows that will become our catalog.\n",
    "intra_detector_residuals = []\n",
    "\n",
    "for exposure, detector, position in tqdm(bright_star_catalog):\n",
    "    xsource, ysource = position\n",
    "    try:\n",
    "        calexp = butler.get(\"calexp\", visit=exposure, detector=detector,\n",
    "                            instrument=INSTRUMENT, collections=COLLECTION)\n",
    "    except DatasetNotFoundError:\n",
    "        print(f\"Could not find calexp for {exposure}/{detector}\")\n",
    "        continue\n",
    "\n",
    "    # Save MJD, so we can confirm the residuals do not change with time.\n",
    "    mjd = calexp.getMetadata()['MJD']\n",
    "    \n",
    "    # Get list of potential locations of crosstalk.\n",
    "    sourceAmp, associatedPositions, ampNames = position_to_amp(position, calexp.getDetector())\n",
    "\n",
    "    if len(associatedPositions) > 0:\n",
    "        # Do \"forced photometry\" on the source.\n",
    "        image, var, sky, sn = lazy_phot(calexp, position)\n",
    "        rowBase = {'source_exposure': exposure,\n",
    "                   'mjd': mjd,\n",
    "                   'source_detector': detector,\n",
    "                   'source_amplifier': sourceAmp,\n",
    "                   'source_x': xsource,\n",
    "                   'source_y': ysource,\n",
    "                   'source_flux': image,\n",
    "                   'source_variance': var,\n",
    "                   'source_sky': sky,\n",
    "                   'source_sn': sn,\n",
    "                  }\n",
    "        # Add a row for each position checked for a residual.\n",
    "        for targetPosition, targetAmp in zip(associatedPositions, ampNames):\n",
    "            row = copy.deepcopy(rowBase)\n",
    "\n",
    "            # Use `order` as a rough proxy for \"crosstalk distance\"\n",
    "            order = amps_to_order(sourceAmp, targetAmp)\n",
    "    \n",
    "            # Do \"forced photometry\" at the expected residual\n",
    "            try:\n",
    "                image, var, sky, sn = lazy_phot(calexp, targetPosition)\n",
    "                row['order'] = order\n",
    "                row['target_flux'] = image\n",
    "                row['target_variance'] = var\n",
    "                row['target_sky'] = sky\n",
    "                row['target_sn'] = sn\n",
    "                intra_detector_residuals.append(row)\n",
    "                # print(row)\n",
    "            except:\n",
    "                print(f\"{targetPosition} is too close to the edge -- skipping.\")\n",
    "\n",
    "intra_detector_catalog = Table(intra_detector_residuals)\n",
    "intra_detector_catalog.write(\"test1843-intra_detector_crosstalk.fits\", overwrite=True)"
   ]
  },
  {
   "cell_type": "code",
   "execution_count": 12,
   "id": "fcb15b1b-1ac8-46af-8cd7-30e7ad4bc416",
   "metadata": {
    "execution": {
     "iopub.execute_input": "2025-04-24T00:12:40.664035Z",
     "iopub.status.busy": "2025-04-24T00:12:40.663893Z",
     "iopub.status.idle": "2025-04-24T00:12:40.666548Z",
     "shell.execute_reply": "2025-04-24T00:12:40.666200Z",
     "shell.execute_reply.started": "2025-04-24T00:12:40.664020Z"
    }
   },
   "outputs": [],
   "source": [
    "# Toggle boolean to resume from on-disk catalogs:\n",
    "if False:\n",
    "    intra_detector_catalog = Table.read(\"test1843-intra_detector_crosstalk.fits\")"
   ]
  },
  {
   "cell_type": "markdown",
   "id": "5a72c0e0-1124-4383-ad98-48af9a68f146",
   "metadata": {},
   "source": [
    "With the data selected and measured, we can plot the significance of the measurements as a function of order, which should group points with similar crosstalk terms together.  The crosstalk coefficients are largest for the +/- 1 case, and shrink as the order increases.  There are no points at order=0, as this would correspond to an amplifier crosstalking onto itself.\n",
    "\n",
    "The \"not cleaned\" in the title indicates that positions with contaminating stars have not been removed from the sample, as discussed below."
   ]
  },
  {
   "cell_type": "code",
   "execution_count": 13,
   "id": "08045af4-5925-4466-a86a-75a2c5250c94",
   "metadata": {
    "execution": {
     "iopub.execute_input": "2025-04-24T00:12:40.667066Z",
     "iopub.status.busy": "2025-04-24T00:12:40.666938Z",
     "iopub.status.idle": "2025-04-24T00:12:40.825974Z",
     "shell.execute_reply": "2025-04-24T00:12:40.825560Z",
     "shell.execute_reply.started": "2025-04-24T00:12:40.667052Z"
    }
   },
   "outputs": [
    {
     "data": {
      "image/png": "[encoded data removed]",
      "text/plain": [
       "<Figure size 640x480 with 1 Axes>"
      ]
     },
     "metadata": {},
     "output_type": "display_data"
    }
   ],
   "source": [
    "plt.scatter(intra_detector_catalog['order'],\n",
    "            intra_detector_catalog['target_sn'], s=1, label=\"Measurements\")\n",
    "plt.axhline(3.0, label=\"Requirement\", c=\"red\")\n",
    "plt.xlabel(\"Order (nearest neighbor +/-1, midline crossing +/- 10)\")\n",
    "plt.ylabel(\"Signal-to-noise at target position (post correction)\")\n",
    "plt.title(\"Intra-detector post-crosstalk correction significance (not cleaned)\")\n",
    "plt.ylim(-5, 5)\n",
    "plt.legend()\n",
    "# plt.savefig(\"intra_detector_ct.png\")\n",
    "plt.show()"
   ]
  },
  {
   "cell_type": "code",
   "execution_count": 14,
   "id": "ea2a5f2b-04eb-4e66-a872-1dec5219a729",
   "metadata": {
    "execution": {
     "iopub.execute_input": "2025-04-24T00:12:40.826643Z",
     "iopub.status.busy": "2025-04-24T00:12:40.826491Z",
     "iopub.status.idle": "2025-04-24T00:12:40.832670Z",
     "shell.execute_reply": "2025-04-24T00:12:40.832279Z",
     "shell.execute_reply.started": "2025-04-24T00:12:40.826627Z"
    }
   },
   "outputs": [
    {
     "data": {
      "text/html": [
       "<div><i>Table length=67</i>\n",
       "<table id=\"table140259580596000\" class=\"table-striped table-bordered table-condensed\">\n",
       "<thead><tr><th>source_exposure</th><th>mjd</th><th>source_detector</th><th>source_amplifier</th><th>source_x</th><th>source_y</th><th>source_flux</th><th>source_variance</th><th>source_sky</th><th>source_sn</th><th>order</th><th>target_flux</th><th>target_variance</th><th>target_sky</th><th>target_sn</th></tr></thead>\n",
       "<thead><tr><th>int64</th><th>float64</th><th>int64</th><th>str3</th><th>float64</th><th>float64</th><th>float32</th><th>float32</th><th>float32</th><th>float32</th><th>int64</th><th>float32</th><th>float32</th><th>float32</th><th>float32</th></tr></thead>\n",
       "<tr><td>2024120500068</td><td>60650.2073910646</td><td>2</td><td>C12</td><td>1348.523211340309</td><td>2079.6539173849105</td><td>53444.215</td><td>62611.38</td><td>1.5585327</td><td>213.5804</td><td>7</td><td>644.0149</td><td>2176.1094</td><td>1.5585327</td><td>13.772198</td></tr>\n",
       "<tr><td>2024120100205</td><td>60646.0996711459</td><td>6</td><td>C16</td><td>3261.106410321299</td><td>3930.8907574028262</td><td>48727.227</td><td>58850.406</td><td>1.1710956</td><td>200.85678</td><td>6</td><td>1083.8168</td><td>2361.4673</td><td>1.1710956</td><td>22.278982</td></tr>\n",
       "<tr><td>2024120500057</td><td>60650.2020165278</td><td>2</td><td>C07</td><td>3842.4668319361763</td><td>451.7010571628516</td><td>64386.016</td><td>86304.97</td><td>1.0604683</td><td>219.16264</td><td>-5</td><td>391.16632</td><td>1015.93524</td><td>1.0604683</td><td>12.2390995</td></tr>\n",
       "<tr><td>2024112800141</td><td>60643.0681870831</td><td>7</td><td>C17</td><td>3751.2054058486647</td><td>3474.239146792346</td><td>49236.035</td><td>55124.004</td><td>1.438087</td><td>209.70076</td><td>3</td><td>228.43219</td><td>1172.7952</td><td>1.438087</td><td>6.6283207</td></tr>\n",
       "<tr><td>2024120700295</td><td>60652.1914298609</td><td>2</td><td>C12</td><td>1301.3376730763794</td><td>3540.425452205738</td><td>55636.254</td><td>66889.734</td><td>1.4432225</td><td>215.11311</td><td>-3</td><td>10287.345</td><td>11724.009</td><td>1.4432225</td><td>94.99577</td></tr>\n",
       "<tr><td>2024120500135</td><td>60650.2420856827</td><td>2</td><td>C17</td><td>3734.77070721197</td><td>2386.6017470129686</td><td>61289.63</td><td>78242.68</td><td>0.9773586</td><td>219.10799</td><td>14</td><td>659.3094</td><td>1286.9852</td><td>0.9773586</td><td>18.350935</td></tr>\n",
       "<tr><td>2024121000473</td><td>60655.2747717709</td><td>5</td><td>C04</td><td>2473.0455854961974</td><td>1980.3846384840674</td><td>54259.51</td><td>65660.06</td><td>2.8748217</td><td>211.73967</td><td>-10</td><td>5346.4263</td><td>6918.985</td><td>2.8748217</td><td>64.24048</td></tr>\n",
       "<tr><td>2024111800102</td><td>60633.1029401966</td><td>0</td><td>C10</td><td>68.95469379876795</td><td>3832.883187061132</td><td>61156.234</td><td>73575.91</td><td>1.3018205</td><td>225.45699</td><td>9</td><td>763.2628</td><td>1804.054</td><td>1.3018205</td><td>17.939404</td></tr>\n",
       "<tr><td>2024112600164</td><td>60641.1079866667</td><td>7</td><td>C01</td><td>690.7166689325295</td><td>1958.227231765104</td><td>47086.836</td><td>55417.6</td><td>1.7893355</td><td>200.01341</td><td>-10</td><td>1036.2803</td><td>3154.7131</td><td>1.7893355</td><td>18.418182</td></tr>\n",
       "<tr><td>...</td><td>...</td><td>...</td><td>...</td><td>...</td><td>...</td><td>...</td><td>...</td><td>...</td><td>...</td><td>...</td><td>...</td><td>...</td><td>...</td><td>...</td></tr>\n",
       "<tr><td>2024120100461</td><td>60646.3313112152</td><td>5</td><td>C11</td><td>834.4067118065718</td><td>2021.0704015623437</td><td>58069.74</td><td>70135.35</td><td>4.111277</td><td>219.25557</td><td>10</td><td>8223.958</td><td>9250.536</td><td>4.111277</td><td>85.46342</td></tr>\n",
       "<tr><td>2024120100459</td><td>60646.3295281134</td><td>1</td><td>C07</td><td>3781.9264222866523</td><td>1521.2008998015817</td><td>37600.8</td><td>43799.926</td><td>0.65109617</td><td>179.66061</td><td>4</td><td>445.7732</td><td>650.1525</td><td>0.65109617</td><td>17.457077</td></tr>\n",
       "<tr><td>2024120900456</td><td>60654.3255494446</td><td>1</td><td>C12</td><td>1374.060637093347</td><td>2063.7814410617057</td><td>66370.164</td><td>79684.85</td><td>3.558738</td><td>235.1049</td><td>-5</td><td>157.32549</td><td>1000.69226</td><td>3.558738</td><td>4.8608494</td></tr>\n",
       "<tr><td>2024120900456</td><td>60654.3255494446</td><td>1</td><td>C12</td><td>1374.060637093347</td><td>2063.7814410617057</td><td>66370.164</td><td>79684.85</td><td>3.558738</td><td>235.1049</td><td>10</td><td>259.47974</td><td>1191.185</td><td>3.558738</td><td>7.4150877</td></tr>\n",
       "<tr><td>2024120700475</td><td>60652.305122558</td><td>1</td><td>C11</td><td>535.6630565754513</td><td>3601.691016335838</td><td>58300.086</td><td>73460.37</td><td>4.451412</td><td>215.08467</td><td>-2</td><td>171.51424</td><td>2645.0835</td><td>4.451412</td><td>3.2483299</td></tr>\n",
       "<tr><td>2024112300248</td><td>60638.1461556712</td><td>3</td><td>C04</td><td>2455.0861076829297</td><td>1384.2320388138314</td><td>65466.66</td><td>79665.12</td><td>0.9130378</td><td>231.94234</td><td>-6</td><td>286.05273</td><td>2465.0977</td><td>0.9130378</td><td>5.743024</td></tr>\n",
       "<tr><td>2024112600108</td><td>60641.0505432985</td><td>1</td><td>C11</td><td>618.5910403922983</td><td>3532.098845653405</td><td>58578.82</td><td>69412.65</td><td>1.1989391</td><td>222.33736</td><td>-6</td><td>175.27084</td><td>1447.7388</td><td>1.1989391</td><td>4.5749207</td></tr>\n",
       "<tr><td>2024112600108</td><td>60641.0505432985</td><td>1</td><td>C11</td><td>618.5910403922983</td><td>3532.098845653405</td><td>58578.82</td><td>69412.65</td><td>1.1989391</td><td>222.33736</td><td>5</td><td>655.6859</td><td>1911.3545</td><td>1.1989391</td><td>14.970297</td></tr>\n",
       "<tr><td>2024112600118</td><td>60641.0623969212</td><td>1</td><td>C00</td><td>10.020394776832063</td><td>1516.6488681403525</td><td>-17.621904</td><td>661.7555</td><td>0.16080633</td><td>-0.6912723</td><td>-3</td><td>102.40981</td><td>862.6116</td><td>0.16080633</td><td>3.4813802</td></tr>\n",
       "<tr><td>2024112600130</td><td>60641.0790214469</td><td>1</td><td>C11</td><td>894.498529946861</td><td>3413.0882017636245</td><td>62534.895</td><td>78426.73</td><td>4.7393956</td><td>223.28392</td><td>8</td><td>319.41275</td><td>2959.0725</td><td>4.7393956</td><td>5.7847176</td></tr>\n",
       "</table></div>"
      ],
      "text/plain": [
       "<Table length=67>\n",
       "source_exposure       mjd        source_detector ... target_sky target_sn \n",
       "     int64          float64           int64      ...  float32    float32  \n",
       "--------------- ---------------- --------------- ... ---------- ----------\n",
       "  2024120500068 60650.2073910646               2 ...  1.5585327  13.772198\n",
       "  2024120100205 60646.0996711459               6 ...  1.1710956  22.278982\n",
       "  2024120500057 60650.2020165278               2 ...  1.0604683 12.2390995\n",
       "  2024112800141 60643.0681870831               7 ...   1.438087  6.6283207\n",
       "  2024120700295 60652.1914298609               2 ...  1.4432225   94.99577\n",
       "  2024120500135 60650.2420856827               2 ...  0.9773586  18.350935\n",
       "  2024121000473 60655.2747717709               5 ...  2.8748217   64.24048\n",
       "  2024111800102 60633.1029401966               0 ...  1.3018205  17.939404\n",
       "  2024112600164 60641.1079866667               7 ...  1.7893355  18.418182\n",
       "            ...              ...             ... ...        ...        ...\n",
       "  2024120100461 60646.3313112152               5 ...   4.111277   85.46342\n",
       "  2024120100459 60646.3295281134               1 ... 0.65109617  17.457077\n",
       "  2024120900456 60654.3255494446               1 ...   3.558738  4.8608494\n",
       "  2024120900456 60654.3255494446               1 ...   3.558738  7.4150877\n",
       "  2024120700475  60652.305122558               1 ...   4.451412  3.2483299\n",
       "  2024112300248 60638.1461556712               3 ...  0.9130378   5.743024\n",
       "  2024112600108 60641.0505432985               1 ...  1.1989391  4.5749207\n",
       "  2024112600108 60641.0505432985               1 ...  1.1989391  14.970297\n",
       "  2024112600118 60641.0623969212               1 ... 0.16080633  3.4813802\n",
       "  2024112600130 60641.0790214469               1 ...  4.7393956  5.7847176"
      ]
     },
     "execution_count": 14,
     "metadata": {},
     "output_type": "execute_result"
    }
   ],
   "source": [
    "intra_detector_catalog[intra_detector_catalog[\"target_sn\"] > 3.0]"
   ]
  },
  {
   "cell_type": "markdown",
   "id": "83ab1e85-8496-417a-bf80-ea29ed6a528f",
   "metadata": {},
   "source": [
    "The vast majority of the points fall below the 3-sigma requirement. Spot checking the ones that don't suggests these points are falling on other stars in the field, skewing the measurement. It's notable that the majority of these high S/N points fall \"far away\" from the source, with the majority being across the midline (and so have much smaller crosstalk coefficients).\n",
    "\n",
    "There are also negative excursions, and the median level is slightly negative, which is consistent with visual inspection that shows that we are slightly over-subtracting the crosstalk with these coefficients.  This type of failure is not reflected in the verification requirement, which only requires the residuals to be under 3 sigma.\n",
    "\n",
    "We expect that the initial results with LSSTCam will be consistent with LSSTComCam, although we will be updating the crosstalk coefficients as we commission the telescope and camera."
   ]
  },
  {
   "cell_type": "code",
   "execution_count": 15,
   "id": "abef3b88-3531-4f71-86d5-659a37cb9ad2",
   "metadata": {
    "execution": {
     "iopub.execute_input": "2025-04-24T00:12:40.833254Z",
     "iopub.status.busy": "2025-04-24T00:12:40.833116Z",
     "iopub.status.idle": "2025-04-24T00:12:40.838062Z",
     "shell.execute_reply": "2025-04-24T00:12:40.837701Z",
     "shell.execute_reply.started": "2025-04-24T00:12:40.833240Z"
    }
   },
   "outputs": [
    {
     "data": {
      "text/plain": [
       "np.float32(-0.05585179)"
      ]
     },
     "execution_count": 15,
     "metadata": {},
     "output_type": "execute_result"
    }
   ],
   "source": [
    "# Check median value to confirm that we in general find that we're oversubtracting.\n",
    "np.median(intra_detector_catalog[\"target_sn\"])"
   ]
  },
  {
   "cell_type": "markdown",
   "id": "27ec9c6d-51f6-42d4-9136-51150914939a",
   "metadata": {},
   "source": [
    "This data can also be used to check the time stability of the crosstalk coefficient, by looking at these residuals as a function of the MJD."
   ]
  },
  {
   "cell_type": "code",
   "execution_count": 16,
   "id": "81536172-754a-40ec-a452-c1630caf81fc",
   "metadata": {
    "execution": {
     "iopub.execute_input": "2025-04-24T00:12:40.838635Z",
     "iopub.status.busy": "2025-04-24T00:12:40.838496Z",
     "iopub.status.idle": "2025-04-24T00:12:40.864087Z",
     "shell.execute_reply": "2025-04-24T00:12:40.863718Z",
     "shell.execute_reply.started": "2025-04-24T00:12:40.838621Z"
    }
   },
   "outputs": [
    {
     "name": "stdout",
     "output_type": "stream",
     "text": [
      "{np.float64(60623.0), np.float64(60624.0), np.float64(60627.0), np.float64(60631.0), np.float64(60632.0), np.float64(60633.0), np.float64(60634.0), np.float64(60635.0), np.float64(60638.0), np.float64(60640.0), np.float64(60641.0), np.float64(60642.0), np.float64(60643.0), np.float64(60644.0), np.float64(60645.0), np.float64(60646.0), np.float64(60647.0), np.float64(60648.0), np.float64(60650.0), np.float64(60651.0), np.float64(60652.0), np.float64(60653.0), np.float64(60654.0), np.float64(60655.0), np.float64(60656.0)}\n"
     ]
    }
   ],
   "source": [
    "# Bin measurements by integer MJD; bin by day.\n",
    "# This gives a baseline of 39 days, nearly 3x the stability requirement\n",
    "binned_x = []\n",
    "binned_y = []\n",
    "binned_yp = []\n",
    "for v in sorted(set(np.floor(intra_detector_catalog['mjd']))):\n",
    "    binned_x.append(v)\n",
    "    mask1 = (np.floor(intra_detector_catalog['mjd']) == v)\n",
    "    binned_y.append(np.median(intra_detector_catalog[mask1]['target_sn']))\n",
    "    mask2 = mask1 * (np.abs(intra_detector_catalog['order']) <= 1)\n",
    "    binned_yp.append(np.median(intra_detector_catalog[mask2]['target_sn']))\n",
    "\n",
    "print(set(np.floor(intra_detector_catalog['mjd'])))"
   ]
  },
  {
   "cell_type": "code",
   "execution_count": 17,
   "id": "2d8fe03c-24da-41ba-bc57-5d328df0657e",
   "metadata": {
    "execution": {
     "iopub.execute_input": "2025-04-24T00:12:40.864650Z",
     "iopub.status.busy": "2025-04-24T00:12:40.864511Z",
     "iopub.status.idle": "2025-04-24T00:12:41.027413Z",
     "shell.execute_reply": "2025-04-24T00:12:41.026995Z",
     "shell.execute_reply.started": "2025-04-24T00:12:40.864636Z"
    }
   },
   "outputs": [
    {
     "data": {
      "image/png": "[encoded data removed]",
      "text/plain": [
       "<Figure size 640x480 with 1 Axes>"
      ]
     },
     "metadata": {},
     "output_type": "display_data"
    }
   ],
   "source": [
    "plt.scatter(intra_detector_catalog['mjd'],\n",
    "            intra_detector_catalog['target_sn'], s=1, label=\"All measurements\")\n",
    "plt.plot(binned_x, binned_y, label=\"Median by date\")\n",
    "plt.plot(binned_x, binned_yp, label=\"Median by date; Nearest neighbor only\")\n",
    "# plt.ylim(-0.005, 0.005)\n",
    "plt.xlabel(\"MJD\")\n",
    "plt.ylabel(\"Signal-to-noise at target position (post correction)\")\n",
    "plt.title(\"Intra-detector post-crosstalk correction significance (not cleaned)\")\n",
    "plt.ylim(-5, 5)\n",
    "# plt.savefig(\"intra_detector_ct_by_time.png\")\n",
    "plt.legend()\n",
    "plt.show()"
   ]
  },
  {
   "cell_type": "markdown",
   "id": "4fae1a72-d59f-40db-bc4b-cd649ff2b12d",
   "metadata": {},
   "source": [
    "There does not appear to be any trend in time with these values, suggesting that the crosstalk is rather stable.\n",
    "\n",
    "## Results\n",
    "\n",
    "We have demonstrated that the residuals at positions expected to contain crosstalk signal from bright stars are less than the required limit of **Xtalk < 3 sigma**. Given the demonstrated effectiveness of the crosstalk corrections, we deem this test's result a *Pass*."
   ]
  },
  {
   "cell_type": "code",
   "execution_count": null,
   "id": "4cfd7e58-e6a9-47e9-a2b6-e2d070928c34",
   "metadata": {},
   "outputs": [],
   "source": []
  }
 ],
 "metadata": {
  "kernelspec": {
   "display_name": "LSST",
   "language": "python",
   "name": "lsst"
  },
  "language_info": {
   "codemirror_mode": {
    "name": "ipython",
    "version": 3
   },
   "file_extension": ".py",
   "mimetype": "text/x-python",
   "name": "python",
   "nbconvert_exporter": "python",
   "pygments_lexer": "ipython3",
   "version": "3.12.9"
  }
 },
 "nbformat": 4,
 "nbformat_minor": 5
}
