{
 "cells": [
  {
   "cell_type": "markdown",
   "id": "c1da5976-ec12-4b33-a43a-c41313efe37b",
   "metadata": {},
   "source": [
    "### Test case LVV-T89: Verify implementation of Calibration Image Provenance\n",
    "\n",
    "Verify that the DMS records the required provenance information for the Calibration Data Products.\n",
    "\n",
    "**Specification:** For each Calibration Production data product, DMS shall record: the list of input exposures and the range of dates over which they were obtained; the processing parameters; the calibration products used to derive it; and a set of metadata attributes including at least: the date of creation; the calibration image type (e.g. dome flat, superflat, bias, etc); the provenance of the processing software; and the instrument configuration including the filter in use, if applicable.\n",
    "\n",
    "In the following, we check for all of the listed attributes and information corresponding to a bias frame and a flat frame from the period of the ComCam on-sky campaign in late 2024."
   ]
  },
  {
   "cell_type": "code",
   "execution_count": 1,
   "id": "d051eab7-d236-45d8-82f2-90a7663022af",
   "metadata": {
    "execution": {
     "iopub.execute_input": "2025-05-01T23:50:06.868290Z",
     "iopub.status.busy": "2025-05-01T23:50:06.868171Z",
     "iopub.status.idle": "2025-05-01T23:50:07.833584Z",
     "shell.execute_reply": "2025-05-01T23:50:07.833160Z",
     "shell.execute_reply.started": "2025-05-01T23:50:06.868276Z"
    }
   },
   "outputs": [],
   "source": [
    "from lsst.daf.butler import Butler"
   ]
  },
  {
   "cell_type": "markdown",
   "id": "39725eb3-ba8d-4f4b-934e-37f43d4dd710",
   "metadata": {},
   "source": [
    "Initialize the butler, and define the collection (corresponding to w_2025_10 processing) we will use."
   ]
  },
  {
   "cell_type": "code",
   "execution_count": 2,
   "id": "74982316-0ef7-4ae1-b83a-6461a2a2848b",
   "metadata": {
    "execution": {
     "iopub.execute_input": "2025-05-01T23:50:07.835478Z",
     "iopub.status.busy": "2025-05-01T23:50:07.835350Z",
     "iopub.status.idle": "2025-05-01T23:50:08.131654Z",
     "shell.execute_reply": "2025-05-01T23:50:08.131194Z",
     "shell.execute_reply.started": "2025-05-01T23:50:07.835463Z"
    }
   },
   "outputs": [],
   "source": [
    "# Set up standard parameters so we can get to the data.\n",
    "INSTRUMENT = \"LSSTComCam\"\n",
    "COLLECTION = \"LSSTComCam/runs/DRP/DP1/w_2025_10/DM-49359\"\n",
    "butler = Butler(\"/repo/main\")"
   ]
  },
  {
   "cell_type": "markdown",
   "id": "19306564-4751-4b30-877c-0baf1f1b72d0",
   "metadata": {},
   "source": [
    "### Examine biases\n",
    "\n",
    "Query the butler for `bias` images, then select a single dataId and retrieve the image and its associated metadata."
   ]
  },
  {
   "cell_type": "code",
   "execution_count": 3,
   "id": "4dd8cc47-ac32-4fff-98a4-dacda9521186",
   "metadata": {
    "execution": {
     "iopub.execute_input": "2025-05-01T23:50:08.132339Z",
     "iopub.status.busy": "2025-05-01T23:50:08.132196Z",
     "iopub.status.idle": "2025-05-01T23:50:09.934906Z",
     "shell.execute_reply": "2025-05-01T23:50:09.934378Z",
     "shell.execute_reply.started": "2025-05-01T23:50:08.132325Z"
    }
   },
   "outputs": [],
   "source": [
    "query = butler.query_datasets('bias', collections=COLLECTION)\n",
    "bias = butler.get(query[0])\n",
    "bias_metadata = bias.getMetadata()"
   ]
  },
  {
   "cell_type": "markdown",
   "id": "79502ecb-c73f-4109-98f2-e1bd25bd8ccc",
   "metadata": {},
   "source": [
    "Confirm that the bias frame **inputs** are recorded:"
   ]
  },
  {
   "cell_type": "code",
   "execution_count": 4,
   "id": "b67e416b-5fed-4184-928f-0525c5d14470",
   "metadata": {
    "execution": {
     "iopub.execute_input": "2025-05-01T23:50:09.935612Z",
     "iopub.status.busy": "2025-05-01T23:50:09.935446Z",
     "iopub.status.idle": "2025-05-01T23:50:09.942014Z",
     "shell.execute_reply": "2025-05-01T23:50:09.941627Z",
     "shell.execute_reply.started": "2025-05-01T23:50:09.935595Z"
    }
   },
   "outputs": [
    {
     "name": "stdout",
     "output_type": "stream",
     "text": [
      "CPP_INPUT_0 : 2024120600427\n",
      "CPP_INPUT_DATE_0 : 2024-12-07T11:16:39.210\n",
      "CPP_INPUT_EXPT_0 : 0.0\n",
      "CPP_INPUT_SCALE_0 : 1.0\n",
      "CPP_INPUT_1 : 2024120600428\n",
      "CPP_INPUT_DATE_1 : 2024-12-07T11:16:41.719\n",
      "CPP_INPUT_EXPT_1 : 0.0\n",
      "CPP_INPUT_SCALE_1 : 1.0\n",
      "CPP_INPUT_2 : 2024120600429\n",
      "CPP_INPUT_DATE_2 : 2024-12-07T11:16:44.228\n",
      "CPP_INPUT_EXPT_2 : 0.0\n",
      "CPP_INPUT_SCALE_2 : 1.0\n",
      "CPP_INPUT_3 : 2024120600430\n",
      "CPP_INPUT_DATE_3 : 2024-12-07T11:16:46.735\n",
      "CPP_INPUT_EXPT_3 : 0.0\n",
      "CPP_INPUT_SCALE_3 : 1.0\n",
      "CPP_INPUT_4 : 2024120600431\n",
      "CPP_INPUT_DATE_4 : 2024-12-07T11:16:49.253\n",
      "CPP_INPUT_EXPT_4 : 0.0\n",
      "CPP_INPUT_SCALE_4 : 1.0\n",
      "CPP_INPUT_5 : 2024120600432\n",
      "CPP_INPUT_DATE_5 : 2024-12-07T11:16:51.773\n",
      "CPP_INPUT_EXPT_5 : 0.0\n",
      "CPP_INPUT_SCALE_5 : 1.0\n",
      "CPP_INPUT_6 : 2024120600433\n",
      "CPP_INPUT_DATE_6 : 2024-12-07T11:16:54.292\n",
      "CPP_INPUT_EXPT_6 : 0.0\n",
      "CPP_INPUT_SCALE_6 : 1.0\n",
      "CPP_INPUT_7 : 2024120600434\n",
      "CPP_INPUT_DATE_7 : 2024-12-07T11:16:56.798\n",
      "CPP_INPUT_EXPT_7 : 0.0\n",
      "CPP_INPUT_SCALE_7 : 1.0\n",
      "CPP_INPUT_8 : 2024120600435\n",
      "CPP_INPUT_DATE_8 : 2024-12-07T11:16:59.303\n",
      "CPP_INPUT_EXPT_8 : 0.0\n",
      "CPP_INPUT_SCALE_8 : 1.0\n",
      "CPP_INPUT_9 : 2024120600436\n",
      "CPP_INPUT_DATE_9 : 2024-12-07T11:17:01.809\n",
      "CPP_INPUT_EXPT_9 : 0.0\n",
      "CPP_INPUT_SCALE_9 : 1.0\n",
      "CPP_INPUT_10 : 2024120600437\n",
      "CPP_INPUT_DATE_10 : 2024-12-07T11:17:04.315\n",
      "CPP_INPUT_EXPT_10 : 0.0\n",
      "CPP_INPUT_SCALE_10 : 1.0\n",
      "CPP_INPUT_11 : 2024120600449\n",
      "CPP_INPUT_DATE_11 : 2024-12-07T11:21:33.748\n",
      "CPP_INPUT_EXPT_11 : 0.0\n",
      "CPP_INPUT_SCALE_11 : 1.0\n",
      "CPP_INPUT_12 : 2024120600450\n",
      "CPP_INPUT_DATE_12 : 2024-12-07T11:21:36.255\n",
      "CPP_INPUT_EXPT_12 : 0.0\n",
      "CPP_INPUT_SCALE_12 : 1.0\n",
      "CPP_INPUT_13 : 2024120600451\n",
      "CPP_INPUT_DATE_13 : 2024-12-07T11:21:38.773\n",
      "CPP_INPUT_EXPT_13 : 0.0\n",
      "CPP_INPUT_SCALE_13 : 1.0\n",
      "CPP_INPUT_14 : 2024120600452\n",
      "CPP_INPUT_DATE_14 : 2024-12-07T11:21:41.289\n",
      "CPP_INPUT_EXPT_14 : 0.0\n",
      "CPP_INPUT_SCALE_14 : 1.0\n",
      "CPP_INPUT_15 : 2024120600453\n",
      "CPP_INPUT_DATE_15 : 2024-12-07T11:21:43.803\n",
      "CPP_INPUT_EXPT_15 : 0.0\n",
      "CPP_INPUT_SCALE_15 : 1.0\n",
      "CPP_INPUT_16 : 2024120600454\n",
      "CPP_INPUT_DATE_16 : 2024-12-07T11:21:46.311\n",
      "CPP_INPUT_EXPT_16 : 0.0\n",
      "CPP_INPUT_SCALE_16 : 1.0\n",
      "CPP_INPUT_17 : 2024120600455\n",
      "CPP_INPUT_DATE_17 : 2024-12-07T11:21:48.818\n",
      "CPP_INPUT_EXPT_17 : 0.0\n",
      "CPP_INPUT_SCALE_17 : 1.0\n",
      "CPP_INPUT_18 : 2024120600456\n",
      "CPP_INPUT_DATE_18 : 2024-12-07T11:21:51.325\n",
      "CPP_INPUT_EXPT_18 : 0.0\n",
      "CPP_INPUT_SCALE_18 : 1.0\n",
      "CPP_INPUT_19 : 2024120600457\n",
      "CPP_INPUT_DATE_19 : 2024-12-07T11:21:53.841\n",
      "CPP_INPUT_EXPT_19 : 0.0\n",
      "CPP_INPUT_SCALE_19 : 1.0\n",
      "CPP_INPUT_20 : 2024120600458\n",
      "CPP_INPUT_DATE_20 : 2024-12-07T11:21:56.355\n",
      "CPP_INPUT_EXPT_20 : 0.0\n",
      "CPP_INPUT_SCALE_20 : 1.0\n",
      "CPP_INPUT_21 : 2024120600459\n",
      "CPP_INPUT_DATE_21 : 2024-12-07T11:21:58.861\n",
      "CPP_INPUT_EXPT_21 : 0.0\n",
      "CPP_INPUT_SCALE_21 : 1.0\n",
      "CPP_INPUT_22 : 2024120800696\n",
      "CPP_INPUT_DATE_22 : 2024-12-09T11:42:10.346\n",
      "CPP_INPUT_EXPT_22 : 0.0\n",
      "CPP_INPUT_SCALE_22 : 1.0\n",
      "CPP_INPUT_23 : 2024120800697\n",
      "CPP_INPUT_DATE_23 : 2024-12-09T11:42:12.852\n",
      "CPP_INPUT_EXPT_23 : 0.0\n",
      "CPP_INPUT_SCALE_23 : 1.0\n",
      "CPP_INPUT_24 : 2024120800698\n",
      "CPP_INPUT_DATE_24 : 2024-12-09T11:42:15.367\n",
      "CPP_INPUT_EXPT_24 : 0.0\n",
      "CPP_INPUT_SCALE_24 : 1.0\n",
      "CPP_INPUT_25 : 2024120800699\n",
      "CPP_INPUT_DATE_25 : 2024-12-09T11:42:17.875\n",
      "CPP_INPUT_EXPT_25 : 0.0\n",
      "CPP_INPUT_SCALE_25 : 1.0\n",
      "CPP_INPUT_26 : 2024120800700\n",
      "CPP_INPUT_DATE_26 : 2024-12-09T11:42:20.382\n",
      "CPP_INPUT_EXPT_26 : 0.0\n",
      "CPP_INPUT_SCALE_26 : 1.0\n",
      "CPP_INPUT_27 : 2024120800701\n",
      "CPP_INPUT_DATE_27 : 2024-12-09T11:42:22.889\n",
      "CPP_INPUT_EXPT_27 : 0.0\n",
      "CPP_INPUT_SCALE_27 : 1.0\n",
      "CPP_INPUT_28 : 2024120800702\n",
      "CPP_INPUT_DATE_28 : 2024-12-09T11:42:25.406\n",
      "CPP_INPUT_EXPT_28 : 0.0\n",
      "CPP_INPUT_SCALE_28 : 1.0\n",
      "CPP_INPUT_29 : 2024120800703\n",
      "CPP_INPUT_DATE_29 : 2024-12-09T11:42:27.911\n",
      "CPP_INPUT_EXPT_29 : 0.0\n",
      "CPP_INPUT_SCALE_29 : 1.0\n",
      "CPP_INPUT_30 : 2024120800704\n",
      "CPP_INPUT_DATE_30 : 2024-12-09T11:42:30.426\n",
      "CPP_INPUT_EXPT_30 : 0.0\n",
      "CPP_INPUT_SCALE_30 : 1.0\n",
      "CPP_INPUT_31 : 2024120800705\n",
      "CPP_INPUT_DATE_31 : 2024-12-09T11:42:32.941\n",
      "CPP_INPUT_EXPT_31 : 0.0\n",
      "CPP_INPUT_SCALE_31 : 1.0\n",
      "CPP_INPUT_32 : 2024120800717\n",
      "CPP_INPUT_DATE_32 : 2024-12-09T11:46:58.721\n",
      "CPP_INPUT_EXPT_32 : 0.0\n",
      "CPP_INPUT_SCALE_32 : 1.0\n",
      "CPP_INPUT_33 : 2024120800718\n",
      "CPP_INPUT_DATE_33 : 2024-12-09T11:47:01.229\n",
      "CPP_INPUT_EXPT_33 : 0.0\n",
      "CPP_INPUT_SCALE_33 : 1.0\n",
      "CPP_INPUT_34 : 2024120800719\n",
      "CPP_INPUT_DATE_34 : 2024-12-09T11:47:03.733\n",
      "CPP_INPUT_EXPT_34 : 0.0\n",
      "CPP_INPUT_SCALE_34 : 1.0\n",
      "CPP_INPUT_35 : 2024120800720\n",
      "CPP_INPUT_DATE_35 : 2024-12-09T11:47:06.236\n",
      "CPP_INPUT_EXPT_35 : 0.0\n",
      "CPP_INPUT_SCALE_35 : 1.0\n",
      "CPP_INPUT_36 : 2024120800721\n",
      "CPP_INPUT_DATE_36 : 2024-12-09T11:47:08.741\n",
      "CPP_INPUT_EXPT_36 : 0.0\n",
      "CPP_INPUT_SCALE_36 : 1.0\n",
      "CPP_INPUT_37 : 2024120800722\n",
      "CPP_INPUT_DATE_37 : 2024-12-09T11:47:11.244\n",
      "CPP_INPUT_EXPT_37 : 0.0\n",
      "CPP_INPUT_SCALE_37 : 1.0\n",
      "CPP_INPUT_38 : 2024120800723\n",
      "CPP_INPUT_DATE_38 : 2024-12-09T11:47:13.761\n",
      "CPP_INPUT_EXPT_38 : 0.0\n",
      "CPP_INPUT_SCALE_38 : 1.0\n",
      "CPP_INPUT_39 : 2024120800724\n",
      "CPP_INPUT_DATE_39 : 2024-12-09T11:47:16.275\n",
      "CPP_INPUT_EXPT_39 : 0.0\n",
      "CPP_INPUT_SCALE_39 : 1.0\n",
      "CPP_INPUT_40 : 2024120800725\n",
      "CPP_INPUT_DATE_40 : 2024-12-09T11:47:18.781\n",
      "CPP_INPUT_EXPT_40 : 0.0\n",
      "CPP_INPUT_SCALE_40 : 1.0\n",
      "CPP_INPUT_41 : 2024120800726\n",
      "CPP_INPUT_DATE_41 : 2024-12-09T11:47:21.288\n",
      "CPP_INPUT_EXPT_41 : 0.0\n",
      "CPP_INPUT_SCALE_41 : 1.0\n",
      "CPP_INPUT_42 : 2024120800727\n",
      "CPP_INPUT_DATE_42 : 2024-12-09T11:47:23.801\n",
      "CPP_INPUT_EXPT_42 : 0.0\n",
      "CPP_INPUT_SCALE_42 : 1.0\n"
     ]
    }
   ],
   "source": [
    "for key in bias_metadata.keys():\n",
    "    if 'CPP_INPUT' in key:\n",
    "        print(key, ':', bias_metadata[key])"
   ]
  },
  {
   "cell_type": "markdown",
   "id": "30b59ede-b0ad-437b-b367-9f357c5fe371",
   "metadata": {},
   "source": [
    "Extract the **date range** of the input bias exposures:"
   ]
  },
  {
   "cell_type": "code",
   "execution_count": 5,
   "id": "cc2007a1-49e4-4916-aad8-a82f1a6804b8",
   "metadata": {
    "execution": {
     "iopub.execute_input": "2025-05-01T23:50:09.942618Z",
     "iopub.status.busy": "2025-05-01T23:50:09.942470Z",
     "iopub.status.idle": "2025-05-01T23:50:09.954375Z",
     "shell.execute_reply": "2025-05-01T23:50:09.953940Z",
     "shell.execute_reply.started": "2025-05-01T23:50:09.942597Z"
    }
   },
   "outputs": [
    {
     "name": "stdout",
     "output_type": "stream",
     "text": [
      "SIMULATED DATE-END : None\n",
      "DATE-BEG : 2024-12-07T11:16:39.210\n",
      "DATE-END : 2024-12-09T11:47:23.801\n",
      "MJD-BEG : 60651.4698982639\n",
      "MJD-END : 60653.4912477024\n"
     ]
    }
   ],
   "source": [
    "for key in bias_metadata.keys():\n",
    "    if ('DATE-BEG' in key) or ('DATE-END' in key):\n",
    "        print(key, ':', bias_metadata[key])\n",
    "\n",
    "for key in bias_metadata.keys():\n",
    "    if ('MJD-BEG' in key) or ('MJD-END' in key):\n",
    "        print(key, ':', bias_metadata[key])\n"
   ]
  },
  {
   "cell_type": "markdown",
   "id": "e5b10a07-4cbf-4ad7-b359-411c0348382a",
   "metadata": {},
   "source": [
    "Look up the **date the combined bias was created**:"
   ]
  },
  {
   "cell_type": "code",
   "execution_count": 6,
   "id": "cbd793ad-c32d-4b5a-9bd8-3fadb001301a",
   "metadata": {
    "execution": {
     "iopub.execute_input": "2025-05-01T23:50:09.955096Z",
     "iopub.status.busy": "2025-05-01T23:50:09.954938Z",
     "iopub.status.idle": "2025-05-01T23:50:09.962824Z",
     "shell.execute_reply": "2025-05-01T23:50:09.962379Z",
     "shell.execute_reply.started": "2025-05-01T23:50:09.955082Z"
    }
   },
   "outputs": [
    {
     "name": "stdout",
     "output_type": "stream",
     "text": [
      "CALIB_CREATION_DATETIME : 2025-02-08T19:06:21\n",
      "CALIB_CREATION_DATE : 2025-02-08\n",
      "CALIB_CREATION_TIME : 11:06:21 PST\n"
     ]
    }
   ],
   "source": [
    "for key in bias_metadata.keys():\n",
    "    if 'CREAT' in key:\n",
    "        print(key, ':', bias_metadata[key])"
   ]
  },
  {
   "cell_type": "markdown",
   "id": "c9adbd7d-2a08-496b-91fb-d8a477927af5",
   "metadata": {},
   "source": [
    "Confirm that the metadata records that this image is a BIAS:"
   ]
  },
  {
   "cell_type": "code",
   "execution_count": 7,
   "id": "1aa0b70e-d3ad-45ce-82d7-e46483962d4e",
   "metadata": {
    "execution": {
     "iopub.execute_input": "2025-05-01T23:50:09.963565Z",
     "iopub.status.busy": "2025-05-01T23:50:09.963427Z",
     "iopub.status.idle": "2025-05-01T23:50:09.972500Z",
     "shell.execute_reply": "2025-05-01T23:50:09.972094Z",
     "shell.execute_reply.started": "2025-05-01T23:50:09.963552Z"
    }
   },
   "outputs": [
    {
     "data": {
      "text/plain": [
       "'BIAS'"
      ]
     },
     "execution_count": 7,
     "metadata": {},
     "output_type": "execute_result"
    }
   ],
   "source": [
    "bias_metadata['IMGTYPE']"
   ]
  },
  {
   "cell_type": "markdown",
   "id": "19d25235-dcbc-4f57-931a-7cfb2bef2a0c",
   "metadata": {},
   "source": [
    "Look up the **additional calibration products** that went into this bias's creation:"
   ]
  },
  {
   "cell_type": "code",
   "execution_count": 8,
   "id": "fe3ffb24-9ba6-4ed7-87e4-b89f43fdffe8",
   "metadata": {
    "execution": {
     "iopub.execute_input": "2025-05-01T23:50:09.973031Z",
     "iopub.status.busy": "2025-05-01T23:50:09.972906Z",
     "iopub.status.idle": "2025-05-01T23:50:09.986471Z",
     "shell.execute_reply": "2025-05-01T23:50:09.986037Z",
     "shell.execute_reply.started": "2025-05-01T23:50:09.973018Z"
    },
    "scrolled": true
   },
   "outputs": [
    {
     "name": "stdout",
     "output_type": "stream",
     "text": [
      "LSST CALIB RUN CAMERA : LSSTComCam/calib/DM-48650/unbounded\n",
      "LSST CALIB UUID CAMERA : 09c852cf-6561-4ce0-881c-259b6a53aedf\n",
      "LSST CALIB DATE CAMERA : Unknown Unknown\n",
      "LSST CALIB RUN CCDEXPOSURE : LSSTComCam/raw/all\n",
      "LSST CALIB DATE CCDEXPOSURE : Unknown Unknown\n",
      "LSST CALIB RUN CROSSTALK : LSSTComCam/calib/DM-48650/curated/19700101T000000Z\n",
      "LSST CALIB UUID CROSSTALK : 711f7c84-2597-4788-bd1d-f014fe41568c\n",
      "LSST CALIB DATE CROSSTALK : Unknown Unknown\n",
      "LSST CALIB RUN DEFERREDCHARGECALIB : LSSTComCam/calib/DM-48520/DP1/ctiGen.20250207a/20250208T011014Z\n",
      "LSST CALIB UUID DEFERREDCHARGECALIB : b6063f80-06f5-4de0-89ee-9b29c3871c9a\n",
      "LSST CALIB DATE DEFERREDCHARGECALIB : Unknown Unknown\n",
      "LSST CALIB RUN LINEARIZER : LSSTComCam/calib/DM-46360/isrTaskLSST/linearizerGen.20240926a/20240927T182910Z\n",
      "LSST CALIB UUID LINEARIZER : ff177d36-2a2f-4860-814e-c8052ec93a9f\n",
      "LSST CALIB DATE LINEARIZER : 2024-09-27 11:29:39.640924\n",
      "LSST CALIB RUN PTC : LSSTComCam/calib/DM-47447/gainFixup/ptcGen.20241107a/20241107T193934Z\n",
      "LSST CALIB UUID PTC : 890e7aef-a1ff-4889-999d-e4c5884ca226\n",
      "LSST CALIB DATE PTC : 2024-09-27 12:41:43.179327\n"
     ]
    }
   ],
   "source": [
    "for key in bias_metadata.keys():\n",
    "    if ('LSST CALIB RUN' in key) or ('LSST CALIB UUID' in key) or ('LSST CALIB DATE' in key):\n",
    "        print(key, ':', bias_metadata[key])"
   ]
  },
  {
   "cell_type": "markdown",
   "id": "0ef889ff-c4e8-41bd-974a-eb22eed6dba8",
   "metadata": {},
   "source": [
    "#### Retrieve sufficient provenance information to enable recreation of the biases:\n",
    "\n",
    "First, look up the run collection corresponding to the first input (\"INPUT 0\") from the bias metadata:"
   ]
  },
  {
   "cell_type": "code",
   "execution_count": 9,
   "id": "f87ccdee-228d-45c0-82ca-e3b53d30963b",
   "metadata": {
    "execution": {
     "iopub.execute_input": "2025-05-01T23:50:09.987066Z",
     "iopub.status.busy": "2025-05-01T23:50:09.986927Z",
     "iopub.status.idle": "2025-05-01T23:50:10.034536Z",
     "shell.execute_reply": "2025-05-01T23:50:10.034019Z",
     "shell.execute_reply.started": "2025-05-01T23:50:09.987054Z"
    }
   },
   "outputs": [
    {
     "name": "stdout",
     "output_type": "stream",
     "text": [
      "LSSTComCam/calib/DM-48520/DP1/biasGen.20250207a/20250208T185010Z\n"
     ]
    }
   ],
   "source": [
    "coll = bias_metadata['LSST BUTLER INPUT 0 RUN']\n",
    "print(coll)"
   ]
  },
  {
   "cell_type": "markdown",
   "id": "c39fd04a-702a-4a43-95f8-be50a21af13f",
   "metadata": {},
   "source": [
    "Extract the **versions of all software packages** that were used for this RUN collection:"
   ]
  },
  {
   "cell_type": "code",
   "execution_count": 10,
   "id": "3ab53b16-4d43-4055-95f2-80727232be9b",
   "metadata": {
    "execution": {
     "iopub.execute_input": "2025-05-01T23:50:10.035308Z",
     "iopub.status.busy": "2025-05-01T23:50:10.035139Z",
     "iopub.status.idle": "2025-05-01T23:50:10.123222Z",
     "shell.execute_reply": "2025-05-01T23:50:10.122736Z",
     "shell.execute_reply.started": "2025-05-01T23:50:10.035293Z"
    }
   },
   "outputs": [],
   "source": [
    "bias_isr_packages_refs = butler.query_datasets('packages', collections=coll)"
   ]
  },
  {
   "cell_type": "code",
   "execution_count": 11,
   "id": "c92d12fa-1744-4883-a367-797f5c4cc630",
   "metadata": {
    "execution": {
     "iopub.execute_input": "2025-05-01T23:50:10.123923Z",
     "iopub.status.busy": "2025-05-01T23:50:10.123774Z",
     "iopub.status.idle": "2025-05-01T23:50:10.182964Z",
     "shell.execute_reply": "2025-05-01T23:50:10.182507Z",
     "shell.execute_reply.started": "2025-05-01T23:50:10.123909Z"
    }
   },
   "outputs": [
    {
     "data": {
      "text/plain": [
       "Packages({'PIL': '10.3.0', '_libgcc_mutex': '0.1', '_openmp_mutex': '4.5', '_sysroot_linux-64_curr_repodata_hack': '3', 'ads': '0.12.6', 'affine': '2.4.0', 'afw': 'g3fa7bbdb64+5624ebd503', 'aiobotocore': '2.13.1', 'aiohttp': '3.9.5', 'aioinflux': '0.9.0', 'aioitertools': '0.11.0', 'aiosignal': '1.3.1', 'alabaster': '0.7.16', 'alembic': '1.13.2', 'alsa-lib': '1.2.12', 'annotated-types': '0.7.0', 'annotated_types': '0.7.0', 'anyio': '4.4.0', 'aom': '3.9.1', 'apr': '1.7.0', 'archspec': '0.2.3', 'argcomplete': '3.4.0', 'argon2-cffi': '23.1.0', 'argon2-cffi-bindings': '21.2.0', 'arrow': '1.3.0', 'asdf': '3.4.0', 'asdf-astropy': '0.6.1', 'asdf-coordinates-schemas': '0.3.0', 'asdf-standard': '1.1.1', 'asdf-transform-schemas': '0.5.0', 'asdf-wcs-schemas': '0.4.0', 'asdf_astropy': '0.6.1', 'asdf_standard': '1.1.1', 'assist': '1.1.9', 'asteval': '1.0.2', 'astro_metadata_translator': 'g46c833a082+123ace3005', 'astropy': '6.1.2', 'astropy-iers-data': '0.2024.8.5.0.32.23', 'astropy_iers_data': '0.2024.8.5.0.32.23', 'astroquery': '0.4.7', 'astrowidgets': '0.3.0', 'astshim': 'g78460c75b0+d6489e3594', 'asttokens': '2.4.1', 'async-lru': '2.0.4', 'atk-1.0': '2.38.0', 'attr': '24.1.0', 'attrs': '24.1.0', 'autograd': '1.6.2', 'aws-c-auth': '0.7.20', 'aws-c-cal': '0.6.12', 'aws-c-common': '0.9.17', 'aws-c-compression': '0.2.18', 'aws-c-event-stream': '0.4.2', 'aws-c-http': '0.8.1', 'aws-c-io': '0.14.8', 'aws-c-mqtt': '0.10.4', 'aws-c-s3': '0.5.9', 'aws-c-sdkutils': '0.1.16', 'aws-checksums': '0.1.18', 'aws-crt-cpp': '0.26.8', 'aws-sdk-cpp': '1.11.267', 'aws-xray-sdk': '2.14.0', 'azure-core-cpp': '1.11.1', 'azure-identity-cpp': '1.6.0', 'azure-storage-blobs-cpp': '12.10.0', 'azure-storage-common-cpp': '12.5.0', 'babel': '2.14.0', 'backoff': '2.2.1', 'backports': '1.0', 'backports.tarfile': '1.0.0', 'base': 'g53246c7159+c2fbfce3f8', 'batoid': '0.7.3', 'batoid-rubin': '0.5.0', 'bcrypt': '4.2.0', 'beautifulsoup4': '4.12.3', 'binutils': '2.40', 'binutils_impl_linux-64': '2.40', 'binutils_linux-64': '2.40', 'black': '24.4.0', 'bleach': '6.1.0', 'blinker': '1.8.2', 'blosc': '1.21.6', 'bokeh': '3.4.2', 'boltons': '24.0.0', 'boto3': '1.34.131', 'botocore': '1.34.131', 'bottleneck': '1.4.0', 'brotli': '1.1.0', 'brotli-bin': '1.1.0', 'brotli-python': '1.1.0', 'brunsli': '0.1', 'bzip2': '1.0.8', 'c-ares': '1.32.3', 'c-blosc2': '2.15.1', 'c-compiler': '1.7.0', 'ca-certificates': '2024.12.14', 'cached-property': '1.5.2', 'cached_property': '1.5.2', 'cachetools': '5.4.0', 'cairo': '1.18.0', 'cassandra-driver': '3.29.1', 'certifi': '2024.12.14', 'cffi': '1.16.0', 'cfgv': '3.3.1', 'cfitsio': '4.4.0', 'charls': '2.4.2', 'charset-normalizer': '3.3.2', 'charset_normalizer': '3.3.2', 'ciso8601': '2.3.1', 'clang-format': '18.1.8', 'clang-format-18': '18.1.8', 'cli_helpers': '2.3.1', 'click': '8.1.7', 'click-plugins': '1.1.1', 'cligj': '0.7.2', 'cloudpickle': '3.0.0', 'cmake': '3.30.2', 'colorama': '0.4.6', 'colorcet': '3.1.0', 'coloredlogs': '15.0.1', 'colour-science': '0.4.4', 'comm': '0.2.2', 'compilers': '1.7.0', 'conda': '24.7.1', 'conda-libmamba-solver': '24.7.0', 'conda-package-handling': '2.3.0', 'conda-package-streaming': '0.10.0', 'conda_env': 'lsst-scipipe-9.0.0', 'configobj': '5.0.8', 'configparser': '7.0.0', 'contourpy': '1.2.1', 'coord': '1.3.0', 'coverage': '7.6.1', 'coveralls': '4.0.1', 'cp_pipe': 'LOCAL:/sdf/home/e/erykoff/tickets/cp_pipe@9e2e5ee692644f5713c5c87fb9b09c85c450b2e6', 'cramjam': '2.8.3', 'cryptography': '43.0.0', 'cspice': '67', 'ctrl_mpexec': 'g92a3ef2613+2e14ba45f9', 'cxx-compiler': '1.7.0', 'cycler': '0.12.1', 'cyrus-sasl': '2.1.27', 'cytoolz': '0.12.3', 'daf_base': 'g4e0f332c67+87b19b9b23', 'daf_butler': 'g84e7e1bfef+fe95de092f', 'daf_relation': 'g46a8c529b8+33c5571e48', 'danish': '0.5.0', 'dask': '2024.7.1', 'dask-core': '2024.7.1', 'dask-jobqueue': '0.8.5', 'dataclasses': '0.8', 'datashader': '0.16.3', 'dateutil': '2.9.0', 'dav1d': '1.2.1', 'dbus': '1.13.6', 'debugpy': '1.8.3', 'decorator': '5.1.1', 'deepdiff': '7.0.1', 'defusedxml': '0.7.1', 'deprecated': '1.2.14', 'dill': '0.3.8', 'distlib': '0.3.8', 'distributed': '2024.7.1', 'distro': '1.9.0', 'docopt': '0.6.2', 'documenteer': '0.8.2', 'docutils': '0.19', 'dogpile.cache': '1.2.2', 'double-conversion': '3.3.0', 'doxygen': '1.10.0', 'dustmaps': '1.0.13', 'eigen': '3.4.0', 'emcee': '3.1.6', 'entrypoints': '0.4', 'erfa': '2.0.1.4', 'esutil': '0.6.14', 'eups': '2.2.10', 'exceptiongroup': '1.2.2', 'execnet': '2.1.1', 'executing': '2.0.1', 'expat': '2.6.2', 'fastavro': '1.9.5', 'fastparquet': '2024.5.0', 'ffmpeg': '6.1.1', 'fftw': '3.3.10', 'filelock': '3.15.4', 'firefly-client': '3.0.2', 'fitsio': '1.2.4', 'fitsverify': '4.22', 'flake8': '7.1.0', 'flask': '3.0.3', 'flask-cors': '4.0.1', 'fmt': '10.2.1', 'font-ttf-dejavu-sans-mono': '2.37', 'font-ttf-inconsolata': '3.000', 'font-ttf-source-code-pro': '2.038', 'font-ttf-ubuntu': '0.83', 'fontconfig': '2.14.2', 'fonts-conda-ecosystem': '1', 'fonts-conda-forge': '1', 'fonttools': '4.53.1', 'fortran-compiler': '1.7.0', 'fqdn': '1.5.1', 'freeglut': '3.2.2', 'freetype': '2.12.1', 'freexl': '2.0.0', 'fribidi': '1.0.10', 'frozendict': '2.4.4', 'frozenlist': '1.4.1', 'fsspec': '2024.6.1', 'future': '1.0.0', 'galsim': '2.5.3', 'gcc': '12.4.0', 'gcc_impl_linux-64': '12.4.0', 'gcc_linux-64': '12.4.0', 'gdk-pixbuf': '2.42.12', 'geom': 'gd6cbbdb0b4+20d6dd74f5', 'geomet': '0.2.1.post1', 'geos': '3.12.1', 'geotiff': '1.7.3', 'getcalspec': '2.1.0', 'gettext': '0.22.5', 'gettext-tools': '0.22.5', 'gflags': '2.2.2', 'gfortran': '12.4.0', 'gfortran_impl_linux-64': '12.4.0', 'gfortran_linux-64': '12.4.0', 'ghostscript': '10.03.1', 'giflib': '5.2.2', 'ginga': '5.1.0', 'git': '2.45.2', 'git-lfs': '3.5.1', 'gitdb': '4.0.11', 'gitpython': '3.1.43', 'globus-sdk': '3.44.0', 'glog': '0.7.1', 'gmp': '6.3.0', 'gmpy2': '2.1.5', 'gnutls': '3.7.9', 'gprof2dot': '2019.11.30', 'graphite2': '1.3.13', 'graphviz': '11.0.0', 'greenlet': '3.0.3', 'gsl': '2.7', 'gsoap': '2.8.123', 'gtk2': '2.24.33', 'gts': '0.7.6', 'gwcs': '0.21.0', 'gxx': '12.4.0', 'gxx_impl_linux-64': '12.4.0', 'gxx_linux-64': '12.4.0', 'h11': '0.14.0', 'h2': '4.1.0', 'h5py': '3.11.0', 'harfbuzz': '8.5.0', 'hdf4': '4.2.15', 'hdf5': '1.14.3', 'healpy': '1.16.6', 'healsparse': '1.10.1', 'holoviews': '1.19.1', 'hpack': '4.0.0', 'hpgeom': '1.3.0', 'htcondor': '23.0.3', 'htcondor-classads': '23.0.3', 'htcondor-utils': '23.0.3', 'html5lib': '1.1', 'httpcore': '1.0.5', 'httpretty': '1.1.4', 'httpx': '0.27.0', 'humanfriendly': '10.0', 'humanize': '4.10.0', 'hvplot': '0.10.0', 'hyperframe': '6.0.1', 'icu': '73.2', 'idds-client': '2.1.30', 'idds-common': '2.1.30', 'idds-doma': '2.1.30', 'idds-workflow': '2.1.30', 'identify': '2.6.0', 'idna': '3.7', 'imagecodecs': '2024.6.1', 'imageio': '2.34.2', 'imagemagick': '7.1.1_34', 'imagesize': '1.4.1', 'imath': '3.1.11', 'iminuit': '2.28.0', 'importlib-metadata': '8.2.0', 'importlib_metadata': '8.2.0', 'importlib_resources': '6.4.0', 'iniconfig': '2.0.0', 'ip_isr': 'LOCAL:/sdf/home/e/erykoff/tickets/ip_isr@7887d69a041d7a276fb1cce79eefa260e20ba63d', 'ipdb': '0.13.13', 'ipyevents': '2.0.2', 'ipykernel': '6.29.5', 'ipympl': '0.9.4', 'ipython': '8.26.0', 'ipython_genutils': '0.2.0', 'ipywidgets': '8.1.3', 'isoduration': '20.11.0', 'isort': '5.13.2', 'itsdangerous': '2.2.0', 'jaraco.classes': '3.4.0', 'jaraco.context': '5.3.0', 'jaraco.functools': '4.0.0', 'jasper': '4.2.4', 'jax': '0.4.31', 'jaxlib': '0.4.31', 'jbig': '2.1', 'jedi': '0.19.1', 'jeepney': '0.8.0', 'jinja2': '3.1.4', 'jmespath': '1.0.1', 'joblib': '1.4.2', 'joserfc': '1.0.0', 'jq': '1.7.1', 'json-c': '0.17', 'json5': '0.9.25', 'jsondiff': '2.0.0', 'jsonpatch': '1.33', 'jsonpointer': '3.0.0', 'jsonschema': '4.20.0', 'jsonschema-path': '0.3.3', 'jsonschema-specifications': '2023.12.1', 'jsonschema-with-format-nongpl': '4.20.0', 'jupyter': '1.0.0', 'jupyter-lsp': '2.2.5', 'jupyter_client': '8.6.2', 'jupyter_console': '6.6.3', 'jupyter_core': '5.7.2', 'jupyter_events': '0.10.0', 'jupyter_server': '2.14.2', 'jupyter_server_terminals': '0.5.3', 'jupyterlab': '4.2.4', 'jupyterlab_pygments': '0.3.0', 'jupyterlab_server': '2.27.3', 'jupyterlab_widgets': '3.0.11', 'jxrlib': '1.1', 'kafkit': '0.2.1', 'kealib': '1.5.3', 'kernel-headers_linux-64': '3.10.0', 'keyring': '25.3.0', 'keyutils': '1.6.1', 'kiwisolver': '1.4.5', 'krb5': '1.21.3', 'lame': '3.100', 'latexcodec': '2.0.1', 'lazy-object-proxy': '1.10.0', 'lazy_loader': '0.4', 'lcms2': '2.16', 'ld_impl_linux-64': '2.40', 'lerc': '4.0.0', 'libabseil': '20240116.2', 'libaec': '1.1.3', 'libapr': '1.7.0', 'libapriconv': '1.2.2', 'libaprutil': '1.6.1', 'libarchive': '3.7.4', 'libarrow': '16.1.0', 'libarrow-acero': '16.1.0', 'libarrow-dataset': '16.1.0', 'libarrow-substrait': '16.1.0', 'libasprintf': '0.22.5', 'libasprintf-devel': '0.22.5', 'libass': '0.17.1', 'libavif16': '1.0.4', 'libblas': '3.9.0', 'libboost': '1.82.0', 'libboost-devel': '1.82.0', 'libboost-headers': '1.82.0', 'libboost-python': '1.82.0', 'libboost-python-devel': '1.82.0', 'libbrotlicommon': '1.1.0', 'libbrotlidec': '1.1.0', 'libbrotlienc': '1.1.0', 'libcblas': '3.9.0', 'libclang-cpp18.1': '18.1.8', 'libclang13': '18.1.8', 'libcondor_utils': '23.0.3', 'libcrc32c': '1.1.2', 'libcups': '2.3.3', 'libcurl': '8.9.1', 'libcxx': '16.0.6', 'libcxxabi': '16.0.6', 'libde265': '1.0.15', 'libdeflate': '1.20', 'libdrm': '2.4.122', 'libedit': '3.1.20191231', 'libev': '4.33', 'libevent': '2.1.12', 'libexpat': '2.6.2', 'libffi': '3.4.2', 'libgcc': '14.2.0', 'libgcc-devel_linux-64': '12.4.0', 'libgcc-ng': '14.2.0', 'libgd': '2.3.3', 'libgdal': '3.9.0', 'libgettextpo': '0.22.5', 'libgettextpo-devel': '0.22.5', 'libgfortran-ng': '14.1.0', 'libgfortran5': '14.1.0', 'libglib': '2.80.2', 'libglu': '9.0.0', 'libgomp': '14.2.0', 'libgoogle-cloud': '2.23.0', 'libgoogle-cloud-storage': '2.23.0', 'libgrpc': '1.62.2', 'libheif': '1.17.6', 'libhwloc': '2.11.1', 'libhwy': '1.1.0', 'libiconv': '1.17', 'libidn2': '2.3.7', 'libjpeg-turbo': '3.0.0', 'libjxl': '0.10.3', 'libkml': '1.3.0', 'liblapack': '3.9.0', 'liblapacke': '3.9.0', 'libllvm14': '14.0.6', 'libllvm18': '18.1.8', 'libmamba': '1.5.8', 'libmambapy': '1.5.8', 'libnetcdf': '4.9.2', 'libnghttp2': '1.58.0', 'libnsl': '2.0.1', 'libntlm': '1.4', 'libopenblas': '0.3.27', 'libopencv': '4.10.0', 'libopenvino': '2024.2.0', 'libopenvino-auto-batch-plugin': '2024.2.0', 'libopenvino-auto-plugin': '2024.2.0', 'libopenvino-hetero-plugin': '2024.2.0', 'libopenvino-intel-cpu-plugin': '2024.2.0', 'libopenvino-intel-gpu-plugin': '2024.2.0', 'libopenvino-intel-npu-plugin': '2024.2.0', 'libopenvino-ir-frontend': '2024.2.0', 'libopenvino-onnx-frontend': '2024.2.0', 'libopenvino-paddle-frontend': '2024.2.0', 'libopenvino-pytorch-frontend': '2024.2.0', 'libopenvino-tensorflow-frontend': '2024.2.0', 'libopenvino-tensorflow-lite-frontend': '2024.2.0', 'libopus': '1.3.1', 'libparquet': '16.1.0', 'libpciaccess': '0.18', 'libpng': '1.6.43', 'libpq': '16.3', 'libprotobuf': '4.25.3', 'librdkafka': '1.9.2', 'libre2-11': '2023.09.01', 'librsvg': '2.58.1', 'librttopo': '1.1.0', 'libsanitizer': '12.4.0', 'libsodium': '1.0.18', 'libsolv': '0.7.30', 'libspatialite': '5.1.0', 'libsqlite': '3.46.0', 'libssh2': '1.11.0', 'libstdcxx': '14.2.0', 'libstdcxx-devel_linux-64': '12.4.0', 'libstdcxx-ng': '14.2.0', 'libtasn1': '4.19.0', 'libthrift': '0.19.0', 'libtiff': '4.6.0', 'libtorch': '2.3.1', 'libunistring': '0.9.10', 'libutf8proc': '2.8.0', 'libuuid': '2.38.1', 'libuv': '1.48.0', 'libva': '2.21.0', 'libvpx': '1.14.1', 'libwebp': '1.4.0', 'libwebp-base': '1.4.0', 'libxcb': '1.15', 'libxcrypt': '4.4.36', 'libxkbcommon': '1.7.0', 'libxml2': '2.12.7', 'libxslt': '1.1.39', 'libzip': '1.10.1', 'libzlib': '1.3.1', 'libzopfli': '1.0.3', 'line_profiler': '4.1.1', 'linkify-it-py': '2.0.3', 'llvmlite': '0.43.0', 'lmfit': '1.2.2', 'locket': '1.0.0', 'log': 'ge278dab8ac+33c5571e48', 'log4cxx': '1.2.0', 'lsst-dd-rtd-theme': '0.2.4', 'lsst-documenteer-pipelines': '0.8.2', 'lsst-documenteer-technote': '0.8.2', 'lsst-efd-client': '0.12.0', 'lsst-sphinx-bootstrap-theme': '0.2.2', 'lsst-ts-xml': '21.0.0', 'lsstDebug': 'g53246c7159+c2fbfce3f8', 'lsstdesc.coord': '1.3.0', 'lxml': '5.2.2', 'lz4-c': '1.9.4', 'lzo': '2.10', 'make': '4.3', 'mako': '1.3.5', 'markdown': '3.6', 'markdown-it-py': '3.0.0', 'markupsafe': '2.1.5', 'matplotlib': '3.9.1', 'matplotlib-base': '3.9.1', 'matplotlib-inline': '0.1.7', 'mccabe': '0.7.0', 'mdit-py-plugins': '0.4.1', 'mdurl': '0.1.2', 'meas_algorithms': 'g2179890f76+970879141e', 'meas_base': 'gdd9490a0bf+e302a3982c', 'menuinst': '2.1.1', 'meson': '1.5.1', 'minizip': '4.0.7', 'minuit2': '6.22.06', 'minuit2_standalone': '6.22.06', 'mistune': '3.0.2', 'ml_dtypes': '0.4.0', 'mock': '5.1.0', 'more-itertools': '10.3.0', 'moto': '5.0.12', 'mpc': '1.3.1', 'mpfr': '4.2.1', 'mpi': '1.0', 'mpi4py': '4.0.0', 'mpich': '4.2.2', 'mpl_toolkits': '3.9.1', 'mpmath': '1.3.0', 'msgpack-python': '1.0.8', 'multidict': '6.0.5', 'multipledispatch': '0.6.0', 'multiprocess': '0.70.16', 'munge': '0.5.16', 'munkres': '1.1.4', 'mypy': '1.11.1', 'mypy_extensions': '1.0.0', 'mysql-common': '8.3.0', 'mysql-libs': '8.3.0', 'mysqlclient': '2.2.4', 'nacl': '1.5.0', 'nbclient': '0.10.0', 'nbconvert': '7.16.4', 'nbconvert-core': '7.16.4', 'nbconvert-pandoc': '7.16.4', 'nbformat': '5.10.4', 'ncurses': '6.5', 'ndarray': '1.6.4', 'nest-asyncio': '1.6.0', 'nettle': '3.9.1', 'networkx': '3.3', 'ngmix-core': '2.3.1', 'ninja': '1.12.1', 'nodeenv': '1.9.1', 'nomkl': '1.0', 'nose': '1.3.7', 'notebook': '7.2.1', 'notebook-shim': '0.2.4', 'nspr': '4.35', 'nss': '3.103', 'numba': '0.60.0', 'numexpr': '2.10.0', 'numpy': '1.26.4', 'numpydoc': '1.7.0', 'obs_base': 'LOCAL:/sdf/home/e/erykoff/tickets/obs_base@7eb4f6d1c35a4f2081b38db2aef9ad6f1f2aa363', 'obs_lsst': 'LOCAL:/sdf/home/e/erykoff/tickets/obs_lsst@5d7efe27054d8cdd306ba184483df2804c2157a2', 'ocl-icd': '2.3.2', 'oniguruma': '6.9.9', 'openapi-schema-validator': '0.6.2', 'openapi-spec-validator': '0.7.1', 'opencv': '4.10.0', 'openexr': '3.2.2', 'openh264': '2.4.1', 'openjpeg': '2.5.2', 'openssl': '3.4.0', 'opt-einsum': '3.3.0', 'opt_einsum': '3.3.0', 'orc': '2.0.0', 'ordered-set': '4.1.0', 'orjson': '3.10.6', 'overrides': '7.7.0', 'p11-kit': '0.24.1', 'packaging': '24.1', 'panda-client': '1.5.76', 'pandas': '2.2.2', 'pandoc': '3.3', 'pandocfilters': '1.5.0', 'panel': '1.4.5', 'pango': '1.54.0', 'param': '2.1.1', 'paramiko': '3.4.1', 'parsl': '2024.4.29', 'parso': '0.8.4', 'partd': '1.4.2', 'patch': '2.7.6', 'pathable': '0.4.3', 'pathspec': '0.12.1', 'patsy': '0.5.6', 'pbr': '6.0.0', 'pcre2': '10.43', 'pendulum': '3.0.0', 'pep8': '1.7.1', 'pep8-naming': '0.14.1', 'perl': '5.32.1', 'pex_config': 'g384b62748c+123ace3005', 'pex_exceptions': 'g786e29fd12+dbec9d93bf', 'pexpect': '4.9.0', 'pgcli': '4.1.0', 'pgplot': '5.2.2', 'pgspecial': '2.1.2', 'photutils': '1.13.0', 'pickleshare': '0.7.5', 'piff': '1.4.0', 'pillow': '10.3.0', 'pip': '24.2', 'pipe_base': 'gf992f36a90+07e1336654', 'pipe_tasks': 'g2ed9e9f364+1731da1ab8', 'pixman': '0.43.2', 'pkg-config': '0.29.2', 'pkgutil-resolve-name': '1.3.10', 'platformdirs': '4.2.2', 'pluggy': '1.5.0', 'pooch': '1.8.2', 'poppler': '24.04.0', 'poppler-data': '0.4.12', 'postgresql': '16.3', 'pre-commit': '3.8.0', 'prmon': '3.0.2', 'progressbar2': '4.4.2', 'proj': '9.4.0', 'prometheus_client': '0.20.0', 'prompt-toolkit': '3.0.47', 'prompt_toolkit': '3.0.47', 'psutil': '6.0.0', 'psycopg': '3.2.1', 'psycopg-c': '3.2.1', 'psycopg2': '2.9.9', 'pthread-stubs': '0.4', 'ptyprocess': '0.7.0', 'pugixml': '1.14', 'pure_eval': '0.2.3', 'py-cpuinfo': '9.0.0', 'py-opencv': '4.10.0', 'pyarrow': '16.1.0', 'pyarrow-core': '16.1.0', 'pybind11': '2.13.1', 'pybind11-abi': '4', 'pybind11-global': '2.13.1', 'pybtex': '0.24.0', 'pybtex-docutils': '1.0.3', 'pycodestyle': '2.12.1', 'pycosat': '0.6.6', 'pycparser': '2.22', 'pyct': '0.5.0', 'pydantic': '2.8.2', 'pydantic-core': '2.20.1', 'pydantic_core': '2.20.1', 'pydocstyle': '6.3.0', 'pyerfa': '2.0.1.4', 'pyflakes': '3.2.0', 'pygments': '2.18.0', 'pyjwt': '2.9.0', 'pyld': '2.0.4', 'pynacl': '1.5.0', 'pyparsing': '3.1.2', 'pyproj': '3.6.1', 'pyproject_hooks': '1.1.0', 'pysocks': '1.7.1', 'pysynphot': '2.0.0', 'pytables': '3.9.2', 'pytest': '8.3.2', 'pytest-cov': '5.0.0', 'pytest-doctestplus': '1.2.1', 'pytest-openfiles': '0.5.0', 'pytest-profiling': '1.7.0', 'pytest-runner': '6.0.0', 'pytest-session2file': '0.1.11', 'pytest-subtests': '0.13.1', 'pytest-vcr': '1.0.2', 'pytest-xdist': '3.6.1', 'python': '3.11.9', 'python-build': '1.2.1', 'python-confluent-kafka': '1.9.2', 'python-dateutil': '2.9.0', 'python-fastjsonschema': '2.20.0', 'python-htcondor': '23.0.3', 'python-json-logger': '2.0.7', 'python-tzdata': '2024.1', 'python-utils': '3.8.2', 'python-wget': '3.2', 'python_abi': '3.11', 'pytorch': '2.3.1', 'pytz': '2024.1', 'pyviz_comms': '3.0.3', 'pyvo': '1.5.2', 'pywavelets': '1.6.0', 'pyyaml': '6.0.1', 'pyzmq': '26.0.3', 'qhull': '2020.2', 'qt6-main': '6.7.2', 'qtconsole-base': '5.5.2', 'qtpy': '2.4.1', 'rasterio': '1.3.10', 'rav1e': '0.6.6', 're2': '2023.09.01', 'readline': '8.2', 'rebound': '4.4.1', 'referencing': '0.35.1', 'reproc': '14.2.4.post0', 'reproc-cpp': '14.2.4.post0', 'requests': '2.32.3', 'resources': 'gc989d23ee3+33c5571e48', 'responses': '0.25.3', 'rfc3339-validator': '0.1.4', 'rfc3339_validator': '0.1.4', 'rfc3986-validator': '0.1.1', 'rfc3986_validator': '0.1.1', 'rhash': '1.4.4', 'ripgrep': '14.1.0', 'rpds-py': '0.19.1', 'ruamel.yaml': '0.18.6', 'ruamel.yaml.clib': '0.2.8', 'rubin-env': '9.0.0', 'rubin-env-developer': '9.0.0', 'rubin-env-nosysroot': '9.0.0', 'rucio-clients': '34.6.0', 'ruff': '0.5.2', 's2n': '1.4.13', 's3fs': '2024.6.1', 's3transfer': '0.10.2', 'sbpy': '0.3.0', 'schwimmbad': '0.4.2', 'scikit-image': '0.24.0', 'scikit-learn': '1.5.1', 'scipy': '1.13.1', 'scitokens-cpp': '1.0.2', 'scons': '4.7.0', 'seaborn': '0.13.2', 'seaborn-base': '0.13.2', 'secretstorage': '3.3.3', 'semantic_version': '2.10.0', 'send2trash': '1.8.3', 'setproctitle': '1.3.3', 'setuptools': '72.1.0', 'setuptools-scm': '8.1.0', 'shapely': '2.0.4', 'six': '1.16.0', 'skimage': '0.24.0', 'sklearn': '1.5.1', 'skymap': 'g1fd858c14a+ea922b72d8', 'skyproj': '1.2.4', 'sleef': '3.6.1', 'smmap': '5.0.0', 'snakeviz': '2.2.0', 'snappy': '1.2.1', 'sniffio': '1.3.1', 'snowballstemmer': '2.2.0', 'snuggs': '1.4.7', 'socks': '1.7.1', 'sorcha': '0.9.1', 'sortedcontainers': '2.4.0', 'soupsieve': '2.5', 'spdlog': '1.12.0', 'spherematch': '0.10.2', 'sphgeom': 'gca43fec769+c2fbfce3f8', 'sphinx': '6.2.1', 'sphinx-automodapi': '0.16.0', 'sphinx-click': '6.0.0', 'sphinx-jinja': '2.0.2', 'sphinx-prompt': '1.4.0', 'sphinxcontrib-applehelp': '2.0.0', 'sphinxcontrib-autoprogram': '0.1.5', 'sphinxcontrib-bibtex': '2.5.0', 'sphinxcontrib-devhelp': '2.0.0', 'sphinxcontrib-doxylink': '1.12.3', 'sphinxcontrib-htmlhelp': '2.1.0', 'sphinxcontrib-jquery': '4.1', 'sphinxcontrib-jsmath': '1.0.1', 'sphinxcontrib-qthelp': '2.0.0', 'sphinxcontrib-serializinghtml': '1.1.10', 'spiceypy': '6.0.0', 'sqlalchemy': '2.0.31', 'sqlite': '3.46.0', 'sqlparse': '0.4.4', 'stack_data': '0.6.2', 'starlink-ast': '9.2.11', 'statsmodels': '0.14.2', 'stevedore': '5.2.0', 'stomp.py': '8.0.1', 'svt-av1': '2.1.0', 'sympy': '1.13.0', 'synphot': '1.4.0', 'sysroot_linux-64': '2.17', 'tabulate': '0.9.0', 'tbb': '2021.12.0', 'tblib': '3.0.0', 'terminado': '0.18.1', 'threadpoolctl': '3.5.0', 'tifffile': '2024.7.24', 'tiledb': '2.22.0', 'time-machine': '2.14.2', 'tinycss2': '1.3.0', 'tk': '8.6.13', 'tlz': '0.12.1', 'toml': '0.10.2', 'tomli': '2.0.1', 'toolz': '0.12.1', 'torchvision': '0.18.1', 'tornado': '6.4.1', 'tqdm': '4.66.5', 'traitlets': '5.14.3', 'treecorr': '4.3.3', 'treegp': '1.2.0', 'truststore': '0.8.0', 'typeguard': '4.3.0', 'types-deprecated': '1.2.9.20240311', 'types-pkg_resources': '0.1.3', 'types-python-dateutil': '2.9.0.20240316', 'types-pyyaml': '6.0.12.20240724', 'types-requests': '2.31.0.6', 'types-setuptools': '71.1.0.20240726', 'types-urllib3': '1.26.25.14', 'typing-extensions': '4.12.2', 'typing_extensions': '4.12.2', 'typing_utils': '0.1.0', 'tzcode': '2024a', 'tzdata': '2024a', 'uc-micro-py': '1.0.3', 'ukkonen': '1.0.1', 'uncertainties': '3.2.2', 'uri-template': '1.3.0', 'uri_template': '1.3.0', 'uriparser': '0.9.8', 'uritemplate': '4.1.1', 'urllib3': '1.26.19', 'utils': 'g8149115942+c2fbfce3f8', 'vcrpy': '6.0.1', 'virtualenv': '20.26.3', 'voms': '2.1.0rc3', 'wayland': '1.23.0', 'wcslib': '8.2.2', 'wcwidth': '0.2.13', 'webcolors': '24.6.0', 'webdav4': '0.10.0', 'webencodings': '0.5.1', 'websocket-client': '1.8.0', 'werkzeug': '3.0.3', 'wheel': '0.44.0', 'widgetsnbextension': '4.0.11', 'wrapt': '1.16.0', 'ws4py': '0.5.1', 'x264': '1!164.3095', 'x265': '3.5', 'xarray': '2024.7.0', 'xcb-util': '0.4.0', 'xcb-util-cursor': '0.1.4', 'xcb-util-image': '0.4.0', 'xcb-util-keysyms': '0.4.0', 'xcb-util-renderutil': '0.3.9', 'xcb-util-wm': '0.4.1', 'xerces-c': '3.2.5', 'xkeyboard-config': '2.42', 'xmltodict': '0.13.0', 'xorg-fixesproto': '5.0', 'xorg-inputproto': '2.3.2', 'xorg-kbproto': '1.0.7', 'xorg-libice': '1.1.1', 'xorg-libsm': '1.2.4', 'xorg-libx11': '1.8.9', 'xorg-libxau': '1.0.11', 'xorg-libxdmcp': '1.1.3', 'xorg-libxext': '1.3.4', 'xorg-libxfixes': '5.0.3', 'xorg-libxi': '1.7.10', 'xorg-libxrender': '0.9.11', 'xorg-libxt': '1.3.0', 'xorg-renderproto': '0.11.1', 'xorg-xextproto': '7.3.0', 'xorg-xproto': '7.0.31', 'xpa': '2.1.20', 'xyzservices': '2024.6.0', 'xz': '5.2.6', 'yaml': '0.2.5', 'yaml-cpp': '0.8.0', 'yarl': '1.9.4', 'zenodo_get': '1.6.1', 'zeromq': '4.3.5', 'zfp': '1.0.1', 'zict': '3.0.0', 'zipp': '3.19.2', 'zlib': '1.3.1', 'zlib-ng': '2.2.1', 'zstandard': '0.23.0', 'zstd': '1.5.6'})"
      ]
     },
     "execution_count": 11,
     "metadata": {},
     "output_type": "execute_result"
    }
   ],
   "source": [
    "butler.get(bias_isr_packages_refs[0])"
   ]
  },
  {
   "cell_type": "markdown",
   "id": "cf109051-ed07-482a-8b7f-3cd3372f3648",
   "metadata": {},
   "source": [
    "Look up the **configurations** that were used in the `cpBiasIsr` and `cpBiasCombine` tasks:"
   ]
  },
  {
   "cell_type": "code",
   "execution_count": 12,
   "id": "977a7ca8-5b32-47d8-89b6-c91da83abf9a",
   "metadata": {
    "execution": {
     "iopub.execute_input": "2025-05-01T23:50:10.183749Z",
     "iopub.status.busy": "2025-05-01T23:50:10.183529Z",
     "iopub.status.idle": "2025-05-01T23:50:11.695375Z",
     "shell.execute_reply": "2025-05-01T23:50:11.694909Z",
     "shell.execute_reply.started": "2025-05-01T23:50:10.183732Z"
    }
   },
   "outputs": [
    {
     "data": {
      "text/plain": [
       "lsst.ip.isr.isrTaskLSST.IsrTaskLSSTConfig(saveLogOutput=True, expectWcs=False, qa={'saveStats': True, 'flatness': {'meshX': 256, 'meshY': 256, 'doClip': True, 'clipSigma': 3.0, 'nIter': 3}, 'doWriteOss': False, 'doThumbnailOss': False, 'doWriteFlattened': False, 'doThumbnailFlattened': False, 'thumbnailBinning': 4, 'thumbnailStdev': 3.0, 'thumbnailRange': 5.0, 'thumbnailQ': 20.0, 'thumbnailSatBorder': 2}, doHeaderProvenance=True, doRaiseOnCalibMismatch=False, cameraKeywordsToCompare=[], doDiffNonLinearCorrection=False, doBootstrap=False, doCheckUnprocessableData=True, overscanCamera={'detectorRules': {}, 'defaultDetectorConfig': {'ampRules': {}, 'defaultAmpConfig': {'doSerialOverscan': True, 'serialOverscanConfig': {'fitType': 'MEDIAN_PER_ROW', 'order': 1, 'numSigmaClip': 3.0, 'maskPlanes': ['BAD', 'SAT'], 'overscanIsInt': False, 'maxDeviation': 1000.0, 'doAbsoluteMaxDeviation': True, 'leadingToSkip': 3, 'trailingToSkip': 3}, 'doParallelOverscanCrosstalk': True, 'doParallelOverscan': True, 'parallelOverscanConfig': {'fitType': 'MEDIAN_PER_ROW', 'order': 1, 'numSigmaClip': 3.0, 'maskPlanes': ['BAD', 'SAT'], 'overscanIsInt': False, 'maxDeviation': 100.0, 'doAbsoluteMaxDeviation': False, 'doParallelOverscanSaturation': True, 'parallelOverscanSaturationLevel': 20000.0, 'parallelOverscanSaturationLevelAdjustmentFactor': 0.75, 'parallelOverscanMaskGrowSize': 7, 'parallelOverscanMaskedColumnGrowSize': 2, 'leadingToSkip': 3, 'trailingToSkip': 3, 'parallelOverscanFraction': 0.5, 'parallelOverscanImageThreshold': 10000.0, 'doMedianSmoothingOutlierRejection': True, 'medianSmoothingKernel': 5, 'medianSmoothingOutlierThreshold': 5.0}, 'saturation': nan, 'suspectLevel': nan, 'gain': nan}, 'integerDitherMode': 'SYMMETRIC', 'itlDipMinHeight': 50, 'itlDipMinWidth': 15, 'itlDipMaxWidth': 50, 'itlDipWidthScale': 1.5, 'itlDipBackgroundFraction': 0.0, 'itlDipMinBackgroundNoiseFraction': 0.5, 'itlDipMaxColsPerImage': 500}, 'detectorRuleKeyType': 'NAME'}, ampNoiseThreshold=25.0, doAssembleCcd=True, assembleCcd={'doTrim': True, 'keysToRemove': []}, doBias=False, doDeferredCharge=True, deferredChargeCorrection={'nPixelOffsetCorrection': 15, 'nPixelTrapCorrection': 6, 'useGains': False, 'zeroUnusedPixels': True}, doLinearize=True, doCorrectGains=False, doApplyGains=True, doVariance=True, maskNegativeVariance=False, negativeVarianceMaskName='BAD', doSaturation=False, saturatedMaskName='SAT', defaultSaturationSource='PTCTURNOFF', doSuspect=False, suspectMaskName='SUSPECT', defaultSuspectSource='PTCTURNOFF', doCrosstalk=True, crosstalk={'minPixelToMask': 1.0, 'crosstalkMaskPlane': 'CROSSTALK', 'doSubtrahendMasking': True, 'crosstalkBackgroundMethod': 'None', 'useConfigCoefficients': False, 'crosstalkValues': [0.0], 'crosstalkShape': [1], 'doQuadraticCrosstalkCorrection': True}, doITLDipMask=True, itlDipMaskPlanes=['SUSPECT', 'ITL_DIP'], doDefect=False, doNanMasking=True, doWidenSaturationTrails=False, masking={'doSpecificMasking': False}, doITLEdgeBleedMask=True, doITLSatSagMask=True, itlEdgeBleedSatMinArea=10000, itlEdgeBleedSatMaxArea=100000, itlEdgeBleedThreshold=5000.0, itlEdgeBleedModelConstant=0.02, doInterpolate=False, maskListToInterpolate=['SAT', 'BAD'], doSaveInterpPixels=False, useLegacyInterp=True, doAmpOffset=False, ampOffset={'ampEdgeInset': 5, 'ampEdgeWidth': 64, 'ampEdgeMinFrac': 0.5, 'ampEdgeMaxOffset': 10.0, 'doWindowSmoothing': True, 'ampEdgeWindowFrac': 0.12260536398467432, 'doBackground': True, 'background': {'statisticsProperty': 'MEANCLIP', 'undersampleStyle': 'REDUCE_INTERP_ORDER', 'binSize': 128, 'binSizeX': 0, 'binSizeY': 0, 'algorithm': 'AKIMA_SPLINE', 'ignoredPixelMask': ['BAD', 'SAT', 'INTRP', 'CR', 'EDGE', 'DETECTED', 'DETECTED_NEGATIVE', 'SUSPECT', 'NO_DATA'], 'isNanSafe': False, 'useApprox': False, 'approxOrderX': 6, 'approxOrderY': -1, 'weighting': True, 'doApplyFlatBackgroundRatio': False}, 'backgroundFractionSample': 1.0, 'doDetection': True, 'detection': {'minPixels': 1, 'isotropicGrow': True, 'combinedGrow': True, 'nSigmaToGrow': 2.4, 'returnOriginalFootprints': False, 'thresholdValue': 5.0, 'includeThresholdMultiplier': 1.0, 'thresholdType': 'stdev', 'thresholdPolarity': 'positive', 'adjustBackground': 0.0, 'reEstimateBackground': False, 'doApplyFlatBackgroundRatio': False, 'background': {'statisticsProperty': 'MEANCLIP', 'undersampleStyle': 'REDUCE_INTERP_ORDER', 'binSize': 128, 'binSizeX': 0, 'binSizeY': 0, 'algorithm': 'AKIMA_SPLINE', 'ignoredPixelMask': ['BAD', 'EDGE', 'DETECTED', 'DETECTED_NEGATIVE', 'NO_DATA'], 'isNanSafe': False, 'useApprox': True, 'approxOrderX': 6, 'approxOrderY': -1, 'weighting': True, 'doApplyFlatBackgroundRatio': False}, 'tempLocalBackground': {'statisticsProperty': 'MEANCLIP', 'undersampleStyle': 'REDUCE_INTERP_ORDER', 'binSize': 64, 'binSizeX': 0, 'binSizeY': 0, 'algorithm': 'AKIMA_SPLINE', 'ignoredPixelMask': ['BAD', 'EDGE', 'DETECTED', 'DETECTED_NEGATIVE', 'NO_DATA'], 'isNanSafe': False, 'useApprox': False, 'approxOrderX': 6, 'approxOrderY': -1, 'weighting': True, 'doApplyFlatBackgroundRatio': False}, 'doTempLocalBackground': True, 'tempWideBackground': {'statisticsProperty': 'MEANCLIP', 'undersampleStyle': 'REDUCE_INTERP_ORDER', 'binSize': 512, 'binSizeX': 0, 'binSizeY': 0, 'algorithm': 'AKIMA_SPLINE', 'ignoredPixelMask': ['BAD', 'EDGE', 'NO_DATA'], 'isNanSafe': False, 'useApprox': False, 'approxOrderX': 6, 'approxOrderY': -1, 'weighting': True, 'doApplyFlatBackgroundRatio': False}, 'doTempWideBackground': False, 'nPeaksMaxSimple': 1, 'nSigmaForKernel': 7.0, 'statsMask': ['BAD', 'SAT', 'EDGE', 'NO_DATA'], 'excludeMaskPlanes': []}, 'applyWeights': True, 'doApplyAmpOffset': True}, doSetBadRegions=False, doBrighterFatter=False, brighterFatterLevel='DETECTOR', brighterFatterMaxIter=10, brighterFatterThreshold=1000.0, brighterFatterMaskListToInterpolate=['SAT', 'BAD', 'NO_DATA', 'UNMASKEDNAN'], brighterFatterMaskGrowSize=2, brighterFatterFwhmForInterpolation=1.0, growSaturationFootprintSize=1, doDark=False, doFlat=False, flatScalingType='USER', flatUserScale=1.0, doStandardStatistics=True, doCalculateStatistics=True, isrStats={'doCtiStatistics': False, 'doApplyGainsForCtiStatistics': True, 'doBandingStatistics': False, 'bandingKernelSize': 3, 'bandingFractionLow': 0.1, 'bandingFractionHigh': 0.9, 'bandingUseHalfDetector': 1.0, 'doProjectionStatistics': False, 'projectionKernelSize': 0, 'doProjectionFft': False, 'projectionFftWindow': 'HAMMING', 'doDivisaderoStatistics': False, 'divisaderoEdgePixels': 25, 'divisaderoNumImpactPixels': 2, 'divisaderoProjectionMinimum': 10, 'divisaderoProjectionMaximum': 210, 'doCopyCalibDistributionStatistics': False, 'expectedDistributionLevels': [0.0, 5.0, 16.0, 50.0, 84.0, 95.0, 100.0], 'doBiasShiftStatistics': False, 'biasShiftFilterOrder': 5, 'biasShiftCutoff': 0.06666666666666667, 'biasShiftWindow': 30, 'biasShiftThreshold': 3.0, 'biasShiftRowSkip': 30, 'biasShiftColumnSkip': 3, 'doAmplifierCorrelationStatistics': False, 'stat': 'MEANCLIP', 'nSigmaClip': 3.0, 'nIter': 3, 'badMask': ['BAD', 'INTRP', 'SAT']}, doBinnedExposures=False, binning={'saveLogOutput': True, 'exposureDimensions': ['detector', 'exposure', 'instrument'], 'exposureStorageClass': 'ExposureF', 'binFactor': 8, 'connections': {'inputExposure': '{inputName}', 'binnedExposure': '{outputName}', 'inputName': 'postISRCCD', 'outputName': 'postISRCCDBin'}}, binFactor1=8, binFactor2=64, connections={'ccdExposure': 'raw', 'camera': 'camera', 'dnlLUT': 'dnlLUT', 'bias': 'bias', 'deferredChargeCalib': 'cti', 'linearizer': 'linearizer', 'ptc': 'ptc', 'crosstalk': 'crosstalk', 'defects': 'defects', 'bfKernel': 'bfk', 'dark': 'dark', 'flat': 'flat', 'outputExposure': 'cpBiasIsrExp', 'preInterpExposure': 'preInterpISRCCD', 'outputBin1Exposure': 'postIsrBin1', 'outputBin2Exposure': 'postIsrBin2', 'outputStatistics': 'isrStatistics'})"
      ]
     },
     "execution_count": 12,
     "metadata": {},
     "output_type": "execute_result"
    }
   ],
   "source": [
    "butler.get('cpBiasIsr_config', collections=coll)"
   ]
  },
  {
   "cell_type": "code",
   "execution_count": 13,
   "id": "d0a5c272-f368-4f9c-8ed5-6725267c9278",
   "metadata": {
    "execution": {
     "iopub.execute_input": "2025-05-01T23:50:11.696381Z",
     "iopub.status.busy": "2025-05-01T23:50:11.695905Z",
     "iopub.status.idle": "2025-05-01T23:50:12.650001Z",
     "shell.execute_reply": "2025-05-01T23:50:12.649540Z",
     "shell.execute_reply.started": "2025-05-01T23:50:11.696367Z"
    }
   },
   "outputs": [
    {
     "data": {
      "text/plain": [
       "lsst.cp.pipe.cpCombine.CalibCombineConfig(saveLogOutput=True, calibrationType='bias', exposureScaling='Unity', scalingLevel='DETECTOR', maxVisitsToCalcErrorFromInputVariance=5, subregionSize=[10000, 200], doVignette=False, doVignetteMask=False, vignette={'xCenter': 0.0, 'yCenter': 0.0, 'radius': 100.0, 'numPolygonPoints': 100}, distributionPercentiles=[0.0, 5.0, 16.0, 50.0, 84.0, 95.0, 100.0], mask=['DETECTED', 'INTRP'], combine='MEANCLIP', clip=3.0, nIter=3, noGoodPixelsMask='BAD', checkNoData=True, censorMaskPlanes=True, stats={'stat': 'MEANCLIP', 'clip': 3.0, 'nIter': 3, 'mask': ['DETECTED', 'BAD', 'NO_DATA']}, connections={'inputExpHandles': 'cpBiasIsrExp', 'inputScales': 'cpScales', 'outputData': 'bias'})"
      ]
     },
     "execution_count": 13,
     "metadata": {},
     "output_type": "execute_result"
    }
   ],
   "source": [
    "butler.get('cpBiasCombine_config', collections=coll)"
   ]
  },
  {
   "cell_type": "markdown",
   "id": "599c28fb-6d07-495e-bd94-77842dcb6c9f",
   "metadata": {},
   "source": [
    "If needed, the **task metadata** can also be retrieved for each of these tasks.\n",
    "\n",
    "Note also that, while not demonstrated here, the processing logs are retrievable from the Butler, with datasetType names such as `cpBiasIsr_log`."
   ]
  },
  {
   "cell_type": "code",
   "execution_count": 14,
   "id": "c2288218-cdb3-4da7-9320-18783b3e039d",
   "metadata": {
    "execution": {
     "iopub.execute_input": "2025-05-01T23:50:12.651010Z",
     "iopub.status.busy": "2025-05-01T23:50:12.650535Z",
     "iopub.status.idle": "2025-05-01T23:50:12.731239Z",
     "shell.execute_reply": "2025-05-01T23:50:12.730773Z",
     "shell.execute_reply.started": "2025-05-01T23:50:12.650995Z"
    }
   },
   "outputs": [],
   "source": [
    "bias_isr_metadata_refs = butler.query_datasets('cpBiasIsr_metadata', collections=coll)"
   ]
  },
  {
   "cell_type": "code",
   "execution_count": 15,
   "id": "5af7d0bb-c511-4f46-91ee-73721befcac0",
   "metadata": {
    "execution": {
     "iopub.execute_input": "2025-05-01T23:50:12.731894Z",
     "iopub.status.busy": "2025-05-01T23:50:12.731758Z",
     "iopub.status.idle": "2025-05-01T23:50:12.751095Z",
     "shell.execute_reply": "2025-05-01T23:50:12.750672Z",
     "shell.execute_reply.started": "2025-05-01T23:50:12.731881Z"
    }
   },
   "outputs": [],
   "source": [
    "md = butler.get(bias_isr_metadata_refs[0])"
   ]
  },
  {
   "cell_type": "code",
   "execution_count": 16,
   "id": "bf6b3491-53a1-4937-b8b6-67abb7749772",
   "metadata": {
    "execution": {
     "iopub.execute_input": "2025-05-01T23:50:12.751690Z",
     "iopub.status.busy": "2025-05-01T23:50:12.751561Z",
     "iopub.status.idle": "2025-05-01T23:50:12.754530Z",
     "shell.execute_reply": "2025-05-01T23:50:12.754185Z",
     "shell.execute_reply.started": "2025-05-01T23:50:12.751678Z"
    }
   },
   "outputs": [
    {
     "data": {
      "text/plain": [
       "TaskMetadata(scalars={}, arrays={}, metadata={'cpBiasIsr': TaskMetadata(scalars={'NUMNANS': 0.0}, arrays={}, metadata={}), 'cpBiasIsr:assembleCcd': TaskMetadata(scalars={}, arrays={}, metadata={}), 'cpBiasIsr:deferredChargeCorrection': TaskMetadata(scalars={}, arrays={}, metadata={}), 'cpBiasIsr:crosstalk': TaskMetadata(scalars={}, arrays={}, metadata={}), 'cpBiasIsr:masking': TaskMetadata(scalars={}, arrays={}, metadata={}), 'cpBiasIsr:isrStats': TaskMetadata(scalars={}, arrays={}, metadata={}), 'cpBiasIsr:ampOffset': TaskMetadata(scalars={}, arrays={}, metadata={}), 'cpBiasIsr:ampOffset:background': TaskMetadata(scalars={}, arrays={}, metadata={}), 'cpBiasIsr:ampOffset:detection': TaskMetadata(scalars={}, arrays={}, metadata={}), 'cpBiasIsr:ampOffset:detection:tempLocalBackground': TaskMetadata(scalars={}, arrays={}, metadata={}), 'cpBiasIsr:binning': TaskMetadata(scalars={}, arrays={}, metadata={}), 'quantum': TaskMetadata(scalars={'__version__': 1.0, 'caveats': 0.0}, arrays={'prepUtc': ['2025-02-08T18:57:31.593111+00:00'], 'prepCpuTime': [4.527834501], 'prepUserTime': [3.285087], 'prepSystemTime': [1.24274], 'prepMaxResidentSetSize': [368201728.0], 'prepMinorPageFaults': [115315.0], 'prepMajorPageFaults': [0.0], 'prepBlockInputs': [0.0], 'prepBlockOutputs': [16.0], 'prepVoluntaryContextSwitches': [22838.0], 'prepInvoluntaryContextSwitches': [12.0], 'initUtc': ['2025-02-08T18:57:31.593615+00:00'], 'initCpuTime': [4.528321342], 'initUserTime': [3.2855280000000002], 'initSystemTime': [1.24279], 'initMaxResidentSetSize': [368201728.0], 'initMinorPageFaults': [115315.0], 'initMajorPageFaults': [0.0], 'initBlockInputs': [0.0], 'initBlockOutputs': [16.0], 'initVoluntaryContextSwitches': [22838.0], 'initInvoluntaryContextSwitches': [12.0], 'startUtc': ['2025-02-08T18:57:31.594299+00:00'], 'startCpuTime': [4.528997152], 'startUserTime': [3.286203], 'startSystemTime': [1.24279], 'startMaxResidentSetSize': [368201728.0], 'startMinorPageFaults': [115315.0], 'startMajorPageFaults': [0.0], 'startBlockInputs': [0.0], 'startBlockOutputs': [16.0], 'startVoluntaryContextSwitches': [22838.0], 'startInvoluntaryContextSwitches': [12.0], 'outputs': ['5ad357ec-3262-4562-937f-8d329fe3bbc9', 'a65a617d-0dcb-4901-9ac9-0f3944d1a060'], 'endUtc': ['2025-02-08T18:57:43.027904+00:00'], 'endCpuTime': [15.072497484], 'endUserTime': [12.606771], 'endSystemTime': [2.465714], 'endMaxResidentSetSize': [1201672192.0], 'endMinorPageFaults': [1176069.0], 'endMajorPageFaults': [0.0], 'endBlockInputs': [27776.0], 'endBlockOutputs': [217824.0], 'endVoluntaryContextSwitches': [23839.0], 'endInvoluntaryContextSwitches': [410.0]}, metadata={})})"
      ]
     },
     "execution_count": 16,
     "metadata": {},
     "output_type": "execute_result"
    }
   ],
   "source": [
    "md"
   ]
  },
  {
   "cell_type": "markdown",
   "id": "be320348-1d1f-4ec6-90db-0ca0c4a50b74",
   "metadata": {},
   "source": [
    "### Flats\n",
    "\n",
    "The same can be done for other types of calibrations (e.g., darks, flats, skyflats, crosstalk matrices, etc.). Here, we demonstrate retrieval of the required information for a `flat`."
   ]
  },
  {
   "cell_type": "code",
   "execution_count": 17,
   "id": "2da052f0-08ad-44ee-8ec9-d890d660c410",
   "metadata": {
    "execution": {
     "iopub.execute_input": "2025-05-01T23:50:12.755130Z",
     "iopub.status.busy": "2025-05-01T23:50:12.754994Z",
     "iopub.status.idle": "2025-05-01T23:50:13.527740Z",
     "shell.execute_reply": "2025-05-01T23:50:13.527112Z",
     "shell.execute_reply.started": "2025-05-01T23:50:12.755117Z"
    },
    "scrolled": true
   },
   "outputs": [],
   "source": [
    "query_flat = butler.query_datasets('flat', collections=COLLECTION, band='i')\n",
    "flat = butler.get(query_flat[3])\n",
    "flat_metadata = flat.getMetadata()"
   ]
  },
  {
   "cell_type": "markdown",
   "id": "db2b33b2-d385-4336-a54b-5f614d5a06a3",
   "metadata": {},
   "source": [
    "Unlike biases, for flats it is important to know what filter they were obtained with:"
   ]
  },
  {
   "cell_type": "code",
   "execution_count": 18,
   "id": "999fe316-52e8-4473-bbc1-1def49fa53b2",
   "metadata": {
    "execution": {
     "iopub.execute_input": "2025-05-01T23:50:13.528615Z",
     "iopub.status.busy": "2025-05-01T23:50:13.528466Z",
     "iopub.status.idle": "2025-05-01T23:50:13.531724Z",
     "shell.execute_reply": "2025-05-01T23:50:13.531315Z",
     "shell.execute_reply.started": "2025-05-01T23:50:13.528601Z"
    }
   },
   "outputs": [
    {
     "name": "stdout",
     "output_type": "stream",
     "text": [
      "FILTBAND : i\n",
      "FILTER : i_06\n",
      "FILTPOS : 3813.05\n",
      "FILTSLOT : 1\n",
      "LSST BUTLER DATAID PHYSICAL_FILTER : i_06\n"
     ]
    }
   ],
   "source": [
    "for key in flat_metadata.keys():\n",
    "    if 'FILT' in key:\n",
    "        print(key, ':', flat_metadata[key])"
   ]
  },
  {
   "cell_type": "markdown",
   "id": "892a07c2-6744-4834-a4f6-cf663bc15671",
   "metadata": {},
   "source": [
    "Confirm that the **input flat frames** are recorded:"
   ]
  },
  {
   "cell_type": "code",
   "execution_count": 19,
   "id": "fcaaa7be-7a13-4f10-a557-8c08106db8ff",
   "metadata": {
    "execution": {
     "iopub.execute_input": "2025-05-01T23:50:13.534283Z",
     "iopub.status.busy": "2025-05-01T23:50:13.534146Z",
     "iopub.status.idle": "2025-05-01T23:50:13.544026Z",
     "shell.execute_reply": "2025-05-01T23:50:13.543614Z",
     "shell.execute_reply.started": "2025-05-01T23:50:13.534271Z"
    }
   },
   "outputs": [
    {
     "name": "stdout",
     "output_type": "stream",
     "text": [
      "CPP_INPUT_0 : 2024112000041\n",
      "CPP_INPUT_DATE_0 : 2024-11-20T23:45:22.964\n",
      "CPP_INPUT_EXPT_0 : 0.1\n",
      "CPP_INPUT_SCALE_0 : 23169.4632076082\n",
      "CPP_INPUT_1 : 2024112000042\n",
      "CPP_INPUT_DATE_1 : 2024-11-20T23:46:23.767\n",
      "CPP_INPUT_EXPT_1 : 0.1\n",
      "CPP_INPUT_SCALE_1 : 17133.035965747\n",
      "CPP_INPUT_2 : 2024112000043\n",
      "CPP_INPUT_DATE_2 : 2024-11-20T23:47:25.565\n",
      "CPP_INPUT_EXPT_2 : 0.1\n",
      "CPP_INPUT_SCALE_2 : 13053.9831699614\n",
      "CPP_INPUT_3 : 2024112000044\n",
      "CPP_INPUT_DATE_3 : 2024-11-20T23:49:16.716\n",
      "CPP_INPUT_EXPT_3 : 0.1\n",
      "CPP_INPUT_SCALE_3 : 8308.69876166517\n",
      "CPP_INPUT_4 : 2024112000045\n",
      "CPP_INPUT_DATE_4 : 2024-11-20T23:49:57.792\n",
      "CPP_INPUT_EXPT_4 : 0.24\n",
      "CPP_INPUT_SCALE_4 : 17075.6622545633\n",
      "CPP_INPUT_5 : 2024112000046\n",
      "CPP_INPUT_DATE_5 : 2024-11-20T23:50:14.422\n",
      "CPP_INPUT_EXPT_5 : 0.24\n",
      "CPP_INPUT_SCALE_5 : 16053.5678407903\n",
      "CPP_INPUT_6 : 2024112000047\n",
      "CPP_INPUT_DATE_6 : 2024-11-20T23:50:33.846\n",
      "CPP_INPUT_EXPT_6 : 0.24\n",
      "CPP_INPUT_SCALE_6 : 14924.1203910307\n",
      "CPP_INPUT_7 : 2024112000048\n",
      "CPP_INPUT_DATE_7 : 2024-11-20T23:50:51.296\n",
      "CPP_INPUT_EXPT_7 : 0.24\n",
      "CPP_INPUT_SCALE_7 : 13955.680628382\n",
      "CPP_INPUT_8 : 2024112000049\n",
      "CPP_INPUT_DATE_8 : 2024-11-20T23:51:07.901\n",
      "CPP_INPUT_EXPT_8 : 0.24\n",
      "CPP_INPUT_SCALE_8 : 13119.0451374699\n",
      "CPP_INPUT_9 : 2024112000050\n",
      "CPP_INPUT_DATE_9 : 2024-11-20T23:51:47.023\n",
      "CPP_INPUT_EXPT_9 : 0.37\n",
      "CPP_INPUT_SCALE_9 : 17581.4888097806\n",
      "CPP_INPUT_10 : 2024112000051\n",
      "CPP_INPUT_DATE_10 : 2024-11-20T23:52:04.068\n",
      "CPP_INPUT_EXPT_10 : 0.37\n",
      "CPP_INPUT_SCALE_10 : 16597.4681065488\n",
      "CPP_INPUT_11 : 2024112000052\n",
      "CPP_INPUT_DATE_11 : 2024-11-20T23:52:20.713\n",
      "CPP_INPUT_EXPT_11 : 0.37\n",
      "CPP_INPUT_SCALE_11 : 15715.3006493259\n",
      "CPP_INPUT_12 : 2024112000053\n",
      "CPP_INPUT_DATE_12 : 2024-11-20T23:52:38.729\n",
      "CPP_INPUT_EXPT_12 : 0.37\n",
      "CPP_INPUT_SCALE_12 : 14828.7637997879\n",
      "CPP_INPUT_13 : 2024112000054\n",
      "CPP_INPUT_DATE_13 : 2024-11-20T23:52:55.433\n",
      "CPP_INPUT_EXPT_13 : 0.37\n",
      "CPP_INPUT_SCALE_13 : 14092.4018021504\n",
      "CPP_INPUT_14 : 2024112000055\n",
      "CPP_INPUT_DATE_14 : 2024-11-20T23:53:36.367\n",
      "CPP_INPUT_EXPT_14 : 0.53\n",
      "CPP_INPUT_SCALE_14 : 17826.2892252958\n",
      "CPP_INPUT_15 : 2024112000056\n",
      "CPP_INPUT_DATE_15 : 2024-11-20T23:53:54.455\n",
      "CPP_INPUT_EXPT_15 : 0.53\n",
      "CPP_INPUT_SCALE_15 : 16871.4956809264\n",
      "CPP_INPUT_16 : 2024112000057\n",
      "CPP_INPUT_DATE_16 : 2024-11-20T23:54:11.358\n",
      "CPP_INPUT_EXPT_16 : 0.53\n",
      "CPP_INPUT_SCALE_16 : 16028.0086420315\n",
      "CPP_INPUT_17 : 2024112000059\n",
      "CPP_INPUT_DATE_17 : 2024-11-20T23:54:46.179\n",
      "CPP_INPUT_EXPT_17 : 0.53\n",
      "CPP_INPUT_SCALE_17 : 14421.0999292883\n",
      "CPP_INPUT_18 : 2024112000060\n",
      "CPP_INPUT_DATE_18 : 2024-11-20T23:55:28.663\n",
      "CPP_INPUT_EXPT_18 : 0.74\n",
      "CPP_INPUT_SCALE_18 : 17720.1215361947\n",
      "CPP_INPUT_19 : 2024112000061\n",
      "CPP_INPUT_DATE_19 : 2024-11-20T23:55:46.283\n",
      "CPP_INPUT_EXPT_19 : 0.74\n",
      "CPP_INPUT_SCALE_19 : 16845.4726759749\n",
      "CPP_INPUT_20 : 2024112000062\n",
      "CPP_INPUT_DATE_20 : 2024-11-20T23:56:03.324\n",
      "CPP_INPUT_EXPT_20 : 0.74\n",
      "CPP_INPUT_SCALE_20 : 16045.8780948027\n",
      "CPP_INPUT_21 : 2024112000063\n",
      "CPP_INPUT_DATE_21 : 2024-11-20T23:56:22.000\n",
      "CPP_INPUT_EXPT_21 : 0.74\n",
      "CPP_INPUT_SCALE_21 : 15217.404938083\n",
      "CPP_INPUT_22 : 2024112000064\n",
      "CPP_INPUT_DATE_22 : 2024-11-20T23:56:39.087\n",
      "CPP_INPUT_EXPT_22 : 0.74\n",
      "CPP_INPUT_SCALE_22 : 14506.9079286112\n"
     ]
    }
   ],
   "source": [
    "for key in flat_metadata.keys():\n",
    "    if 'CPP_INPUT' in key:\n",
    "        print(key, ':', flat_metadata[key])"
   ]
  },
  {
   "cell_type": "markdown",
   "id": "2b647239-3e1c-4964-927f-0a179c02b9e2",
   "metadata": {},
   "source": [
    "Extract the date range spanned by the input flat exposures:"
   ]
  },
  {
   "cell_type": "code",
   "execution_count": 20,
   "id": "65c314fa-17f9-4ebe-bfbc-54063ab6219d",
   "metadata": {
    "execution": {
     "iopub.execute_input": "2025-05-01T23:50:13.544556Z",
     "iopub.status.busy": "2025-05-01T23:50:13.544432Z",
     "iopub.status.idle": "2025-05-01T23:50:13.552672Z",
     "shell.execute_reply": "2025-05-01T23:50:13.552267Z",
     "shell.execute_reply.started": "2025-05-01T23:50:13.544544Z"
    }
   },
   "outputs": [
    {
     "name": "stdout",
     "output_type": "stream",
     "text": [
      "SIMULATED DATE-END : None\n",
      "DATE-BEG : 2024-11-20T23:45:22.914\n",
      "DATE-END : 2024-11-20T23:56:39.457\n",
      "MJD-BEG : 60634.9898485417\n",
      "MJD-END : 60634.9976789061\n"
     ]
    }
   ],
   "source": [
    "for key in flat_metadata.keys():\n",
    "    if ('DATE-BEG' in key) or ('DATE-END' in key):\n",
    "        print(key, ':', flat_metadata[key])\n",
    "\n",
    "for key in flat_metadata.keys():\n",
    "    if ('MJD-BEG' in key) or ('MJD-END' in key):\n",
    "        print(key, ':', flat_metadata[key])\n"
   ]
  },
  {
   "cell_type": "markdown",
   "id": "5f1c56ab-9fbb-402b-b7d1-8e8a4f4cf3df",
   "metadata": {},
   "source": [
    "Look up additional calibration products that went into the flat:"
   ]
  },
  {
   "cell_type": "code",
   "execution_count": 21,
   "id": "52320872-6bcc-42ae-b2c7-fd9e2ef4198f",
   "metadata": {
    "execution": {
     "iopub.execute_input": "2025-05-01T23:50:13.553273Z",
     "iopub.status.busy": "2025-05-01T23:50:13.553143Z",
     "iopub.status.idle": "2025-05-01T23:50:13.563531Z",
     "shell.execute_reply": "2025-05-01T23:50:13.563094Z",
     "shell.execute_reply.started": "2025-05-01T23:50:13.553261Z"
    }
   },
   "outputs": [
    {
     "name": "stdout",
     "output_type": "stream",
     "text": [
      "LSST CALIB RUN BFKERNEL : LSSTComCam/calib/DM-46360/isrTaskLSST/bfkGen.20240926a/20240927T200534Z\n",
      "LSST CALIB UUID BFKERNEL : 789a114c-1d61-4b60-86a6-bbd6b8387c5d\n",
      "LSST CALIB DATE BFKERNEL : Unknown Unknown\n",
      "LSST CALIB RUN BIAS : LSSTComCam/calib/DM-48520/DP1/biasGen.20250207a/20250208T185010Z\n",
      "LSST CALIB UUID BIAS : 3265d617-5bee-404e-b625-f0388022826c\n",
      "LSST CALIB DATE BIAS : 2025-02-08 11:06:25 PST\n",
      "LSST CALIB RUN CAMERA : LSSTComCam/calib/DM-48650/unbounded\n",
      "LSST CALIB UUID CAMERA : 09c852cf-6561-4ce0-881c-259b6a53aedf\n",
      "LSST CALIB DATE CAMERA : Unknown Unknown\n",
      "LSST CALIB RUN CCDEXPOSURE : LSSTComCam/raw/all\n",
      "LSST CALIB DATE CCDEXPOSURE : Unknown Unknown\n",
      "LSST CALIB RUN CROSSTALK : LSSTComCam/calib/DM-48650/curated/19700101T000000Z\n",
      "LSST CALIB UUID CROSSTALK : 4ef74624-ebce-4b27-bf03-56f7eebffce3\n",
      "LSST CALIB DATE CROSSTALK : Unknown Unknown\n",
      "LSST CALIB RUN DARK : LSSTComCam/calib/DM-48520/DP1/darkGen.20250207a/20250208T210026Z\n",
      "LSST CALIB UUID DARK : b7b11f84-5f63-4688-a3d2-4a67bb42726d\n",
      "LSST CALIB DATE DARK : 2025-02-08 13:18:48 PST\n",
      "LSST CALIB RUN DEFERREDCHARGECALIB : LSSTComCam/calib/DM-48520/DP1/ctiGen.20250207a/20250208T011014Z\n",
      "LSST CALIB UUID DEFERREDCHARGECALIB : 8b59403f-eb9e-47d7-8b0c-5455067d3482\n",
      "LSST CALIB DATE DEFERREDCHARGECALIB : Unknown Unknown\n",
      "LSST CALIB RUN LINEARIZER : LSSTComCam/calib/DM-46360/isrTaskLSST/linearizerGen.20240926a/20240927T182910Z\n",
      "LSST CALIB UUID LINEARIZER : 29909abe-b42f-4c42-a6a1-e53ed1df0b96\n",
      "LSST CALIB DATE LINEARIZER : 2024-09-27 11:29:45.758080\n",
      "LSST CALIB RUN PTC : LSSTComCam/calib/DM-47447/gainFixup/ptcGen.20241107a/20241107T193934Z\n",
      "LSST CALIB UUID PTC : cb73ceb1-f9f3-43fb-8150-03f70d697b5c\n",
      "LSST CALIB DATE PTC : 2024-09-27 12:40:56.625405\n"
     ]
    }
   ],
   "source": [
    "for key in flat_metadata.keys():\n",
    "    if ('LSST CALIB RUN' in key) or ('LSST CALIB UUID' in key) or ('LSST CALIB DATE' in key):\n",
    "        print(key, ':', flat_metadata[key])"
   ]
  },
  {
   "cell_type": "markdown",
   "id": "4b65a085-302e-4188-bc29-70db19f21a55",
   "metadata": {},
   "source": [
    "Note that this includes a bias, dark, and brighter-fatter (BFKERNEL) correction, which were not present (because they are not needed) for the bias.\n",
    "\n",
    "Finally, we show that the \"config\", \"log\", and \"metadata\" for the `cpFlatCombine` task are available."
   ]
  },
  {
   "cell_type": "code",
   "execution_count": 22,
   "id": "85a5304e-0249-4ed5-80af-db006d3d673a",
   "metadata": {
    "execution": {
     "iopub.execute_input": "2025-05-01T23:50:13.564062Z",
     "iopub.status.busy": "2025-05-01T23:50:13.563937Z",
     "iopub.status.idle": "2025-05-01T23:50:13.579830Z",
     "shell.execute_reply": "2025-05-01T23:50:13.579414Z",
     "shell.execute_reply.started": "2025-05-01T23:50:13.564050Z"
    }
   },
   "outputs": [
    {
     "data": {
      "text/plain": [
       "[DatasetType('cpFlatCombine_config', {}, Config),\n",
       " DatasetType('cpFlatCombine_log', {band, instrument, detector, physical_filter}, ButlerLogRecords),\n",
       " DatasetType('cpFlatCombine_metadata', {band, instrument, detector, physical_filter}, TaskMetadata)]"
      ]
     },
     "execution_count": 22,
     "metadata": {},
     "output_type": "execute_result"
    }
   ],
   "source": [
    "butler.registry.queryDatasetTypes('cpFlatCombine*')"
   ]
  },
  {
   "cell_type": "markdown",
   "id": "fe45ff08-6f51-42da-858d-15efafd63700",
   "metadata": {},
   "source": [
    "## Results\n",
    "\n",
    "We have demonstrated that all the required provenance, configuration, and metadata are available for calibration products derived from the LSST Science Pipelines. We thus deem the result of this test a *Pass*."
   ]
  },
  {
   "cell_type": "code",
   "execution_count": null,
   "id": "3b48b00f-d316-46ef-a76f-e17a2ce66ce0",
   "metadata": {},
   "outputs": [],
   "source": []
  }
 ],
 "metadata": {
  "kernelspec": {
   "display_name": "LSST",
   "language": "python",
   "name": "lsst"
  },
  "language_info": {
   "codemirror_mode": {
    "name": "ipython",
    "version": 3
   },
   "file_extension": ".py",
   "mimetype": "text/x-python",
   "name": "python",
   "nbconvert_exporter": "python",
   "pygments_lexer": "ipython3",
   "version": "3.12.10"
  }
 },
 "nbformat": 4,
 "nbformat_minor": 5
}
