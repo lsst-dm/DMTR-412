{
 "cells": [
  {
   "cell_type": "markdown",
   "id": "a4c7b041-d90f-476b-81e1-5fec9773e009",
   "metadata": {},
   "source": [
    "### Test case LVV-T129: Verify implementation of Provide Calibrated Photometry\n",
    "\n",
    "Verify that the DMS provides photometry calibrated in AB mags and fluxes (in nJy) for all measured objects and sources. Must be tested for both DRP and AP products.\n",
    "\n",
    "#### Discussion\n",
    "\n",
    "This test will be executed on the Rubin Science Platform Notebook Aspect using public-facing Data Preview 1 (DP1) tables ingested into the Qserv database, and made available via TAP query."
   ]
  },
  {
   "cell_type": "markdown",
   "id": "fc95f33b-b73f-4935-9200-6d70ad46548f",
   "metadata": {},
   "source": [
    "Initialize the TAP service, and print its endpoint to the screen."
   ]
  },
  {
   "cell_type": "code",
   "execution_count": 1,
   "id": "330f2c5c-4a4f-4c1a-805d-3662e4359a91",
   "metadata": {
    "execution": {
     "iopub.execute_input": "2025-07-15T17:59:17.854612Z",
     "iopub.status.busy": "2025-07-15T17:59:17.854448Z",
     "iopub.status.idle": "2025-07-15T17:59:18.307899Z",
     "shell.execute_reply": "2025-07-15T17:59:18.307263Z",
     "shell.execute_reply.started": "2025-07-15T17:59:17.854596Z"
    }
   },
   "outputs": [
    {
     "data": {
      "text/markdown": [
       "The service endpoint for TAP in this environment is:\n",
       "\n",
       " &#10145;&nbsp;&nbsp;   https://data-int.lsst.cloud/api/tap"
      ],
      "text/plain": [
       "<IPython.core.display.Markdown object>"
      ]
     },
     "execution_count": 1,
     "metadata": {},
     "output_type": "execute_result"
    }
   ],
   "source": [
    "from IPython.display import Markdown as md\n",
    "import matplotlib.pyplot as plt\n",
    "import numpy as np\n",
    "import astropy.units as u\n",
    "from lsst.rsp import get_tap_service\n",
    "\n",
    "service = get_tap_service(\"tap\")\n",
    "\n",
    "md(f'The service endpoint for TAP in this environment is:\\n\\n &#10145;&nbsp;&nbsp;   {service.baseurl}')"
   ]
  },
  {
   "cell_type": "markdown",
   "id": "f3be7285-41fa-4b9d-a676-43e8a3ec9f64",
   "metadata": {
    "execution": {
     "iopub.execute_input": "2025-07-15T00:10:26.213075Z",
     "iopub.status.busy": "2025-07-15T00:10:26.212444Z",
     "iopub.status.idle": "2025-07-15T00:10:26.311942Z",
     "shell.execute_reply": "2025-07-15T00:10:26.311451Z",
     "shell.execute_reply.started": "2025-07-15T00:10:26.213056Z"
    }
   },
   "source": [
    "#### Define functions to perform the tasks of extracting and checking the table columns"
   ]
  },
  {
   "cell_type": "code",
   "execution_count": 2,
   "id": "1b9a6158-7c42-4aeb-803b-15c577c53e02",
   "metadata": {
    "execution": {
     "iopub.execute_input": "2025-07-15T17:59:18.308976Z",
     "iopub.status.busy": "2025-07-15T17:59:18.308595Z",
     "iopub.status.idle": "2025-07-15T17:59:18.312625Z",
     "shell.execute_reply": "2025-07-15T17:59:18.312160Z",
     "shell.execute_reply.started": "2025-07-15T17:59:18.308956Z"
    }
   },
   "outputs": [],
   "source": [
    "def get_flux_cols(schema):\n",
    "    \"\"\"Retrieve columns with expected units of flux.\n",
    "\n",
    "    Parameters\n",
    "    ----------\n",
    "    schema : Astropy `Table`\n",
    "        Table schema to be search.\n",
    "\n",
    "    Returns\n",
    "    -------\n",
    "    fluxcol_list : `list`\n",
    "        List of column names expected to contain flux values.\n",
    "    \"\"\"\n",
    "\n",
    "    fluxcol_list = []\n",
    "\n",
    "    # Remove columns that may contain the word \"flux\" in them, but that are not expected\n",
    "    # to contain fluxes. These include flags and measurements derived from fluxes.\n",
    "    for col in schema['column_name']:\n",
    "        if ('Flux' in col) & ('flag' not in col) & ('deblend' not in col) &\\\n",
    "           ('area' not in col) & ('apCorr' not in col) & ('instFlux' not in col) &\\\n",
    "           ('Slope' not in col) & ('Chi2' not in col) & ('Ndata' not in col) &\\\n",
    "           ('Skew' not in col) & ('StetsonJ' not in col):\n",
    "            fluxcol_list.append(col)\n",
    "\n",
    "    return fluxcol_list"
   ]
  },
  {
   "cell_type": "code",
   "execution_count": 3,
   "id": "ffcf107f-7dae-475b-a414-de14c9994ca0",
   "metadata": {
    "execution": {
     "iopub.execute_input": "2025-07-15T17:59:18.313366Z",
     "iopub.status.busy": "2025-07-15T17:59:18.313200Z",
     "iopub.status.idle": "2025-07-15T17:59:18.334236Z",
     "shell.execute_reply": "2025-07-15T17:59:18.333625Z",
     "shell.execute_reply.started": "2025-07-15T17:59:18.313352Z"
    }
   },
   "outputs": [],
   "source": [
    "def assert_all_equal(list_to_check, value):\n",
    "    \"\"\"Use an assert to determine whether list items equal a given value.\n",
    "\n",
    "    Parameters\n",
    "    ----------\n",
    "    list_to_check : `list`\n",
    "        List of strings to check against a value.\n",
    "    value : `str`\n",
    "        String to check list items against.\n",
    "    \"\"\"\n",
    "\n",
    "    try:\n",
    "        assert all(x == value for x in list_to_check)\n",
    "        print(f\"All elements have units of {value}.\")\n",
    "    except:\n",
    "        print('Assert failed')"
   ]
  },
  {
   "cell_type": "code",
   "execution_count": 4,
   "id": "9d33543e-9cd7-4676-8b72-9b5040ab8a71",
   "metadata": {
    "execution": {
     "iopub.execute_input": "2025-07-15T17:59:18.335117Z",
     "iopub.status.busy": "2025-07-15T17:59:18.334937Z",
     "iopub.status.idle": "2025-07-15T17:59:18.386479Z",
     "shell.execute_reply": "2025-07-15T17:59:18.385851Z",
     "shell.execute_reply.started": "2025-07-15T17:59:18.335101Z"
    }
   },
   "outputs": [],
   "source": [
    "def check_column_units(table, units_value):\n",
    "    \"\"\"Given an input table, check whether each of its columns\n",
    "       has units of the specified type.\n",
    "\n",
    "    Parameters\n",
    "    ----------\n",
    "    table : Astropy `Table`\n",
    "        Data table to check.\n",
    "    units_value : `str`\n",
    "        String with the expected units to check against table columns.\n",
    "    \"\"\"\n",
    "\n",
    "    units = []\n",
    "    for col in table.columns:\n",
    "        if table[col].unit is None:\n",
    "            units.append(None)\n",
    "        else:\n",
    "            units.append(table[col].unit.name)\n",
    "\n",
    "    # units = [table[col].unit.name for col in table.columns]\n",
    "    try:\n",
    "        assert all(x == units_value for x in units)\n",
    "        print(f\"All elements have units of {units_value}.\")\n",
    "    except:\n",
    "        failed_cols = np.where(np.array(units) != units_value)\n",
    "        print('Assert failed. Failed columns:')\n",
    "        print(np.array(table.colnames)[failed_cols])"
   ]
  },
  {
   "cell_type": "markdown",
   "id": "b979342c-c135-4e5a-962f-1d5593e238fa",
   "metadata": {},
   "source": [
    "#### Test on Object, Source, DiaObject, DiaSource, ForcedSource, and ForcedSourceOnDiaObject\n",
    "\n",
    "Extract each of these tables in turn, retrieving a list of columns that are expected to contain flux values, and then confirm that those columns indeed contain fluxes with units of nanoJansky (\"nJy\")."
   ]
  },
  {
   "cell_type": "code",
   "execution_count": 5,
   "id": "73857cf1-90e3-4108-881f-10cb58219d3b",
   "metadata": {
    "execution": {
     "iopub.execute_input": "2025-07-15T17:59:18.387618Z",
     "iopub.status.busy": "2025-07-15T17:59:18.387431Z",
     "iopub.status.idle": "2025-07-15T17:59:18.441686Z",
     "shell.execute_reply": "2025-07-15T17:59:18.440967Z",
     "shell.execute_reply.started": "2025-07-15T17:59:18.387602Z"
    }
   },
   "outputs": [],
   "source": [
    "tables_list = ['Object', 'Source', 'DiaObject', 'DiaSource',\n",
    "               'ForcedSource', 'ForcedSourceOnDiaObject']"
   ]
  },
  {
   "cell_type": "code",
   "execution_count": 6,
   "id": "dc775b61-e048-4892-b18e-a3add595e720",
   "metadata": {
    "execution": {
     "iopub.execute_input": "2025-07-15T17:59:18.442859Z",
     "iopub.status.busy": "2025-07-15T17:59:18.442413Z",
     "iopub.status.idle": "2025-07-15T17:59:39.361966Z",
     "shell.execute_reply": "2025-07-15T17:59:39.361133Z",
     "shell.execute_reply.started": "2025-07-15T17:59:18.442839Z"
    }
   },
   "outputs": [
    {
     "name": "stdout",
     "output_type": "stream",
     "text": [
      "Checking Object table...\n",
      "All elements have units of nJy.\n",
      "\n",
      "\n",
      "Checking Source table...\n",
      "All elements have units of nJy.\n",
      "\n",
      "\n",
      "Checking DiaObject table...\n",
      "All elements have units of nJy.\n",
      "\n",
      "\n",
      "Checking DiaSource table...\n",
      "Assert failed. Failed columns:\n",
      "['dipoleMeanFlux' 'dipoleMeanFluxErr']\n",
      "\n",
      "\n",
      "Checking ForcedSource table...\n",
      "All elements have units of nJy.\n",
      "\n",
      "\n",
      "Checking ForcedSourceOnDiaObject table...\n",
      "All elements have units of nJy.\n",
      "\n",
      "\n"
     ]
    }
   ],
   "source": [
    "for table in tables_list:\n",
    "    print(f\"Checking {table} table...\")\n",
    "    tab_schema = service.search(f\"SELECT column_name, datatype, description, unit \\\n",
    "                                FROM tap_schema.columns \\\n",
    "                                WHERE table_name = 'dp1.{table}'\").to_table()\n",
    "    fluxcol_list = get_flux_cols(tab_schema)\n",
    "    # Some tables have coord_ra, coord_dec columns, and others have ra, dec.\n",
    "    # Check which one it is before executing the query.\n",
    "    if 'coord_ra' in tab_schema['column_name']:\n",
    "        racol = 'coord_ra'\n",
    "        deccol = 'coord_dec'\n",
    "    else:\n",
    "        racol = 'ra'\n",
    "        deccol = 'dec'\n",
    "    results = service.search(f\"SELECT TOP 10 {','.join(fluxcol_list)} \\\n",
    "                             FROM dp1.{table} \\\n",
    "                             WHERE CONTAINS(POINT('ICRS', {racol}, {deccol}), \\\n",
    "                             CIRCLE('ICRS', 53.13, -28.10, 0.05)) = 1\").to_table()\n",
    "    check_column_units(results, 'nJy')\n",
    "    print('\\n')"
   ]
  },
  {
   "cell_type": "markdown",
   "id": "60a84f8c-cfe2-4b71-ac4f-ccbfe98c6229",
   "metadata": {},
   "source": [
    "The second line of the above output for each table confirms that all fluxes for the subset of columns extracted are in nanoJanskys for all tables except `DiaSource`. Thus the requirement is met for all table except `DiaSource`. We will examine that table's columns more below.\n",
    "\n",
    "\n",
    "#### Extract a small amount of data from the Object table and check the fluxes\n",
    "\n",
    "While it is claimed in each table that the fluxes have been calibrated to nJy, let us now check whether the tabulated values are in a reasonable range for astrophysical sources. "
   ]
  },
  {
   "cell_type": "code",
   "execution_count": 7,
   "id": "1c0ac8a5-935c-470c-8f9c-0f006b77f1ec",
   "metadata": {
    "execution": {
     "iopub.execute_input": "2025-07-15T17:59:39.363111Z",
     "iopub.status.busy": "2025-07-15T17:59:39.362916Z",
     "iopub.status.idle": "2025-07-15T17:59:42.731919Z",
     "shell.execute_reply": "2025-07-15T17:59:42.731247Z",
     "shell.execute_reply.started": "2025-07-15T17:59:39.363094Z"
    }
   },
   "outputs": [],
   "source": [
    "results = service.search(\"SELECT coord_ra, coord_dec, \\\n",
    "                          g_psfFlux, r_cModelFlux \\\n",
    "                          FROM dp1.Object as obj \\\n",
    "                          WHERE CONTAINS(POINT('ICRS', coord_ra, coord_dec), \\\n",
    "                          CIRCLE('ICRS', 53.13, -28.10, 0.05)) = 1\").to_table()\n"
   ]
  },
  {
   "cell_type": "code",
   "execution_count": 8,
   "id": "95a9138a-aa68-46eb-b8a5-4ef163f17a3a",
   "metadata": {
    "execution": {
     "iopub.execute_input": "2025-07-15T17:59:42.732881Z",
     "iopub.status.busy": "2025-07-15T17:59:42.732678Z",
     "iopub.status.idle": "2025-07-15T17:59:42.740417Z",
     "shell.execute_reply": "2025-07-15T17:59:42.739873Z",
     "shell.execute_reply.started": "2025-07-15T17:59:42.732864Z"
    }
   },
   "outputs": [
    {
     "data": {
      "text/html": [
       "<div><i>Table length=10</i>\n",
       "<table id=\"table132213873668800\" class=\"table-striped table-bordered table-condensed\">\n",
       "<thead><tr><th>coord_ra</th><th>coord_dec</th><th>g_psfFlux</th><th>r_cModelFlux</th></tr></thead>\n",
       "<thead><tr><th>deg</th><th>deg</th><th>nJy</th><th>nJy</th></tr></thead>\n",
       "<thead><tr><th>float64</th><th>float64</th><th>float32</th><th>float32</th></tr></thead>\n",
       "<tr><td>53.091793161320396</td><td>-28.13316839453141</td><td>50.0253</td><td>83.3014</td></tr>\n",
       "<tr><td>53.14210014588123</td><td>-28.133610530368884</td><td>227.008</td><td>257.453</td></tr>\n",
       "<tr><td>53.13896302023838</td><td>-28.122574410933076</td><td>106.163</td><td>224.656</td></tr>\n",
       "<tr><td>53.10397374879734</td><td>-28.128228974146708</td><td>64.0774</td><td>120.46</td></tr>\n",
       "<tr><td>53.102170003066114</td><td>-28.126844665527475</td><td>42.8366</td><td>130.879</td></tr>\n",
       "<tr><td>53.13957431767005</td><td>-28.12690377720079</td><td>288.52</td><td>695.961</td></tr>\n",
       "<tr><td>53.091760825684496</td><td>-28.12734474860784</td><td>48.671</td><td>77.5648</td></tr>\n",
       "<tr><td>53.11785338347242</td><td>-28.128822453925398</td><td>-11.7456</td><td>16.2318</td></tr>\n",
       "<tr><td>53.126549641649596</td><td>-28.1290292757356</td><td>-1.15302</td><td>32.9956</td></tr>\n",
       "<tr><td>53.143047858462765</td><td>-28.130098860217945</td><td>459.362</td><td>1363.51</td></tr>\n",
       "</table></div>"
      ],
      "text/plain": [
       "<Table length=10>\n",
       "     coord_ra           coord_dec      g_psfFlux r_cModelFlux\n",
       "       deg                 deg            nJy        nJy     \n",
       "     float64             float64        float32    float32   \n",
       "------------------ ------------------- --------- ------------\n",
       "53.091793161320396  -28.13316839453141   50.0253      83.3014\n",
       " 53.14210014588123 -28.133610530368884   227.008      257.453\n",
       " 53.13896302023838 -28.122574410933076   106.163      224.656\n",
       " 53.10397374879734 -28.128228974146708   64.0774       120.46\n",
       "53.102170003066114 -28.126844665527475   42.8366      130.879\n",
       " 53.13957431767005  -28.12690377720079    288.52      695.961\n",
       "53.091760825684496  -28.12734474860784    48.671      77.5648\n",
       " 53.11785338347242 -28.128822453925398  -11.7456      16.2318\n",
       "53.126549641649596   -28.1290292757356  -1.15302      32.9956\n",
       "53.143047858462765 -28.130098860217945   459.362      1363.51"
      ]
     },
     "execution_count": 8,
     "metadata": {},
     "output_type": "execute_result"
    }
   ],
   "source": [
    "results[0:10]"
   ]
  },
  {
   "cell_type": "markdown",
   "id": "ba454520-ff0f-4166-8063-5991cbaae893",
   "metadata": {},
   "source": [
    "#### Check the flux values\n",
    "\n",
    "The following cell demonstrates that these fluxes can be converted to AB magnitudes using Astropy unit conversions."
   ]
  },
  {
   "cell_type": "code",
   "execution_count": 9,
   "id": "f687fd32-07e1-466e-a20e-6f82a605ec40",
   "metadata": {
    "execution": {
     "iopub.execute_input": "2025-07-15T17:59:42.741209Z",
     "iopub.status.busy": "2025-07-15T17:59:42.741032Z",
     "iopub.status.idle": "2025-07-15T17:59:42.764337Z",
     "shell.execute_reply": "2025-07-15T17:59:42.763694Z",
     "shell.execute_reply.started": "2025-07-15T17:59:42.741194Z"
    }
   },
   "outputs": [
    {
     "name": "stdout",
     "output_type": "stream",
     "text": [
      "[27.152025 25.5099   26.33507  26.883238 27.320463 25.249561 27.181826\n",
      "       nan       nan 24.744614] mag(AB)\n",
      "[26.598373 25.373257 25.521206 26.197895 26.107828 24.29354  26.675838\n",
      " 28.374084 27.603859 23.563354] mag(AB)\n"
     ]
    },
    {
     "name": "stderr",
     "output_type": "stream",
     "text": [
      "/opt/lsst/software/stack/conda/envs/lsst-scipipe-10.0.0/lib/python3.12/site-packages/astropy/units/function/logarithmic.py:67: RuntimeWarning: invalid value encountered in log10\n",
      "  return dex.to(self._function_unit, np.log10(x))\n"
     ]
    }
   ],
   "source": [
    "psffluxes_njy = results['g_psfFlux']\n",
    "print(psffluxes_njy.to(u.ABmag)[:10])\n",
    "\n",
    "cmodelfluxes_njy = results['r_cModelFlux']\n",
    "print(cmodelfluxes_njy.to(u.ABmag)[:10])"
   ]
  },
  {
   "cell_type": "code",
   "execution_count": 10,
   "id": "250d7dc3-407f-4479-aa85-f426b8a3a925",
   "metadata": {
    "execution": {
     "iopub.execute_input": "2025-07-15T17:59:42.765248Z",
     "iopub.status.busy": "2025-07-15T17:59:42.765051Z",
     "iopub.status.idle": "2025-07-15T17:59:42.783469Z",
     "shell.execute_reply": "2025-07-15T17:59:42.782843Z",
     "shell.execute_reply.started": "2025-07-15T17:59:42.765231Z"
    }
   },
   "outputs": [],
   "source": [
    "# Assume the units are nJy, then convert to magnitudes to check whether the values are \"reasonable\":\n",
    "psfmag = psffluxes_njy.to(u.ABmag)\n",
    "cmodelmag = cmodelfluxes_njy.to(u.ABmag)"
   ]
  },
  {
   "cell_type": "code",
   "execution_count": 11,
   "id": "01e17713-2266-4290-9b59-f1f26f42d128",
   "metadata": {
    "execution": {
     "iopub.execute_input": "2025-07-15T17:59:42.784291Z",
     "iopub.status.busy": "2025-07-15T17:59:42.784105Z",
     "iopub.status.idle": "2025-07-15T17:59:42.903049Z",
     "shell.execute_reply": "2025-07-15T17:59:42.902399Z",
     "shell.execute_reply.started": "2025-07-15T17:59:42.784275Z"
    }
   },
   "outputs": [
    {
     "data": {
      "image/png": "[encoded data removed]",
      "text/plain": [
       "<Figure size 640x480 with 1 Axes>"
      ]
     },
     "metadata": {},
     "output_type": "display_data"
    }
   ],
   "source": [
    "plt.hist(psfmag.value, bins=np.arange(16, 31, 0.5), histtype='step', label='PSF')\n",
    "plt.hist(cmodelmag.value, bins=np.arange(16, 31, 0.5), histtype='step', label='cModel')\n",
    "plt.xlabel('mag')\n",
    "plt.ylabel('N')\n",
    "plt.legend()\n",
    "plt.show()"
   ]
  },
  {
   "cell_type": "markdown",
   "id": "09015e79-ecab-4f4c-af1c-003c992bed4a",
   "metadata": {},
   "source": [
    "#### Check the columns from DiaSource that were flagged\n",
    "\n",
    "This test unveiled the fact that the `dipoleMeanFlux` column (and its associated error) from `DiaSource` is listed incorrectly in the table schema. A ticket has been filed to fix this: [DM-51812: \"DP1 dipole flux description inconsistencies\"](https://rubinobs.atlassian.net/browse/DM-51812). The error is simply a mistake in moving the schema from its location in the Science Pipelines codebase to the DP1 repository.\n",
    "\n",
    "To confirm this, check the columns to see whether their fluxes have reasonable values.\n"
   ]
  },
  {
   "cell_type": "code",
   "execution_count": 12,
   "id": "11e5d90a-7cb1-4cbb-b1d5-6474ac0b027c",
   "metadata": {
    "execution": {
     "iopub.execute_input": "2025-07-15T17:59:42.904248Z",
     "iopub.status.busy": "2025-07-15T17:59:42.904007Z",
     "iopub.status.idle": "2025-07-15T17:59:46.359239Z",
     "shell.execute_reply": "2025-07-15T17:59:46.358600Z",
     "shell.execute_reply.started": "2025-07-15T17:59:42.904230Z"
    }
   },
   "outputs": [],
   "source": [
    "results = service.search(\"SELECT ra, dec, \\\n",
    "                          dipoleMeanFlux, dipoleMeanFluxErr \\\n",
    "                          FROM dp1.DiaSource \\\n",
    "                          WHERE CONTAINS(POINT('ICRS', ra, dec), \\\n",
    "                          CIRCLE('ICRS', 53.13, -28.10, 0.05)) = 1\").to_table()\n"
   ]
  },
  {
   "cell_type": "code",
   "execution_count": 13,
   "id": "3d39fae2-dc67-4a4e-bc1e-0cc32f26acb5",
   "metadata": {
    "execution": {
     "iopub.execute_input": "2025-07-15T17:59:46.360175Z",
     "iopub.status.busy": "2025-07-15T17:59:46.359980Z",
     "iopub.status.idle": "2025-07-15T17:59:46.366100Z",
     "shell.execute_reply": "2025-07-15T17:59:46.365570Z",
     "shell.execute_reply.started": "2025-07-15T17:59:46.360159Z"
    }
   },
   "outputs": [
    {
     "name": "stdout",
     "output_type": "stream",
     "text": [
      "[20.15772091 20.15496763 20.13760086 20.14581369 20.14718157 20.15874341\n",
      " 20.19835079 20.19470039 20.16165547 20.16175555] mag(AB)\n",
      "[20.06946223 20.10824542 20.12006914 20.12119728 20.12763919 20.09342048\n",
      " 20.17637352 20.09049459 20.08200071 20.064296  ] mag(AB)\n"
     ]
    }
   ],
   "source": [
    "dipolefluxes_njy = results['dipoleMeanFlux'].compressed().value*u.nJy\n",
    "print(dipolefluxes_njy.to(u.ABmag)[:10])\n",
    "\n",
    "dipoleflux_witherrs_njy = dipolefluxes_njy+results['dipoleMeanFluxErr'].compressed().value*u.nJy\n",
    "print(dipoleflux_witherrs_njy.to(u.ABmag)[:10])"
   ]
  },
  {
   "cell_type": "code",
   "execution_count": 14,
   "id": "d1715349-6b77-4227-8179-2b077fc6eafa",
   "metadata": {
    "execution": {
     "iopub.execute_input": "2025-07-15T17:59:46.366836Z",
     "iopub.status.busy": "2025-07-15T17:59:46.366663Z",
     "iopub.status.idle": "2025-07-15T17:59:46.388533Z",
     "shell.execute_reply": "2025-07-15T17:59:46.387891Z",
     "shell.execute_reply.started": "2025-07-15T17:59:46.366819Z"
    }
   },
   "outputs": [],
   "source": [
    "# Assume the units are nJy, then convert to magnitudes to check whether the values are \"reasonable\":\n",
    "dipolemag = dipolefluxes_njy.to(u.ABmag)\n",
    "dipolemag_err = dipoleflux_witherrs_njy.to(u.ABmag)-dipolefluxes_njy.to(u.ABmag)"
   ]
  },
  {
   "cell_type": "code",
   "execution_count": 15,
   "id": "85637bfa-bd6f-4195-9b1e-f2e850453a03",
   "metadata": {
    "execution": {
     "iopub.execute_input": "2025-07-15T17:59:46.389426Z",
     "iopub.status.busy": "2025-07-15T17:59:46.389240Z",
     "iopub.status.idle": "2025-07-15T17:59:46.491115Z",
     "shell.execute_reply": "2025-07-15T17:59:46.490401Z",
     "shell.execute_reply.started": "2025-07-15T17:59:46.389410Z"
    }
   },
   "outputs": [
    {
     "data": {
      "image/png": "[encoded data removed]",
      "text/plain": [
       "<Figure size 640x480 with 1 Axes>"
      ]
     },
     "metadata": {},
     "output_type": "display_data"
    }
   ],
   "source": [
    "plt.hist(dipolemag.value, bins=np.arange(16, 26, 0.5), histtype='step', label='dipole')\n",
    "plt.hist(dipolemag.value+dipolemag_err.value, bins=np.arange(16, 26, 0.5), histtype='step', label='dipole+error')\n",
    "plt.xlabel('mag')\n",
    "plt.ylabel('N')\n",
    "plt.legend()\n",
    "plt.show()"
   ]
  },
  {
   "cell_type": "markdown",
   "id": "371f79b1-79ea-4ddd-9bef-e86a45ca7059",
   "metadata": {},
   "source": [
    "## Results\n",
    "\n",
    "We see that the magnitudes are in the expected range of 17 < mag < 28 (for both the Object and DiaSource tables), so it's likely that the units in the table are in fact nJy. We have thus confirmed that the tables available with DP1 contain calibrated fluxes in nJy, so the result of this test is a **Pass**.\n"
   ]
  },
  {
   "cell_type": "code",
   "execution_count": null,
   "id": "325f14c4-d41b-486c-abe7-8cc168825a02",
   "metadata": {},
   "outputs": [],
   "source": []
  }
 ],
 "metadata": {
  "kernelspec": {
   "display_name": "LSST",
   "language": "python",
   "name": "lsst"
  },
  "language_info": {
   "codemirror_mode": {
    "name": "ipython",
    "version": 3
   },
   "file_extension": ".py",
   "mimetype": "text/x-python",
   "name": "python",
   "nbconvert_exporter": "python",
   "pygments_lexer": "ipython3",
   "version": "3.12.11"
  }
 },
 "nbformat": 4,
 "nbformat_minor": 5
}
