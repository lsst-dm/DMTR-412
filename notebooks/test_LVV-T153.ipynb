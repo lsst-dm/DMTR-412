{
 "cells": [
  {
   "cell_type": "markdown",
   "id": "63f21fc5-5c45-4fe8-b054-267b2ad55da5",
   "metadata": {},
   "source": [
    "### Test case LVV-T153: Verify implementation of Engineering and Facility Database Archive\n",
    "\n",
    "Demonstrate Engineering and Facilities Data (images, associated metadata, and observatory environment and control data) are archived."
   ]
  },
  {
   "cell_type": "markdown",
   "id": "c9e2e7db-c4c3-46ec-b435-bb4e73291436",
   "metadata": {},
   "source": [
    "#### Discussion:\n",
    "\n",
    "This can be verified using the copy of the Engineering Facilities Database (EFD) that is regularly transferred from the summit to the U.S. Data Facility (USDF). This USDF version of the EFD is the \"archived\" version.\n",
    "\n",
    "To demonstrate that EFD data are being archived, we will examine EFD topics that are typically populated during on-sky observing, selecting an observing night that was more than one month ago (specifically, 5 May 2025).\n",
    "\n",
    "#### Look up the current time and print it to the screen:"
   ]
  },
  {
   "cell_type": "code",
   "execution_count": 1,
   "id": "f9e2f5ea-81f8-41ad-8611-56dc38925efc",
   "metadata": {
    "execution": {
     "iopub.execute_input": "2025-06-13T22:58:17.177464Z",
     "iopub.status.busy": "2025-06-13T22:58:17.177333Z",
     "iopub.status.idle": "2025-06-13T22:58:17.180379Z",
     "shell.execute_reply": "2025-06-13T22:58:17.179762Z",
     "shell.execute_reply.started": "2025-06-13T22:58:17.177448Z"
    }
   },
   "outputs": [
    {
     "name": "stdout",
     "output_type": "stream",
     "text": [
      "2025-06-13 22:58:17.178100+00:00\n"
     ]
    }
   ],
   "source": [
    "import datetime\n",
    "\n",
    "# Note that Rubin Observatory reports quantities in TAI, but for\n",
    "#   our present purposes, the 37-second difference between UTC and TAI\n",
    "#   is unimportant.\n",
    "time_now = datetime.datetime.now(datetime.UTC)\n",
    "print(time_now)"
   ]
  },
  {
   "cell_type": "markdown",
   "id": "1a3b658b-576a-47d7-8595-fa47469ed740",
   "metadata": {},
   "source": [
    "The current UTC time is June 13, 2025, so our selected observing date of May 5, 2025 is more than a month prior to this test. (Note: the day_obs is the local date in Chile on which the observing night began.)"
   ]
  },
  {
   "cell_type": "code",
   "execution_count": 2,
   "id": "0be85804-bb57-435b-8ebd-078bc518812b",
   "metadata": {
    "execution": {
     "iopub.execute_input": "2025-06-13T22:58:17.182658Z",
     "iopub.status.busy": "2025-06-13T22:58:17.182447Z",
     "iopub.status.idle": "2025-06-13T22:58:17.657844Z",
     "shell.execute_reply": "2025-06-13T22:58:17.657173Z",
     "shell.execute_reply.started": "2025-06-13T22:58:17.182643Z"
    }
   },
   "outputs": [],
   "source": [
    "from astropy.time import Time\n",
    "from astropy.table import Table\n",
    "import numpy as np\n",
    "\n",
    "from lsst_efd_client import EfdClient \n",
    "from IPython.display import Markdown, display, display_markdown"
   ]
  },
  {
   "cell_type": "markdown",
   "id": "1f646380-e9f5-4a07-8278-3aea5887ff62",
   "metadata": {},
   "source": [
    "Instantiate the EFD client, pointed to the USDF EFD, and confirm that it is accessible."
   ]
  },
  {
   "cell_type": "code",
   "execution_count": 3,
   "id": "525ab82a-75a0-4f45-ae41-7e451d884982",
   "metadata": {
    "execution": {
     "iopub.execute_input": "2025-06-13T22:58:17.660981Z",
     "iopub.status.busy": "2025-06-13T22:58:17.660714Z",
     "iopub.status.idle": "2025-06-13T22:58:18.079539Z",
     "shell.execute_reply": "2025-06-13T22:58:18.078893Z",
     "shell.execute_reply.started": "2025-06-13T22:58:17.660962Z"
    }
   },
   "outputs": [
    {
     "name": "stdout",
     "output_type": "stream",
     "text": [
      "<lsst_efd_client.efd_helper.EfdClient object at 0x7f0a77209a30>\n"
     ]
    },
    {
     "data": {
      "text/markdown": [
       "Engineering Facilities Database is accessible"
      ]
     },
     "metadata": {},
     "output_type": "display_data"
    }
   ],
   "source": [
    "client = EfdClient('usdf_efd')\n",
    "print(client)\n",
    "assert client is not None\n",
    "\n",
    "display_markdown(\"Engineering Facilities Database is accessible\", raw=True)"
   ]
  },
  {
   "cell_type": "markdown",
   "id": "d825abf3-cb63-4455-b26f-74341f781b9e",
   "metadata": {},
   "source": [
    "#### Examine the list of available EFD topics\n",
    "\n",
    "Print the length of the list and a randomly-selected subset of topics."
   ]
  },
  {
   "cell_type": "code",
   "execution_count": 9,
   "id": "533f7c36-de7c-4e0e-ad84-a5e6dd6e8a1d",
   "metadata": {
    "execution": {
     "iopub.execute_input": "2025-06-13T23:01:24.783608Z",
     "iopub.status.busy": "2025-06-13T23:01:24.783388Z",
     "iopub.status.idle": "2025-06-13T23:01:24.816278Z",
     "shell.execute_reply": "2025-06-13T23:01:24.815845Z",
     "shell.execute_reply.started": "2025-06-13T23:01:24.783593Z"
    }
   },
   "outputs": [
    {
     "name": "stdout",
     "output_type": "stream",
     "text": [
      "Number of EFD topics:  3090\n",
      "50 randomly selected topics:\n",
      "['lsst.sal.MTMount.logevent_deployablePlatformsMotionState'\n",
      " 'lsst.sal.MTAOS.command_resetOffsetDOF'\n",
      " 'lsst.sal.WeatherForecast.logevent_summaryState'\n",
      " 'lsst.sal.MTCamera.logevent_quadbox_PDU_5V_LimitsConfiguration'\n",
      " 'lsst.sal.CCArchiver.command_start'\n",
      " 'lsst.sal.MTCamera.logevent_utiltrunk_PeriodicTasks_UtMaq20_check_status_timersConfiguration'\n",
      " 'lsst.sal.Scheduler.logevent_summaryState'\n",
      " 'lsst.sal.ATCamera.logevent_bonn_shutter_PeriodicTasks_GeneralConfiguration'\n",
      " 'lsst.sal.FiberSpectrograph.logevent_errorCode'\n",
      " 'lsst.sal.OCPS.logevent_configurationsAvailable'\n",
      " 'lsst.sal.MTPtg.command_poriginOffset'\n",
      " 'lsst.sal.MTOODS.logevent_summaryState'\n",
      " 'lsst.sal.MTPtg.logevent_softwareVersions'\n",
      " 'lsst.sal.MTM2.logevent_configurationFiles'\n",
      " 'lsst.sal.MTCamera.focal_plane_Reb'\n",
      " 'lsst.sal.Scheduler.logevent_largeFileObjectAvailable'\n",
      " 'lsst.sal.MTM1M3.logevent_powerStatus' 'lsst.sal.ATPtg.logevent_iers'\n",
      " 'lsst.sal.ATCamera.command_stop' 'lsst.sal.HVAC.coldWaterPump01'\n",
      " 'lsst.sal.GIS.logevent_gisCpuReserve' 'lsst.sal.HVAC.lowerAHU04P05'\n",
      " 'lsst.sal.Scheduler.command_resume'\n",
      " 'lsst.sal.MTRotator.logevent_connected'\n",
      " 'lsst.sal.MTAirCompressor.command_exitControl'\n",
      " 'lsst.sal.MTHexapod.logevent_configurationsAvailable'\n",
      " 'lsst.sal.Electrometer.logevent_simulationMode'\n",
      " 'lsst.sal.MTDome.command_setZeroAz'\n",
      " 'lsst.sal.ScriptQueue.command_disable'\n",
      " 'lsst.sal.MTM1M3.command_setSlewFlag'\n",
      " 'lsst.sal.ATAOS.logevent_logMessage' 'lsst.sal.MTPtg.currentTargetStatus'\n",
      " 'lsst.sal.MTHexapod.command_configureVelocity'\n",
      " 'lsst.sal.ATMCS.command_standby'\n",
      " 'lsst.sal.MTCamera.logevent_daq_monitor_Store_LimitsConfiguration'\n",
      " 'lsst.sal.HVAC.dynaleneP05'\n",
      " 'lsst.sal.GenericCamera.logevent_summaryState'\n",
      " 'lsst.sal.MTVMS.logevent_softwareVersions'\n",
      " 'lsst.sal.MTCamera.logevent_focal_plane_SequencerConfig_GuiderConfiguration'\n",
      " 'lsst.sal.CCCamera.logevent_pathfinder_refrig_Cryo4_DevicesConfiguration'\n",
      " 'lsst.sal.HVAC.command_configFancoils' 'lsst.sal.DSM.configuration'\n",
      " 'lsst.sal.MTPtg.logevent_iersOutOfDate'\n",
      " 'lsst.sal.GenericCamera.logevent_endIntegration'\n",
      " 'lsst.sal.MTAOS.command_resetCorrection'\n",
      " 'lsst.sal.MTCamera.logevent_focal_plane_Raft_RaftTempControlStatusConfiguration'\n",
      " 'lsst.sal.MTAOS.command_start' 'lsst.sal.WeatherForecast.command_enable'\n",
      " 'lsst.sal.EPM.xups' 'lsst.sal.Hexapod.Application']\n"
     ]
    }
   ],
   "source": [
    "topics = await client.get_topics()\n",
    "\n",
    "print('Number of EFD topics: ', len(topics))\n",
    "\n",
    "nsamp = 50\n",
    "random_topics = np.random.choice(topics, nsamp)\n",
    "\n",
    "print(f\"{nsamp} randomly selected topics:\")\n",
    "print(random_topics)"
   ]
  },
  {
   "cell_type": "markdown",
   "id": "30bbb2bc-2a0a-413e-807d-a111d609592f",
   "metadata": {},
   "source": [
    "This list contains topics pertaining to AuxTel (AT*), the Simonyi Telescope (\"MainTel\" -- denoted MT*), including the telescope mount (MTMount), the dome (MTDome), the AOS system (MTAOS), and the HVAC system, and LSSTCam (MTCamera), among others. We also note that topics include commands, logevents, and telemetry from sensors (e.g., \"chillerFanSpeeds\", \"MTM2.axialEncoderPositions\")."
   ]
  },
  {
   "cell_type": "markdown",
   "id": "2fdf2ed2-5ec8-4b26-ab63-22b0bf859eb7",
   "metadata": {},
   "source": [
    "#### Extract some EFD data and confirm that it is reasonable\n",
    "\n",
    "A variety of topics are available. Now we arbitrarily select a few topics and demonstrate that their data is intact and well-formed.\n",
    "\n",
    "First, define a time range to query (in this case, 03:00-03:30UTC on 2025-05-05), using the Astropy `Time` package."
   ]
  },
  {
   "cell_type": "code",
   "execution_count": 5,
   "id": "eacccb43-74c3-41f3-8380-076d52740e53",
   "metadata": {
    "execution": {
     "iopub.execute_input": "2025-06-13T22:58:18.125353Z",
     "iopub.status.busy": "2025-06-13T22:58:18.125119Z",
     "iopub.status.idle": "2025-06-13T22:58:18.130119Z",
     "shell.execute_reply": "2025-06-13T22:58:18.129522Z",
     "shell.execute_reply.started": "2025-06-13T22:58:18.125329Z"
    }
   },
   "outputs": [],
   "source": [
    "# Get data within a particular time range\n",
    "start = Time(\"2025-05-05T03:00:00Z\", scale=\"utc\")\n",
    "end = Time(\"2025-05-05T03:30:00Z\", scale=\"utc\")"
   ]
  },
  {
   "cell_type": "markdown",
   "id": "3daebb1f-8e25-41f4-9b05-4af34e2ce60e",
   "metadata": {},
   "source": [
    "Create a dictionary of EFD topics and fields to retrieve for each of them. This is an arbitrary list, but includes topics related to the telescope mount, environmental sensors, AOS system, M1M3 mirror accelerometers, telescope rotator, and LSSTCam. The retrieved columns include telemetry, commands, and log events."
   ]
  },
  {
   "cell_type": "code",
   "execution_count": 6,
   "id": "6091b78a-68ca-499d-8b63-166a0be583f8",
   "metadata": {
    "execution": {
     "iopub.execute_input": "2025-06-13T22:58:18.130952Z",
     "iopub.status.busy": "2025-06-13T22:58:18.130740Z",
     "iopub.status.idle": "2025-06-13T22:58:18.138374Z",
     "shell.execute_reply": "2025-06-13T22:58:18.137988Z",
     "shell.execute_reply.started": "2025-06-13T22:58:18.130931Z"
    }
   },
   "outputs": [],
   "source": [
    "topic_fields_dict = {'lsst.sal.MTMount.azimuth':['actualPosition', 'actualPositionTimestamp'],\n",
    "                     'lsst.sal.MTMount.elevation':['actualPosition', 'actualPositionTimestamp'],\n",
    "                     'lsst.sal.ESS.temperature':['sensorName', 'temperatureItem0'],\n",
    "                     'lsst.sal.MTAOS.logevent_cameraHexapodCorrection':['u', 'v', 'w', 'x', 'y', 'z'],\n",
    "                     'lsst.sal.MTAOS.logevent_wavefrontError':['nollZernikeValues7', 'nollZernikeValues8', 'nollZernikeValues9', 'sensorId'], \n",
    "                     'lsst.sal.MTM1M3.accelerometerData':['accelerometer0', 'accelerometer1', 'timestamp'],\n",
    "                     'lsst.sal.MTRotator.logevent_target':['position', 'tai', 'velocity'],\n",
    "                     'lsst.sal.MTRotator.logevent_lowFrequencyVibration':['frequency'],\n",
    "                     'lsst.sal.MTCamera.command_takeImages':['expTime', 'numImages', 'shutter'],\n",
    "                     'lsst.sal.MTCamera.logevent_startIntegration':['exposureTime','imageDate', 'imageIndex', 'imageName', 'imageNumber']\n",
    "                    }"
   ]
  },
  {
   "cell_type": "markdown",
   "id": "7ce10c63-8e94-4714-9329-43e64acbb99b",
   "metadata": {},
   "source": [
    "Query each of the topics from the dict above in turn, and print the data in the first 3 rows of their requested fields to the screen. Note that we initially retrieve all columns of the results (specified by the ['*'] wildcard), and then sub-select a specific list of columns from the list."
   ]
  },
  {
   "cell_type": "code",
   "execution_count": 7,
   "id": "56951662-e8a1-48b0-89e6-a9575f8cc7b5",
   "metadata": {
    "execution": {
     "iopub.execute_input": "2025-06-13T22:58:18.139188Z",
     "iopub.status.busy": "2025-06-13T22:58:18.138847Z",
     "iopub.status.idle": "2025-06-13T22:58:27.918345Z",
     "shell.execute_reply": "2025-06-13T22:58:27.917859Z",
     "shell.execute_reply.started": "2025-06-13T22:58:18.139172Z"
    }
   },
   "outputs": [
    {
     "name": "stdout",
     "output_type": "stream",
     "text": [
      "*** Retrieving lsst.sal.MTMount.azimuth ***\n",
      "\n",
      "             index                actualPosition  actualPositionTimestamp\n",
      "-------------------------------- ---------------- -----------------------\n",
      "2025-05-05 03:00:00.017759+00:00 16.6336992840165        1746414036.88586\n",
      "2025-05-05 03:00:00.118609+00:00 16.6328785412205        1746414036.98565\n",
      "2025-05-05 03:00:00.183883+00:00 16.6324684927823        1746414037.03552 \n",
      "\n",
      "*** Retrieving lsst.sal.MTMount.elevation ***\n",
      "\n",
      "             index                actualPosition  actualPositionTimestamp\n",
      "-------------------------------- ---------------- -----------------------\n",
      "2025-05-05 03:00:00.018120+00:00 60.4935636867039        1746414036.91525\n",
      "2025-05-05 03:00:00.119741+00:00 60.4936641347571        1746414037.01558\n",
      "2025-05-05 03:00:00.184244+00:00  60.493717586413        1746414037.06586 \n",
      "\n",
      "*** Retrieving lsst.sal.ESS.temperature ***\n",
      "\n",
      "             index                     sensorName        temperatureItem0\n",
      "-------------------------------- ---------------------- -----------------\n",
      "2025-05-05 03:00:00.265538+00:00 MTCameraAssembly-ESS01 9.816399574279785\n",
      "2025-05-05 03:00:00.423640+00:00           AuxTel-ESS01                --\n",
      "2025-05-05 03:00:00.476175+00:00           Camera-ESS01             11.75 \n",
      "\n",
      "*** Retrieving lsst.sal.MTAOS.logevent_cameraHexapodCorrection ***\n",
      "\n",
      "             index                         u           ...         z        \n",
      "-------------------------------- --------------------- ... -----------------\n",
      "2025-05-05 03:04:38.163724+00:00                   0.0 ...               0.0\n",
      "2025-05-05 03:08:35.555650+00:00 -0.007996909137857118 ... 5.041871228899803\n",
      "2025-05-05 03:10:50.130102+00:00                   0.0 ...               0.0 \n",
      "\n",
      "*** Retrieving lsst.sal.MTAOS.logevent_wavefrontError ***\n",
      "\n",
      "             index                 nollZernikeValues7   ... sensorId\n",
      "-------------------------------- ---------------------- ... --------\n",
      "2025-05-05 03:08:29.520446+00:00     0.1901925802230835 ...      191\n",
      "2025-05-05 03:08:29.626493+00:00   0.056604646146297455 ...      195\n",
      "2025-05-05 03:16:40.393737+00:00 -0.0055709718726575375 ...      191 \n",
      "\n",
      "*** Retrieving lsst.sal.MTM1M3.accelerometerData ***\n",
      "\n",
      "             index                  accelerometer0   ...     timestamp     \n",
      "-------------------------------- ------------------- ... ------------------\n",
      "2025-05-05 03:00:00.008773+00:00 0.03544413298368454 ... 1746414037.0084796\n",
      "2025-05-05 03:00:00.029285+00:00 0.03568815067410469 ... 1746414037.0284805\n",
      "2025-05-05 03:00:00.049199+00:00 0.03679560497403145 ... 1746414037.0484805 \n",
      "\n",
      "*** Retrieving lsst.sal.MTRotator.logevent_target ***\n",
      "\n",
      "             index                     position      ...        velocity      \n",
      "-------------------------------- ------------------- ... ---------------------\n",
      "2025-05-05 03:00:00.069571+00:00 -2.8178423870206726 ... -0.007016308399419626\n",
      "2025-05-05 03:00:00.189740+00:00 -2.8185448140762457 ... -0.007016355805780676\n",
      "2025-05-05 03:00:00.270126+00:00 -2.8192474577823963 ...  -0.00701641456563852 \n",
      "\n",
      "*** Retrieving lsst.sal.MTRotator.logevent_lowFrequencyVibration ***\n",
      "\n",
      "             index               frequency\n",
      "-------------------------------- ---------\n",
      "2025-05-05 03:29:15.264806+00:00      0.33 \n",
      "\n",
      "*** Retrieving lsst.sal.MTCamera.command_takeImages ***\n",
      "\n",
      "             index               expTime numImages shutter\n",
      "-------------------------------- ------- --------- -------\n",
      "2025-05-05 03:07:24.192381+00:00      30         1    True\n",
      "2025-05-05 03:08:01.361480+00:00      30         1    True\n",
      "2025-05-05 03:11:13.485308+00:00      15         1    True \n",
      "\n",
      "*** Retrieving lsst.sal.MTCamera.logevent_startIntegration ***\n",
      "\n",
      "             index               exposureTime ... imageNumber\n",
      "-------------------------------- ------------ ... -----------\n",
      "2025-05-05 03:07:24.311131+00:00           30 ...         336\n",
      "2025-05-05 03:08:01.462359+00:00           30 ...         337\n",
      "2025-05-05 03:11:13.607377+00:00           15 ...         338 \n",
      "\n"
     ]
    }
   ],
   "source": [
    "for topicfield in topic_fields_dict.keys():\n",
    "    print(f\"*** Retrieving {topicfield} ***\\n\")\n",
    "\n",
    "    results = await client.select_time_series(topicfield, ['*'], start, end)\n",
    "    # Sub-select only the desired columns:\n",
    "    results = results[topic_fields_dict[topicfield]]\n",
    "\n",
    "    print(Table.from_pandas(results, index=True)[:3],'\\n')"
   ]
  },
  {
   "cell_type": "markdown",
   "id": "115e8a68-8023-4619-9606-ed5134ce3bfa",
   "metadata": {},
   "source": [
    "## Results\n",
    "\n",
    "We see that the EFD at USDF contains a wide variety of information taken directly from the SAL telemetry stream for an observing night over a month ago. This includes telemetry from all subsystems of the telescope and the dome, environmental information, and details about the camera.\n",
    "\n",
    "We have demonstrated that the EFD is archived at the USDF.\n",
    "\n",
    "The result of this test is **PASS**."
   ]
  },
  {
   "cell_type": "code",
   "execution_count": null,
   "id": "9aec617d-a210-4d71-b39d-617a1137a2c8",
   "metadata": {},
   "outputs": [],
   "source": []
  }
 ],
 "metadata": {
  "kernelspec": {
   "display_name": "LSST",
   "language": "python",
   "name": "lsst"
  },
  "language_info": {
   "codemirror_mode": {
    "name": "ipython",
    "version": 3
   },
   "file_extension": ".py",
   "mimetype": "text/x-python",
   "name": "python",
   "nbconvert_exporter": "python",
   "pygments_lexer": "ipython3",
   "version": "3.12.11"
  }
 },
 "nbformat": 4,
 "nbformat_minor": 5
}
