{
 "cells": [
  {
   "cell_type": "markdown",
   "id": "63f21fc5-5c45-4fe8-b054-267b2ad55da5",
   "metadata": {},
   "source": [
    "### Test case LVV-T153: Verify implementation of Provide Engineering and Facility Database Archive\n",
    "\n",
    "Demonstrate Engineering and Facilities Data (images, associated metadata, and observatory environment and control data) are archived and available for public access within **L1PublicT (24 hours)**."
   ]
  },
  {
   "cell_type": "markdown",
   "id": "c9e2e7db-c4c3-46ec-b435-bb4e73291436",
   "metadata": {},
   "source": [
    "#### Discussion:\n",
    "\n",
    "This can be verified using the \"ConsDB\" (Consolidated database), which is a transformed version of telemetry from the Engineering Facilities Database (EFD), with additional tables and their columns populated by quantities derived from images immediately after they are obtained.\n",
    "\n",
    "In particular, this test will use on-sky data and telemetry from LATISS observing in February 2025. All queries will be limited to the current incoming data stream, and will be executed while LATISS observing is actively being conducted.\n",
    "\n",
    "#### Look up the current time and print it to the screen:"
   ]
  },
  {
   "cell_type": "code",
   "execution_count": 1,
   "id": "f9e2f5ea-81f8-41ad-8611-56dc38925efc",
   "metadata": {
    "execution": {
     "iopub.execute_input": "2025-02-28T03:22:38.054063Z",
     "iopub.status.busy": "2025-02-28T03:22:38.053937Z",
     "iopub.status.idle": "2025-02-28T03:22:38.056281Z",
     "shell.execute_reply": "2025-02-28T03:22:38.055958Z",
     "shell.execute_reply.started": "2025-02-28T03:22:38.054051Z"
    }
   },
   "outputs": [
    {
     "name": "stdout",
     "output_type": "stream",
     "text": [
      "2025-02-28 03:22:38.054606+00:00\n"
     ]
    }
   ],
   "source": [
    "import datetime\n",
    "\n",
    "# Note that Rubin Observatory reports quantities in TAI, but for\n",
    "#   our present purposes, the 37-second difference between UTC and TAI\n",
    "#   is unimportant.\n",
    "time_now = datetime.datetime.now(datetime.UTC)\n",
    "print(time_now)"
   ]
  },
  {
   "cell_type": "markdown",
   "id": "1a3b658b-576a-47d7-8595-fa47469ed740",
   "metadata": {},
   "source": [
    "The current UTC time is February 28, 2025, so we will select an observing date of Feb. 27, 2025 (the day_obs is the local date in Chile on which the observing night began)."
   ]
  },
  {
   "cell_type": "code",
   "execution_count": 2,
   "id": "0d755ef5-7187-4d23-b73d-6eae17743e67",
   "metadata": {
    "execution": {
     "iopub.execute_input": "2025-02-28T03:22:38.056793Z",
     "iopub.status.busy": "2025-02-28T03:22:38.056669Z",
     "iopub.status.idle": "2025-02-28T03:22:38.073107Z",
     "shell.execute_reply": "2025-02-28T03:22:38.072755Z",
     "shell.execute_reply.started": "2025-02-28T03:22:38.056781Z"
    }
   },
   "outputs": [],
   "source": [
    "# Parameters to select a single observation date and the LATISS instrument:\n",
    "day_obs = \"2025-02-27\"\n",
    "instrument = \"latiss\""
   ]
  },
  {
   "cell_type": "markdown",
   "id": "d7dd7fab-fad9-4691-8490-a128b25a74ad",
   "metadata": {},
   "source": [
    "Import packages, and set some variables for authentication to ConsDB:"
   ]
  },
  {
   "cell_type": "code",
   "execution_count": 3,
   "id": "0be85804-bb57-435b-8ebd-078bc518812b",
   "metadata": {
    "execution": {
     "iopub.execute_input": "2025-02-28T03:22:38.073619Z",
     "iopub.status.busy": "2025-02-28T03:22:38.073491Z",
     "iopub.status.idle": "2025-02-28T03:22:48.678749Z",
     "shell.execute_reply": "2025-02-28T03:22:48.678332Z",
     "shell.execute_reply.started": "2025-02-28T03:22:38.073608Z"
    }
   },
   "outputs": [],
   "source": [
    "import os\n",
    "import numpy as np\n",
    "import pandas as pd\n",
    "import requests\n",
    "from IPython.display import Markdown, display, display_markdown\n",
    "from lsst.summit.utils import ConsDbClient\n",
    "from astropy.table import Table\n",
    "\n",
    "URL = \"http://consdb-pq.consdb:8080/consdb\"\n",
    "\n",
    "os.environ[\"no_proxy\"] += \",.consdb\"\n",
    "\n",
    "access_token = os.getenv(\"ACCESS_TOKEN\")\n",
    "headers = {\"Authorization\": f\"Bearer {access_token}\"}\n",
    "\n",
    "%matplotlib inline"
   ]
  },
  {
   "cell_type": "markdown",
   "id": "851a43bc-3069-43bc-9de6-8044214c14bd",
   "metadata": {},
   "source": [
    "Authenticate to and access the ConsDB:"
   ]
  },
  {
   "cell_type": "code",
   "execution_count": 4,
   "id": "fc3ab236-6699-414d-9290-e79a41be921a",
   "metadata": {
    "execution": {
     "iopub.execute_input": "2025-02-28T03:22:48.679659Z",
     "iopub.status.busy": "2025-02-28T03:22:48.679213Z",
     "iopub.status.idle": "2025-02-28T03:22:48.682594Z",
     "shell.execute_reply": "2025-02-28T03:22:48.682267Z",
     "shell.execute_reply.started": "2025-02-28T03:22:48.679645Z"
    }
   },
   "outputs": [
    {
     "name": "stdout",
     "output_type": "stream",
     "text": [
      "<lsst.summit.utils.consdbClient.ConsDbClient object at 0x7fce5e9be690>\n"
     ]
    },
    {
     "data": {
      "text/markdown": [
       "### Consolidated Database is accessible"
      ]
     },
     "metadata": {},
     "output_type": "display_data"
    }
   ],
   "source": [
    "client = ConsDbClient(URL)\n",
    "print(client)\n",
    "\n",
    "display_markdown(\"### Consolidated Database is accessible\", raw=True)"
   ]
  },
  {
   "cell_type": "markdown",
   "id": "d43811a2-d210-4caf-b493-2f6ca4bda9d8",
   "metadata": {},
   "source": [
    "Query the ConsDB over a range of a few days"
   ]
  },
  {
   "cell_type": "code",
   "execution_count": 5,
   "id": "77b3109c-7473-43ac-8527-dd618bf8cebd",
   "metadata": {
    "execution": {
     "iopub.execute_input": "2025-02-28T03:22:48.683128Z",
     "iopub.status.busy": "2025-02-28T03:22:48.683006Z",
     "iopub.status.idle": "2025-02-28T03:22:48.742834Z",
     "shell.execute_reply": "2025-02-28T03:22:48.742505Z",
     "shell.execute_reply.started": "2025-02-28T03:22:48.683116Z"
    }
   },
   "outputs": [
    {
     "name": "stdout",
     "output_type": "stream",
     "text": [
      "Date: 20250227\n",
      "\n",
      "list of instruments in client.schema:\n",
      "['latiss', 'lsstcam', 'lsstcamsim', 'lsstcomcam', 'lsstcomcamsim', 'startrackerfast', 'startrackernarrow', 'startrackerwide']\n",
      "\n",
      "Tables in client.schema(\"latiss\"):\n",
      "['cdb_latiss.exposure', 'cdb_latiss.exposure_flexdata', 'cdb_latiss.exposure_flexdata_schema', 'cdb_latiss.visit1_quicklook', 'cdb_latiss.ccdexposure', 'cdb_latiss.ccdexposure_camera', 'cdb_latiss.ccdexposure_flexdata', 'cdb_latiss.ccdexposure_flexdata_schema', 'cdb_latiss.exposure_quicklook', 'cdb_latiss.ccdvisit1_quicklook']\n",
      "\n",
      "Retrieved 319 visits from consdb\n",
      "272 of these are object images\n"
     ]
    }
   ],
   "source": [
    "day_obs_int = int(day_obs.replace(\"-\", \"\"))\n",
    "print(f'Date: {day_obs_int}')\n",
    "\n",
    "# Query the visit table\n",
    "visit_query1 = f\"\"\"\n",
    "    SELECT * FROM cdb_{instrument}.visit1\n",
    "    where day_obs <= {day_obs_int} AND day_obs > {day_obs_int-1}\n",
    "\"\"\"\n",
    "\n",
    "# Print some schema information\n",
    "try:\n",
    "    print('\\nlist of instruments in client.schema:')\n",
    "    print(client.schema())  # list the instruments\n",
    "    print('\\nTables in client.schema(\"latiss\"):')\n",
    "    print(client.schema(f\"{instrument}\"))  # list tables for an instrument\n",
    "except requests.HTTPError or requests.JSONDecodeError:\n",
    "    print(client.schema())  # list the instruments\n",
    "    print(client.schema(f\"{instrument}\"))  # list tables for an instrument\n",
    "\n",
    "# Execute the query:\n",
    "try:\n",
    "    visits_comcam = client.query(visit_query1).to_pandas()\n",
    "except requests.HTTPError or requests.JSONDecodeError:\n",
    "    # Try twice\n",
    "    visits_comcam = client.query(visit_query1).to_pandas()\n",
    "\n",
    "# Print some stats to the screen:\n",
    "if len(visits_comcam) > 0:\n",
    "    print(f\"\\nRetrieved {len(visits_comcam)} visits from consdb\")\n",
    "    obj_vis = len(visits_comcam.query('img_type == \"OBJECT\"'))\n",
    "    print(f\"{obj_vis} of these are object images\")\n"
   ]
  },
  {
   "cell_type": "markdown",
   "id": "c82e4e22-843e-4c64-9735-a7bec4300d81",
   "metadata": {
    "execution": {
     "iopub.execute_input": "2025-02-27T02:21:35.825924Z",
     "iopub.status.busy": "2025-02-27T02:21:35.825725Z",
     "iopub.status.idle": "2025-02-27T02:21:35.828095Z",
     "shell.execute_reply": "2025-02-27T02:21:35.827801Z",
     "shell.execute_reply.started": "2025-02-27T02:21:35.825910Z"
    }
   },
   "source": [
    "#### Print the list of columns in this table:"
   ]
  },
  {
   "cell_type": "code",
   "execution_count": 6,
   "id": "9e40208d-5897-4984-94b6-c5a478e88fa0",
   "metadata": {
    "execution": {
     "iopub.execute_input": "2025-02-28T03:22:48.743348Z",
     "iopub.status.busy": "2025-02-28T03:22:48.743217Z",
     "iopub.status.idle": "2025-02-28T03:22:48.745421Z",
     "shell.execute_reply": "2025-02-28T03:22:48.745147Z",
     "shell.execute_reply.started": "2025-02-28T03:22:48.743335Z"
    }
   },
   "outputs": [
    {
     "name": "stdout",
     "output_type": "stream",
     "text": [
      "['visit_id', 'exposure_name', 'controller', 'day_obs', 'seq_num', 'physical_filter', 'band', 's_ra', 's_dec', 'sky_rotation', 'azimuth_start', 'azimuth_end', 'azimuth', 'altitude_start', 'altitude_end', 'altitude', 'zenith_distance_start', 'zenith_distance_end', 'zenith_distance', 'airmass', 'exp_midpt', 'exp_midpt_mjd', 'obs_start', 'obs_start_mjd', 'obs_end', 'obs_end_mjd', 'exp_time', 'shut_time', 'dark_time', 'group_id', 'cur_index', 'max_index', 'img_type', 'emulated', 'science_program', 'observation_reason', 'target_name', 'air_temp', 'pressure', 'humidity', 'wind_speed', 'wind_dir', 'dimm_seeing', 'shut_lower', 'shut_upper', 'focus_z', 'dome_azimuth', 'simulated', 's_region']\n"
     ]
    }
   ],
   "source": [
    "cols = [col for col in visits_comcam.columns]\n",
    "print(cols)"
   ]
  },
  {
   "cell_type": "markdown",
   "id": "76ce2206-8cfb-4cf7-bc67-2933a22a7bad",
   "metadata": {},
   "source": [
    "#### Display statistics related to the date/time and duration of the observation, and the filter:\n",
    "\n",
    "Note that this is spectroscopic observing, so the filter and band are mostly not relevant, other than as order-blocking filters."
   ]
  },
  {
   "cell_type": "code",
   "execution_count": 7,
   "id": "5ffbbed5-daeb-42e9-b2ed-03f8bdf2f9d1",
   "metadata": {
    "execution": {
     "iopub.execute_input": "2025-02-28T03:22:48.745844Z",
     "iopub.status.busy": "2025-02-28T03:22:48.745726Z",
     "iopub.status.idle": "2025-02-28T03:22:48.753978Z",
     "shell.execute_reply": "2025-02-28T03:22:48.753721Z",
     "shell.execute_reply.started": "2025-02-28T03:22:48.745833Z"
    }
   },
   "outputs": [
    {
     "data": {
      "text/html": [
       "<div><i>Table length=16</i>\n",
       "<table id=\"table140524327011584\" class=\"table-striped table-bordered table-condensed\">\n",
       "<thead><tr><th>day_obs</th><th>obs_start</th><th>obs_end</th><th>exp_time</th><th>shut_time</th><th>dark_time</th><th>physical_filter</th><th>band</th></tr></thead>\n",
       "<thead><tr><th>int64</th><th>object</th><th>object</th><th>float64</th><th>float64</th><th>float64</th><th>object</th><th>object</th></tr></thead>\n",
       "<tr><td>20250227</td><td>2025-02-27T18:47:40.160000</td><td>2025-02-27T18:47:40.170000</td><td>0.0</td><td>0.0</td><td>0.010358572006225586</td><td>empty~empty</td><td>EMPTY</td></tr>\n",
       "<tr><td>20250227</td><td>2025-02-27T18:47:45.949000</td><td>2025-02-27T18:47:48.175000</td><td>2.0</td><td>2.0</td><td>2.2258059978485107</td><td>empty~empty</td><td>EMPTY</td></tr>\n",
       "<tr><td>20250227</td><td>2025-02-27T18:59:17.087000</td><td>2025-02-27T18:59:19.314000</td><td>2.0</td><td>2.0</td><td>2.2272896766662598</td><td>empty~empty</td><td>EMPTY</td></tr>\n",
       "<tr><td>20250227</td><td>2025-02-27T19:02:43.612000</td><td>2025-02-27T19:02:45.832000</td><td>2.0</td><td>2.0</td><td>2.2208499908447266</td><td>BG40_65mm_1~blue300lpmm_qn1</td><td>g</td></tr>\n",
       "<tr><td>20250227</td><td>2025-02-27T23:54:21.787000</td><td>2025-02-27T23:54:23.010000</td><td>1.0</td><td>1.0</td><td>1.2234866619110107</td><td>SDSSr_65mm~empty</td><td>r</td></tr>\n",
       "<tr><td>20250227</td><td>2025-02-27T23:54:53.035000</td><td>2025-02-27T23:54:54.272000</td><td>1.0</td><td>1.0</td><td>1.236938238143921</td><td>SDSSr_65mm~empty</td><td>r</td></tr>\n",
       "<tr><td>20250227</td><td>2025-02-27T23:55:21.684000</td><td>2025-02-27T23:55:22.906000</td><td>1.0</td><td>1.0</td><td>1.222588062286377</td><td>SDSSr_65mm~empty</td><td>r</td></tr>\n",
       "<tr><td>20250227</td><td>2025-02-28T00:03:33.470000</td><td>2025-02-28T00:03:34.701000</td><td>1.0</td><td>1.0</td><td>1.2312712669372559</td><td>empty~empty</td><td>EMPTY</td></tr>\n",
       "<tr><td>20250227</td><td>2025-02-28T00:06:30.832000</td><td>2025-02-28T00:06:30.841000</td><td>0.0</td><td>0.0</td><td>0.008863449096679688</td><td>empty~empty</td><td>EMPTY</td></tr>\n",
       "<tr><td>20250227</td><td>2025-02-28T00:12:01.278000</td><td>2025-02-28T00:12:02.501000</td><td>1.0</td><td>1.0</td><td>1.2228424549102783</td><td>empty~empty</td><td>EMPTY</td></tr>\n",
       "<tr><td>20250227</td><td>2025-02-28T00:12:30.041000</td><td>2025-02-28T00:12:31.263000</td><td>1.0</td><td>1.0</td><td>1.2215063571929932</td><td>empty~empty</td><td>EMPTY</td></tr>\n",
       "<tr><td>20250227</td><td>2025-02-28T00:15:08.904000</td><td>2025-02-28T00:15:39.139000</td><td>30.0</td><td>30.0</td><td>30.235175371170044</td><td>empty~empty</td><td>EMPTY</td></tr>\n",
       "<tr><td>20250227</td><td>2025-02-28T00:15:57.273000</td><td>2025-02-28T00:16:27.497000</td><td>30.0</td><td>30.0</td><td>30.224510192871094</td><td>empty~empty</td><td>EMPTY</td></tr>\n",
       "<tr><td>20250227</td><td>2025-02-28T00:17:13.995000</td><td>2025-02-28T00:17:44.220000</td><td>30.0</td><td>30.0</td><td>30.224566221237183</td><td>empty~empty</td><td>EMPTY</td></tr>\n",
       "<tr><td>20250227</td><td>2025-02-28T00:18:01.301000</td><td>2025-02-28T00:18:31.527000</td><td>30.0</td><td>30.0</td><td>30.22612428665161</td><td>empty~empty</td><td>EMPTY</td></tr>\n",
       "<tr><td>20250227</td><td>2025-02-28T00:19:06.660000</td><td>2025-02-28T00:19:11.886000</td><td>5.0</td><td>5.0</td><td>5.225757598876953</td><td>empty~empty</td><td>EMPTY</td></tr>\n",
       "</table></div>"
      ],
      "text/plain": [
       "<Table length=16>\n",
       "day_obs          obs_start          ...       physical_filter        band \n",
       " int64             object           ...            object           object\n",
       "-------- -------------------------- ... --------------------------- ------\n",
       "20250227 2025-02-27T18:47:40.160000 ...                 empty~empty  EMPTY\n",
       "20250227 2025-02-27T18:47:45.949000 ...                 empty~empty  EMPTY\n",
       "20250227 2025-02-27T18:59:17.087000 ...                 empty~empty  EMPTY\n",
       "20250227 2025-02-27T19:02:43.612000 ... BG40_65mm_1~blue300lpmm_qn1      g\n",
       "20250227 2025-02-27T23:54:21.787000 ...            SDSSr_65mm~empty      r\n",
       "20250227 2025-02-27T23:54:53.035000 ...            SDSSr_65mm~empty      r\n",
       "20250227 2025-02-27T23:55:21.684000 ...            SDSSr_65mm~empty      r\n",
       "20250227 2025-02-28T00:03:33.470000 ...                 empty~empty  EMPTY\n",
       "20250227 2025-02-28T00:06:30.832000 ...                 empty~empty  EMPTY\n",
       "20250227 2025-02-28T00:12:01.278000 ...                 empty~empty  EMPTY\n",
       "20250227 2025-02-28T00:12:30.041000 ...                 empty~empty  EMPTY\n",
       "20250227 2025-02-28T00:15:08.904000 ...                 empty~empty  EMPTY\n",
       "20250227 2025-02-28T00:15:57.273000 ...                 empty~empty  EMPTY\n",
       "20250227 2025-02-28T00:17:13.995000 ...                 empty~empty  EMPTY\n",
       "20250227 2025-02-28T00:18:01.301000 ...                 empty~empty  EMPTY\n",
       "20250227 2025-02-28T00:19:06.660000 ...                 empty~empty  EMPTY"
      ]
     },
     "execution_count": 7,
     "metadata": {},
     "output_type": "execute_result"
    }
   ],
   "source": [
    "obs_columns = ['day_obs', 'obs_start', 'obs_end', 'exp_time', 'shut_time',\n",
    "               'dark_time', 'physical_filter', 'band']\n",
    "\n",
    "obs_dict = {}\n",
    "\n",
    "for col in obs_columns:\n",
    "    obs_dict[col] = visits_comcam.loc[:15][col].values\n",
    "\n",
    "tab = Table(obs_dict)\n",
    "tab"
   ]
  },
  {
   "cell_type": "markdown",
   "id": "76875ddd-c6da-4db0-abd3-b14d37381a21",
   "metadata": {},
   "source": [
    "Notice that the times printed (in \"obs_start\") are much less than 24 hours before the current time shown above. We have thus demonstrated that the databases are populated within L1PublicT = 24 hours."
   ]
  },
  {
   "cell_type": "markdown",
   "id": "00d2e4db-8ecb-43eb-81c5-848709bbdd68",
   "metadata": {},
   "source": [
    "#### Display quantities related the dome and telescope pointing and orientation:"
   ]
  },
  {
   "cell_type": "code",
   "execution_count": 8,
   "id": "bb573ace-89ab-4333-970b-d8214780d0ce",
   "metadata": {
    "execution": {
     "iopub.execute_input": "2025-02-28T03:22:48.754423Z",
     "iopub.status.busy": "2025-02-28T03:22:48.754305Z",
     "iopub.status.idle": "2025-02-28T03:22:48.761592Z",
     "shell.execute_reply": "2025-02-28T03:22:48.761331Z",
     "shell.execute_reply.started": "2025-02-28T03:22:48.754411Z"
    }
   },
   "outputs": [
    {
     "data": {
      "text/html": [
       "<div><i>Table length=6</i>\n",
       "<table id=\"table140524326462544\" class=\"table-striped table-bordered table-condensed\">\n",
       "<thead><tr><th>sky_rotation</th><th>azimuth_start</th><th>azimuth_end</th><th>azimuth</th><th>altitude_start</th><th>altitude_end</th><th>altitude</th></tr></thead>\n",
       "<thead><tr><th>float64</th><th>float64</th><th>float64</th><th>float64</th><th>float64</th><th>float64</th><th>float64</th></tr></thead>\n",
       "<tr><td>168.3219184381463</td><td>62.563592371483466</td><td>62.54056778117291</td><td>62.55208007632819</td><td>24.379946331256022</td><td>24.367116947327034</td><td>24.373531639291528</td></tr>\n",
       "<tr><td>161.16652473660974</td><td>56.139836305170576</td><td>55.90782409026456</td><td>56.02383019771757</td><td>22.322240357050475</td><td>22.223523837588544</td><td>22.27288209731951</td></tr>\n",
       "<tr><td>161.1664690224672</td><td>55.80183121577328</td><td>55.56731106630731</td><td>55.684571141040294</td><td>22.178683972314246</td><td>22.08032958241469</td><td>22.12950677736447</td></tr>\n",
       "<tr><td>161.16632993313456</td><td>55.251723424793774</td><td>55.01308005935227</td><td>55.13240174207302</td><td>21.949513501642514</td><td>21.851972921574585</td><td>21.90074321160855</td></tr>\n",
       "<tr><td>161.1664337871126</td><td>54.91107898872813</td><td>54.66976748145442</td><td>54.790423235091275</td><td>21.810476086022106</td><td>21.713239660894345</td><td>21.761857873458226</td></tr>\n",
       "<tr><td>161.16641643551347</td><td>54.43380073448416</td><td>54.37455154169263</td><td>54.404176138088395</td><td>21.619196761374013</td><td>21.595679437209597</td><td>21.607438099291805</td></tr>\n",
       "</table></div>"
      ],
      "text/plain": [
       "<Table length=6>\n",
       "   sky_rotation      azimuth_start    ...    altitude_end         altitude     \n",
       "     float64            float64       ...      float64            float64      \n",
       "------------------ ------------------ ... ------------------ ------------------\n",
       " 168.3219184381463 62.563592371483466 ... 24.367116947327034 24.373531639291528\n",
       "161.16652473660974 56.139836305170576 ... 22.223523837588544  22.27288209731951\n",
       " 161.1664690224672  55.80183121577328 ...  22.08032958241469  22.12950677736447\n",
       "161.16632993313456 55.251723424793774 ... 21.851972921574585  21.90074321160855\n",
       " 161.1664337871126  54.91107898872813 ... 21.713239660894345 21.761857873458226\n",
       "161.16641643551347  54.43380073448416 ... 21.595679437209597 21.607438099291805"
      ]
     },
     "execution_count": 8,
     "metadata": {},
     "output_type": "execute_result"
    }
   ],
   "source": [
    "tel_columns = ['sky_rotation', 'azimuth_start', 'azimuth_end', 'azimuth',\n",
    "               'altitude_start', 'altitude_end', 'altitude']\n",
    "\n",
    "tel_dict = {}\n",
    "\n",
    "for col in tel_columns:\n",
    "    tel_dict[col] = visits_comcam.loc[10:15][col].values\n",
    "\n",
    "tab = Table(tel_dict)\n",
    "tab"
   ]
  },
  {
   "cell_type": "markdown",
   "id": "48d0fd92-a513-4dd3-acfc-8777d10566f5",
   "metadata": {},
   "source": [
    "#### Display quantities related to the airmass, zenith distance, and environmental conditions of observations:"
   ]
  },
  {
   "cell_type": "code",
   "execution_count": 9,
   "id": "078c4b08-a73b-42e3-9890-3b741e64a0b1",
   "metadata": {
    "execution": {
     "iopub.execute_input": "2025-02-28T03:22:48.762032Z",
     "iopub.status.busy": "2025-02-28T03:22:48.761913Z",
     "iopub.status.idle": "2025-02-28T03:22:48.768674Z",
     "shell.execute_reply": "2025-02-28T03:22:48.768412Z",
     "shell.execute_reply.started": "2025-02-28T03:22:48.762021Z"
    }
   },
   "outputs": [
    {
     "data": {
      "text/html": [
       "<div><i>Table length=6</i>\n",
       "<table id=\"table140524326465664\" class=\"table-striped table-bordered table-condensed\">\n",
       "<thead><tr><th>zenith_distance_start</th><th>zenith_distance_end</th><th>zenith_distance</th><th>airmass</th></tr></thead>\n",
       "<thead><tr><th>float64</th><th>float64</th><th>float64</th><th>object</th></tr></thead>\n",
       "<tr><td>65.62005366874398</td><td>65.63288305267297</td><td>65.62646836070847</td><td>1.0972570877462795</td></tr>\n",
       "<tr><td>67.67775964294952</td><td>67.77647616241146</td><td>67.72711790268049</td><td>1.0804418787479548</td></tr>\n",
       "<tr><td>67.82131602768575</td><td>67.91967041758531</td><td>67.87049322263553</td><td>1.079330094369854</td></tr>\n",
       "<tr><td>68.05048649835749</td><td>68.14802707842541</td><td>68.09925678839144</td><td>1.0775856427851642</td></tr>\n",
       "<tr><td>68.1895239139779</td><td>68.28676033910565</td><td>68.23814212654177</td><td>1.076533996842899</td></tr>\n",
       "<tr><td>68.38080323862599</td><td>68.4043205627904</td><td>68.39256190070819</td><td>1.0751056583289715</td></tr>\n",
       "</table></div>"
      ],
      "text/plain": [
       "<Table length=6>\n",
       "zenith_distance_start zenith_distance_end  zenith_distance       airmass      \n",
       "       float64              float64            float64            object      \n",
       "--------------------- ------------------- ----------------- ------------------\n",
       "    65.62005366874398   65.63288305267297 65.62646836070847 1.0972570877462795\n",
       "    67.67775964294952   67.77647616241146 67.72711790268049 1.0804418787479548\n",
       "    67.82131602768575   67.91967041758531 67.87049322263553  1.079330094369854\n",
       "    68.05048649835749   68.14802707842541 68.09925678839144 1.0775856427851642\n",
       "     68.1895239139779   68.28676033910565 68.23814212654177  1.076533996842899\n",
       "    68.38080323862599    68.4043205627904 68.39256190070819 1.0751056583289715"
      ]
     },
     "execution_count": 9,
     "metadata": {},
     "output_type": "execute_result"
    }
   ],
   "source": [
    "env_columns1 = ['zenith_distance_start', 'zenith_distance_end', 'zenith_distance', 'airmass']\n",
    "\n",
    "env_dict1 = {}\n",
    "\n",
    "for col in env_columns1:\n",
    "    env_dict1[col] = visits_comcam.loc[10:15][col].values\n",
    "\n",
    "tab = Table(env_dict1)\n",
    "tab"
   ]
  },
  {
   "cell_type": "code",
   "execution_count": 10,
   "id": "dfed809e-9405-467b-a49b-d4bb76b78d80",
   "metadata": {
    "execution": {
     "iopub.execute_input": "2025-02-28T03:22:48.769111Z",
     "iopub.status.busy": "2025-02-28T03:22:48.768992Z",
     "iopub.status.idle": "2025-02-28T03:22:48.776126Z",
     "shell.execute_reply": "2025-02-28T03:22:48.775875Z",
     "shell.execute_reply.started": "2025-02-28T03:22:48.769099Z"
    }
   },
   "outputs": [
    {
     "data": {
      "text/html": [
       "<div><i>Table length=6</i>\n",
       "<table id=\"table140524326459808\" class=\"table-striped table-bordered table-condensed\">\n",
       "<thead><tr><th>air_temp</th><th>pressure</th><th>humidity</th><th>wind_speed</th><th>wind_dir</th><th>dimm_seeing</th><th>focus_z</th></tr></thead>\n",
       "<thead><tr><th>float64</th><th>float64</th><th>float64</th><th>float64</th><th>float64</th><th>object</th><th>float64</th></tr></thead>\n",
       "<tr><td>14.399999618530273</td><td>74345.0</td><td>58.0</td><td>2.9189999103546143</td><td>11.944999694824219</td><td>None</td><td>0.0</td></tr>\n",
       "<tr><td>14.274999618530273</td><td>74360.0</td><td>61.13750076293945</td><td>2.418600082397461</td><td>19.364999771118164</td><td>None</td><td>0.800000011920929</td></tr>\n",
       "<tr><td>14.149999618530273</td><td>74360.0</td><td>61.275001525878906</td><td>1.9182000160217285</td><td>11.835000038146973</td><td>None</td><td>-0.801099956035614</td></tr>\n",
       "<tr><td>13.975000381469727</td><td>74360.0</td><td>61.25</td><td>2.251800060272217</td><td>5.079999923706055</td><td>None</td><td>0.7515544891357422</td></tr>\n",
       "<tr><td>13.975000381469727</td><td>74360.0</td><td>62.07500076293945</td><td>2.0016000270843506</td><td>5.98527717590332</td><td>None</td><td>-0.8495454788208008</td></tr>\n",
       "<tr><td>13.949999809265137</td><td>74360.0</td><td>62.525001525878906</td><td>1.9182000160217285</td><td>1.3399637937545776</td><td>None</td><td>-0.04824773594737053</td></tr>\n",
       "</table></div>"
      ],
      "text/plain": [
       "<Table length=6>\n",
       "     air_temp      pressure ... dimm_seeing       focus_z       \n",
       "     float64       float64  ...    object         float64       \n",
       "------------------ -------- ... ----------- --------------------\n",
       "14.399999618530273  74345.0 ...        None                  0.0\n",
       "14.274999618530273  74360.0 ...        None    0.800000011920929\n",
       "14.149999618530273  74360.0 ...        None   -0.801099956035614\n",
       "13.975000381469727  74360.0 ...        None   0.7515544891357422\n",
       "13.975000381469727  74360.0 ...        None  -0.8495454788208008\n",
       "13.949999809265137  74360.0 ...        None -0.04824773594737053"
      ]
     },
     "execution_count": 10,
     "metadata": {},
     "output_type": "execute_result"
    }
   ],
   "source": [
    "env_columns2 = ['air_temp', 'pressure', 'humidity', 'wind_speed', 'wind_dir', 'dimm_seeing', 'focus_z']\n",
    "\n",
    "env_dict2 = {}\n",
    "\n",
    "for col in env_columns2:\n",
    "    env_dict2[col] = visits_comcam.loc[10:15][col].values\n",
    "\n",
    "tab = Table(env_dict2)\n",
    "tab"
   ]
  },
  {
   "cell_type": "code",
   "execution_count": 11,
   "id": "ac01bf7e-387e-4077-9bdf-16e7b6856034",
   "metadata": {
    "execution": {
     "iopub.execute_input": "2025-02-28T03:22:48.776562Z",
     "iopub.status.busy": "2025-02-28T03:22:48.776444Z",
     "iopub.status.idle": "2025-02-28T03:22:48.819169Z",
     "shell.execute_reply": "2025-02-28T03:22:48.818891Z",
     "shell.execute_reply.started": "2025-02-28T03:22:48.776551Z"
    }
   },
   "outputs": [],
   "source": [
    "# Query the ccdexposure table\n",
    "ccdexp_query = f\"\"\"\n",
    "    SELECT * FROM cdb_{instrument}.ccdexposure\n",
    "    where day_obs <= {day_obs_int} AND day_obs > {day_obs_int-3}\n",
    "\"\"\"\n",
    "\n",
    "# Execute the query:\n",
    "try:\n",
    "    ccdexp_comcam = client.query(ccdexp_query).to_pandas()\n",
    "except requests.HTTPError or requests.JSONDecodeError:\n",
    "    # Try twice\n",
    "    ccdexp_comcam = client.query(ccdexp_query).to_pandas()\n"
   ]
  },
  {
   "cell_type": "code",
   "execution_count": 12,
   "id": "05bea81c-2871-4c2a-bda0-f82f40a4f8b0",
   "metadata": {
    "execution": {
     "iopub.execute_input": "2025-02-28T03:22:48.819631Z",
     "iopub.status.busy": "2025-02-28T03:22:48.819502Z",
     "iopub.status.idle": "2025-02-28T03:22:48.824836Z",
     "shell.execute_reply": "2025-02-28T03:22:48.824542Z",
     "shell.execute_reply.started": "2025-02-28T03:22:48.819619Z"
    }
   },
   "outputs": [
    {
     "data": {
      "text/html": [
       "<div>\n",
       "<style scoped>\n",
       "    .dataframe tbody tr th:only-of-type {\n",
       "        vertical-align: middle;\n",
       "    }\n",
       "\n",
       "    .dataframe tbody tr th {\n",
       "        vertical-align: top;\n",
       "    }\n",
       "\n",
       "    .dataframe thead th {\n",
       "        text-align: right;\n",
       "    }\n",
       "</style>\n",
       "<table border=\"1\" class=\"dataframe\">\n",
       "  <thead>\n",
       "    <tr style=\"text-align: right;\">\n",
       "      <th></th>\n",
       "      <th>ccdexposure_id</th>\n",
       "      <th>exposure_id</th>\n",
       "      <th>detector</th>\n",
       "      <th>s_region</th>\n",
       "      <th>day_obs</th>\n",
       "      <th>seq_num</th>\n",
       "    </tr>\n",
       "  </thead>\n",
       "  <tbody>\n",
       "    <tr>\n",
       "      <th>1664</th>\n",
       "      <td>46439414528</td>\n",
       "      <td>2025022700315</td>\n",
       "      <td>0</td>\n",
       "      <td>Polygon ICRS 193.389047 -18.547848 193.285059 ...</td>\n",
       "      <td>20250227</td>\n",
       "      <td>315</td>\n",
       "    </tr>\n",
       "    <tr>\n",
       "      <th>1665</th>\n",
       "      <td>46439414784</td>\n",
       "      <td>2025022700316</td>\n",
       "      <td>0</td>\n",
       "      <td>None</td>\n",
       "      <td>20250227</td>\n",
       "      <td>316</td>\n",
       "    </tr>\n",
       "    <tr>\n",
       "      <th>1666</th>\n",
       "      <td>46439415040</td>\n",
       "      <td>2025022700317</td>\n",
       "      <td>0</td>\n",
       "      <td>None</td>\n",
       "      <td>20250227</td>\n",
       "      <td>317</td>\n",
       "    </tr>\n",
       "    <tr>\n",
       "      <th>1667</th>\n",
       "      <td>46439415296</td>\n",
       "      <td>2025022700318</td>\n",
       "      <td>0</td>\n",
       "      <td>Polygon ICRS 193.389028 -18.547898 193.285008 ...</td>\n",
       "      <td>20250227</td>\n",
       "      <td>318</td>\n",
       "    </tr>\n",
       "    <tr>\n",
       "      <th>1668</th>\n",
       "      <td>46439415552</td>\n",
       "      <td>2025022700319</td>\n",
       "      <td>0</td>\n",
       "      <td>Polygon ICRS 193.389028 -18.547898 193.285008 ...</td>\n",
       "      <td>20250227</td>\n",
       "      <td>319</td>\n",
       "    </tr>\n",
       "  </tbody>\n",
       "</table>\n",
       "</div>"
      ],
      "text/plain": [
       "      ccdexposure_id    exposure_id  detector  \\\n",
       "1664     46439414528  2025022700315         0   \n",
       "1665     46439414784  2025022700316         0   \n",
       "1666     46439415040  2025022700317         0   \n",
       "1667     46439415296  2025022700318         0   \n",
       "1668     46439415552  2025022700319         0   \n",
       "\n",
       "                                               s_region   day_obs  seq_num  \n",
       "1664  Polygon ICRS 193.389047 -18.547848 193.285059 ...  20250227      315  \n",
       "1665                                               None  20250227      316  \n",
       "1666                                               None  20250227      317  \n",
       "1667  Polygon ICRS 193.389028 -18.547898 193.285008 ...  20250227      318  \n",
       "1668  Polygon ICRS 193.389028 -18.547898 193.285008 ...  20250227      319  "
      ]
     },
     "execution_count": 12,
     "metadata": {},
     "output_type": "execute_result"
    }
   ],
   "source": [
    "ccdexp_comcam[-5:]"
   ]
  },
  {
   "cell_type": "markdown",
   "id": "115e8a68-8023-4619-9606-ed5134ce3bfa",
   "metadata": {},
   "source": [
    "## Results\n",
    "\n",
    "We see that the ConsDB contains information taken directly from image headers, transformed data from the EFD, and derived data based on image processing. As required, these data include information about each exposure, include the telescope and instrument configuration, telemetry from the telescope, environmental and pointing information, and details about the camera.\n",
    "\n",
    "We have demonstrated that the ConsDB tables were populated in less than L1PublicT=24 hours, as required.\n",
    "\n",
    "The result of this test is **PASS**."
   ]
  },
  {
   "cell_type": "code",
   "execution_count": null,
   "id": "9aec617d-a210-4d71-b39d-617a1137a2c8",
   "metadata": {},
   "outputs": [],
   "source": []
  }
 ],
 "metadata": {
  "kernelspec": {
   "display_name": "LSST",
   "language": "python",
   "name": "lsst"
  },
  "language_info": {
   "codemirror_mode": {
    "name": "ipython",
    "version": 3
   },
   "file_extension": ".py",
   "mimetype": "text/x-python",
   "name": "python",
   "nbconvert_exporter": "python",
   "pygments_lexer": "ipython3",
   "version": "3.12.9"
  }
 },
 "nbformat": 4,
 "nbformat_minor": 5
}
