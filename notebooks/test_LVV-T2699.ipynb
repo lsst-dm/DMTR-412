{
 "cells": [
  {
   "cell_type": "markdown",
   "id": "20e33fec-c862-43f7-b7ad-4e661589b282",
   "metadata": {},
   "source": [
    "### Test case LVV-T2699: Verify implementation of Catalog Provenance Access\n",
    "\n",
    "Verify that available catalog data products' provenance can be listed and retrieved."
   ]
  },
  {
   "cell_type": "code",
   "execution_count": 1,
   "id": "7fde1fcb-9f8d-4312-866e-cdea036f5805",
   "metadata": {
    "execution": {
     "iopub.execute_input": "2025-06-05T23:30:27.026701Z",
     "iopub.status.busy": "2025-06-05T23:30:27.026582Z",
     "iopub.status.idle": "2025-06-05T23:30:27.985600Z",
     "shell.execute_reply": "2025-06-05T23:30:27.984986Z",
     "shell.execute_reply.started": "2025-06-05T23:30:27.026688Z"
    }
   },
   "outputs": [],
   "source": [
    "from lsst.daf.butler import Butler, DatasetProvenance"
   ]
  },
  {
   "cell_type": "markdown",
   "id": "4137da1d-f7b7-443d-a01d-ffe18c6f2faf",
   "metadata": {},
   "source": [
    "Initialize the butler, and define the collection (corresponding to w_2025_16 processing) we will use."
   ]
  },
  {
   "cell_type": "code",
   "execution_count": 2,
   "id": "419831ef-70e9-444e-92b9-7fac6933e8d5",
   "metadata": {
    "execution": {
     "iopub.execute_input": "2025-06-05T23:30:27.987846Z",
     "iopub.status.busy": "2025-06-05T23:30:27.987580Z",
     "iopub.status.idle": "2025-06-05T23:30:28.480626Z",
     "shell.execute_reply": "2025-06-05T23:30:28.479949Z",
     "shell.execute_reply.started": "2025-06-05T23:30:27.987830Z"
    }
   },
   "outputs": [],
   "source": [
    "collection = \"LSSTComCam/runs/DRP/DP1/w_2025_16/DM-50344\"\n",
    "butler = Butler(\"/repo/main\", collections=[collection])"
   ]
  },
  {
   "cell_type": "markdown",
   "id": "37ecb961-799e-407f-bbe2-c1832717503b",
   "metadata": {},
   "source": [
    "#### Define some data dimensions to use for querying datasets:"
   ]
  },
  {
   "cell_type": "code",
   "execution_count": 3,
   "id": "e4d6ded0-27e9-4099-a809-a35d33894e0b",
   "metadata": {
    "execution": {
     "iopub.execute_input": "2025-06-05T23:30:28.483349Z",
     "iopub.status.busy": "2025-06-05T23:30:28.483076Z",
     "iopub.status.idle": "2025-06-05T23:30:28.485662Z",
     "shell.execute_reply": "2025-06-05T23:30:28.485276Z",
     "shell.execute_reply.started": "2025-06-05T23:30:28.483330Z"
    }
   },
   "outputs": [],
   "source": [
    "tract = 5063\n",
    "patch = 24\n",
    "visit = 2024110800246\n",
    "detector = 4"
   ]
  },
  {
   "cell_type": "markdown",
   "id": "9629b472-e17f-451c-95a5-2db12a54e2c6",
   "metadata": {},
   "source": [
    "#### Catalogs from single-visit images:\n",
    "\n",
    "We will demonstrate extraction of provenance information for the `source_unstandardized` (initial calibrated photometry), `source_detector` (\"standardized\" catalogs from the initial calibrated photometry), `source_all` (conglomeration of all `source_detector` catalogs), and `source2` catalog (final calibrated source catalog from visit images). This is essentially tracking (part of) the progression of detection, measurement, and calibration steps through the pipelines.\n",
    "\n",
    "For each of these, we will:\n",
    "1. Extract a catalog from the butler using the desired dataId constraints.\n",
    "2. Print the table metadata to the screen.\n",
    "3. Extract the provenance associated with the table, and print it to the screen.\n",
    "\n",
    "#### source_unstandardized"
   ]
  },
  {
   "cell_type": "code",
   "execution_count": 4,
   "id": "65220a4a-ca31-4881-ae76-16b8424ba7c5",
   "metadata": {
    "execution": {
     "iopub.execute_input": "2025-06-05T23:30:28.486408Z",
     "iopub.status.busy": "2025-06-05T23:30:28.486142Z",
     "iopub.status.idle": "2025-06-05T23:30:29.275205Z",
     "shell.execute_reply": "2025-06-05T23:30:29.274667Z",
     "shell.execute_reply.started": "2025-06-05T23:30:28.486394Z"
    }
   },
   "outputs": [],
   "source": [
    "# Retrieve a catalog:\n",
    "src_unstd = butler.get('source_unstandardized',\n",
    "                       dataId={'visit':visit, 'detector': detector})"
   ]
  },
  {
   "cell_type": "code",
   "execution_count": 5,
   "id": "09301ec2-3328-4f82-90f3-26626809adbf",
   "metadata": {
    "execution": {
     "iopub.execute_input": "2025-06-05T23:30:29.276371Z",
     "iopub.status.busy": "2025-06-05T23:30:29.275904Z",
     "iopub.status.idle": "2025-06-05T23:30:29.280042Z",
     "shell.execute_reply": "2025-06-05T23:30:29.279653Z",
     "shell.execute_reply.started": "2025-06-05T23:30:29.276353Z"
    }
   },
   "outputs": [
    {
     "data": {
      "text/plain": [
       "{'LSST.BUTLER.ID': '8e6222c0-8bf2-4e8f-9b49-c0f9ab4a8982',\n",
       " 'LSST.BUTLER.RUN': 'LSSTComCam/runs/DRP/DP1/w_2025_16/DM-50344/20250421T151307Z',\n",
       " 'LSST.BUTLER.DATASETTYPE': 'source_unstandardized',\n",
       " 'LSST.BUTLER.DATAID.DETECTOR': 4,\n",
       " 'LSST.BUTLER.DATAID.INSTRUMENT': 'LSSTComCam',\n",
       " 'LSST.BUTLER.DATAID.VISIT': 2024110800246,\n",
       " 'LSST.BUTLER.QUANTUM': '98b2a9c0-a1ef-416d-96f0-ccf508d1dba4',\n",
       " 'LSST.BUTLER.INPUT.0.ID': 'b97a5838-24a4-4d83-9e14-c2c7fdd17afd',\n",
       " 'LSST.BUTLER.INPUT.0.RUN': 'LSSTComCam/runs/DRP/DP1/w_2025_16/DM-50344/20250419T134626Z',\n",
       " 'LSST.BUTLER.INPUT.0.DATASETTYPE': 'visit_summary',\n",
       " 'LSST.BUTLER.INPUT.1.ID': '31b3f43c-a874-4489-b432-d4b3e30ceb97',\n",
       " 'LSST.BUTLER.INPUT.1.RUN': 'LSSTComCam/runs/DRP/DP1/w_2025_16/DM-50344/20250419T134626Z',\n",
       " 'LSST.BUTLER.INPUT.1.DATASETTYPE': 'refit_psf_star',\n",
       " 'LSST.BUTLER.INPUT.2.ID': '2d130454-72f3-4515-a5ab-8bca272d982c',\n",
       " 'LSST.BUTLER.INPUT.2.RUN': 'LSSTComCam/runs/DRP/DP1/w_2025_16/DM-50344/20250419T134626Z',\n",
       " 'LSST.BUTLER.INPUT.2.DATASETTYPE': 'preliminary_visit_image_background',\n",
       " 'LSST.BUTLER.INPUT.3.ID': 'd97092fb-27db-4121-85f3-d0ae3029d138',\n",
       " 'LSST.BUTLER.INPUT.3.RUN': 'LSSTComCam/runs/DRP/DP1/w_2025_16/DM-50344/20250419T134626Z',\n",
       " 'LSST.BUTLER.INPUT.3.DATASETTYPE': 'post_isr_image',\n",
       " 'LSST.BUTLER.INPUT.4.ID': '58225fb7-8819-4a3d-b3d7-7032d37d3b2a',\n",
       " 'LSST.BUTLER.INPUT.4.RUN': 'LSSTComCam/runs/DRP/DP1/w_2025_16/DM-50344/20250419T134626Z',\n",
       " 'LSST.BUTLER.INPUT.4.DATASETTYPE': 'background_to_photometric_ratio'}"
      ]
     },
     "execution_count": 5,
     "metadata": {},
     "output_type": "execute_result"
    }
   ],
   "source": [
    "# Print the table metadata:\n",
    "src_unstd.meta"
   ]
  },
  {
   "cell_type": "markdown",
   "id": "b42e530f-f509-419c-9e44-7922a8e57a69",
   "metadata": {},
   "source": [
    "We see that this metadata returns the RUN collection where the `source_unstandardized` dataset was created, as well as the component datasets that contributed to it (`visit_summary`, `refit_psf_star`, `preliminary_visit_image_background`, `post_isr_image`, and `background_to_photometric_ratio`), along with information about the RUN collections where these are located. Note that to trace the provenance even further back in the pipeline, one would need to explore `refit_psf_star` and stages that came before that catalog's creation.\n",
    "\n",
    "Pass this metadata to the `DatasetProvenance` tool from `lsst.daf.butler`."
   ]
  },
  {
   "cell_type": "code",
   "execution_count": 6,
   "id": "3d1495d7-8857-46e0-997e-175b0522e837",
   "metadata": {
    "execution": {
     "iopub.execute_input": "2025-06-05T23:30:29.280627Z",
     "iopub.status.busy": "2025-06-05T23:30:29.280473Z",
     "iopub.status.idle": "2025-06-05T23:30:29.422898Z",
     "shell.execute_reply": "2025-06-05T23:30:29.422450Z",
     "shell.execute_reply.started": "2025-06-05T23:30:29.280610Z"
    }
   },
   "outputs": [
    {
     "data": {
      "text/plain": [
       "DatasetProvenance(inputs=[SerializedDatasetRef(id=UUID('b97a5838-24a4-4d83-9e14-c2c7fdd17afd'), datasetType=SerializedDatasetType(name='visit_summary', storageClass='ExposureCatalog', dimensions=['instrument', 'visit'], parentStorageClass=None, isCalibration=False), dataId=SerializedDataCoordinate(dataId={'instrument': 'LSSTComCam', 'visit': 2024110800246}, records=None), run='LSSTComCam/runs/DRP/DP1/w_2025_16/DM-50344/20250419T134626Z', component=None), SerializedDatasetRef(id=UUID('31b3f43c-a874-4489-b432-d4b3e30ceb97'), datasetType=SerializedDatasetType(name='refit_psf_star', storageClass='ArrowAstropy', dimensions=['instrument', 'visit'], parentStorageClass=None, isCalibration=False), dataId=SerializedDataCoordinate(dataId={'instrument': 'LSSTComCam', 'visit': 2024110800246}, records=None), run='LSSTComCam/runs/DRP/DP1/w_2025_16/DM-50344/20250419T134626Z', component=None), SerializedDatasetRef(id=UUID('2d130454-72f3-4515-a5ab-8bca272d982c'), datasetType=SerializedDatasetType(name='preliminary_visit_image_background', storageClass='Background', dimensions=['instrument', 'detector', 'visit'], parentStorageClass=None, isCalibration=False), dataId=SerializedDataCoordinate(dataId={'instrument': 'LSSTComCam', 'detector': 4, 'visit': 2024110800246}, records=None), run='LSSTComCam/runs/DRP/DP1/w_2025_16/DM-50344/20250419T134626Z', component=None), SerializedDatasetRef(id=UUID('d97092fb-27db-4121-85f3-d0ae3029d138'), datasetType=SerializedDatasetType(name='post_isr_image', storageClass='Exposure', dimensions=['instrument', 'detector', 'exposure'], parentStorageClass=None, isCalibration=False), dataId=SerializedDataCoordinate(dataId={'instrument': 'LSSTComCam', 'detector': 4, 'exposure': 2024110800246}, records=None), run='LSSTComCam/runs/DRP/DP1/w_2025_16/DM-50344/20250419T134626Z', component=None), SerializedDatasetRef(id=UUID('58225fb7-8819-4a3d-b3d7-7032d37d3b2a'), datasetType=SerializedDatasetType(name='background_to_photometric_ratio', storageClass='Image', dimensions=['instrument', 'detector', 'visit'], parentStorageClass=None, isCalibration=False), dataId=SerializedDataCoordinate(dataId={'instrument': 'LSSTComCam', 'detector': 4, 'visit': 2024110800246}, records=None), run='LSSTComCam/runs/DRP/DP1/w_2025_16/DM-50344/20250419T134626Z', component=None)], quantum_id=UUID('98b2a9c0-a1ef-416d-96f0-ccf508d1dba4'), extras={})"
      ]
     },
     "execution_count": 6,
     "metadata": {},
     "output_type": "execute_result"
    }
   ],
   "source": [
    "# Extract the provenance and print to the screen:\n",
    "src_unstd_prov = DatasetProvenance.from_flat_dict(src_unstd.meta, butler)\n",
    "src_unstd_prov[0]"
   ]
  },
  {
   "cell_type": "markdown",
   "id": "30b62c3e-0f26-46e7-a8e0-1d246f8748c5",
   "metadata": {},
   "source": [
    "We see that the datasetRefs for the inputs have been returned.\n",
    "\n",
    "#### source_detector"
   ]
  },
  {
   "cell_type": "code",
   "execution_count": 7,
   "id": "5e71dd7f-c4a3-4e2d-b179-fbb13e2ae065",
   "metadata": {
    "execution": {
     "iopub.execute_input": "2025-06-05T23:30:29.423630Z",
     "iopub.status.busy": "2025-06-05T23:30:29.423470Z",
     "iopub.status.idle": "2025-06-05T23:30:29.551384Z",
     "shell.execute_reply": "2025-06-05T23:30:29.550796Z",
     "shell.execute_reply.started": "2025-06-05T23:30:29.423615Z"
    }
   },
   "outputs": [],
   "source": [
    "# Retrieve a catalog:\n",
    "src_det = butler.get('source_detector',\n",
    "                     dataId={'visit':visit, 'detector': detector})"
   ]
  },
  {
   "cell_type": "code",
   "execution_count": 8,
   "id": "bd2f09e1-5093-4d15-8a79-b2e42692e4d0",
   "metadata": {
    "execution": {
     "iopub.execute_input": "2025-06-05T23:30:29.552149Z",
     "iopub.status.busy": "2025-06-05T23:30:29.552001Z",
     "iopub.status.idle": "2025-06-05T23:30:29.555361Z",
     "shell.execute_reply": "2025-06-05T23:30:29.555002Z",
     "shell.execute_reply.started": "2025-06-05T23:30:29.552136Z"
    }
   },
   "outputs": [
    {
     "data": {
      "text/plain": [
       "{'LSST.BUTLER.ID': '74cd43a9-9bd0-4050-970e-3d543789cbd1',\n",
       " 'LSST.BUTLER.RUN': 'LSSTComCam/runs/DRP/DP1/w_2025_16/DM-50344/20250421T151307Z',\n",
       " 'LSST.BUTLER.DATASETTYPE': 'source_detector',\n",
       " 'LSST.BUTLER.DATAID.DETECTOR': 4,\n",
       " 'LSST.BUTLER.DATAID.INSTRUMENT': 'LSSTComCam',\n",
       " 'LSST.BUTLER.DATAID.VISIT': 2024110800246,\n",
       " 'LSST.BUTLER.QUANTUM': 'f77e3c63-962d-496a-8687-7d22b3d6f21f',\n",
       " 'LSST.BUTLER.INPUT.0.ID': '8e6222c0-8bf2-4e8f-9b49-c0f9ab4a8982',\n",
       " 'LSST.BUTLER.INPUT.0.RUN': 'LSSTComCam/runs/DRP/DP1/w_2025_16/DM-50344/20250421T151307Z',\n",
       " 'LSST.BUTLER.INPUT.0.DATASETTYPE': 'source_unstandardized'}"
      ]
     },
     "execution_count": 8,
     "metadata": {},
     "output_type": "execute_result"
    }
   ],
   "source": [
    "# Print the table metadata:\n",
    "src_det.meta"
   ]
  },
  {
   "cell_type": "code",
   "execution_count": 9,
   "id": "9acaa941-4c64-44ac-a074-3d362f6e95e3",
   "metadata": {
    "execution": {
     "iopub.execute_input": "2025-06-05T23:30:29.556008Z",
     "iopub.status.busy": "2025-06-05T23:30:29.555873Z",
     "iopub.status.idle": "2025-06-05T23:30:29.580951Z",
     "shell.execute_reply": "2025-06-05T23:30:29.580530Z",
     "shell.execute_reply.started": "2025-06-05T23:30:29.555996Z"
    }
   },
   "outputs": [
    {
     "data": {
      "text/plain": [
       "(DatasetProvenance(inputs=[SerializedDatasetRef(id=UUID('8e6222c0-8bf2-4e8f-9b49-c0f9ab4a8982'), datasetType=SerializedDatasetType(name='source_unstandardized', storageClass='ArrowAstropy', dimensions=['instrument', 'detector', 'visit'], parentStorageClass=None, isCalibration=False), dataId=SerializedDataCoordinate(dataId={'instrument': 'LSSTComCam', 'detector': 4, 'visit': 2024110800246}, records=None), run='LSSTComCam/runs/DRP/DP1/w_2025_16/DM-50344/20250421T151307Z', component=None)], quantum_id=UUID('f77e3c63-962d-496a-8687-7d22b3d6f21f'), extras={}),\n",
       " DatasetRef(DatasetType('source_detector', {band, instrument, day_obs, detector, physical_filter, visit}, ArrowAstropy), {instrument: 'LSSTComCam', detector: 4, visit: 2024110800246}, run='LSSTComCam/runs/DRP/DP1/w_2025_16/DM-50344/20250421T151307Z', id=74cd43a9-9bd0-4050-970e-3d543789cbd1))"
      ]
     },
     "execution_count": 9,
     "metadata": {},
     "output_type": "execute_result"
    }
   ],
   "source": [
    "# Extract the provenance and print to the screen:\n",
    "src_det_prov = DatasetProvenance.from_flat_dict(src_det.meta, butler)\n",
    "src_det_prov"
   ]
  },
  {
   "cell_type": "markdown",
   "id": "8ff0e826-86b8-44b5-b1e5-a4c7c300df49",
   "metadata": {},
   "source": [
    "We see that `source_detector` has only the `source_unstandardized` as input, as it is a transformed version of the unstandardized source table.\n",
    "\n",
    "#### source_all"
   ]
  },
  {
   "cell_type": "code",
   "execution_count": 10,
   "id": "84d83630-1a81-430a-be70-b1455d974bd8",
   "metadata": {
    "execution": {
     "iopub.execute_input": "2025-06-05T23:30:29.581572Z",
     "iopub.status.busy": "2025-06-05T23:30:29.581433Z",
     "iopub.status.idle": "2025-06-05T23:30:29.781916Z",
     "shell.execute_reply": "2025-06-05T23:30:29.781376Z",
     "shell.execute_reply.started": "2025-06-05T23:30:29.581560Z"
    }
   },
   "outputs": [],
   "source": [
    "# Retrieve a catalog:\n",
    "src_all = butler.get('source_all',\n",
    "                     dataId={'visit':visit, 'detector': detector})"
   ]
  },
  {
   "cell_type": "code",
   "execution_count": 11,
   "id": "99f2a467-2520-43c4-91ae-2cf60d50fb27",
   "metadata": {
    "execution": {
     "iopub.execute_input": "2025-06-05T23:30:29.782680Z",
     "iopub.status.busy": "2025-06-05T23:30:29.782531Z",
     "iopub.status.idle": "2025-06-05T23:30:29.786237Z",
     "shell.execute_reply": "2025-06-05T23:30:29.785870Z",
     "shell.execute_reply.started": "2025-06-05T23:30:29.782665Z"
    }
   },
   "outputs": [
    {
     "data": {
      "text/plain": [
       "{'LSST.BUTLER.ID': 'dd47a1a7-74b3-4a1c-8e33-9f72d7be2d97',\n",
       " 'LSST.BUTLER.RUN': 'LSSTComCam/runs/DRP/DP1/w_2025_16/DM-50344/20250421T151307Z',\n",
       " 'LSST.BUTLER.DATASETTYPE': 'source_all',\n",
       " 'LSST.BUTLER.DATAID.INSTRUMENT': 'LSSTComCam',\n",
       " 'LSST.BUTLER.DATAID.VISIT': 2024110800246,\n",
       " 'LSST.BUTLER.QUANTUM': '76e85758-ba7d-4653-bf87-90bf0ca97762',\n",
       " 'LSST.BUTLER.INPUT.0.ID': 'dca387fe-90ef-4b84-bf14-72f81787efc8',\n",
       " 'LSST.BUTLER.INPUT.0.RUN': 'LSSTComCam/runs/DRP/DP1/w_2025_16/DM-50344/20250421T151307Z',\n",
       " 'LSST.BUTLER.INPUT.0.DATASETTYPE': 'source_detector',\n",
       " 'LSST.BUTLER.INPUT.1.ID': '068665f5-39e8-480b-b8a5-570b7be8e895',\n",
       " 'LSST.BUTLER.INPUT.1.RUN': 'LSSTComCam/runs/DRP/DP1/w_2025_16/DM-50344/20250421T151307Z',\n",
       " 'LSST.BUTLER.INPUT.1.DATASETTYPE': 'source_detector',\n",
       " 'LSST.BUTLER.INPUT.2.ID': '9cca86cf-3961-4cab-bc57-db9049148a41',\n",
       " 'LSST.BUTLER.INPUT.2.RUN': 'LSSTComCam/runs/DRP/DP1/w_2025_16/DM-50344/20250421T151307Z',\n",
       " 'LSST.BUTLER.INPUT.2.DATASETTYPE': 'source_detector',\n",
       " 'LSST.BUTLER.INPUT.3.ID': 'd444444a-3f88-4f52-a3b9-fe929d5e3bbf',\n",
       " 'LSST.BUTLER.INPUT.3.RUN': 'LSSTComCam/runs/DRP/DP1/w_2025_16/DM-50344/20250421T151307Z',\n",
       " 'LSST.BUTLER.INPUT.3.DATASETTYPE': 'source_detector',\n",
       " 'LSST.BUTLER.INPUT.4.ID': '74cd43a9-9bd0-4050-970e-3d543789cbd1',\n",
       " 'LSST.BUTLER.INPUT.4.RUN': 'LSSTComCam/runs/DRP/DP1/w_2025_16/DM-50344/20250421T151307Z',\n",
       " 'LSST.BUTLER.INPUT.4.DATASETTYPE': 'source_detector',\n",
       " 'LSST.BUTLER.INPUT.5.ID': '68c56e29-e12c-4ee2-bacd-52390fc46f65',\n",
       " 'LSST.BUTLER.INPUT.5.RUN': 'LSSTComCam/runs/DRP/DP1/w_2025_16/DM-50344/20250421T151307Z',\n",
       " 'LSST.BUTLER.INPUT.5.DATASETTYPE': 'source_detector',\n",
       " 'LSST.BUTLER.INPUT.6.ID': '37e88c67-6b31-473e-bb29-a34443a4905e',\n",
       " 'LSST.BUTLER.INPUT.6.RUN': 'LSSTComCam/runs/DRP/DP1/w_2025_16/DM-50344/20250421T151307Z',\n",
       " 'LSST.BUTLER.INPUT.6.DATASETTYPE': 'source_detector',\n",
       " 'LSST.BUTLER.INPUT.7.ID': '15c96c0f-4cf0-4c32-84b0-d3c67cebc302',\n",
       " 'LSST.BUTLER.INPUT.7.RUN': 'LSSTComCam/runs/DRP/DP1/w_2025_16/DM-50344/20250421T151307Z',\n",
       " 'LSST.BUTLER.INPUT.7.DATASETTYPE': 'source_detector',\n",
       " 'LSST.BUTLER.INPUT.8.ID': '7d9b8aa5-9b40-4159-b19a-c8b16642164c',\n",
       " 'LSST.BUTLER.INPUT.8.RUN': 'LSSTComCam/runs/DRP/DP1/w_2025_16/DM-50344/20250421T151307Z',\n",
       " 'LSST.BUTLER.INPUT.8.DATASETTYPE': 'source_detector'}"
      ]
     },
     "execution_count": 11,
     "metadata": {},
     "output_type": "execute_result"
    }
   ],
   "source": [
    "# Print the table metadata:\n",
    "src_all.meta"
   ]
  },
  {
   "cell_type": "code",
   "execution_count": 12,
   "id": "c67caefb-6ad6-4ab5-b19b-de5181266eab",
   "metadata": {
    "execution": {
     "iopub.execute_input": "2025-06-05T23:30:29.786871Z",
     "iopub.status.busy": "2025-06-05T23:30:29.786722Z",
     "iopub.status.idle": "2025-06-05T23:30:29.879348Z",
     "shell.execute_reply": "2025-06-05T23:30:29.878907Z",
     "shell.execute_reply.started": "2025-06-05T23:30:29.786857Z"
    }
   },
   "outputs": [
    {
     "data": {
      "text/plain": [
       "(DatasetProvenance(inputs=[SerializedDatasetRef(id=UUID('dca387fe-90ef-4b84-bf14-72f81787efc8'), datasetType=SerializedDatasetType(name='source_detector', storageClass='ArrowAstropy', dimensions=['instrument', 'detector', 'visit'], parentStorageClass=None, isCalibration=False), dataId=SerializedDataCoordinate(dataId={'instrument': 'LSSTComCam', 'detector': 0, 'visit': 2024110800246}, records=None), run='LSSTComCam/runs/DRP/DP1/w_2025_16/DM-50344/20250421T151307Z', component=None), SerializedDatasetRef(id=UUID('068665f5-39e8-480b-b8a5-570b7be8e895'), datasetType=SerializedDatasetType(name='source_detector', storageClass='ArrowAstropy', dimensions=['instrument', 'detector', 'visit'], parentStorageClass=None, isCalibration=False), dataId=SerializedDataCoordinate(dataId={'instrument': 'LSSTComCam', 'detector': 1, 'visit': 2024110800246}, records=None), run='LSSTComCam/runs/DRP/DP1/w_2025_16/DM-50344/20250421T151307Z', component=None), SerializedDatasetRef(id=UUID('9cca86cf-3961-4cab-bc57-db9049148a41'), datasetType=SerializedDatasetType(name='source_detector', storageClass='ArrowAstropy', dimensions=['instrument', 'detector', 'visit'], parentStorageClass=None, isCalibration=False), dataId=SerializedDataCoordinate(dataId={'instrument': 'LSSTComCam', 'detector': 2, 'visit': 2024110800246}, records=None), run='LSSTComCam/runs/DRP/DP1/w_2025_16/DM-50344/20250421T151307Z', component=None), SerializedDatasetRef(id=UUID('d444444a-3f88-4f52-a3b9-fe929d5e3bbf'), datasetType=SerializedDatasetType(name='source_detector', storageClass='ArrowAstropy', dimensions=['instrument', 'detector', 'visit'], parentStorageClass=None, isCalibration=False), dataId=SerializedDataCoordinate(dataId={'instrument': 'LSSTComCam', 'detector': 3, 'visit': 2024110800246}, records=None), run='LSSTComCam/runs/DRP/DP1/w_2025_16/DM-50344/20250421T151307Z', component=None), SerializedDatasetRef(id=UUID('74cd43a9-9bd0-4050-970e-3d543789cbd1'), datasetType=SerializedDatasetType(name='source_detector', storageClass='ArrowAstropy', dimensions=['instrument', 'detector', 'visit'], parentStorageClass=None, isCalibration=False), dataId=SerializedDataCoordinate(dataId={'instrument': 'LSSTComCam', 'detector': 4, 'visit': 2024110800246}, records=None), run='LSSTComCam/runs/DRP/DP1/w_2025_16/DM-50344/20250421T151307Z', component=None), SerializedDatasetRef(id=UUID('68c56e29-e12c-4ee2-bacd-52390fc46f65'), datasetType=SerializedDatasetType(name='source_detector', storageClass='ArrowAstropy', dimensions=['instrument', 'detector', 'visit'], parentStorageClass=None, isCalibration=False), dataId=SerializedDataCoordinate(dataId={'instrument': 'LSSTComCam', 'detector': 5, 'visit': 2024110800246}, records=None), run='LSSTComCam/runs/DRP/DP1/w_2025_16/DM-50344/20250421T151307Z', component=None), SerializedDatasetRef(id=UUID('37e88c67-6b31-473e-bb29-a34443a4905e'), datasetType=SerializedDatasetType(name='source_detector', storageClass='ArrowAstropy', dimensions=['instrument', 'detector', 'visit'], parentStorageClass=None, isCalibration=False), dataId=SerializedDataCoordinate(dataId={'instrument': 'LSSTComCam', 'detector': 6, 'visit': 2024110800246}, records=None), run='LSSTComCam/runs/DRP/DP1/w_2025_16/DM-50344/20250421T151307Z', component=None), SerializedDatasetRef(id=UUID('15c96c0f-4cf0-4c32-84b0-d3c67cebc302'), datasetType=SerializedDatasetType(name='source_detector', storageClass='ArrowAstropy', dimensions=['instrument', 'detector', 'visit'], parentStorageClass=None, isCalibration=False), dataId=SerializedDataCoordinate(dataId={'instrument': 'LSSTComCam', 'detector': 7, 'visit': 2024110800246}, records=None), run='LSSTComCam/runs/DRP/DP1/w_2025_16/DM-50344/20250421T151307Z', component=None), SerializedDatasetRef(id=UUID('7d9b8aa5-9b40-4159-b19a-c8b16642164c'), datasetType=SerializedDatasetType(name='source_detector', storageClass='ArrowAstropy', dimensions=['instrument', 'detector', 'visit'], parentStorageClass=None, isCalibration=False), dataId=SerializedDataCoordinate(dataId={'instrument': 'LSSTComCam', 'detector': 8, 'visit': 2024110800246}, records=None), run='LSSTComCam/runs/DRP/DP1/w_2025_16/DM-50344/20250421T151307Z', component=None)], quantum_id=UUID('76e85758-ba7d-4653-bf87-90bf0ca97762'), extras={}),\n",
       " DatasetRef(DatasetType('source_all', {band, instrument, day_obs, physical_filter, visit}, ArrowAstropy), {instrument: 'LSSTComCam', visit: 2024110800246}, run='LSSTComCam/runs/DRP/DP1/w_2025_16/DM-50344/20250421T151307Z', id=dd47a1a7-74b3-4a1c-8e33-9f72d7be2d97))"
      ]
     },
     "execution_count": 12,
     "metadata": {},
     "output_type": "execute_result"
    }
   ],
   "source": [
    "# Extract the provenance and print to the screen:\n",
    "src_all_prov = DatasetProvenance.from_flat_dict(src_all.meta, butler)\n",
    "src_all_prov"
   ]
  },
  {
   "cell_type": "markdown",
   "id": "da3c4802-6c62-4961-80e5-55fe2a238e3b",
   "metadata": {},
   "source": [
    "We see that the `source_all` dataset consists of the `source_detector` catalogs from all 9 ComCam detectors.\n",
    "\n",
    "#### source2"
   ]
  },
  {
   "cell_type": "code",
   "execution_count": 13,
   "id": "9faaca9d-98ec-4cd5-8199-86cc6b46c410",
   "metadata": {
    "execution": {
     "iopub.execute_input": "2025-06-05T23:30:29.880002Z",
     "iopub.status.busy": "2025-06-05T23:30:29.879861Z",
     "iopub.status.idle": "2025-06-05T23:30:30.055694Z",
     "shell.execute_reply": "2025-06-05T23:30:30.055218Z",
     "shell.execute_reply.started": "2025-06-05T23:30:29.879989Z"
    }
   },
   "outputs": [],
   "source": [
    "# Retrieve a catalog:\n",
    "src = butler.get('source2',\n",
    "                 dataId={'visit':visit, 'detector': detector})"
   ]
  },
  {
   "cell_type": "code",
   "execution_count": 14,
   "id": "ec7e22ef-8baf-49b1-8a34-3333bf14d06c",
   "metadata": {
    "execution": {
     "iopub.execute_input": "2025-06-05T23:30:30.056481Z",
     "iopub.status.busy": "2025-06-05T23:30:30.056335Z",
     "iopub.status.idle": "2025-06-05T23:30:30.059778Z",
     "shell.execute_reply": "2025-06-05T23:30:30.059380Z",
     "shell.execute_reply.started": "2025-06-05T23:30:30.056466Z"
    }
   },
   "outputs": [
    {
     "data": {
      "text/plain": [
       "{'LSST.BUTLER.ID': 'b4ba9d6e-aa25-4547-90b3-c9fa368cb00d',\n",
       " 'LSST.BUTLER.RUN': 'LSSTComCam/runs/DRP/DP1/w_2025_16/DM-50344/20250421T151307Z',\n",
       " 'LSST.BUTLER.DATASETTYPE': 'source2',\n",
       " 'LSST.BUTLER.DATAID.INSTRUMENT': 'LSSTComCam',\n",
       " 'LSST.BUTLER.DATAID.VISIT': 2024110800246,\n",
       " 'LSST.BUTLER.QUANTUM': '4dca3549-8f31-4ca3-99e6-c2bcfa4db778',\n",
       " 'LSST.BUTLER.INPUT.0.ID': 'dd47a1a7-74b3-4a1c-8e33-9f72d7be2d97',\n",
       " 'LSST.BUTLER.INPUT.0.RUN': 'LSSTComCam/runs/DRP/DP1/w_2025_16/DM-50344/20250421T151307Z',\n",
       " 'LSST.BUTLER.INPUT.0.DATASETTYPE': 'source_all'}"
      ]
     },
     "execution_count": 14,
     "metadata": {},
     "output_type": "execute_result"
    }
   ],
   "source": [
    "# Print the table metadata:\n",
    "src.meta"
   ]
  },
  {
   "cell_type": "code",
   "execution_count": 15,
   "id": "18a092ab-fc4c-4d12-83ce-c449e47bbd11",
   "metadata": {
    "execution": {
     "iopub.execute_input": "2025-06-05T23:30:30.060366Z",
     "iopub.status.busy": "2025-06-05T23:30:30.060225Z",
     "iopub.status.idle": "2025-06-05T23:30:30.089214Z",
     "shell.execute_reply": "2025-06-05T23:30:30.088765Z",
     "shell.execute_reply.started": "2025-06-05T23:30:30.060352Z"
    }
   },
   "outputs": [
    {
     "data": {
      "text/plain": [
       "(DatasetProvenance(inputs=[SerializedDatasetRef(id=UUID('dd47a1a7-74b3-4a1c-8e33-9f72d7be2d97'), datasetType=SerializedDatasetType(name='source_all', storageClass='ArrowAstropy', dimensions=['instrument', 'visit'], parentStorageClass=None, isCalibration=False), dataId=SerializedDataCoordinate(dataId={'instrument': 'LSSTComCam', 'visit': 2024110800246}, records=None), run='LSSTComCam/runs/DRP/DP1/w_2025_16/DM-50344/20250421T151307Z', component=None)], quantum_id=UUID('4dca3549-8f31-4ca3-99e6-c2bcfa4db778'), extras={}),\n",
       " DatasetRef(DatasetType('source2', {band, instrument, day_obs, physical_filter, visit}, ArrowAstropy), {instrument: 'LSSTComCam', visit: 2024110800246}, run='LSSTComCam/runs/DRP/DP1/w_2025_16/DM-50344/20250421T151307Z', id=b4ba9d6e-aa25-4547-90b3-c9fa368cb00d))"
      ]
     },
     "execution_count": 15,
     "metadata": {},
     "output_type": "execute_result"
    }
   ],
   "source": [
    "# Extract the provenance and print to the screen:\n",
    "src_prov = DatasetProvenance.from_flat_dict(src.meta, butler)\n",
    "src_prov"
   ]
  },
  {
   "cell_type": "markdown",
   "id": "e5777565-aee3-4039-aa28-502f33d9a4af",
   "metadata": {},
   "source": [
    "We see that the `source2` table is simply a subset of `source_all`, and thus has only `source_all` as an input.\n",
    "\n",
    "We have demonstrated that the provenance of catalogs from single-visit images can be retrieved with LSST Science Pipelines tooling."
   ]
  },
  {
   "cell_type": "markdown",
   "id": "5665887f-3ccc-45b6-87b9-0ae154ef7f58",
   "metadata": {},
   "source": [
    "#### Catalogs from coadds:\n",
    "\n",
    "We will demonstrate extraction of provenance information for the `object_patch` (initial patch-level compilation of object catalogs), `object_all` (conglomeration of all `object_patch` catalogs for each tract), and `object` catalog (final calibrated object catalog from coadd images). This is essentially tracking (part of) the progression of detection, measurement, and calibration steps through the pipelines.\n",
    "\n",
    "For each of these, we will:\n",
    "1. Extract a catalog from the butler using the desired dataId constraints.\n",
    "2. Print the table metadata to the screen.\n",
    "3. Extract the provenance associated with the table, and print it to the screen.\n",
    "\n",
    "#### object_patch"
   ]
  },
  {
   "cell_type": "code",
   "execution_count": 16,
   "id": "6efaaff7-a7dc-455e-a10f-2abda9c1fe32",
   "metadata": {
    "execution": {
     "iopub.execute_input": "2025-06-05T23:30:30.090162Z",
     "iopub.status.busy": "2025-06-05T23:30:30.089786Z",
     "iopub.status.idle": "2025-06-05T23:30:30.596731Z",
     "shell.execute_reply": "2025-06-05T23:30:30.596196Z",
     "shell.execute_reply.started": "2025-06-05T23:30:30.090144Z"
    }
   },
   "outputs": [],
   "source": [
    "# Retrieve a catalog:\n",
    "obj_patch = butler.get('object_patch',\n",
    "                       dataId={'tract':tract, 'patch': patch, 'skymap':'lsst_cells_v1'},\n",
    "                       parameters={'columns': ['coord_ra', 'coord_dec', 'r_psfFlux', 'r_psfFluxErr']})"
   ]
  },
  {
   "cell_type": "code",
   "execution_count": 17,
   "id": "84aa8b09-09ae-486b-8919-bc6813365b20",
   "metadata": {
    "execution": {
     "iopub.execute_input": "2025-06-05T23:30:30.597542Z",
     "iopub.status.busy": "2025-06-05T23:30:30.597351Z",
     "iopub.status.idle": "2025-06-05T23:30:30.601070Z",
     "shell.execute_reply": "2025-06-05T23:30:30.600678Z",
     "shell.execute_reply.started": "2025-06-05T23:30:30.597524Z"
    }
   },
   "outputs": [
    {
     "data": {
      "text/plain": [
       "{'LSST.BUTLER.ID': '04e7f8bc-5d3e-4dc4-8238-7b2babeb7dea',\n",
       " 'LSST.BUTLER.RUN': 'LSSTComCam/runs/DRP/DP1/w_2025_16/DM-50344/20250419T223750Z',\n",
       " 'LSST.BUTLER.DATASETTYPE': 'object_patch',\n",
       " 'LSST.BUTLER.DATAID.PATCH': 24,\n",
       " 'LSST.BUTLER.DATAID.SKYMAP': 'lsst_cells_v1',\n",
       " 'LSST.BUTLER.DATAID.TRACT': 5063,\n",
       " 'LSST.BUTLER.QUANTUM': 'd618b6ce-4e7f-4ed5-b994-44624d5903a2',\n",
       " 'LSST.BUTLER.INPUT.0.ID': 'e4ba79f0-2578-4d0b-a6c1-875ddc0c6a45',\n",
       " 'LSST.BUTLER.INPUT.0.RUN': 'LSSTComCam/runs/DRP/DP1/w_2025_16/DM-50344/20250419T223750Z',\n",
       " 'LSST.BUTLER.INPUT.0.DATASETTYPE': 'object_epoch',\n",
       " 'LSST.BUTLER.INPUT.1.ID': '81aaea92-756a-41fd-a7e5-1915e3e34812',\n",
       " 'LSST.BUTLER.INPUT.1.RUN': 'LSSTComCam/runs/DRP/DP1/w_2025_16/DM-50344/20250419T223750Z',\n",
       " 'LSST.BUTLER.INPUT.1.DATASETTYPE': 'object_unstandardized',\n",
       " 'LSST.BUTLER.INPUT.2.ID': 'e0b42428-0451-4d89-9942-fca9dee981d8',\n",
       " 'LSST.BUTLER.INPUT.2.RUN': 'LSSTComCam/runs/DRP/DP1/w_2025_16/DM-50344/20250419T223750Z',\n",
       " 'LSST.BUTLER.INPUT.2.DATASETTYPE': 'object_ref_measurement',\n",
       " 'LSST.BUTLER.INPUT.3.ID': 'adff6701-eb9e-43da-8321-7e2173168f28',\n",
       " 'LSST.BUTLER.INPUT.3.RUN': 'LSSTComCam/runs/DRP/DP1/w_2025_16/DM-50344/20250419T223750Z',\n",
       " 'LSST.BUTLER.INPUT.3.DATASETTYPE': 'object_sersic_multiprofit'}"
      ]
     },
     "execution_count": 17,
     "metadata": {},
     "output_type": "execute_result"
    }
   ],
   "source": [
    "# Print the table metadata:\n",
    "obj_patch.meta"
   ]
  },
  {
   "cell_type": "markdown",
   "id": "fbf33d98-f15c-4b0c-9849-68a40a3bfa37",
   "metadata": {},
   "source": [
    "We see that this metadata returns the RUN collection where the `object_patch` dataset was created, as well as the component datasets that contributed to it (`object_epoch`, `object_unstandardized`, `object_ref_measurement`, and `object_sersic_multiprofit`), along with information about the RUN collections where these are located. Note that to trace the provenance even further back in the pipeline, one would need to explore the inputs and the stages that came before those catalogs' creation.\n",
    "\n",
    "Pass this metadata to the `DatasetProvenance` tool from `lsst.daf.butler`."
   ]
  },
  {
   "cell_type": "code",
   "execution_count": 18,
   "id": "244d0530-11a5-4ce8-8737-aab23925d02d",
   "metadata": {
    "execution": {
     "iopub.execute_input": "2025-06-05T23:30:30.604152Z",
     "iopub.status.busy": "2025-06-05T23:30:30.603879Z",
     "iopub.status.idle": "2025-06-05T23:30:30.676026Z",
     "shell.execute_reply": "2025-06-05T23:30:30.675502Z",
     "shell.execute_reply.started": "2025-06-05T23:30:30.604138Z"
    }
   },
   "outputs": [
    {
     "data": {
      "text/plain": [
       "DatasetProvenance(inputs=[SerializedDatasetRef(id=UUID('e4ba79f0-2578-4d0b-a6c1-875ddc0c6a45'), datasetType=SerializedDatasetType(name='object_epoch', storageClass='ArrowAstropy', dimensions=['skymap', 'tract', 'patch'], parentStorageClass=None, isCalibration=False), dataId=SerializedDataCoordinate(dataId={'skymap': 'lsst_cells_v1', 'tract': 5063, 'patch': 24}, records=None), run='LSSTComCam/runs/DRP/DP1/w_2025_16/DM-50344/20250419T223750Z', component=None), SerializedDatasetRef(id=UUID('81aaea92-756a-41fd-a7e5-1915e3e34812'), datasetType=SerializedDatasetType(name='object_unstandardized', storageClass='DataFrame', dimensions=['skymap', 'tract', 'patch'], parentStorageClass=None, isCalibration=False), dataId=SerializedDataCoordinate(dataId={'skymap': 'lsst_cells_v1', 'tract': 5063, 'patch': 24}, records=None), run='LSSTComCam/runs/DRP/DP1/w_2025_16/DM-50344/20250419T223750Z', component=None), SerializedDatasetRef(id=UUID('e0b42428-0451-4d89-9942-fca9dee981d8'), datasetType=SerializedDatasetType(name='object_ref_measurement', storageClass='SourceCatalog', dimensions=['skymap', 'tract', 'patch'], parentStorageClass=None, isCalibration=False), dataId=SerializedDataCoordinate(dataId={'skymap': 'lsst_cells_v1', 'tract': 5063, 'patch': 24}, records=None), run='LSSTComCam/runs/DRP/DP1/w_2025_16/DM-50344/20250419T223750Z', component=None), SerializedDatasetRef(id=UUID('adff6701-eb9e-43da-8321-7e2173168f28'), datasetType=SerializedDatasetType(name='object_sersic_multiprofit', storageClass='ArrowTable', dimensions=['skymap', 'tract', 'patch'], parentStorageClass=None, isCalibration=False), dataId=SerializedDataCoordinate(dataId={'skymap': 'lsst_cells_v1', 'tract': 5063, 'patch': 24}, records=None), run='LSSTComCam/runs/DRP/DP1/w_2025_16/DM-50344/20250419T223750Z', component=None)], quantum_id=UUID('d618b6ce-4e7f-4ed5-b994-44624d5903a2'), extras={})"
      ]
     },
     "execution_count": 18,
     "metadata": {},
     "output_type": "execute_result"
    }
   ],
   "source": [
    "# Extract the provenance and print to the screen:\n",
    "obj_patch_prov = DatasetProvenance.from_flat_dict(obj_patch.meta, butler)\n",
    "obj_patch_prov[0]"
   ]
  },
  {
   "cell_type": "markdown",
   "id": "082c24eb-8a7a-487b-879e-b33e11d3bc6c",
   "metadata": {},
   "source": [
    "#### object_all"
   ]
  },
  {
   "cell_type": "code",
   "execution_count": 19,
   "id": "a77717a0-82c0-43d5-affe-cb403c8d1e6a",
   "metadata": {
    "execution": {
     "iopub.execute_input": "2025-06-05T23:30:30.677101Z",
     "iopub.status.busy": "2025-06-05T23:30:30.676759Z",
     "iopub.status.idle": "2025-06-05T23:30:31.127404Z",
     "shell.execute_reply": "2025-06-05T23:30:31.126518Z",
     "shell.execute_reply.started": "2025-06-05T23:30:30.677078Z"
    }
   },
   "outputs": [],
   "source": [
    "# Retrieve a catalog:\n",
    "obj_all = butler.get('object_all',\n",
    "                     dataId={'tract':tract, 'patch': patch, 'skymap':'lsst_cells_v1'},\n",
    "                     parameters={'columns': ['coord_ra', 'coord_dec', 'r_psfFlux', 'r_psfFluxErr']})"
   ]
  },
  {
   "cell_type": "code",
   "execution_count": 20,
   "id": "0685498d-e070-4c43-ae58-fcd9ee212c4f",
   "metadata": {
    "execution": {
     "iopub.execute_input": "2025-06-05T23:30:31.128282Z",
     "iopub.status.busy": "2025-06-05T23:30:31.128127Z",
     "iopub.status.idle": "2025-06-05T23:30:31.133465Z",
     "shell.execute_reply": "2025-06-05T23:30:31.133049Z",
     "shell.execute_reply.started": "2025-06-05T23:30:31.128266Z"
    }
   },
   "outputs": [
    {
     "data": {
      "text/plain": [
       "{'LSST.BUTLER.ID': '35a7d966-ffec-4ad9-a887-aa6a7c605760',\n",
       " 'LSST.BUTLER.RUN': 'LSSTComCam/runs/DRP/DP1/w_2025_16/DM-50344/20250419T223750Z',\n",
       " 'LSST.BUTLER.DATASETTYPE': 'object_all',\n",
       " 'LSST.BUTLER.DATAID.SKYMAP': 'lsst_cells_v1',\n",
       " 'LSST.BUTLER.DATAID.TRACT': 5063,\n",
       " 'LSST.BUTLER.QUANTUM': '0ad3e562-dc43-425a-95f5-137303fe2143',\n",
       " 'LSST.BUTLER.INPUT.0.ID': '9703c45e-761d-414a-9fc6-457e2babbb64',\n",
       " 'LSST.BUTLER.INPUT.0.RUN': 'LSSTComCam/runs/DRP/DP1/w_2025_16/DM-50344/20250419T223750Z',\n",
       " 'LSST.BUTLER.INPUT.0.DATASETTYPE': 'object_patch',\n",
       " 'LSST.BUTLER.INPUT.1.ID': 'f613665b-9f50-4617-8a25-6d10d0c62c62',\n",
       " 'LSST.BUTLER.INPUT.1.RUN': 'LSSTComCam/runs/DRP/DP1/w_2025_16/DM-50344/20250419T223750Z',\n",
       " 'LSST.BUTLER.INPUT.1.DATASETTYPE': 'object_patch',\n",
       " 'LSST.BUTLER.INPUT.2.ID': '9027c8fd-f856-4893-8111-906cdb4de534',\n",
       " 'LSST.BUTLER.INPUT.2.RUN': 'LSSTComCam/runs/DRP/DP1/w_2025_16/DM-50344/20250419T223750Z',\n",
       " 'LSST.BUTLER.INPUT.2.DATASETTYPE': 'object_patch',\n",
       " 'LSST.BUTLER.INPUT.3.ID': 'c7d398b0-559a-47c3-a4d6-b72aba6e38d6',\n",
       " 'LSST.BUTLER.INPUT.3.RUN': 'LSSTComCam/runs/DRP/DP1/w_2025_16/DM-50344/20250419T223750Z',\n",
       " 'LSST.BUTLER.INPUT.3.DATASETTYPE': 'object_patch',\n",
       " 'LSST.BUTLER.INPUT.4.ID': 'f387094c-3671-49fb-91d6-a11ae5971aac',\n",
       " 'LSST.BUTLER.INPUT.4.RUN': 'LSSTComCam/runs/DRP/DP1/w_2025_16/DM-50344/20250419T223750Z',\n",
       " 'LSST.BUTLER.INPUT.4.DATASETTYPE': 'object_patch',\n",
       " 'LSST.BUTLER.INPUT.5.ID': '669c5815-0926-46ea-b5d9-f3b60cbba5ae',\n",
       " 'LSST.BUTLER.INPUT.5.RUN': 'LSSTComCam/runs/DRP/DP1/w_2025_16/DM-50344/20250419T223750Z',\n",
       " 'LSST.BUTLER.INPUT.5.DATASETTYPE': 'object_patch',\n",
       " 'LSST.BUTLER.INPUT.6.ID': '12088e00-1487-4a25-a251-96e53811cf34',\n",
       " 'LSST.BUTLER.INPUT.6.RUN': 'LSSTComCam/runs/DRP/DP1/w_2025_16/DM-50344/20250419T223750Z',\n",
       " 'LSST.BUTLER.INPUT.6.DATASETTYPE': 'object_patch',\n",
       " 'LSST.BUTLER.INPUT.7.ID': '839045cb-8451-4767-8f5e-80c2adf98ce3',\n",
       " 'LSST.BUTLER.INPUT.7.RUN': 'LSSTComCam/runs/DRP/DP1/w_2025_16/DM-50344/20250419T223750Z',\n",
       " 'LSST.BUTLER.INPUT.7.DATASETTYPE': 'object_patch',\n",
       " 'LSST.BUTLER.INPUT.8.ID': '8a4f060c-dde3-4087-b081-0df82fa9b5cf',\n",
       " 'LSST.BUTLER.INPUT.8.RUN': 'LSSTComCam/runs/DRP/DP1/w_2025_16/DM-50344/20250419T223750Z',\n",
       " 'LSST.BUTLER.INPUT.8.DATASETTYPE': 'object_patch',\n",
       " 'LSST.BUTLER.INPUT.9.ID': '5cb4c4e7-0c80-4439-9f06-98cc72debe2e',\n",
       " 'LSST.BUTLER.INPUT.9.RUN': 'LSSTComCam/runs/DRP/DP1/w_2025_16/DM-50344/20250419T223750Z',\n",
       " 'LSST.BUTLER.INPUT.9.DATASETTYPE': 'object_patch',\n",
       " 'LSST.BUTLER.INPUT.10.ID': '4b899c9e-5dd9-4eb1-a11a-f37908c82d98',\n",
       " 'LSST.BUTLER.INPUT.10.RUN': 'LSSTComCam/runs/DRP/DP1/w_2025_16/DM-50344/20250419T223750Z',\n",
       " 'LSST.BUTLER.INPUT.10.DATASETTYPE': 'object_patch',\n",
       " 'LSST.BUTLER.INPUT.11.ID': '224ce453-7bc9-4d6e-9a4c-8d8f0ffe1742',\n",
       " 'LSST.BUTLER.INPUT.11.RUN': 'LSSTComCam/runs/DRP/DP1/w_2025_16/DM-50344/20250419T223750Z',\n",
       " 'LSST.BUTLER.INPUT.11.DATASETTYPE': 'object_patch',\n",
       " 'LSST.BUTLER.INPUT.12.ID': '7b7cfab5-6f8d-4b84-9416-48165a640afe',\n",
       " 'LSST.BUTLER.INPUT.12.RUN': 'LSSTComCam/runs/DRP/DP1/w_2025_16/DM-50344/20250419T223750Z',\n",
       " 'LSST.BUTLER.INPUT.12.DATASETTYPE': 'object_patch',\n",
       " 'LSST.BUTLER.INPUT.13.ID': 'a2cae7ce-2197-4302-8064-55e0be22e84e',\n",
       " 'LSST.BUTLER.INPUT.13.RUN': 'LSSTComCam/runs/DRP/DP1/w_2025_16/DM-50344/20250419T223750Z',\n",
       " 'LSST.BUTLER.INPUT.13.DATASETTYPE': 'object_patch',\n",
       " 'LSST.BUTLER.INPUT.14.ID': '587300a5-1719-4fc6-8a75-f8bd8d369125',\n",
       " 'LSST.BUTLER.INPUT.14.RUN': 'LSSTComCam/runs/DRP/DP1/w_2025_16/DM-50344/20250419T223750Z',\n",
       " 'LSST.BUTLER.INPUT.14.DATASETTYPE': 'object_patch',\n",
       " 'LSST.BUTLER.INPUT.15.ID': 'ca559ee0-db43-4e7c-8c5b-74834abfc169',\n",
       " 'LSST.BUTLER.INPUT.15.RUN': 'LSSTComCam/runs/DRP/DP1/w_2025_16/DM-50344/20250419T223750Z',\n",
       " 'LSST.BUTLER.INPUT.15.DATASETTYPE': 'object_patch',\n",
       " 'LSST.BUTLER.INPUT.16.ID': 'd904aad9-33bb-4c47-ba66-fad0cfd152a7',\n",
       " 'LSST.BUTLER.INPUT.16.RUN': 'LSSTComCam/runs/DRP/DP1/w_2025_16/DM-50344/20250419T223750Z',\n",
       " 'LSST.BUTLER.INPUT.16.DATASETTYPE': 'object_patch',\n",
       " 'LSST.BUTLER.INPUT.17.ID': '4871846c-58ce-4277-bb86-aba5df23dbd2',\n",
       " 'LSST.BUTLER.INPUT.17.RUN': 'LSSTComCam/runs/DRP/DP1/w_2025_16/DM-50344/20250419T223750Z',\n",
       " 'LSST.BUTLER.INPUT.17.DATASETTYPE': 'object_patch',\n",
       " 'LSST.BUTLER.INPUT.18.ID': '1b3a6e9e-3533-4d81-b109-f4c07c1d63c7',\n",
       " 'LSST.BUTLER.INPUT.18.RUN': 'LSSTComCam/runs/DRP/DP1/w_2025_16/DM-50344/20250419T223750Z',\n",
       " 'LSST.BUTLER.INPUT.18.DATASETTYPE': 'object_patch',\n",
       " 'LSST.BUTLER.INPUT.19.ID': '31fb3dc9-ece4-4781-b780-c8327f551a8f',\n",
       " 'LSST.BUTLER.INPUT.19.RUN': 'LSSTComCam/runs/DRP/DP1/w_2025_16/DM-50344/20250419T223750Z',\n",
       " 'LSST.BUTLER.INPUT.19.DATASETTYPE': 'object_patch',\n",
       " 'LSST.BUTLER.INPUT.20.ID': '50e6ca4f-ae80-4fb5-ae9d-e82a734f8a90',\n",
       " 'LSST.BUTLER.INPUT.20.RUN': 'LSSTComCam/runs/DRP/DP1/w_2025_16/DM-50344/20250419T223750Z',\n",
       " 'LSST.BUTLER.INPUT.20.DATASETTYPE': 'object_patch',\n",
       " 'LSST.BUTLER.INPUT.21.ID': 'af552b7c-e8fa-4091-aa41-7b0d8dfabf8c',\n",
       " 'LSST.BUTLER.INPUT.21.RUN': 'LSSTComCam/runs/DRP/DP1/w_2025_16/DM-50344/20250419T223750Z',\n",
       " 'LSST.BUTLER.INPUT.21.DATASETTYPE': 'object_patch',\n",
       " 'LSST.BUTLER.INPUT.22.ID': '04e7f8bc-5d3e-4dc4-8238-7b2babeb7dea',\n",
       " 'LSST.BUTLER.INPUT.22.RUN': 'LSSTComCam/runs/DRP/DP1/w_2025_16/DM-50344/20250419T223750Z',\n",
       " 'LSST.BUTLER.INPUT.22.DATASETTYPE': 'object_patch',\n",
       " 'LSST.BUTLER.INPUT.23.ID': '3610b089-2d4b-4bc1-b7db-98ff8fbb49df',\n",
       " 'LSST.BUTLER.INPUT.23.RUN': 'LSSTComCam/runs/DRP/DP1/w_2025_16/DM-50344/20250419T223750Z',\n",
       " 'LSST.BUTLER.INPUT.23.DATASETTYPE': 'object_patch',\n",
       " 'LSST.BUTLER.INPUT.24.ID': '4ee91a0c-5fb8-4cc7-9543-3d1392e69860',\n",
       " 'LSST.BUTLER.INPUT.24.RUN': 'LSSTComCam/runs/DRP/DP1/w_2025_16/DM-50344/20250419T223750Z',\n",
       " 'LSST.BUTLER.INPUT.24.DATASETTYPE': 'object_patch',\n",
       " 'LSST.BUTLER.INPUT.25.ID': '04407b75-8fc9-4f93-ae29-a23bf4de6672',\n",
       " 'LSST.BUTLER.INPUT.25.RUN': 'LSSTComCam/runs/DRP/DP1/w_2025_16/DM-50344/20250419T223750Z',\n",
       " 'LSST.BUTLER.INPUT.25.DATASETTYPE': 'object_patch',\n",
       " 'LSST.BUTLER.INPUT.26.ID': 'c8f43ccd-99b0-45b1-8064-c6527ce9db46',\n",
       " 'LSST.BUTLER.INPUT.26.RUN': 'LSSTComCam/runs/DRP/DP1/w_2025_16/DM-50344/20250419T223750Z',\n",
       " 'LSST.BUTLER.INPUT.26.DATASETTYPE': 'object_patch',\n",
       " 'LSST.BUTLER.INPUT.27.ID': '3d2c6a51-f1a8-401a-95a7-167cde8c8d82',\n",
       " 'LSST.BUTLER.INPUT.27.RUN': 'LSSTComCam/runs/DRP/DP1/w_2025_16/DM-50344/20250419T223750Z',\n",
       " 'LSST.BUTLER.INPUT.27.DATASETTYPE': 'object_patch',\n",
       " 'LSST.BUTLER.INPUT.28.ID': 'bfc6e402-3f85-4153-b059-c7f19ad3e1b2',\n",
       " 'LSST.BUTLER.INPUT.28.RUN': 'LSSTComCam/runs/DRP/DP1/w_2025_16/DM-50344/20250419T223750Z',\n",
       " 'LSST.BUTLER.INPUT.28.DATASETTYPE': 'object_patch',\n",
       " 'LSST.BUTLER.INPUT.29.ID': '10453807-8123-44fa-b9e6-119a17ff76a1',\n",
       " 'LSST.BUTLER.INPUT.29.RUN': 'LSSTComCam/runs/DRP/DP1/w_2025_16/DM-50344/20250419T223750Z',\n",
       " 'LSST.BUTLER.INPUT.29.DATASETTYPE': 'object_patch',\n",
       " 'LSST.BUTLER.INPUT.30.ID': '375df52b-833f-4091-8ae2-62cda8e45fad',\n",
       " 'LSST.BUTLER.INPUT.30.RUN': 'LSSTComCam/runs/DRP/DP1/w_2025_16/DM-50344/20250419T223750Z',\n",
       " 'LSST.BUTLER.INPUT.30.DATASETTYPE': 'object_patch',\n",
       " 'LSST.BUTLER.INPUT.31.ID': '5c3eecd4-0f5a-4705-8309-5e030ddf676a',\n",
       " 'LSST.BUTLER.INPUT.31.RUN': 'LSSTComCam/runs/DRP/DP1/w_2025_16/DM-50344/20250419T223750Z',\n",
       " 'LSST.BUTLER.INPUT.31.DATASETTYPE': 'object_patch',\n",
       " 'LSST.BUTLER.INPUT.32.ID': '6d34bdf3-6a7c-4edd-8815-390956a1fab2',\n",
       " 'LSST.BUTLER.INPUT.32.RUN': 'LSSTComCam/runs/DRP/DP1/w_2025_16/DM-50344/20250419T223750Z',\n",
       " 'LSST.BUTLER.INPUT.32.DATASETTYPE': 'object_patch',\n",
       " 'LSST.BUTLER.INPUT.33.ID': '15dc1472-873c-46b1-82f7-1eaf4d453c58',\n",
       " 'LSST.BUTLER.INPUT.33.RUN': 'LSSTComCam/runs/DRP/DP1/w_2025_16/DM-50344/20250419T223750Z',\n",
       " 'LSST.BUTLER.INPUT.33.DATASETTYPE': 'object_patch',\n",
       " 'LSST.BUTLER.INPUT.34.ID': 'e2bdfa19-0b74-41ee-beb6-5f9448be4178',\n",
       " 'LSST.BUTLER.INPUT.34.RUN': 'LSSTComCam/runs/DRP/DP1/w_2025_16/DM-50344/20250419T223750Z',\n",
       " 'LSST.BUTLER.INPUT.34.DATASETTYPE': 'object_patch',\n",
       " 'LSST.BUTLER.INPUT.35.ID': 'cd4889aa-02b6-4b0d-b218-d96d1263b06f',\n",
       " 'LSST.BUTLER.INPUT.35.RUN': 'LSSTComCam/runs/DRP/DP1/w_2025_16/DM-50344/20250419T223750Z',\n",
       " 'LSST.BUTLER.INPUT.35.DATASETTYPE': 'object_patch',\n",
       " 'LSST.BUTLER.INPUT.36.ID': '9b338584-68fe-498d-9c89-cbc8f04f92ac',\n",
       " 'LSST.BUTLER.INPUT.36.RUN': 'LSSTComCam/runs/DRP/DP1/w_2025_16/DM-50344/20250419T223750Z',\n",
       " 'LSST.BUTLER.INPUT.36.DATASETTYPE': 'object_patch',\n",
       " 'LSST.BUTLER.INPUT.37.ID': '5101be92-286d-4014-932a-a192fce61316',\n",
       " 'LSST.BUTLER.INPUT.37.RUN': 'LSSTComCam/runs/DRP/DP1/w_2025_16/DM-50344/20250419T223750Z',\n",
       " 'LSST.BUTLER.INPUT.37.DATASETTYPE': 'object_patch',\n",
       " 'LSST.BUTLER.INPUT.38.ID': 'e3bb31b9-3e97-456a-a5e9-431b6992106b',\n",
       " 'LSST.BUTLER.INPUT.38.RUN': 'LSSTComCam/runs/DRP/DP1/w_2025_16/DM-50344/20250419T223750Z',\n",
       " 'LSST.BUTLER.INPUT.38.DATASETTYPE': 'object_patch',\n",
       " 'LSST.BUTLER.INPUT.39.ID': '69ac5b90-7b62-45dd-b066-a49c41b560c7',\n",
       " 'LSST.BUTLER.INPUT.39.RUN': 'LSSTComCam/runs/DRP/DP1/w_2025_16/DM-50344/20250419T223750Z',\n",
       " 'LSST.BUTLER.INPUT.39.DATASETTYPE': 'object_patch',\n",
       " 'LSST.BUTLER.INPUT.40.ID': '1498e27f-435a-4091-97c2-a6b02261b59a',\n",
       " 'LSST.BUTLER.INPUT.40.RUN': 'LSSTComCam/runs/DRP/DP1/w_2025_16/DM-50344/20250419T223750Z',\n",
       " 'LSST.BUTLER.INPUT.40.DATASETTYPE': 'object_patch',\n",
       " 'LSST.BUTLER.INPUT.41.ID': 'ab0a47ec-0d8c-4754-9093-1dbf410536a5',\n",
       " 'LSST.BUTLER.INPUT.41.RUN': 'LSSTComCam/runs/DRP/DP1/w_2025_16/DM-50344/20250419T223750Z',\n",
       " 'LSST.BUTLER.INPUT.41.DATASETTYPE': 'object_patch',\n",
       " 'LSST.BUTLER.INPUT.42.ID': 'e93cdffc-6eef-4cf8-b58e-048eb1b3fc21',\n",
       " 'LSST.BUTLER.INPUT.42.RUN': 'LSSTComCam/runs/DRP/DP1/w_2025_16/DM-50344/20250419T223750Z',\n",
       " 'LSST.BUTLER.INPUT.42.DATASETTYPE': 'object_patch',\n",
       " 'LSST.BUTLER.INPUT.43.ID': '184a50cc-802d-48ff-a0cd-f68430bdc7ce',\n",
       " 'LSST.BUTLER.INPUT.43.RUN': 'LSSTComCam/runs/DRP/DP1/w_2025_16/DM-50344/20250419T223750Z',\n",
       " 'LSST.BUTLER.INPUT.43.DATASETTYPE': 'object_patch',\n",
       " 'LSST.BUTLER.INPUT.44.ID': 'fc960e4a-b6de-4c9c-8f48-e0ad69468609',\n",
       " 'LSST.BUTLER.INPUT.44.RUN': 'LSSTComCam/runs/DRP/DP1/w_2025_16/DM-50344/20250419T223750Z',\n",
       " 'LSST.BUTLER.INPUT.44.DATASETTYPE': 'object_patch',\n",
       " 'LSST.BUTLER.INPUT.45.ID': '6040737f-d3f5-489c-9570-98d3a2d31b43',\n",
       " 'LSST.BUTLER.INPUT.45.RUN': 'LSSTComCam/runs/DRP/DP1/w_2025_16/DM-50344/20250419T223750Z',\n",
       " 'LSST.BUTLER.INPUT.45.DATASETTYPE': 'object_patch',\n",
       " 'LSST.BUTLER.INPUT.46.ID': '40842e34-b0fd-425e-a3c9-e6e31311a82e',\n",
       " 'LSST.BUTLER.INPUT.46.RUN': 'LSSTComCam/runs/DRP/DP1/w_2025_16/DM-50344/20250419T223750Z',\n",
       " 'LSST.BUTLER.INPUT.46.DATASETTYPE': 'object_patch',\n",
       " 'LSST.BUTLER.INPUT.47.ID': 'f02a56f9-bb3a-4eb4-ad8a-61643c2e84ed',\n",
       " 'LSST.BUTLER.INPUT.47.RUN': 'LSSTComCam/runs/DRP/DP1/w_2025_16/DM-50344/20250419T223750Z',\n",
       " 'LSST.BUTLER.INPUT.47.DATASETTYPE': 'object_patch',\n",
       " 'LSST.BUTLER.INPUT.48.ID': '69c630df-cfc6-434b-9c57-ca044f96951c',\n",
       " 'LSST.BUTLER.INPUT.48.RUN': 'LSSTComCam/runs/DRP/DP1/w_2025_16/DM-50344/20250419T223750Z',\n",
       " 'LSST.BUTLER.INPUT.48.DATASETTYPE': 'object_patch'}"
      ]
     },
     "execution_count": 20,
     "metadata": {},
     "output_type": "execute_result"
    }
   ],
   "source": [
    "# Print the table metadata:\n",
    "obj_all.meta"
   ]
  },
  {
   "cell_type": "markdown",
   "id": "5b5ceac7-54c4-4720-87e6-8c6b52679bbc",
   "metadata": {},
   "source": [
    "We see that `object_all` compiles all of the `object_patch` catalogs for the tract."
   ]
  },
  {
   "cell_type": "code",
   "execution_count": 21,
   "id": "37867a84-9af3-46cf-900a-c5159bb12179",
   "metadata": {
    "execution": {
     "iopub.execute_input": "2025-06-05T23:30:31.134354Z",
     "iopub.status.busy": "2025-06-05T23:30:31.133998Z",
     "iopub.status.idle": "2025-06-05T23:30:31.477820Z",
     "shell.execute_reply": "2025-06-05T23:30:31.477379Z",
     "shell.execute_reply.started": "2025-06-05T23:30:31.134336Z"
    }
   },
   "outputs": [
    {
     "data": {
      "text/plain": [
       "DatasetProvenance(inputs=[SerializedDatasetRef(id=UUID('9703c45e-761d-414a-9fc6-457e2babbb64'), datasetType=SerializedDatasetType(name='object_patch', storageClass='ArrowAstropy', dimensions=['skymap', 'tract', 'patch'], parentStorageClass=None, isCalibration=False), dataId=SerializedDataCoordinate(dataId={'skymap': 'lsst_cells_v1', 'tract': 5063, 'patch': 0}, records=None), run='LSSTComCam/runs/DRP/DP1/w_2025_16/DM-50344/20250419T223750Z', component=None), SerializedDatasetRef(id=UUID('f613665b-9f50-4617-8a25-6d10d0c62c62'), datasetType=SerializedDatasetType(name='object_patch', storageClass='ArrowAstropy', dimensions=['skymap', 'tract', 'patch'], parentStorageClass=None, isCalibration=False), dataId=SerializedDataCoordinate(dataId={'skymap': 'lsst_cells_v1', 'tract': 5063, 'patch': 1}, records=None), run='LSSTComCam/runs/DRP/DP1/w_2025_16/DM-50344/20250419T223750Z', component=None), SerializedDatasetRef(id=UUID('9027c8fd-f856-4893-8111-906cdb4de534'), datasetType=SerializedDatasetType(name='object_patch', storageClass='ArrowAstropy', dimensions=['skymap', 'tract', 'patch'], parentStorageClass=None, isCalibration=False), dataId=SerializedDataCoordinate(dataId={'skymap': 'lsst_cells_v1', 'tract': 5063, 'patch': 2}, records=None), run='LSSTComCam/runs/DRP/DP1/w_2025_16/DM-50344/20250419T223750Z', component=None), SerializedDatasetRef(id=UUID('c7d398b0-559a-47c3-a4d6-b72aba6e38d6'), datasetType=SerializedDatasetType(name='object_patch', storageClass='ArrowAstropy', dimensions=['skymap', 'tract', 'patch'], parentStorageClass=None, isCalibration=False), dataId=SerializedDataCoordinate(dataId={'skymap': 'lsst_cells_v1', 'tract': 5063, 'patch': 3}, records=None), run='LSSTComCam/runs/DRP/DP1/w_2025_16/DM-50344/20250419T223750Z', component=None), SerializedDatasetRef(id=UUID('f387094c-3671-49fb-91d6-a11ae5971aac'), datasetType=SerializedDatasetType(name='object_patch', storageClass='ArrowAstropy', dimensions=['skymap', 'tract', 'patch'], parentStorageClass=None, isCalibration=False), dataId=SerializedDataCoordinate(dataId={'skymap': 'lsst_cells_v1', 'tract': 5063, 'patch': 4}, records=None), run='LSSTComCam/runs/DRP/DP1/w_2025_16/DM-50344/20250419T223750Z', component=None), SerializedDatasetRef(id=UUID('669c5815-0926-46ea-b5d9-f3b60cbba5ae'), datasetType=SerializedDatasetType(name='object_patch', storageClass='ArrowAstropy', dimensions=['skymap', 'tract', 'patch'], parentStorageClass=None, isCalibration=False), dataId=SerializedDataCoordinate(dataId={'skymap': 'lsst_cells_v1', 'tract': 5063, 'patch': 5}, records=None), run='LSSTComCam/runs/DRP/DP1/w_2025_16/DM-50344/20250419T223750Z', component=None), SerializedDatasetRef(id=UUID('12088e00-1487-4a25-a251-96e53811cf34'), datasetType=SerializedDatasetType(name='object_patch', storageClass='ArrowAstropy', dimensions=['skymap', 'tract', 'patch'], parentStorageClass=None, isCalibration=False), dataId=SerializedDataCoordinate(dataId={'skymap': 'lsst_cells_v1', 'tract': 5063, 'patch': 6}, records=None), run='LSSTComCam/runs/DRP/DP1/w_2025_16/DM-50344/20250419T223750Z', component=None), SerializedDatasetRef(id=UUID('839045cb-8451-4767-8f5e-80c2adf98ce3'), datasetType=SerializedDatasetType(name='object_patch', storageClass='ArrowAstropy', dimensions=['skymap', 'tract', 'patch'], parentStorageClass=None, isCalibration=False), dataId=SerializedDataCoordinate(dataId={'skymap': 'lsst_cells_v1', 'tract': 5063, 'patch': 7}, records=None), run='LSSTComCam/runs/DRP/DP1/w_2025_16/DM-50344/20250419T223750Z', component=None), SerializedDatasetRef(id=UUID('8a4f060c-dde3-4087-b081-0df82fa9b5cf'), datasetType=SerializedDatasetType(name='object_patch', storageClass='ArrowAstropy', dimensions=['skymap', 'tract', 'patch'], parentStorageClass=None, isCalibration=False), dataId=SerializedDataCoordinate(dataId={'skymap': 'lsst_cells_v1', 'tract': 5063, 'patch': 8}, records=None), run='LSSTComCam/runs/DRP/DP1/w_2025_16/DM-50344/20250419T223750Z', component=None), SerializedDatasetRef(id=UUID('5cb4c4e7-0c80-4439-9f06-98cc72debe2e'), datasetType=SerializedDatasetType(name='object_patch', storageClass='ArrowAstropy', dimensions=['skymap', 'tract', 'patch'], parentStorageClass=None, isCalibration=False), dataId=SerializedDataCoordinate(dataId={'skymap': 'lsst_cells_v1', 'tract': 5063, 'patch': 10}, records=None), run='LSSTComCam/runs/DRP/DP1/w_2025_16/DM-50344/20250419T223750Z', component=None), SerializedDatasetRef(id=UUID('4b899c9e-5dd9-4eb1-a11a-f37908c82d98'), datasetType=SerializedDatasetType(name='object_patch', storageClass='ArrowAstropy', dimensions=['skymap', 'tract', 'patch'], parentStorageClass=None, isCalibration=False), dataId=SerializedDataCoordinate(dataId={'skymap': 'lsst_cells_v1', 'tract': 5063, 'patch': 11}, records=None), run='LSSTComCam/runs/DRP/DP1/w_2025_16/DM-50344/20250419T223750Z', component=None), SerializedDatasetRef(id=UUID('224ce453-7bc9-4d6e-9a4c-8d8f0ffe1742'), datasetType=SerializedDatasetType(name='object_patch', storageClass='ArrowAstropy', dimensions=['skymap', 'tract', 'patch'], parentStorageClass=None, isCalibration=False), dataId=SerializedDataCoordinate(dataId={'skymap': 'lsst_cells_v1', 'tract': 5063, 'patch': 12}, records=None), run='LSSTComCam/runs/DRP/DP1/w_2025_16/DM-50344/20250419T223750Z', component=None), SerializedDatasetRef(id=UUID('7b7cfab5-6f8d-4b84-9416-48165a640afe'), datasetType=SerializedDatasetType(name='object_patch', storageClass='ArrowAstropy', dimensions=['skymap', 'tract', 'patch'], parentStorageClass=None, isCalibration=False), dataId=SerializedDataCoordinate(dataId={'skymap': 'lsst_cells_v1', 'tract': 5063, 'patch': 13}, records=None), run='LSSTComCam/runs/DRP/DP1/w_2025_16/DM-50344/20250419T223750Z', component=None), SerializedDatasetRef(id=UUID('a2cae7ce-2197-4302-8064-55e0be22e84e'), datasetType=SerializedDatasetType(name='object_patch', storageClass='ArrowAstropy', dimensions=['skymap', 'tract', 'patch'], parentStorageClass=None, isCalibration=False), dataId=SerializedDataCoordinate(dataId={'skymap': 'lsst_cells_v1', 'tract': 5063, 'patch': 14}, records=None), run='LSSTComCam/runs/DRP/DP1/w_2025_16/DM-50344/20250419T223750Z', component=None), SerializedDatasetRef(id=UUID('587300a5-1719-4fc6-8a75-f8bd8d369125'), datasetType=SerializedDatasetType(name='object_patch', storageClass='ArrowAstropy', dimensions=['skymap', 'tract', 'patch'], parentStorageClass=None, isCalibration=False), dataId=SerializedDataCoordinate(dataId={'skymap': 'lsst_cells_v1', 'tract': 5063, 'patch': 15}, records=None), run='LSSTComCam/runs/DRP/DP1/w_2025_16/DM-50344/20250419T223750Z', component=None), SerializedDatasetRef(id=UUID('ca559ee0-db43-4e7c-8c5b-74834abfc169'), datasetType=SerializedDatasetType(name='object_patch', storageClass='ArrowAstropy', dimensions=['skymap', 'tract', 'patch'], parentStorageClass=None, isCalibration=False), dataId=SerializedDataCoordinate(dataId={'skymap': 'lsst_cells_v1', 'tract': 5063, 'patch': 16}, records=None), run='LSSTComCam/runs/DRP/DP1/w_2025_16/DM-50344/20250419T223750Z', component=None), SerializedDatasetRef(id=UUID('d904aad9-33bb-4c47-ba66-fad0cfd152a7'), datasetType=SerializedDatasetType(name='object_patch', storageClass='ArrowAstropy', dimensions=['skymap', 'tract', 'patch'], parentStorageClass=None, isCalibration=False), dataId=SerializedDataCoordinate(dataId={'skymap': 'lsst_cells_v1', 'tract': 5063, 'patch': 17}, records=None), run='LSSTComCam/runs/DRP/DP1/w_2025_16/DM-50344/20250419T223750Z', component=None), SerializedDatasetRef(id=UUID('4871846c-58ce-4277-bb86-aba5df23dbd2'), datasetType=SerializedDatasetType(name='object_patch', storageClass='ArrowAstropy', dimensions=['skymap', 'tract', 'patch'], parentStorageClass=None, isCalibration=False), dataId=SerializedDataCoordinate(dataId={'skymap': 'lsst_cells_v1', 'tract': 5063, 'patch': 18}, records=None), run='LSSTComCam/runs/DRP/DP1/w_2025_16/DM-50344/20250419T223750Z', component=None), SerializedDatasetRef(id=UUID('1b3a6e9e-3533-4d81-b109-f4c07c1d63c7'), datasetType=SerializedDatasetType(name='object_patch', storageClass='ArrowAstropy', dimensions=['skymap', 'tract', 'patch'], parentStorageClass=None, isCalibration=False), dataId=SerializedDataCoordinate(dataId={'skymap': 'lsst_cells_v1', 'tract': 5063, 'patch': 20}, records=None), run='LSSTComCam/runs/DRP/DP1/w_2025_16/DM-50344/20250419T223750Z', component=None), SerializedDatasetRef(id=UUID('31fb3dc9-ece4-4781-b780-c8327f551a8f'), datasetType=SerializedDatasetType(name='object_patch', storageClass='ArrowAstropy', dimensions=['skymap', 'tract', 'patch'], parentStorageClass=None, isCalibration=False), dataId=SerializedDataCoordinate(dataId={'skymap': 'lsst_cells_v1', 'tract': 5063, 'patch': 21}, records=None), run='LSSTComCam/runs/DRP/DP1/w_2025_16/DM-50344/20250419T223750Z', component=None), SerializedDatasetRef(id=UUID('50e6ca4f-ae80-4fb5-ae9d-e82a734f8a90'), datasetType=SerializedDatasetType(name='object_patch', storageClass='ArrowAstropy', dimensions=['skymap', 'tract', 'patch'], parentStorageClass=None, isCalibration=False), dataId=SerializedDataCoordinate(dataId={'skymap': 'lsst_cells_v1', 'tract': 5063, 'patch': 22}, records=None), run='LSSTComCam/runs/DRP/DP1/w_2025_16/DM-50344/20250419T223750Z', component=None), SerializedDatasetRef(id=UUID('af552b7c-e8fa-4091-aa41-7b0d8dfabf8c'), datasetType=SerializedDatasetType(name='object_patch', storageClass='ArrowAstropy', dimensions=['skymap', 'tract', 'patch'], parentStorageClass=None, isCalibration=False), dataId=SerializedDataCoordinate(dataId={'skymap': 'lsst_cells_v1', 'tract': 5063, 'patch': 23}, records=None), run='LSSTComCam/runs/DRP/DP1/w_2025_16/DM-50344/20250419T223750Z', component=None), SerializedDatasetRef(id=UUID('04e7f8bc-5d3e-4dc4-8238-7b2babeb7dea'), datasetType=SerializedDatasetType(name='object_patch', storageClass='ArrowAstropy', dimensions=['skymap', 'tract', 'patch'], parentStorageClass=None, isCalibration=False), dataId=SerializedDataCoordinate(dataId={'skymap': 'lsst_cells_v1', 'tract': 5063, 'patch': 24}, records=None), run='LSSTComCam/runs/DRP/DP1/w_2025_16/DM-50344/20250419T223750Z', component=None), SerializedDatasetRef(id=UUID('3610b089-2d4b-4bc1-b7db-98ff8fbb49df'), datasetType=SerializedDatasetType(name='object_patch', storageClass='ArrowAstropy', dimensions=['skymap', 'tract', 'patch'], parentStorageClass=None, isCalibration=False), dataId=SerializedDataCoordinate(dataId={'skymap': 'lsst_cells_v1', 'tract': 5063, 'patch': 25}, records=None), run='LSSTComCam/runs/DRP/DP1/w_2025_16/DM-50344/20250419T223750Z', component=None), SerializedDatasetRef(id=UUID('4ee91a0c-5fb8-4cc7-9543-3d1392e69860'), datasetType=SerializedDatasetType(name='object_patch', storageClass='ArrowAstropy', dimensions=['skymap', 'tract', 'patch'], parentStorageClass=None, isCalibration=False), dataId=SerializedDataCoordinate(dataId={'skymap': 'lsst_cells_v1', 'tract': 5063, 'patch': 26}, records=None), run='LSSTComCam/runs/DRP/DP1/w_2025_16/DM-50344/20250419T223750Z', component=None), SerializedDatasetRef(id=UUID('04407b75-8fc9-4f93-ae29-a23bf4de6672'), datasetType=SerializedDatasetType(name='object_patch', storageClass='ArrowAstropy', dimensions=['skymap', 'tract', 'patch'], parentStorageClass=None, isCalibration=False), dataId=SerializedDataCoordinate(dataId={'skymap': 'lsst_cells_v1', 'tract': 5063, 'patch': 27}, records=None), run='LSSTComCam/runs/DRP/DP1/w_2025_16/DM-50344/20250419T223750Z', component=None), SerializedDatasetRef(id=UUID('c8f43ccd-99b0-45b1-8064-c6527ce9db46'), datasetType=SerializedDatasetType(name='object_patch', storageClass='ArrowAstropy', dimensions=['skymap', 'tract', 'patch'], parentStorageClass=None, isCalibration=False), dataId=SerializedDataCoordinate(dataId={'skymap': 'lsst_cells_v1', 'tract': 5063, 'patch': 28}, records=None), run='LSSTComCam/runs/DRP/DP1/w_2025_16/DM-50344/20250419T223750Z', component=None), SerializedDatasetRef(id=UUID('3d2c6a51-f1a8-401a-95a7-167cde8c8d82'), datasetType=SerializedDatasetType(name='object_patch', storageClass='ArrowAstropy', dimensions=['skymap', 'tract', 'patch'], parentStorageClass=None, isCalibration=False), dataId=SerializedDataCoordinate(dataId={'skymap': 'lsst_cells_v1', 'tract': 5063, 'patch': 30}, records=None), run='LSSTComCam/runs/DRP/DP1/w_2025_16/DM-50344/20250419T223750Z', component=None), SerializedDatasetRef(id=UUID('bfc6e402-3f85-4153-b059-c7f19ad3e1b2'), datasetType=SerializedDatasetType(name='object_patch', storageClass='ArrowAstropy', dimensions=['skymap', 'tract', 'patch'], parentStorageClass=None, isCalibration=False), dataId=SerializedDataCoordinate(dataId={'skymap': 'lsst_cells_v1', 'tract': 5063, 'patch': 31}, records=None), run='LSSTComCam/runs/DRP/DP1/w_2025_16/DM-50344/20250419T223750Z', component=None), SerializedDatasetRef(id=UUID('10453807-8123-44fa-b9e6-119a17ff76a1'), datasetType=SerializedDatasetType(name='object_patch', storageClass='ArrowAstropy', dimensions=['skymap', 'tract', 'patch'], parentStorageClass=None, isCalibration=False), dataId=SerializedDataCoordinate(dataId={'skymap': 'lsst_cells_v1', 'tract': 5063, 'patch': 32}, records=None), run='LSSTComCam/runs/DRP/DP1/w_2025_16/DM-50344/20250419T223750Z', component=None), SerializedDatasetRef(id=UUID('375df52b-833f-4091-8ae2-62cda8e45fad'), datasetType=SerializedDatasetType(name='object_patch', storageClass='ArrowAstropy', dimensions=['skymap', 'tract', 'patch'], parentStorageClass=None, isCalibration=False), dataId=SerializedDataCoordinate(dataId={'skymap': 'lsst_cells_v1', 'tract': 5063, 'patch': 33}, records=None), run='LSSTComCam/runs/DRP/DP1/w_2025_16/DM-50344/20250419T223750Z', component=None), SerializedDatasetRef(id=UUID('5c3eecd4-0f5a-4705-8309-5e030ddf676a'), datasetType=SerializedDatasetType(name='object_patch', storageClass='ArrowAstropy', dimensions=['skymap', 'tract', 'patch'], parentStorageClass=None, isCalibration=False), dataId=SerializedDataCoordinate(dataId={'skymap': 'lsst_cells_v1', 'tract': 5063, 'patch': 34}, records=None), run='LSSTComCam/runs/DRP/DP1/w_2025_16/DM-50344/20250419T223750Z', component=None), SerializedDatasetRef(id=UUID('6d34bdf3-6a7c-4edd-8815-390956a1fab2'), datasetType=SerializedDatasetType(name='object_patch', storageClass='ArrowAstropy', dimensions=['skymap', 'tract', 'patch'], parentStorageClass=None, isCalibration=False), dataId=SerializedDataCoordinate(dataId={'skymap': 'lsst_cells_v1', 'tract': 5063, 'patch': 35}, records=None), run='LSSTComCam/runs/DRP/DP1/w_2025_16/DM-50344/20250419T223750Z', component=None), SerializedDatasetRef(id=UUID('15dc1472-873c-46b1-82f7-1eaf4d453c58'), datasetType=SerializedDatasetType(name='object_patch', storageClass='ArrowAstropy', dimensions=['skymap', 'tract', 'patch'], parentStorageClass=None, isCalibration=False), dataId=SerializedDataCoordinate(dataId={'skymap': 'lsst_cells_v1', 'tract': 5063, 'patch': 36}, records=None), run='LSSTComCam/runs/DRP/DP1/w_2025_16/DM-50344/20250419T223750Z', component=None), SerializedDatasetRef(id=UUID('e2bdfa19-0b74-41ee-beb6-5f9448be4178'), datasetType=SerializedDatasetType(name='object_patch', storageClass='ArrowAstropy', dimensions=['skymap', 'tract', 'patch'], parentStorageClass=None, isCalibration=False), dataId=SerializedDataCoordinate(dataId={'skymap': 'lsst_cells_v1', 'tract': 5063, 'patch': 37}, records=None), run='LSSTComCam/runs/DRP/DP1/w_2025_16/DM-50344/20250419T223750Z', component=None), SerializedDatasetRef(id=UUID('cd4889aa-02b6-4b0d-b218-d96d1263b06f'), datasetType=SerializedDatasetType(name='object_patch', storageClass='ArrowAstropy', dimensions=['skymap', 'tract', 'patch'], parentStorageClass=None, isCalibration=False), dataId=SerializedDataCoordinate(dataId={'skymap': 'lsst_cells_v1', 'tract': 5063, 'patch': 38}, records=None), run='LSSTComCam/runs/DRP/DP1/w_2025_16/DM-50344/20250419T223750Z', component=None), SerializedDatasetRef(id=UUID('9b338584-68fe-498d-9c89-cbc8f04f92ac'), datasetType=SerializedDatasetType(name='object_patch', storageClass='ArrowAstropy', dimensions=['skymap', 'tract', 'patch'], parentStorageClass=None, isCalibration=False), dataId=SerializedDataCoordinate(dataId={'skymap': 'lsst_cells_v1', 'tract': 5063, 'patch': 41}, records=None), run='LSSTComCam/runs/DRP/DP1/w_2025_16/DM-50344/20250419T223750Z', component=None), SerializedDatasetRef(id=UUID('5101be92-286d-4014-932a-a192fce61316'), datasetType=SerializedDatasetType(name='object_patch', storageClass='ArrowAstropy', dimensions=['skymap', 'tract', 'patch'], parentStorageClass=None, isCalibration=False), dataId=SerializedDataCoordinate(dataId={'skymap': 'lsst_cells_v1', 'tract': 5063, 'patch': 42}, records=None), run='LSSTComCam/runs/DRP/DP1/w_2025_16/DM-50344/20250419T223750Z', component=None), SerializedDatasetRef(id=UUID('e3bb31b9-3e97-456a-a5e9-431b6992106b'), datasetType=SerializedDatasetType(name='object_patch', storageClass='ArrowAstropy', dimensions=['skymap', 'tract', 'patch'], parentStorageClass=None, isCalibration=False), dataId=SerializedDataCoordinate(dataId={'skymap': 'lsst_cells_v1', 'tract': 5063, 'patch': 43}, records=None), run='LSSTComCam/runs/DRP/DP1/w_2025_16/DM-50344/20250419T223750Z', component=None), SerializedDatasetRef(id=UUID('69ac5b90-7b62-45dd-b066-a49c41b560c7'), datasetType=SerializedDatasetType(name='object_patch', storageClass='ArrowAstropy', dimensions=['skymap', 'tract', 'patch'], parentStorageClass=None, isCalibration=False), dataId=SerializedDataCoordinate(dataId={'skymap': 'lsst_cells_v1', 'tract': 5063, 'patch': 44}, records=None), run='LSSTComCam/runs/DRP/DP1/w_2025_16/DM-50344/20250419T223750Z', component=None), SerializedDatasetRef(id=UUID('1498e27f-435a-4091-97c2-a6b02261b59a'), datasetType=SerializedDatasetType(name='object_patch', storageClass='ArrowAstropy', dimensions=['skymap', 'tract', 'patch'], parentStorageClass=None, isCalibration=False), dataId=SerializedDataCoordinate(dataId={'skymap': 'lsst_cells_v1', 'tract': 5063, 'patch': 45}, records=None), run='LSSTComCam/runs/DRP/DP1/w_2025_16/DM-50344/20250419T223750Z', component=None), SerializedDatasetRef(id=UUID('ab0a47ec-0d8c-4754-9093-1dbf410536a5'), datasetType=SerializedDatasetType(name='object_patch', storageClass='ArrowAstropy', dimensions=['skymap', 'tract', 'patch'], parentStorageClass=None, isCalibration=False), dataId=SerializedDataCoordinate(dataId={'skymap': 'lsst_cells_v1', 'tract': 5063, 'patch': 46}, records=None), run='LSSTComCam/runs/DRP/DP1/w_2025_16/DM-50344/20250419T223750Z', component=None), SerializedDatasetRef(id=UUID('e93cdffc-6eef-4cf8-b58e-048eb1b3fc21'), datasetType=SerializedDatasetType(name='object_patch', storageClass='ArrowAstropy', dimensions=['skymap', 'tract', 'patch'], parentStorageClass=None, isCalibration=False), dataId=SerializedDataCoordinate(dataId={'skymap': 'lsst_cells_v1', 'tract': 5063, 'patch': 47}, records=None), run='LSSTComCam/runs/DRP/DP1/w_2025_16/DM-50344/20250419T223750Z', component=None), SerializedDatasetRef(id=UUID('184a50cc-802d-48ff-a0cd-f68430bdc7ce'), datasetType=SerializedDatasetType(name='object_patch', storageClass='ArrowAstropy', dimensions=['skymap', 'tract', 'patch'], parentStorageClass=None, isCalibration=False), dataId=SerializedDataCoordinate(dataId={'skymap': 'lsst_cells_v1', 'tract': 5063, 'patch': 48}, records=None), run='LSSTComCam/runs/DRP/DP1/w_2025_16/DM-50344/20250419T223750Z', component=None), SerializedDatasetRef(id=UUID('fc960e4a-b6de-4c9c-8f48-e0ad69468609'), datasetType=SerializedDatasetType(name='object_patch', storageClass='ArrowAstropy', dimensions=['skymap', 'tract', 'patch'], parentStorageClass=None, isCalibration=False), dataId=SerializedDataCoordinate(dataId={'skymap': 'lsst_cells_v1', 'tract': 5063, 'patch': 53}, records=None), run='LSSTComCam/runs/DRP/DP1/w_2025_16/DM-50344/20250419T223750Z', component=None), SerializedDatasetRef(id=UUID('6040737f-d3f5-489c-9570-98d3a2d31b43'), datasetType=SerializedDatasetType(name='object_patch', storageClass='ArrowAstropy', dimensions=['skymap', 'tract', 'patch'], parentStorageClass=None, isCalibration=False), dataId=SerializedDataCoordinate(dataId={'skymap': 'lsst_cells_v1', 'tract': 5063, 'patch': 54}, records=None), run='LSSTComCam/runs/DRP/DP1/w_2025_16/DM-50344/20250419T223750Z', component=None), SerializedDatasetRef(id=UUID('40842e34-b0fd-425e-a3c9-e6e31311a82e'), datasetType=SerializedDatasetType(name='object_patch', storageClass='ArrowAstropy', dimensions=['skymap', 'tract', 'patch'], parentStorageClass=None, isCalibration=False), dataId=SerializedDataCoordinate(dataId={'skymap': 'lsst_cells_v1', 'tract': 5063, 'patch': 55}, records=None), run='LSSTComCam/runs/DRP/DP1/w_2025_16/DM-50344/20250419T223750Z', component=None), SerializedDatasetRef(id=UUID('f02a56f9-bb3a-4eb4-ad8a-61643c2e84ed'), datasetType=SerializedDatasetType(name='object_patch', storageClass='ArrowAstropy', dimensions=['skymap', 'tract', 'patch'], parentStorageClass=None, isCalibration=False), dataId=SerializedDataCoordinate(dataId={'skymap': 'lsst_cells_v1', 'tract': 5063, 'patch': 56}, records=None), run='LSSTComCam/runs/DRP/DP1/w_2025_16/DM-50344/20250419T223750Z', component=None), SerializedDatasetRef(id=UUID('69c630df-cfc6-434b-9c57-ca044f96951c'), datasetType=SerializedDatasetType(name='object_patch', storageClass='ArrowAstropy', dimensions=['skymap', 'tract', 'patch'], parentStorageClass=None, isCalibration=False), dataId=SerializedDataCoordinate(dataId={'skymap': 'lsst_cells_v1', 'tract': 5063, 'patch': 57}, records=None), run='LSSTComCam/runs/DRP/DP1/w_2025_16/DM-50344/20250419T223750Z', component=None)], quantum_id=UUID('0ad3e562-dc43-425a-95f5-137303fe2143'), extras={})"
      ]
     },
     "execution_count": 21,
     "metadata": {},
     "output_type": "execute_result"
    }
   ],
   "source": [
    "# Extract the provenance and print to the screen:\n",
    "obj_all_prov = DatasetProvenance.from_flat_dict(obj_all.meta, butler)\n",
    "obj_all_prov[0]"
   ]
  },
  {
   "cell_type": "markdown",
   "id": "96bcbfcc-f59a-477c-8a85-a91ee5a568b9",
   "metadata": {},
   "source": [
    "#### object"
   ]
  },
  {
   "cell_type": "code",
   "execution_count": 22,
   "id": "881a78aa-f48d-47da-a8b9-84cf5b596708",
   "metadata": {
    "execution": {
     "iopub.execute_input": "2025-06-05T23:30:31.478483Z",
     "iopub.status.busy": "2025-06-05T23:30:31.478343Z",
     "iopub.status.idle": "2025-06-05T23:30:31.834122Z",
     "shell.execute_reply": "2025-06-05T23:30:31.833538Z",
     "shell.execute_reply.started": "2025-06-05T23:30:31.478469Z"
    }
   },
   "outputs": [],
   "source": [
    "# Retrieve a catalog:\n",
    "obj = butler.get('object',\n",
    "                 dataId={'tract':tract, 'patch': patch, 'skymap':'lsst_cells_v1'},\n",
    "                 parameters={'columns': ['coord_ra', 'coord_dec', 'r_psfFlux', 'r_psfFluxErr']})"
   ]
  },
  {
   "cell_type": "code",
   "execution_count": 23,
   "id": "59bf4a63-0b44-41a9-b490-1d789a413ab0",
   "metadata": {
    "execution": {
     "iopub.execute_input": "2025-06-05T23:30:31.834856Z",
     "iopub.status.busy": "2025-06-05T23:30:31.834715Z",
     "iopub.status.idle": "2025-06-05T23:30:31.838262Z",
     "shell.execute_reply": "2025-06-05T23:30:31.837811Z",
     "shell.execute_reply.started": "2025-06-05T23:30:31.834841Z"
    }
   },
   "outputs": [
    {
     "data": {
      "text/plain": [
       "{'LSST.BUTLER.ID': '90c0434a-20f3-46fb-a536-470fee43aae8',\n",
       " 'LSST.BUTLER.RUN': 'LSSTComCam/runs/DRP/DP1/w_2025_16/DM-50344/20250419T223750Z',\n",
       " 'LSST.BUTLER.DATASETTYPE': 'object',\n",
       " 'LSST.BUTLER.DATAID.SKYMAP': 'lsst_cells_v1',\n",
       " 'LSST.BUTLER.DATAID.TRACT': 5063,\n",
       " 'LSST.BUTLER.QUANTUM': 'a38a8568-992c-43e4-b52b-3cf483ea24ad',\n",
       " 'LSST.BUTLER.INPUT.0.ID': '35a7d966-ffec-4ad9-a887-aa6a7c605760',\n",
       " 'LSST.BUTLER.INPUT.0.RUN': 'LSSTComCam/runs/DRP/DP1/w_2025_16/DM-50344/20250419T223750Z',\n",
       " 'LSST.BUTLER.INPUT.0.DATASETTYPE': 'object_all'}"
      ]
     },
     "execution_count": 23,
     "metadata": {},
     "output_type": "execute_result"
    }
   ],
   "source": [
    "# Print the table metadata:\n",
    "obj.meta"
   ]
  },
  {
   "cell_type": "code",
   "execution_count": 24,
   "id": "a1279ee4-6911-4516-89d8-15c67193ee85",
   "metadata": {
    "execution": {
     "iopub.execute_input": "2025-06-05T23:30:31.838829Z",
     "iopub.status.busy": "2025-06-05T23:30:31.838696Z",
     "iopub.status.idle": "2025-06-05T23:30:31.864902Z",
     "shell.execute_reply": "2025-06-05T23:30:31.864526Z",
     "shell.execute_reply.started": "2025-06-05T23:30:31.838815Z"
    }
   },
   "outputs": [
    {
     "data": {
      "text/plain": [
       "(DatasetProvenance(inputs=[SerializedDatasetRef(id=UUID('35a7d966-ffec-4ad9-a887-aa6a7c605760'), datasetType=SerializedDatasetType(name='object_all', storageClass='ArrowAstropy', dimensions=['skymap', 'tract'], parentStorageClass=None, isCalibration=False), dataId=SerializedDataCoordinate(dataId={'skymap': 'lsst_cells_v1', 'tract': 5063}, records=None), run='LSSTComCam/runs/DRP/DP1/w_2025_16/DM-50344/20250419T223750Z', component=None)], quantum_id=UUID('a38a8568-992c-43e4-b52b-3cf483ea24ad'), extras={}),\n",
       " DatasetRef(DatasetType('object', {skymap, tract}, ArrowAstropy), {skymap: 'lsst_cells_v1', tract: 5063}, run='LSSTComCam/runs/DRP/DP1/w_2025_16/DM-50344/20250419T223750Z', id=90c0434a-20f3-46fb-a536-470fee43aae8))"
      ]
     },
     "execution_count": 24,
     "metadata": {},
     "output_type": "execute_result"
    }
   ],
   "source": [
    "# Extract the provenance and print to the screen:\n",
    "obj_prov = DatasetProvenance.from_flat_dict(obj.meta, butler)\n",
    "obj_prov"
   ]
  },
  {
   "cell_type": "markdown",
   "id": "1b784d7e-d24e-4859-b603-7c5497c518b7",
   "metadata": {},
   "source": [
    "We see that the `object` table is a transformed version of a single input, `object_all`."
   ]
  },
  {
   "cell_type": "markdown",
   "id": "25087558-39f1-405f-a275-b33439835879",
   "metadata": {},
   "source": [
    "## Results\n",
    "\n",
    "We have demonstrated that catalog data products produced by the LSST Science Pipelines have provenance information associated with them. This provenance is readily retrieved for all catalogs resulting from single-visit or coadd images. The result of this test is thus a *Pass*."
   ]
  },
  {
   "cell_type": "code",
   "execution_count": null,
   "id": "a904a919-2506-476e-9ae1-e292e0ba11ee",
   "metadata": {},
   "outputs": [],
   "source": []
  }
 ],
 "metadata": {
  "kernelspec": {
   "display_name": "LSST",
   "language": "python",
   "name": "lsst"
  },
  "language_info": {
   "codemirror_mode": {
    "name": "ipython",
    "version": 3
   },
   "file_extension": ".py",
   "mimetype": "text/x-python",
   "name": "python",
   "nbconvert_exporter": "python",
   "pygments_lexer": "ipython3",
   "version": "3.12.11"
  }
 },
 "nbformat": 4,
 "nbformat_minor": 5
}
