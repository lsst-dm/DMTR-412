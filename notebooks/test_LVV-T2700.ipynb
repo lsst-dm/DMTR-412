{
 "cells": [
  {
   "cell_type": "markdown",
   "id": "691d56d9-6415-4e51-bf43-00ba275176a8",
   "metadata": {
    "execution": {
     "iopub.execute_input": "2025-08-21T22:57:29.615439Z",
     "iopub.status.busy": "2025-08-21T22:57:29.615075Z",
     "iopub.status.idle": "2025-08-21T22:57:29.618589Z",
     "shell.execute_reply": "2025-08-21T22:57:29.618100Z",
     "shell.execute_reply.started": "2025-08-21T22:57:29.615422Z"
    }
   },
   "source": [
    "## Test case LVV-T2724: \n",
    "\n",
    "### Specification: \n",
    "This test covers three requirements relating to high-volume queries on Qserv\n",
    "\n",
    "####  Requirement ID: DMS-REQ-0354 (Priority: 1b) Result latency for high-volume complex queries<br>\n",
    "Specification: Complex high-volume queries -– queries that involve full-sky spatial and temporal correlations -- shall be answered in less than hvComplexQueryTime. \n",
    "hvComplexQueryTime:  Maximum time allowed for retrieving results of a high-volume complex query. == 12 hours\n",
    "\n",
    "#### Requirements ID: DMS-REQ-0361 (Priority: 1b)\n",
    "Specification: The system shall support hvQueryUsers simultaneous high-volume queries running at any given time\n",
    "hvQueryUsers: Minimum number of simultaneous users performing high volume queries == 50 \n",
    "\n",
    "### Discussion:\n",
    "We will use the DP1 catalog fr now. This is a query on Qserv, not the Butler\n",
    "\n",
    "### Data \n",
    "DP1 full scan is teh best we can do 2025-07-22\n",
    "Eventually erify latency against a full scale, e.g DR1 sized Object catalog\n"
   ]
  },
  {
   "cell_type": "code",
   "execution_count": 1,
   "id": "7c788f0b-2916-4f94-9a85-45aab541ec2c",
   "metadata": {
    "execution": {
     "iopub.execute_input": "2025-08-22T16:56:22.346249Z",
     "iopub.status.busy": "2025-08-22T16:56:22.346118Z",
     "iopub.status.idle": "2025-08-22T16:56:22.348411Z",
     "shell.execute_reply": "2025-08-22T16:56:22.348047Z",
     "shell.execute_reply.started": "2025-08-22T16:56:22.346233Z"
    }
   },
   "outputs": [],
   "source": [
    "from lsst.rsp import get_tap_service\n",
    "import time"
   ]
  },
  {
   "cell_type": "code",
   "execution_count": null,
   "id": "c1c5b112-f5ea-42c2-9811-0d55dc90a9c4",
   "metadata": {},
   "outputs": [],
   "source": [
    "# Requirements specs\n",
    "\n",
    "# Maximum time allowed for retrieving results of a high-volume query of the Object table. Hours\n",
    "hvComplexQueryTime = 12 \n",
    "\n",
    "# Minimum number of simultaneous users performing high volume queries.\n",
    "hvQueryUsers = 50 "
   ]
  },
  {
   "cell_type": "code",
   "execution_count": 2,
   "id": "7e37e3dd-df40-4d5d-a497-d5a475906176",
   "metadata": {
    "execution": {
     "iopub.execute_input": "2025-08-22T16:56:22.349108Z",
     "iopub.status.busy": "2025-08-22T16:56:22.348848Z",
     "iopub.status.idle": "2025-08-22T16:56:22.394329Z",
     "shell.execute_reply": "2025-08-22T16:56:22.393946Z",
     "shell.execute_reply.started": "2025-08-22T16:56:22.349093Z"
    }
   },
   "outputs": [],
   "source": [
    "service = get_tap_service(\"tap\")\n",
    "assert service is not None"
   ]
  },
  {
   "cell_type": "code",
   "execution_count": 3,
   "id": "97c79b64-3016-4092-a18a-06d044f6447c",
   "metadata": {
    "execution": {
     "iopub.execute_input": "2025-08-22T16:56:22.394881Z",
     "iopub.status.busy": "2025-08-22T16:56:22.394753Z",
     "iopub.status.idle": "2025-08-22T16:56:22.397326Z",
     "shell.execute_reply": "2025-08-22T16:56:22.396956Z",
     "shell.execute_reply.started": "2025-08-22T16:56:22.394869Z"
    }
   },
   "outputs": [],
   "source": [
    "# Calculate size in gigabytes (GB)\n",
    "def get_size_in_gb(df): \n",
    "    size = df.memory_usage(deep=True).sum()\n",
    "    size /= 1024 ** 3\n",
    "    return size"
   ]
  },
  {
   "cell_type": "code",
   "execution_count": 5,
   "id": "7ebcd97a-4618-4f28-bce4-eb595671fc57",
   "metadata": {
    "execution": {
     "iopub.execute_input": "2025-08-22T16:56:22.411004Z",
     "iopub.status.busy": "2025-08-22T16:56:22.410880Z",
     "iopub.status.idle": "2025-08-22T16:56:22.422389Z",
     "shell.execute_reply": "2025-08-22T16:56:22.422016Z",
     "shell.execute_reply.started": "2025-08-22T16:56:22.410991Z"
    }
   },
   "outputs": [
    {
     "name": "stdout",
     "output_type": "stream",
     "text": [
      "SELECT coord_ra, coord_dec\n",
      "       FROM dp1.Object \n",
      "       WHERE CONTAINS(POINT('ICRS', coord_ra, coord_dec),CIRCLE('ICRS', 53.01, -28.35, 0.016666666666666666))=1\n",
      "\n"
     ]
    }
   ],
   "source": [
    "# High-volume complex query involving  full-sky spatial and temporal correlations and use of some internal functions \n",
    "# query = \"\"\"SELECT *\n",
    "# FROM dp1.ForcedSourceOnDiaObject as fsodo\n",
    "# JOIN dp1.Visit as vis ON vis.visit = fsodo.visit \n",
    "# ORDER BY diaObjectId ASC\n",
    "\n",
    "\n",
    "#     scisql_nanojanskyToAbMag(g_sersicFlux) AS g_sersicMag,\n",
    "#     scisql_nanojanskyToAbMagSigma(g_sersicFlux, g_sersicFluxErr) AS g_sersicMagErr,\n",
    "#     scisql_nanojanskyToAbMag(r_sersicFlux) AS r_sersicMag,\n",
    "#     scisql_nanojanskyToAbMagSigma(r_sersicFlux, r_sersicFluxErr) AS r_sersicMagErr\n",
    "\n",
    "# FROM dp1.Object\n",
    "# \"\"\"\n",
    "\n",
    "query = \"\"\"\n",
    "        SELECT *\n",
    "        FROM dp1.DiaObject AS diao\n",
    "        JOIN dp1.ForcedSourceOnDiaObject AS fsodo ON fsodo.diaObjectId = diao.diaObjectId\n",
    "        JOIN dp1.Visit AS v ON v.visit = fsodo.visit\n",
    "        \n",
    "print(query)"
   ]
  },
  {
   "cell_type": "code",
   "execution_count": 6,
   "id": "0bf3d33e-6a54-4c24-b4c4-6adeb8571e8c",
   "metadata": {
    "execution": {
     "iopub.execute_input": "2025-08-22T16:56:22.423131Z",
     "iopub.status.busy": "2025-08-22T16:56:22.422989Z",
     "iopub.status.idle": "2025-08-22T16:56:22.483036Z",
     "shell.execute_reply": "2025-08-22T16:56:22.482659Z",
     "shell.execute_reply.started": "2025-08-22T16:56:22.423117Z"
    }
   },
   "outputs": [],
   "source": [
    "job = service.submit_job(query)"
   ]
  },
  {
   "cell_type": "code",
   "execution_count": 7,
   "id": "44db8e79-e053-4931-b259-a2e8b3bdca42",
   "metadata": {
    "execution": {
     "iopub.execute_input": "2025-08-22T16:56:22.483591Z",
     "iopub.status.busy": "2025-08-22T16:56:22.483463Z",
     "iopub.status.idle": "2025-08-22T16:56:23.704845Z",
     "shell.execute_reply": "2025-08-22T16:56:23.704353Z",
     "shell.execute_reply.started": "2025-08-22T16:56:22.483578Z"
    }
   },
   "outputs": [
    {
     "name": "stdout",
     "output_type": "stream",
     "text": [
      "Job phase is COMPLETED\n"
     ]
    }
   ],
   "source": [
    "start_time = time.time()\n",
    "job.run()\n",
    "job.wait(phases=['COMPLETED', 'ERROR'])\n",
    "print('Job phase is', job.phase)\n",
    "if job.phase == 'ERROR':\n",
    "    job.raise_if_error()\n",
    "assert job.phase == 'COMPLETED'\n",
    "results = job.fetch_result()\n",
    "end_time = time.time()"
   ]
  },
  {
   "cell_type": "code",
   "execution_count": 8,
   "id": "084d6d62-2efa-43e7-b5fc-16d3ec649ebd",
   "metadata": {
    "execution": {
     "iopub.execute_input": "2025-08-22T16:56:23.705538Z",
     "iopub.status.busy": "2025-08-22T16:56:23.705395Z",
     "iopub.status.idle": "2025-08-22T16:56:23.708201Z",
     "shell.execute_reply": "2025-08-22T16:56:23.707799Z",
     "shell.execute_reply.started": "2025-08-22T16:56:23.705524Z"
    }
   },
   "outputs": [
    {
     "name": "stdout",
     "output_type": "stream",
     "text": [
      "Execution time: 1.2185323238372803\n"
     ]
    }
   ],
   "source": [
    "execution_time = end_time - start_time\n",
    "print(f\"Execution time: {execution_time}\")"
   ]
  },
  {
   "cell_type": "code",
   "execution_count": 9,
   "id": "830c36b9-9e74-4e2c-9111-bcf34c6553e9",
   "metadata": {
    "execution": {
     "iopub.execute_input": "2025-08-22T16:56:23.708799Z",
     "iopub.status.busy": "2025-08-22T16:56:23.708666Z",
     "iopub.status.idle": "2025-08-22T16:56:24.003279Z",
     "shell.execute_reply": "2025-08-22T16:56:24.002788Z",
     "shell.execute_reply.started": "2025-08-22T16:56:23.708785Z"
    }
   },
   "outputs": [
    {
     "data": {
      "text/plain": [
       "Index(['coord_ra', 'coord_dec'], dtype='object')"
      ]
     },
     "execution_count": 9,
     "metadata": {},
     "output_type": "execute_result"
    }
   ],
   "source": [
    "df = results.to_table().to_pandas()\n",
    "df.columns"
   ]
  },
  {
   "cell_type": "code",
   "execution_count": 10,
   "id": "acff8848-4064-49a8-b927-841097037cd8",
   "metadata": {
    "execution": {
     "iopub.execute_input": "2025-08-22T16:56:24.004239Z",
     "iopub.status.busy": "2025-08-22T16:56:24.003823Z",
     "iopub.status.idle": "2025-08-22T16:56:24.016614Z",
     "shell.execute_reply": "2025-08-22T16:56:24.016168Z",
     "shell.execute_reply.started": "2025-08-22T16:56:24.004224Z"
    }
   },
   "outputs": [],
   "source": [
    "job.delete()\n",
    "del query, results"
   ]
  },
  {
   "cell_type": "code",
   "execution_count": 11,
   "id": "9c99fae5-3d89-4b99-aafe-f2eb214521f1",
   "metadata": {
    "execution": {
     "iopub.execute_input": "2025-08-22T16:56:24.017283Z",
     "iopub.status.busy": "2025-08-22T16:56:24.017139Z",
     "iopub.status.idle": "2025-08-22T16:56:24.023300Z",
     "shell.execute_reply": "2025-08-22T16:56:24.022865Z",
     "shell.execute_reply.started": "2025-08-22T16:56:24.017269Z"
    }
   },
   "outputs": [
    {
     "name": "stdout",
     "output_type": "stream",
     "text": [
      "<class 'pandas.core.frame.DataFrame'>\n",
      "RangeIndex: 223 entries, 0 to 222\n",
      "Data columns (total 2 columns):\n",
      " #   Column     Non-Null Count  Dtype  \n",
      "---  ------     --------------  -----  \n",
      " 0   coord_ra   223 non-null    float64\n",
      " 1   coord_dec  223 non-null    float64\n",
      "dtypes: float64(2)\n",
      "memory usage: 3.6 KB\n"
     ]
    }
   ],
   "source": [
    "df.info(memory_usage='deep')"
   ]
  },
  {
   "cell_type": "code",
   "execution_count": 12,
   "id": "e5ac637e-c3ec-40b5-bf44-7580d41c80c1",
   "metadata": {
    "execution": {
     "iopub.execute_input": "2025-08-22T16:56:24.023930Z",
     "iopub.status.busy": "2025-08-22T16:56:24.023791Z",
     "iopub.status.idle": "2025-08-22T16:56:24.033298Z",
     "shell.execute_reply": "2025-08-22T16:56:24.032868Z",
     "shell.execute_reply.started": "2025-08-22T16:56:24.023916Z"
    }
   },
   "outputs": [
    {
     "name": "stdout",
     "output_type": "stream",
     "text": [
      "DataFrame size: 0.0000 GB\n",
      "3.4458935260772705e-06\n"
     ]
    }
   ],
   "source": [
    "size = get_size_in_gb(df)\n",
    "print(size)"
   ]
  },
  {
   "cell_type": "code",
   "execution_count": 13,
   "id": "0d70cc71-851d-4797-9f22-4c5bb846f8f2",
   "metadata": {
    "execution": {
     "iopub.execute_input": "2025-08-22T16:56:24.033921Z",
     "iopub.status.busy": "2025-08-22T16:56:24.033788Z",
     "iopub.status.idle": "2025-08-22T16:56:24.044323Z",
     "shell.execute_reply": "2025-08-22T16:56:24.043908Z",
     "shell.execute_reply.started": "2025-08-22T16:56:24.033908Z"
    }
   },
   "outputs": [],
   "source": [
    "# time_query = "
   ]
  },
  {
   "cell_type": "code",
   "execution_count": 14,
   "id": "384d1656-01c2-4b75-82bc-1637610c24a6",
   "metadata": {
    "execution": {
     "iopub.execute_input": "2025-08-22T16:56:24.044865Z",
     "iopub.status.busy": "2025-08-22T16:56:24.044733Z",
     "iopub.status.idle": "2025-08-22T16:56:24.055549Z",
     "shell.execute_reply": "2025-08-22T16:56:24.055146Z",
     "shell.execute_reply.started": "2025-08-22T16:56:24.044852Z"
    }
   },
   "outputs": [],
   "source": [
    "\n",
    "assert time_query <= hvObjectQueryTime"
   ]
  },
  {
   "cell_type": "code",
   "execution_count": 15,
   "id": "4388cac6-d770-48c1-8f40-939f41884de7",
   "metadata": {
    "execution": {
     "iopub.execute_input": "2025-08-22T16:56:24.056151Z",
     "iopub.status.busy": "2025-08-22T16:56:24.056013Z",
     "iopub.status.idle": "2025-08-22T16:56:27.374142Z",
     "shell.execute_reply": "2025-08-22T16:56:27.373475Z",
     "shell.execute_reply.started": "2025-08-22T16:56:24.056139Z"
    }
   },
   "outputs": [
    {
     "name": "stdout",
     "output_type": "stream",
     "text": [
      "Job phase is ERROR\n"
     ]
    },
    {
     "ename": "DALQueryError",
     "evalue": "Query Error: ClassCastException:null",
     "output_type": "error",
     "traceback": [
      "\u001b[0;31m---------------------------------------------------------------------------\u001b[0m",
      "\u001b[0;31mDALQueryError\u001b[0m                             Traceback (most recent call last)",
      "Cell \u001b[0;32mIn[15], line 11\u001b[0m\n\u001b[1;32m      9\u001b[0m \u001b[38;5;28mprint\u001b[39m(\u001b[38;5;124m'\u001b[39m\u001b[38;5;124mJob phase is\u001b[39m\u001b[38;5;124m'\u001b[39m, job\u001b[38;5;241m.\u001b[39mphase)\n\u001b[1;32m     10\u001b[0m \u001b[38;5;28;01mif\u001b[39;00m job\u001b[38;5;241m.\u001b[39mphase \u001b[38;5;241m==\u001b[39m \u001b[38;5;124m'\u001b[39m\u001b[38;5;124mERROR\u001b[39m\u001b[38;5;124m'\u001b[39m:\n\u001b[0;32m---> 11\u001b[0m     \u001b[43mjob\u001b[49m\u001b[38;5;241;43m.\u001b[39;49m\u001b[43mraise_if_error\u001b[49m\u001b[43m(\u001b[49m\u001b[43m)\u001b[49m\n\u001b[1;32m     12\u001b[0m \u001b[38;5;28;01massert\u001b[39;00m job\u001b[38;5;241m.\u001b[39mphase \u001b[38;5;241m==\u001b[39m \u001b[38;5;124m'\u001b[39m\u001b[38;5;124mCOMPLETED\u001b[39m\u001b[38;5;124m'\u001b[39m\n\u001b[1;32m     13\u001b[0m results \u001b[38;5;241m=\u001b[39m job\u001b[38;5;241m.\u001b[39mfetch_result()\u001b[38;5;241m.\u001b[39mto_pandas()\n",
      "File \u001b[0;32m/opt/lsst/software/stack/conda/envs/lsst-scipipe-10.0.0/lib/python3.12/site-packages/pyvo/dal/tap.py:1018\u001b[0m, in \u001b[0;36mAsyncTAPJob.raise_if_error\u001b[0;34m(self)\u001b[0m\n\u001b[1;32m   1016\u001b[0m     msg \u001b[38;5;241m=\u001b[39m \u001b[38;5;28mself\u001b[39m\u001b[38;5;241m.\u001b[39m_job\u001b[38;5;241m.\u001b[39merrorsummary\u001b[38;5;241m.\u001b[39mmessage\u001b[38;5;241m.\u001b[39mcontent\n\u001b[1;32m   1017\u001b[0m msg \u001b[38;5;241m=\u001b[39m msg \u001b[38;5;129;01mor\u001b[39;00m \u001b[38;5;124m\"\u001b[39m\u001b[38;5;124m<No useful error from server>\u001b[39m\u001b[38;5;124m\"\u001b[39m\n\u001b[0;32m-> 1018\u001b[0m \u001b[38;5;28;01mraise\u001b[39;00m DALQueryError(\u001b[38;5;124m\"\u001b[39m\u001b[38;5;124mQuery Error: \u001b[39m\u001b[38;5;124m\"\u001b[39m \u001b[38;5;241m+\u001b[39m msg, \u001b[38;5;28mself\u001b[39m\u001b[38;5;241m.\u001b[39murl)\n",
      "\u001b[0;31mDALQueryError\u001b[0m: Query Error: ClassCastException:null"
     ]
    }
   ],
   "source": [
    "# # Test code -- fails on usdf but not cloud?\n",
    "# from lsst.rsp import get_tap_service\n",
    "# service = get_tap_service(\"tap\")\n",
    "\n",
    "# query = \"\"\"SELECT TOP 100 * FROM dp1.Object \n",
    "# \"\"\"\n",
    "# job = service.submit_job(query)\n",
    "# job.run()\n",
    "# job.wait(phases=['COMPLETED', 'ERROR'])\n",
    "# print('Job phase is', job.phase)\n",
    "# if job.phase == 'ERROR':\n",
    "#     job.raise_if_error()\n",
    "# assert job.phase == 'COMPLETED'\n",
    "# results = job.fetch_result().to_pandas()"
   ]
  },
  {
   "cell_type": "code",
   "execution_count": null,
   "id": "54d0f17a-b9c8-45e9-950e-91f87178b236",
   "metadata": {},
   "outputs": [],
   "source": []
  }
 ],
 "metadata": {
  "kernelspec": {
   "display_name": "LSST",
   "language": "python",
   "name": "lsst"
  },
  "language_info": {
   "codemirror_mode": {
    "name": "ipython",
    "version": 3
   },
   "file_extension": ".py",
   "mimetype": "text/x-python",
   "name": "python",
   "nbconvert_exporter": "python",
   "pygments_lexer": "ipython3",
   "version": "3.12.11"
  }
 },
 "nbformat": 4,
 "nbformat_minor": 5
}
