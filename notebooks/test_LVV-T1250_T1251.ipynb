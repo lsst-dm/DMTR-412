{
 "cells": [
  {
   "cell_type": "markdown",
   "id": "cf282f7a-7661-437d-99d4-c63ad96f84d2",
   "metadata": {},
   "source": [
    "### Test case LVV-T1250: Verify implementation of minimum number of simultaneous DM EFD query users\n",
    "### Test case LVV-T1251: Verify implementation of maximum time to retrieve DM EFD query results\n",
    "\n",
    "Verify that the DM EFD can support **dmEfdQueryUsers = 5** simultaneous queries, with each query executing in no more than **dmEfdQueryTime = 10 seconds**. The requirements must be satisfied together, but are part of separate Test Cases."
   ]
  },
  {
   "cell_type": "code",
   "execution_count": 9,
   "id": "6a7fd671-3648-44e9-a04b-ba0511b7446c",
   "metadata": {
    "execution": {
     "iopub.execute_input": "2025-08-22T01:03:57.222642Z",
     "iopub.status.busy": "2025-08-22T01:03:57.222413Z",
     "iopub.status.idle": "2025-08-22T01:03:57.226390Z",
     "shell.execute_reply": "2025-08-22T01:03:57.225930Z",
     "shell.execute_reply.started": "2025-08-22T01:03:57.222624Z"
    }
   },
   "outputs": [],
   "source": [
    "import numpy as np\n",
    "import pandas as pd\n",
    "import requests\n",
    "from IPython.display import Markdown, display, display_markdown\n",
    "from astropy.table import Table\n",
    "from lsst.rsp import get_tap_service\n",
    "import time\n",
    "%matplotlib inline"
   ]
  },
  {
   "cell_type": "code",
   "execution_count": 1,
   "id": "6cc33ea8-dc3f-44f7-9fea-b2fc77926506",
   "metadata": {
    "execution": {
     "iopub.execute_input": "2025-08-22T00:44:46.392175Z",
     "iopub.status.busy": "2025-08-22T00:44:46.391909Z",
     "iopub.status.idle": "2025-08-22T00:44:46.394878Z",
     "shell.execute_reply": "2025-08-22T00:44:46.394481Z",
     "shell.execute_reply.started": "2025-08-22T00:44:46.392146Z"
    }
   },
   "outputs": [],
   "source": [
    "# Parameters to select a single observation date and the LSSTCam instrument:\n",
    "day_obs = \"2025-06-13\"\n",
    "instrument = \"lsstcam\""
   ]
  },
  {
   "cell_type": "markdown",
   "id": "6122b973-8c84-4457-a869-8cff86b02109",
   "metadata": {},
   "source": [
    "Authenticate to and access the ConsDB:"
   ]
  },
  {
   "cell_type": "code",
   "execution_count": 3,
   "id": "bbdf5882-1298-4aaf-ab43-d238ae8cc676",
   "metadata": {
    "execution": {
     "iopub.execute_input": "2025-08-22T00:45:26.939205Z",
     "iopub.status.busy": "2025-08-22T00:45:26.938301Z",
     "iopub.status.idle": "2025-08-22T00:45:27.140371Z",
     "shell.execute_reply": "2025-08-22T00:45:27.139717Z",
     "shell.execute_reply.started": "2025-08-22T00:45:26.939168Z"
    }
   },
   "outputs": [
    {
     "name": "stdout",
     "output_type": "stream",
     "text": [
      "TAPService(baseurl : 'https://usdf-rsp.slac.stanford.edu/api/consdbtap', description : 'None')\n"
     ]
    },
    {
     "data": {
      "text/markdown": [
       "Consolidated Database is accessible"
      ]
     },
     "metadata": {},
     "output_type": "display_data"
    }
   ],
   "source": [
    "cdb = get_tap_service(\"consdbtap\")\n",
    "print(cdb)\n",
    "assert cdb is not None\n",
    "\n",
    "display_markdown(\"Consolidated Database is accessible\", raw=True)"
   ]
  },
  {
   "cell_type": "code",
   "execution_count": 4,
   "id": "ff4fd7a5-22be-49b2-9933-4fbd2e7bb0fc",
   "metadata": {
    "execution": {
     "iopub.execute_input": "2025-08-22T00:45:43.891712Z",
     "iopub.status.busy": "2025-08-22T00:45:43.891374Z",
     "iopub.status.idle": "2025-08-22T00:45:43.894751Z",
     "shell.execute_reply": "2025-08-22T00:45:43.894263Z",
     "shell.execute_reply.started": "2025-08-22T00:45:43.891685Z"
    }
   },
   "outputs": [
    {
     "name": "stdout",
     "output_type": "stream",
     "text": [
      "Date: 20250613\n"
     ]
    }
   ],
   "source": [
    "day_obs_int = int(day_obs.replace(\"-\", \"\"))\n",
    "print(f'Date: {day_obs_int}')"
   ]
  },
  {
   "cell_type": "code",
   "execution_count": 6,
   "id": "9f537aa4-21a1-4a60-ba64-7d3361f86fb3",
   "metadata": {
    "execution": {
     "iopub.execute_input": "2025-08-22T00:46:52.642490Z",
     "iopub.status.busy": "2025-08-22T00:46:52.642259Z",
     "iopub.status.idle": "2025-08-22T00:46:52.645012Z",
     "shell.execute_reply": "2025-08-22T00:46:52.644564Z",
     "shell.execute_reply.started": "2025-08-22T00:46:52.642474Z"
    }
   },
   "outputs": [],
   "source": [
    "# Query the visit table\n",
    "visit_query1 = f\"\"\"\n",
    "    SELECT * FROM cdb_{instrument}.visit1\n",
    "    where day_obs <= {day_obs_int} AND day_obs > {day_obs_int-10}\n",
    "\"\"\""
   ]
  },
  {
   "cell_type": "code",
   "execution_count": 16,
   "id": "f4b71807-9eb8-49ec-98db-c274afdc2b08",
   "metadata": {
    "execution": {
     "iopub.execute_input": "2025-08-22T01:06:05.891592Z",
     "iopub.status.busy": "2025-08-22T01:06:05.891259Z",
     "iopub.status.idle": "2025-08-22T01:06:06.535173Z",
     "shell.execute_reply": "2025-08-22T01:06:06.534659Z",
     "shell.execute_reply.started": "2025-08-22T01:06:05.891574Z"
    }
   },
   "outputs": [
    {
     "name": "stdout",
     "output_type": "stream",
     "text": [
      "\n",
      "Retrieved 5099 visits from consdb\n",
      "Execution time: 0.6399846076965332 seconds\n"
     ]
    }
   ],
   "source": [
    "start_time = time.time()\n",
    "\n",
    "# Execute the query:\n",
    "try:\n",
    "    visits = cdb.search(visit_query1).to_table().to_pandas()\n",
    "except requests.HTTPError or requests.JSONDecodeError:\n",
    "    # Try twice\n",
    "    visits = client.query(visit_query1).to_pandas()\n",
    "\n",
    "# Print some stats to the screen:\n",
    "if len(visits) > 0:\n",
    "    print(f\"\\nRetrieved {len(visits)} visits from consdb\")\n",
    "\n",
    "end_time = time.time()\n",
    "execution_time = end_time - start_time\n",
    "print(f\"Execution time: {execution_time} seconds\")"
   ]
  },
  {
   "cell_type": "code",
   "execution_count": 17,
   "id": "0ad5c736-3957-4760-ba5e-ee7789eaac53",
   "metadata": {
    "execution": {
     "iopub.execute_input": "2025-08-22T01:06:08.480880Z",
     "iopub.status.busy": "2025-08-22T01:06:08.480642Z",
     "iopub.status.idle": "2025-08-22T01:06:08.513193Z",
     "shell.execute_reply": "2025-08-22T01:06:08.512675Z",
     "shell.execute_reply.started": "2025-08-22T01:06:08.480864Z"
    }
   },
   "outputs": [
    {
     "name": "stdout",
     "output_type": "stream",
     "text": [
      "<class 'pandas.core.frame.DataFrame'>\n",
      "RangeIndex: 5099 entries, 0 to 5098\n",
      "Data columns (total 50 columns):\n",
      " #   Column                 Non-Null Count  Dtype  \n",
      "---  ------                 --------------  -----  \n",
      " 0   air_temp               5099 non-null   float32\n",
      " 1   airmass                1546 non-null   float32\n",
      " 2   altitude               5091 non-null   float32\n",
      " 3   altitude_end           5091 non-null   float32\n",
      " 4   altitude_start         5099 non-null   float32\n",
      " 5   azimuth                5091 non-null   float32\n",
      " 6   azimuth_end            5091 non-null   float32\n",
      " 7   azimuth_start          5099 non-null   float32\n",
      " 8   band                   5099 non-null   object \n",
      " 9   can_see_sky            4810 non-null   object \n",
      " 10  controller             5099 non-null   object \n",
      " 11  cur_index              5099 non-null   int32  \n",
      " 12  dark_time              5099 non-null   float32\n",
      " 13  day_obs                5099 non-null   int32  \n",
      " 14  dimm_seeing            710 non-null    float32\n",
      " 15  emulated               0 non-null      object \n",
      " 16  exp_midpt              5099 non-null   object \n",
      " 17  exp_midpt_mjd          5099 non-null   float64\n",
      " 18  exp_time               5099 non-null   float32\n",
      " 19  exposure_name          5099 non-null   object \n",
      " 20  focus_z                5099 non-null   float32\n",
      " 21  group_id               5099 non-null   object \n",
      " 22  humidity               5099 non-null   float32\n",
      " 23  img_type               5099 non-null   object \n",
      " 24  max_index              5099 non-null   int32  \n",
      " 25  obs_end                5099 non-null   object \n",
      " 26  obs_end_mjd            5099 non-null   float64\n",
      " 27  obs_start              5099 non-null   object \n",
      " 28  obs_start_mjd          5099 non-null   float64\n",
      " 29  observation_reason     5099 non-null   object \n",
      " 30  physical_filter        5099 non-null   object \n",
      " 31  pressure               5099 non-null   float32\n",
      " 32  s_dec                  1546 non-null   float64\n",
      " 33  s_ra                   1546 non-null   float64\n",
      " 34  s_region               5099 non-null   object \n",
      " 35  scheduler_note         5099 non-null   object \n",
      " 36  science_program        5099 non-null   object \n",
      " 37  seq_num                5099 non-null   int32  \n",
      " 38  shut_time              5099 non-null   float32\n",
      " 39  simulated              0 non-null      object \n",
      " 40  sky_rotation           5099 non-null   float64\n",
      " 41  target_name            5099 non-null   object \n",
      " 42  vignette               5099 non-null   object \n",
      " 43  vignette_min           5099 non-null   object \n",
      " 44  visit_id               5099 non-null   int64  \n",
      " 45  wind_dir               5099 non-null   float32\n",
      " 46  wind_speed             5099 non-null   float32\n",
      " 47  zenith_distance        5091 non-null   float32\n",
      " 48  zenith_distance_end    5091 non-null   float32\n",
      " 49  zenith_distance_start  5099 non-null   float32\n",
      "dtypes: float32(20), float64(6), int32(4), int64(1), object(19)\n",
      "memory usage: 6.5 MB\n"
     ]
    }
   ],
   "source": [
    "visits.info(memory_usage='deep')"
   ]
  },
  {
   "cell_type": "code",
   "execution_count": null,
   "id": "d2b7b2be-add0-4aab-b6cd-84694c94acb3",
   "metadata": {},
   "outputs": [],
   "source": []
  },
  {
   "cell_type": "code",
   "execution_count": null,
   "id": "774a86ac-8e44-4a68-a270-d2db03eba3d4",
   "metadata": {},
   "outputs": [],
   "source": []
  }
 ],
 "metadata": {
  "kernelspec": {
   "display_name": "LSST",
   "language": "python",
   "name": "lsst"
  },
  "language_info": {
   "codemirror_mode": {
    "name": "ipython",
    "version": 3
   },
   "file_extension": ".py",
   "mimetype": "text/x-python",
   "name": "python",
   "nbconvert_exporter": "python",
   "pygments_lexer": "ipython3",
   "version": "3.12.11"
  }
 },
 "nbformat": 4,
 "nbformat_minor": 5
}
